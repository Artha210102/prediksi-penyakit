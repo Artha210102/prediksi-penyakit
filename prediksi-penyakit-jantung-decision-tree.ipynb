{
 "cells": [
  {
   "cell_type": "markdown",
   "id": "0a297ca0",
   "metadata": {
    "papermill": {
     "duration": 0.027907,
     "end_time": "2022-02-15T03:34:17.080678",
     "exception": false,
     "start_time": "2022-02-15T03:34:17.052771",
     "status": "completed"
    },
    "tags": []
   },
   "source": [
    "# Import Library"
   ]
  },
  {
   "cell_type": "code",
   "execution_count": 1,
   "id": "2222feb2",
   "metadata": {
    "_cell_guid": "b1076dfc-b9ad-4769-8c92-a6c4dae69d19",
    "_uuid": "8f2839f25d086af736a60e9eeb907d3b93b6e0e5",
    "execution": {
     "iopub.execute_input": "2022-02-15T03:34:17.144703Z",
     "iopub.status.busy": "2022-02-15T03:34:17.143666Z",
     "iopub.status.idle": "2022-02-15T03:34:18.392521Z",
     "shell.execute_reply": "2022-02-15T03:34:18.393011Z",
     "shell.execute_reply.started": "2022-02-15T03:33:10.589412Z"
    },
    "papermill": {
     "duration": 1.283488,
     "end_time": "2022-02-15T03:34:18.393292",
     "exception": false,
     "start_time": "2022-02-15T03:34:17.109804",
     "status": "completed"
    },
    "tags": []
   },
   "outputs": [],
   "source": [
    "import pandas as pd\n",
    "import streamlit as st\n",
  
   ]
  },
  {
   "cell_type": "markdown",
   "id": "c9bdece9",
   "metadata": {
    "papermill": {
     "duration": 0.027043,
     "end_time": "2022-02-15T03:34:18.448110",
     "exception": false,
     "start_time": "2022-02-15T03:34:18.421067",
     "status": "completed"
    },
    "tags": []
   },
   "source": [
    "# Membaca Dataset"
   ]
  },
  {
   "cell_type": "code",
   "execution_count": 2,
   "id": "505891d6",
   "metadata": {
    "execution": {
     "iopub.execute_input": "2022-02-15T03:34:18.507227Z",
     "iopub.status.busy": "2022-02-15T03:34:18.506664Z",
     "iopub.status.idle": "2022-02-15T03:34:18.536036Z",
     "shell.execute_reply": "2022-02-15T03:34:18.536471Z",
     "shell.execute_reply.started": "2022-02-15T03:33:12.383801Z"
    },
    "papermill": {
     "duration": 0.061044,
     "end_time": "2022-02-15T03:34:18.536621",
     "exception": false,
     "start_time": "2022-02-15T03:34:18.475577",
     "status": "completed"
    },
    "tags": []
   },
   "outputs": [
    {
     "data": {
      "text/html": [
       "<div>\n",
       "<style scoped>\n",
       "    .dataframe tbody tr th:only-of-type {\n",
       "        vertical-align: middle;\n",
       "    }\n",
       "\n",
       "    .dataframe tbody tr th {\n",
       "        vertical-align: top;\n",
       "    }\n",
       "\n",
       "    .dataframe thead th {\n",
       "        text-align: right;\n",
       "    }\n",
       "</style>\n",
       "<table border=\"1\" class=\"dataframe\">\n",
       "  <thead>\n",
       "    <tr style=\"text-align: right;\">\n",
       "      <th></th>\n",
       "      <th>age</th>\n",
       "      <th>sex</th>\n",
       "      <th>cp</th>\n",
       "      <th>trestbps</th>\n",
       "      <th>chol</th>\n",
       "      <th>fbs</th>\n",
       "      <th>restecg</th>\n",
       "      <th>thalach</th>\n",
       "      <th>exang</th>\n",
       "      <th>oldpeak</th>\n",
       "      <th>slope</th>\n",
       "      <th>ca</th>\n",
       "      <th>thal</th>\n",
       "      <th>target</th>\n",
       "    </tr>\n",
       "  </thead>\n",
       "  <tbody>\n",
       "    <tr>\n",
       "      <th>0</th>\n",
       "      <td>63</td>\n",
       "      <td>1</td>\n",
       "      <td>3</td>\n",
       "      <td>145</td>\n",
       "      <td>233</td>\n",
       "      <td>1</td>\n",
       "      <td>0</td>\n",
       "      <td>150</td>\n",
       "      <td>0</td>\n",
       "      <td>2.3</td>\n",
       "      <td>0</td>\n",
       "      <td>0</td>\n",
       "      <td>1</td>\n",
       "      <td>1</td>\n",
       "    </tr>\n",
       "    <tr>\n",
       "      <th>1</th>\n",
       "      <td>37</td>\n",
       "      <td>1</td>\n",
       "      <td>2</td>\n",
       "      <td>130</td>\n",
       "      <td>250</td>\n",
       "      <td>0</td>\n",
       "      <td>1</td>\n",
       "      <td>187</td>\n",
       "      <td>0</td>\n",
       "      <td>3.5</td>\n",
       "      <td>0</td>\n",
       "      <td>0</td>\n",
       "      <td>2</td>\n",
       "      <td>1</td>\n",
       "    </tr>\n",
       "    <tr>\n",
       "      <th>2</th>\n",
       "      <td>41</td>\n",
       "      <td>0</td>\n",
       "      <td>1</td>\n",
       "      <td>130</td>\n",
       "      <td>204</td>\n",
       "      <td>0</td>\n",
       "      <td>0</td>\n",
       "      <td>172</td>\n",
       "      <td>0</td>\n",
       "      <td>1.4</td>\n",
       "      <td>2</td>\n",
       "      <td>0</td>\n",
       "      <td>2</td>\n",
       "      <td>1</td>\n",
       "    </tr>\n",
       "    <tr>\n",
       "      <th>3</th>\n",
       "      <td>56</td>\n",
       "      <td>1</td>\n",
       "      <td>1</td>\n",
       "      <td>120</td>\n",
       "      <td>236</td>\n",
       "      <td>0</td>\n",
       "      <td>1</td>\n",
       "      <td>178</td>\n",
       "      <td>0</td>\n",
       "      <td>0.8</td>\n",
       "      <td>2</td>\n",
       "      <td>0</td>\n",
       "      <td>2</td>\n",
       "      <td>1</td>\n",
       "    </tr>\n",
       "    <tr>\n",
       "      <th>4</th>\n",
       "      <td>57</td>\n",
       "      <td>0</td>\n",
       "      <td>0</td>\n",
       "      <td>120</td>\n",
       "      <td>354</td>\n",
       "      <td>0</td>\n",
       "      <td>1</td>\n",
       "      <td>163</td>\n",
       "      <td>1</td>\n",
       "      <td>0.6</td>\n",
       "      <td>2</td>\n",
       "      <td>0</td>\n",
       "      <td>2</td>\n",
       "      <td>1</td>\n",
       "    </tr>\n",
       "  </tbody>\n",
       "</table>\n",
       "</div>"
      ],
      "text/plain": [
       "   age  sex  cp  trestbps  chol  fbs  restecg  thalach  exang  oldpeak  slope  \\\n",
       "0   63    1   3       145   233    1        0      150      0      2.3      0   \n",
       "1   37    1   2       130   250    0        1      187      0      3.5      0   \n",
       "2   41    0   1       130   204    0        0      172      0      1.4      2   \n",
       "3   56    1   1       120   236    0        1      178      0      0.8      2   \n",
       "4   57    0   0       120   354    0        1      163      1      0.6      2   \n",
       "\n",
       "   ca  thal  target  \n",
       "0   0     1       1  \n",
       "1   0     2       1  \n",
       "2   0     2       1  \n",
       "3   0     2       1  \n",
       "4   0     2       1  "
      ]
     },
     "execution_count": 2,
     "metadata": {},
     "output_type": "execute_result"
    }
   ],
   "source": [
    "df = pd.read_csv('/kaggle/input/heart-disease-uci/heart.csv')\n",
    "df.head()"
   ]
  },
  {
   "cell_type": "markdown",
   "id": "23bc6178",
   "metadata": {
    "papermill": {
     "duration": 0.02769,
     "end_time": "2022-02-15T03:34:18.592441",
     "exception": false,
     "start_time": "2022-02-15T03:34:18.564751",
     "status": "completed"
    },
    "tags": []
   },
   "source": [
    "# Visualisasi"
   ]
  },
  {
   "cell_type": "code",
   "execution_count": 3,
   "id": "3beed0c8",
   "metadata": {
    "execution": {
     "iopub.execute_input": "2022-02-15T03:34:18.665464Z",
     "iopub.status.busy": "2022-02-15T03:34:18.664858Z",
     "iopub.status.idle": "2022-02-15T03:34:18.814410Z",
     "shell.execute_reply": "2022-02-15T03:34:18.813902Z",
     "shell.execute_reply.started": "2022-02-15T03:33:12.431979Z"
    },
    "papermill": {
     "duration": 0.193683,
     "end_time": "2022-02-15T03:34:18.814543",
     "exception": false,
     "start_time": "2022-02-15T03:34:18.620860",
     "status": "completed"
    },
    "tags": []
   },
   "outputs": [
    {
     "data": {
      "image/png": "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\n",
      "text/plain": [
       "<Figure size 432x288 with 1 Axes>"
      ]
     },
     "metadata": {
      "needs_background": "light"
     },
     "output_type": "display_data"
    }
   ],
   "source": [
    "df.target.value_counts()\n",
    "sns.countplot(x=\"target\", data=df, palette=\"bwr\")\n",
    "plt.show()"
   ]
  },
  {
   "cell_type": "markdown",
   "id": "651ec57e",
   "metadata": {
    "papermill": {
     "duration": 0.028149,
     "end_time": "2022-02-15T03:34:18.873332",
     "exception": false,
     "start_time": "2022-02-15T03:34:18.845183",
     "status": "completed"
    },
    "tags": []
   },
   "source": [
    "#### target: memiliki penyakit jantung atau tidak (1 = ya, 0 = tidak)"
   ]
  },
  {
   "cell_type": "code",
   "execution_count": 4,
   "id": "87b93487",
   "metadata": {
    "execution": {
     "iopub.execute_input": "2022-02-15T03:34:18.933601Z",
     "iopub.status.busy": "2022-02-15T03:34:18.933057Z",
     "iopub.status.idle": "2022-02-15T03:34:18.940987Z",
     "shell.execute_reply": "2022-02-15T03:34:18.941546Z",
     "shell.execute_reply.started": "2022-02-15T03:33:12.646719Z"
    },
    "papermill": {
     "duration": 0.039607,
     "end_time": "2022-02-15T03:34:18.941712",
     "exception": false,
     "start_time": "2022-02-15T03:34:18.902105",
     "status": "completed"
    },
    "tags": []
   },
   "outputs": [
    {
     "name": "stdout",
     "output_type": "stream",
     "text": [
      "Persentase pasien tidak memiliki penyakit jantung: 45.54%\n",
      "Persentasi pasien memiliki penyakit jantung: 54.46%\n"
     ]
    }
   ],
   "source": [
    "countNoDisease = len(df[df.target == 0])\n",
    "countHaveDisease = len(df[df.target == 1])\n",
    "print(\"Persentase pasien tidak memiliki penyakit jantung: {:.2f}%\".format((countNoDisease / (len(df.target))*100)))\n",
    "print(\"Persentasi pasien memiliki penyakit jantung: {:.2f}%\".format((countHaveDisease / (len(df.target))*100)))"
   ]
  },
  {
   "cell_type": "code",
   "execution_count": 5,
   "id": "5fd18895",
   "metadata": {
    "execution": {
     "iopub.execute_input": "2022-02-15T03:34:19.037857Z",
     "iopub.status.busy": "2022-02-15T03:34:19.036457Z",
     "iopub.status.idle": "2022-02-15T03:34:19.141860Z",
     "shell.execute_reply": "2022-02-15T03:34:19.142567Z",
     "shell.execute_reply.started": "2022-02-15T03:33:12.662095Z"
    },
    "papermill": {
     "duration": 0.156708,
     "end_time": "2022-02-15T03:34:19.142777",
     "exception": false,
     "start_time": "2022-02-15T03:34:18.986069",
     "status": "completed"
    },
    "tags": []
   },
   "outputs": [
    {
     "data": {
      "image/png": "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\n",
      "text/plain": [
       "<Figure size 432x288 with 1 Axes>"
      ]
     },
     "metadata": {
      "needs_background": "light"
     },
     "output_type": "display_data"
    }
   ],
   "source": [
    "sns.countplot(x='sex', data=df, palette=\"mako_r\")\n",
    "plt.xlabel(\"Kelamin (0 = perempuan, 1= laki-laki)\")\n",
    "plt.show()"
   ]
  },
  {
   "cell_type": "code",
   "execution_count": 6,
   "id": "8dba1112",
   "metadata": {
    "execution": {
     "iopub.execute_input": "2022-02-15T03:34:19.240638Z",
     "iopub.status.busy": "2022-02-15T03:34:19.240101Z",
     "iopub.status.idle": "2022-02-15T03:34:19.246751Z",
     "shell.execute_reply": "2022-02-15T03:34:19.246255Z",
     "shell.execute_reply.started": "2022-02-15T03:33:12.845643Z"
    },
    "papermill": {
     "duration": 0.053866,
     "end_time": "2022-02-15T03:34:19.246865",
     "exception": false,
     "start_time": "2022-02-15T03:34:19.192999",
     "status": "completed"
    },
    "tags": []
   },
   "outputs": [
    {
     "name": "stdout",
     "output_type": "stream",
     "text": [
      "Persentase pasien perempuan: 31.68%\n",
      "Persentase pasien laki-laki: 68.32%\n"
     ]
    }
   ],
   "source": [
    "countFemale = len(df[df.sex == 0])\n",
    "countMale = len(df[df.sex == 1])\n",
    "print(\"Persentase pasien perempuan: {:.2f}%\".format((countFemale / (len(df.sex))*100)))\n",
    "print(\"Persentase pasien laki-laki: {:.2f}%\".format((countMale / (len(df.sex))*100)))"
   ]
  },
  {
   "cell_type": "markdown",
   "id": "02c368c8",
   "metadata": {
    "papermill": {
     "duration": 0.029308,
     "end_time": "2022-02-15T03:34:19.305172",
     "exception": false,
     "start_time": "2022-02-15T03:34:19.275864",
     "status": "completed"
    },
    "tags": []
   },
   "source": [
    "### Mengambil mean dari target"
   ]
  },
  {
   "cell_type": "code",
   "execution_count": 7,
   "id": "f2a2720c",
   "metadata": {
    "execution": {
     "iopub.execute_input": "2022-02-15T03:34:19.381629Z",
     "iopub.status.busy": "2022-02-15T03:34:19.381051Z",
     "iopub.status.idle": "2022-02-15T03:34:19.383379Z",
     "shell.execute_reply": "2022-02-15T03:34:19.383771Z",
     "shell.execute_reply.started": "2022-02-15T03:33:12.856262Z"
    },
    "papermill": {
     "duration": 0.048931,
     "end_time": "2022-02-15T03:34:19.383915",
     "exception": false,
     "start_time": "2022-02-15T03:34:19.334984",
     "status": "completed"
    },
    "tags": []
   },
   "outputs": [
    {
     "data": {
      "text/html": [
       "<div>\n",
       "<style scoped>\n",
       "    .dataframe tbody tr th:only-of-type {\n",
       "        vertical-align: middle;\n",
       "    }\n",
       "\n",
       "    .dataframe tbody tr th {\n",
       "        vertical-align: top;\n",
       "    }\n",
       "\n",
       "    .dataframe thead th {\n",
       "        text-align: right;\n",
       "    }\n",
       "</style>\n",
       "<table border=\"1\" class=\"dataframe\">\n",
       "  <thead>\n",
       "    <tr style=\"text-align: right;\">\n",
       "      <th></th>\n",
       "      <th>age</th>\n",
       "      <th>sex</th>\n",
       "      <th>cp</th>\n",
       "      <th>trestbps</th>\n",
       "      <th>chol</th>\n",
       "      <th>fbs</th>\n",
       "      <th>restecg</th>\n",
       "      <th>thalach</th>\n",
       "      <th>exang</th>\n",
       "      <th>oldpeak</th>\n",
       "      <th>slope</th>\n",
       "      <th>ca</th>\n",
       "      <th>thal</th>\n",
       "    </tr>\n",
       "    <tr>\n",
       "      <th>target</th>\n",
       "      <th></th>\n",
       "      <th></th>\n",
       "      <th></th>\n",
       "      <th></th>\n",
       "      <th></th>\n",
       "      <th></th>\n",
       "      <th></th>\n",
       "      <th></th>\n",
       "      <th></th>\n",
       "      <th></th>\n",
       "      <th></th>\n",
       "      <th></th>\n",
       "      <th></th>\n",
       "    </tr>\n",
       "  </thead>\n",
       "  <tbody>\n",
       "    <tr>\n",
       "      <th>0</th>\n",
       "      <td>56.601449</td>\n",
       "      <td>0.826087</td>\n",
       "      <td>0.478261</td>\n",
       "      <td>134.398551</td>\n",
       "      <td>251.086957</td>\n",
       "      <td>0.159420</td>\n",
       "      <td>0.449275</td>\n",
       "      <td>139.101449</td>\n",
       "      <td>0.550725</td>\n",
       "      <td>1.585507</td>\n",
       "      <td>1.166667</td>\n",
       "      <td>1.166667</td>\n",
       "      <td>2.543478</td>\n",
       "    </tr>\n",
       "    <tr>\n",
       "      <th>1</th>\n",
       "      <td>52.496970</td>\n",
       "      <td>0.563636</td>\n",
       "      <td>1.375758</td>\n",
       "      <td>129.303030</td>\n",
       "      <td>242.230303</td>\n",
       "      <td>0.139394</td>\n",
       "      <td>0.593939</td>\n",
       "      <td>158.466667</td>\n",
       "      <td>0.139394</td>\n",
       "      <td>0.583030</td>\n",
       "      <td>1.593939</td>\n",
       "      <td>0.363636</td>\n",
       "      <td>2.121212</td>\n",
       "    </tr>\n",
       "  </tbody>\n",
       "</table>\n",
       "</div>"
      ],
      "text/plain": [
       "              age       sex        cp    trestbps        chol       fbs  \\\n",
       "target                                                                    \n",
       "0       56.601449  0.826087  0.478261  134.398551  251.086957  0.159420   \n",
       "1       52.496970  0.563636  1.375758  129.303030  242.230303  0.139394   \n",
       "\n",
       "         restecg     thalach     exang   oldpeak     slope        ca      thal  \n",
       "target                                                                          \n",
       "0       0.449275  139.101449  0.550725  1.585507  1.166667  1.166667  2.543478  \n",
       "1       0.593939  158.466667  0.139394  0.583030  1.593939  0.363636  2.121212  "
      ]
     },
     "execution_count": 7,
     "metadata": {},
     "output_type": "execute_result"
    }
   ],
   "source": [
    "df.groupby('target').mean()"
   ]
  },
  {
   "cell_type": "code",
   "execution_count": 8,
   "id": "c549164e",
   "metadata": {
    "execution": {
     "iopub.execute_input": "2022-02-15T03:34:19.459567Z",
     "iopub.status.busy": "2022-02-15T03:34:19.456001Z",
     "iopub.status.idle": "2022-02-15T03:34:20.123878Z",
     "shell.execute_reply": "2022-02-15T03:34:20.124292Z",
     "shell.execute_reply.started": "2022-02-15T03:33:12.893792Z"
    },
    "papermill": {
     "duration": 0.710865,
     "end_time": "2022-02-15T03:34:20.124449",
     "exception": false,
     "start_time": "2022-02-15T03:34:19.413584",
     "status": "completed"
    },
    "tags": []
   },
   "outputs": [
    {
     "data": {
      "image/png": "iVBORw0KGgoAAAANSUhEUgAABIwAAAGGCAYAAAAZ9RpuAAAAOXRFWHRTb2Z0d2FyZQBNYXRwbG90bGliIHZlcnNpb24zLjUuMSwgaHR0cHM6Ly9tYXRwbG90bGliLm9yZy/YYfK9AAAACXBIWXMAAAsTAAALEwEAmpwYAAAy60lEQVR4nO3debxdZX0v/s8XgkYUggwOJWJQLF4FB0SlP5xpFUXRtnov9taxNrbW2lqrxra3oJ1StbV61SqWOtR5BCvWSqvWqldEBhVBS5EgwQlQIooow/P7Y63gXsdzkpNkDzmH9/v1Oq/svdbe6/Os8Zz9zbOeXa21AAAAAMBmu8y6AQAAAADsXBSMAAAAABhQMAIAAABgQMEIAAAAgAEFIwAAAAAGFIwAAAAAGFAwAoAdVFW/XFWXVNUPqureVfXlqnpIP++EqnrrIpdzi6r656raVFXv2Y52PKSqNm7r+yalql5XVf9n1u1YrKpaU1WtqlbMM++Afv/uushlbdPrd1Zb2iZLYflbyH1qVX1qmpnbYqmdOwAsT1P95QwAs1ZVxyV5bpJDkvwwyUVJ3pzk71trbTsX+/Ikz26tndI/v/t2LufxSW6bZJ/W2nXbuYydRmvtt2bdhnFprX09ya02P6+qTyR5a2vtHxbz+h1RVW9KsrG19ifjWB47v+V07gCwdOlhBMBNRlU9L8krk7wsye3SFWd+K8mRSW62wHsW00Pkjkm+PIYm3jHJfy1ULJp2LwwYp53l+N1Z2gEAOzsFIwBuEqpqVZKXJHlWa+29rbWrWufs1tr/bq39uH/dm6rq76vqw1X1wyQPrapjqursqvp+f+vZCf1rb15VP0iya5IvVNWF/fQNVfWL87Rht6p6R1W9r6puNmfei5P8aZL/1d/K9Bv9bTOfrqpXVNUVSU7oM19eVV+vqm/3t67cYoF1fk5VnVdVq6vqE1X1jJF5g1tyququVXVaVX23qr5aVf9zZN6bquo1VXVqVV1VVadX1Z37edW37zv99vlSVR0y8r4/X6Btm9ft1f0teF+pqqNG91dVnVRV36yqS6vqzzcX7za3vd8O36uqi6rqkf28J1TVmXOy/qCqTukfz7svF2jjr/b78pDRW6eq6i+SPDDJq/t99ep53ju41aqqnlZV5/fb72tV9cyR1z6kqjZW1fP67fjNqnpaP29tkv+d5AV91j/301tVHTRnH/351pbXz9+nulsfv19VZ/Tbdmu3Zz29qr7RL+sPR5a1S1Wtq6oLq+qKqnp3Ve09Zxv8RlV9PcnHqmrXfr9dXlVfS3LMnO22pe20b1V9qKqu7I/T/6yqXfp5m9twVXXH/C+PvO9nzqN59tfL+mNq1ZaOkZF1ekp15+DlVfXHC2202sJ5V52tnjtVdet+vS/rj/cPVdXqrewvANhhCkYA3FT8QpKbJzllay9M8mtJ/iLJHkk+le7WtScn2SvdB9zfrqrHtdZ+3FrbfNvRPVtrd15ogdUVdU5O8uMk/7O19pPR+a2145P8ZZJ3tdZu1Vo7qZ91/yRfS9cb6i+SrE/y80nuleSgJPunKzTNzfvTJE9N8uDW2hbHNaqqWyY5Lcnbk9wmyXFJXltVdxt52XFJXpzk1kn+u29Lkjw8yYP6Nq1K8j+TXLGlvBH3T3Jhkn2THJ/k/ZuLDUnelOS6fh3v3ec8Y857v9q/96VJTqqqSvLBJAdW1f8Yee2TkrylfzzvvpzbsL7A8tdJfrG1du7ovNbaHyf5z3S3Id6qtfbsRazrd5I8OsmeSZ6W5BVVddjI/Nul2377J/mNJK+pqlu31k5M8rYkL+2zHrOIrAWX1897TbrtcLskT+l/tuahSe6Sbj+8sH5aEP3dJI9L8uAkP5fke/3yRz04yf9I8ogkv5luO9w7yeHpbsMctaXt9LwkG5Psl+58+KMkm28jvTBdEW9VuuP0rVV1+5Hlzj2PktxY8HpDknskeXhrbVMWd4w8IMnBSY5K8qdzjrfFWuy5s0uSN6brgXhAkh8l+ZkiJQCMm4IRADcV+ya5fPR2r6r6TN9b4UdV9aCR157SWvt0a+2G1to1rbVPtNa+1D//YpJ3pPsQvFh7JvlIug+1T2utXb8N7/1Ga+3/9u2+JsnaJM9trX23tXZVuiLTcSOvr6r623QfRh/aWrtsERmPTrKhtfbG1tp1rbWzk7wvyRNGXvOB1trn+na8LV3BKkmuTVdYu2uSaq2d31r75iLX7TtJ/q61dm1r7V3pCkDHVNVtkzwqye+31n7YWvtOklfMWc+LW2tv6Lflm5PcPslt+55i70ry6/3GuHuSNUk+lCSL3Je/n+T5SR7SWvvvRa7LFrXWTm2tXdj3avuPJB9NV+DY7NokL+m3xYeT/CBdQWJ7zbu86npp/WqS41trV7fWzku3/bbmxf2++FK64sUT++m/leSPW2sb+21/QpLH1/C2rxP69/4oXVHk71prl7TWvpvkr0ZDtrKdrk23n+/Yr9d/bh53rLX2ntbaN/r9+q4kFyS538iibzyP+nYkyW7p9v/eSR7TWru6X9ZijpEXt9Z+1Fr7QpIvJLnnIrbhXIs6d1prV7TW3tfvr6vSFby25foDANtFwQiAm4orkuw7+kG2tfb/tdb26ueN/k68ZPSNVXX/qvp4f0vIpnQfkvfdhuwj0vVgWL/5A+42GG3Lfkl2T3JmX+i6Ml0har+R1+yVrqj0V31vicW4Y5L7b15mv9z/na4HymbfGnl8dfoBnVtrH0vX2+E1Sb5TVSdW1Z6LzL10zva4OF0vlTum+zD/zZH2vD5d76efac/mD/r56SDTb07ya32PoycleffILYeL2ZfPT/KarfXM2hZV9ciq+mx/K9WV6Qpio7lXtOHYVTdu4+200PL2S/elJ6PH1eB4X8Doazbvp6TbVx8Y2U/nJ7k+XU+e+d77c/Ms60Zb2U4vS9e77aP97WrrRt735Ko6Z6Qdh2S4fedbx4OSPDZd8efGHn+LPEbmPR+2xWLPnaravapeX1UXV9X3k3wyyV61xL+BD4Cdn4IRADcV/y/d7WCPXcRr5xZ13p7uVqc7tNZWJXldktqG7I+m60nx733vmW0x2pbL092OcvfW2l79z6qR2+KS7pagRyd5Y1UdOTL9h+mKTZuNFoMuSfIfI8vcq7/96bcX1cDWXtVau0+Su6W7veb5i1y3/fuizmYHJPlG354fJ9l3pD17ttYW9e1zrbXPJvlJup4pv5bkn0ZmL2ZfPjzJn1TVr24pZjFtSbqxrtL12Hp5ul5QeyX58Dy525J1dRben1tyWbpb/UbHwLnDIt43+prN+ynp9tUj5xw7K1trl468frT935xnWUm2vp1aN+7Y81prd0pybJI/qKqjquqOSd6Q5NnpvmFwryTnZrh959uG56e77e1fqmq0N9eOnu+jtnTeLfbceV663mb3b63tme42tuxAmwBgURSMALhJaK1dmW5sk9dW1eOrao9+/JJ7JbnlVt6+R5Lvttauqar7pStCbGv+S9N9EP33qtqW3kmjy7gh3QfjV1TVbZKkqvavqkfMed0n0vUQen/f3iQ5J8mv9L0VDko3rs1mH0ry81X1pOoG5t6tqu67mHFZ+tfdv6p2S/fh+JokNyxylW6T5Dl93hPSjXPz4f62nI8m+Zuq2rPfT3euqm25Dect6XpvXNtaGx3QeTH78stJjk437s+xCyz/20nutMi23Czd+FmXJbmuugG6H77I9y6UdU66XlS7VtXRWeQtSv0tfO9PN4D67lV113Tj9WzN/+lff/d0RZZ39dNfl+Qv+qJNqmq/qtpSUfbd6fb56n5MpXUj87a4narq0VV1UF9k3JSuJ9MN6c7f1r9v8/hThyxindJae0e6sZD+rfqB3DOG833EOVngvNuGc2ePdIXiK6sb4+v4HWgPACyaghEANxl90eYPkrwg3Yfwb6e71emFST6zhbc+K8lLquqqdANMv3s78/8s3cDX/1Y/Hdx5W70w3W05n+1vT/m3zDPWTWvttCRPT/LP1Q0a/Ip0vW6+ne6WrbeNvPaqdB/Mj0vXc+Rb6QZ8vvki2rNnuiLW99LdXnRFuluHFuP0dAMpX55uXJbHt9Y2D/r75HQFhPP6Zb833fg1i/VP6YoGb50zfVH7sh+b5tFJ3tAXLuZ6Zbqxer5XVa/aUkP67fucPut76QoQH9yGdTkpyd36261O7qf9XpLHJLkyXXHw5HnfOb9npxtk+VvpttM70vXo2pL/SHfc/XuSl7fWPtpPf2W6dflov00/m26A6YW8Icm/phv356x0xaski9pOd0l3vP8gXY/B17bWPt6Pw/Q3/bRvJzk0yae3sj43aq29Od03KH6sqtZkTOd7b8HzLos/d/4uyS3SnSefTXcbKgBMXG37UAoAADumqp6a5BmttQdMaPm3SDeo9mGttQsmkbGV/Dsl+a8ku23HuFVTVVV/neR2rbXFfFsaAHAToYcRALAc/XaSM2ZRLOodku6b3Ha6YlFV3bWq7lGd+6W7TeoDs24XALBzWbH1lwAALB1VtSHdgMCPm1H+5tsef3cW+YuwR7rb0H4u3a1Sf5PklJm2CADY6bglDQAAAIABt6QBAAAAMKBgBAAAAMDAkhjDaN99921r1qyZdTMAAAAAlo0zzzzz8tbafvPNWxIFozVr1uTzn//8rJsBAAAAsGxU1cULzXNLGgAAAAADCkYAAAAADCgYAQAAADCwJMYwAgAAANgZXXvttdm4cWOuueaaWTdlQStXrszq1auz2267Lfo9CkYAAAAA22njxo3ZY489smbNmlTVrJvzM1prueKKK7Jx48YceOCBi36fW9IAAAAAttM111yTffbZZ6csFiVJVWWfffbZ5h5QCkYAAAAAO2BnLRZttj3tUzACAAAAGLMrr7wyr33tayeec/LJJ+e8884b+3IVjAAAAADGbFsLRq213HDDDduco2AEAAAAsESsW7cuF154Ye51r3vluc99bo466qgcdthhOfTQQ3PKKackSTZs2JCDDz44T37yk3PIIYfkkksuyZ/92Z/l4IMPzgMe8IA88YlPzMtf/vIkyYUXXpijjz4697nPffLABz4wX/nKV/KZz3wmH/zgB/P85z8/97rXvXLhhReOrf0T+5a0qvrHJI9O8p3W2iH9tJcleUySnyS5MMnTWmtXTqoNAAAAALOwfv36nHvuuTnnnHNy3XXX5eqrr86ee+6Zyy+/PEcccUSOPfbYJMkFF1yQN7/5zTniiCNyxhln5H3ve1++8IUv5Nprr81hhx2W+9znPkmStWvX5nWve13ucpe75PTTT8+znvWsfOxjH8uxxx6bRz/60Xn84x8/1vZPrGCU5E1JXp3kLSPTTkvyotbadVX110lelOSFE2wDAAAAwEy11vJHf/RH+eQnP5lddtkll156ab797W8nSe54xzvmiCOOSJJ8+tOfzmMf+9isXLkyK1euzGMe85gkyQ9+8IN85jOfyROe8IQbl/njH/94om2eWMGotfbJqlozZ9pHR55+Nsl4y18AAAAAO5m3ve1tueyyy3LmmWdmt912y5o1a278mvtb3vKWW33/DTfckL322ivnnHPOhFv6U5PsYbQ1T0/yroVmVtXaJGuT5IADDphWmwAAWIbWrDt1wXkb1h8zxZYAcFOxxx575KqrrkqSbNq0Kbe5zW2y22675eMf/3guvvjied9z5JFH5pnPfGZe9KIX5brrrsuHPvShrF27NnvuuWcOPPDAvOc978kTnvCEtNbyxS9+Mfe85z0HOeM0k0Gvq+qPk1yX5G0Lvaa1dmJr7fDW2uH77bff9BoHAAAAsIP22WefHHnkkTnkkENyzjnn5POf/3wOPfTQvOUtb8ld73rXed9z3/veN8cee2zucY975JGPfGQOPfTQrFq1KknXS+mkk07KPe95z9z97ne/ceDs4447Li972cty73vfe2kMer2QqnpqusGwj2qttWnnAwAAAEzD29/+9q2+5txzzx08/8M//MOccMIJufrqq/OgBz3oxkGvDzzwwHzkIx/5mfcfeeSROe+888bT4BFTLRhV1dFJXpDkwa21q6eZDQAAALCzW7t2bc4777xcc801ecpTnpLDDjtsJu2YWMGoqt6R5CFJ9q2qjUmOT/etaDdPclpVJclnW2u/Nak2AAAAACwli+mVNA2T/Ja0J84z+aRJ5QEAAAAwHjMZ9BoAAACAnZeCEQAAAAADCkYAAAAADCgYAQAAACxhH/nIR3LwwQfnoIMOyvr168eyzIkNeg0AAABwU7Nm3aljXd6G9cdscf7111+f3/md38lpp52W1atX5773vW+OPfbY3O1ud9uhXD2MAAAAAJaoz33ucznooINypzvdKTe72c1y3HHH5ZRTTtnh5SoYAQAAACxRl156ae5whzvc+Hz16tW59NJLd3i5CkYAAAAADCgYAQAAACxR+++/fy655JIbn2/cuDH777//Di9XwQgAAABgibrvfe+bCy64IBdddFF+8pOf5J3vfGeOPfbYHV6ub0kDAAAAWKJWrFiRV7/61XnEIx6R66+/Pk9/+tNz97vffceXO4a2AQAAAJBkw/pjpp75qEc9Ko961KPGuky3pAEAAAAwoGAEAAAAwICCEQAAAAADCkYAAAAADCgYAQAAADCgYAQAAADAgIIRAAAAwBL29Kc/Pbe5zW1yyCGHjG2ZK8a2JAAAAICbuhNWjXl5m7b6kqc+9al59rOfnSc/+clji9XDCAAAAGAJe9CDHpS99957rMtUMAIAAABgQMEIAAAAgAEFIwAAAAAGFIwAAAAAGFAwAgAAAFjCnvjEJ+YXfuEX8tWvfjWrV6/OSSedtMPLXDGGdgEAAACQJCdsmnrkO97xjrEvUw8jAAAAAAYUjAAAAAAYUDACAAAAYEDBCAAAAGAHtNZm3YQt2p72KRgBAAAAbKeVK1fmiiuu2GmLRq21XHHFFVm5cuU2vc+3pAEAAABsp9WrV2fjxo257LLLZt2UBa1cuTKrV6/epvcoGAEAAABsp9122y0HHnjgrJsxdm5JAwAAAGBAwQgAAACAAQUjAAAAAAYUjAAAAAAYUDACAAAAYEDBCAAAAIABBSMAAAAABhSMAAAAABhQMAIAAABgYGIFo6r6x6r6TlWdOzJt76o6raou6P+99aTyAQAAANg+k+xh9KYkR8+Zti7Jv7fW7pLk3/vnAAAAAOxEJlYwaq19Msl350x+bJI394/fnORxk8oHAAAAYPusmHLebVtr3+wffyvJbRd6YVWtTbI2SQ444IApNA0AYAxOWLWFeZum144lYM26Uxect2H9MVNsCQAw18wGvW6ttSRtC/NPbK0d3lo7fL/99ptiywAAAABu2qZdMPp2Vd0+Sfp/vzPlfAAAAAC2YtoFow8meUr/+ClJTplyPgAAAABbMbGCUVW9I8n/S3JwVW2sqt9Isj7JL1XVBUl+sX8OAAAAwE5kYoNet9aeuMCsoyaVCQAAAMCOm9mg1wAAAADsnBSMAAAAABhQMAIAAABgQMEIAAAAgAEFIwAAAAAGFIwAAAAAGFAwAgAAAGBAwQgAAACAAQUjAAAAAAYUjAAAAAAYUDACAAAAYEDBCAAAAIABBSMAAAAABhSMAAAAABhQMAIAAABgQMEIAAAAgAEFIwAAAAAGFIwAAAAAGFAwAgAAAGBAwQgAAACAgRWzbgAwZies2sK8TdNrB7D0TPv6sVCeaxVL3Jp1py44b8P6Y6bYEgDYfnoYAQAAADCgYAQAAADAgIIRAAAAAAMKRgAAAAAMKBgBAAAAMKBgBAAAAMCAghEAAAAAAwpGAAAAAAwoGAEAAAAwoGAEAAAAwICCEQAAAAADCkYAAAAADCgYAQAAADCgYAQAAADAgIIRAAAAAAMKRgAAAAAMKBgBAAAAMKBgBAAAAMCAghEAAAAAAwpGAAAAAAwoGAEAAAAwMJOCUVU9t6q+XFXnVtU7qmrlLNoBAAAAwM+aesGoqvZP8pwkh7fWDkmya5Ljpt0OAAAAAOY3q1vSViS5RVWtSLJ7km/MqB0AAAAAzDH1glFr7dIkL0/y9STfTLKptfbRabcDAAAAgPmtmHZgVd06yWOTHJjkyiTvqapfb629dc7r1iZZmyQHHHDAtJsJ3NSdsGoL8zZNrx0AsAVr1p264LwN64+ZYksAWG5mcUvaLya5qLV2WWvt2iTvT/L/zX1Ra+3E1trhrbXD99tvv6k3EgAAAOCmahYFo68nOaKqdq+qSnJUkvNn0A4AAAAA5jGLMYxOT/LeJGcl+VLfhhOn3Q4AAAAA5jf1MYySpLV2fJLjZ5ENAAAAwJbN4pY0AAAAAHZiCkYAAAAADCgYAQAAADCgYAQAAADAgIIRAAAAAAMKRgAAAAAMKBgBAAAAMKBgBAAAAMCAghEAAAAAAwpGAAAAAAwoGAEAAAAwoGAEAAAAwICCEQAAAAADCkYAAAAADCgYAQAAADCgYAQAAADAgIIRAAAAAAMKRgAAAAAMrNjSzKp6QWvtpVX1f5O0ufNba8+ZWMsAAAAAmIktFoySnN//+/lJNwQAAACAncMWC0attX/u/33z5mlVtUuSW7XWvj/htgEAAAAwA1vrYZQkqaq3J/mtJNcnOSPJnlX1ytbayybZOGAnd8KqLczbNL12ALD8LPQ7ZhK/X/w+W7Q1606dd/qG9cdMLWtSeQAMLXbQ67v1PYoel+RfkhyY5EmTahQAAAAAs7PYgtFuVbVbuoLRB1tr12aeQbABAAAAWPoWWzB6fZINSW6Z5JNVdcckxjACAAAAWIYWNYZRa+1VSV41MuniqnroZJoEAAAAwCwtdtDrmyf51SRr5rznJRNoEwAAAAAztKiCUZJTkmxKcmaSH0+uOQAAAADM2mILRqtba0dPtCUAAAAA7BQWO+j1Z6rq0Im2BAAAAICdwmJ7GD0gyVOr6qJ0t6RVktZau8fEWgYAAADATCy2YPTIibYCAAAAgJ3Gom5Ja61dnOQOSR7WP756se8FAAAAYGlZVNGnqo5P8sIkL+on7ZbkrZNqFAAAAACzs9heQr+c5NgkP0yS1to3kuwxqUYBAAAAMDuLLRj9pLXWkrQkqapbTq5JAAAAAMzSYgtG766q1yfZq6p+M8m/JXnD5JoFAAAAwKws6lvSWmsvr6pfSvL9JAcn+dPW2mkTbRkAAAAAM7GoglGS9AUiRSIAAACAZW5RBaOquir9+EVJbpbuW9J+2Frbc1INAwAAAGA2FntL2o3fiFZVleSxSY6YVKMAAAAAmJ3FDnp9o9Y5Ockjxt8cAAAAAGZtsbek/crI012SHJ7kmom0CAAAAICZWuyg148ZeXxdkg3pbkvbLlW1V5J/SHJIurGRnt5a+3/buzwAAAAAxmexBaNXt9bOHJ1QVY9O8qHtzH1lko+01h5fVTdLsvt2LgcAAACAMVvsGEZvqKpDNj+pquOS/J/tCayqVUkelOSkJGmt/aS1duX2LAsAAACA8VtswejxSd5SVXetqt9M8jtJHr6dmQcmuSzJG6vq7Kr6h6q65XYuCwAAAIAxW9Qtaa21r/W9ik5O8vUkD2+t/WgHMg9L8ruttdOr6pVJ1mVOj6WqWptkbZIccMAB2xkFsAScsGoL8zZNrx2wnI35PFuz7tQF521Yuc2L26kstG4b1h8z5ZbA9GzxnJ7mse9vgkXbafYZLGNbLBhV1ZfSDUq92d5Jdk1yelWltXaP7cjcmGRja+30/vl70xWMBlprJyY5MUkOP/zwNnc+AAAAAJOxtR5Gjx53YGvtW1V1SVUd3Fr7apKjkpw37hwAAAAAts8WC0attYs3P66qByS5S2vtjVW1X5Jb7UDu7yZ5W/8NaV9L8rQdWBYAAAAAY7SoMYyq6vgkhyc5OMkbk+yW5K1Jjtye0NbaOf3yAAAAANjJLPZb0n45ybFJfpgkrbVvJNljUo0CAAAAYHYWWzD6SWutpR8Au6puObkmAQAAADBLiy0YvbuqXp9kr6r6zST/luQNk2sWAAAAALOy1TGMqqqSvCvJXZN8P904Rn/aWjttwm0DAAAAYAa2WjBqrbWq+nBr7dAkikQAAAAAy9xib0k7q6ruO9GWAAAAALBT2GoPo979k/x6VW1I901pla7z0T0m1TAAAAAAZmOLBaOqOqC19vUkj5hSewAAAACYsa31MDo5yWGttYur6n2ttV+dQpsAAAAAmKGtjWFUI4/vNMmGAAAAALBz2FrBqC3wGAAAAIBlamu3pN2zqr6frqfRLfrHyU8Hvd5zoq0DAAAAYOq2WDBqre06rYYAAAAAsHPY2i1pAAAAANzEKBgBAAAAMKBgBAAAAMCAghEAAAAAAwpGAAAAAAwoGAEAAAAwoGAEAAAAwICCEQAAAAADK2bdAIBFO2HVAtM3TbcdAFO0Zt2pC87bsP6Y6TVkoWtw4jq8LWxHAJYIPYwAAAAAGFAwAgAAAGBAwQgAAACAAQUjAAAAAAYUjAAAAAAYUDACAAAAYEDBCAAAAIABBSMAAAAABhSMAAAAABhQMAIAAABgQMEIAAAAgAEFIwAAAAAGFIwAAAAAGFAwAgAAAGBAwQgAAACAAQUjAAAAAAYUjAAAAAAYUDACAAAAYEDBCAAAAIABBSMAAAAABhSMAAAAABiYWcGoqnatqrOr6kOzagMAAAAAP2uWPYx+L8n5M8wHAAAAYB4zKRhV1eokxyT5h1nkAwAAALCwWfUw+rskL0hyw4zyAQAAAFjAimkHVtWjk3yntXZmVT1kC69bm2RtkhxwwAHTaRzAcnfCqi3M2zS9dkzCQuu2XNcrWRLrtmbdqQvO27Byig0BlpclfG2c9nVxobwNK39t4TdNYhsu19/TsIzNoofRkUmOraoNSd6Z5GFV9da5L2qtndhaO7y1dvh+++037TYCAAAA3GRNvWDUWntRa211a21NkuOSfKy19uvTbgcAAAAA85vlt6QBAAAAsBOa+hhGo1prn0jyiVm2AQAAAIAhPYwAAAAAGFAwAgAAAGBAwQgAAACAAQUjAAAAAAYUjAAAAAAYUDACAAAAYEDBCAAAAIABBSMAAAAABhSMAAAAABhQMAIAAABgQMEIAAAAgAEFIwAAAAAGFIwAAAAAGFAwAgAAAGBAwQgAAACAAQUjAAAAAAYUjAAAAAAYUDACAAAAYEDBCAAAAIABBSMAAAAABlbMugEwMyesWmD6pum2g4E1605dcN6GlUs3a5p2mvVa6BxLtvs8W67r5rhnu03gPGMZcXyMh+24aDvN7xj7bNEW2mcb1h8z3Yb4bLZT0sMIAAAAgAEFIwAAAAAGFIwAAAAAGFAwAgAAAGBAwQgAAACAAQUjAAAAAAYUjAAAAAAYUDACAAAAYEDBCAAAAIABBSMAAAAABhSMAAAAABhQMAIAAABgQMEIAAAAgAEFIwAAAAAGFIwAAAAAGFAwAgAAAGBAwQgAAACAAQUjAAAAAAYUjAAAAAAYUDACAAAAYEDBCAAAAIABBSMAAAAABqZeMKqqO1TVx6vqvKr6clX93rTbAAAAAMDCVswg87okz2utnVVVeyQ5s6pOa62dN4O2AAAAADDH1HsYtda+2Vo7q398VZLzk+w/7XYAAAAAML9Z9DC6UVWtSXLvJKfPM29tkrVJcsABB0y3YdvjhFVbmLdpmxe3Zt2pC87bsPLXxpq1RWNer50mawK2uM/WHzPFlrAz2vI5PcWGTMBC67Zc1ytZ+uu2XNlnAEzCTfKzGWSGg15X1a2SvC/J77fWvj93fmvtxNba4a21w/fbb7/pNxAAAADgJmomBaOq2i1dsehtrbX3z6INAAAAAMxvFt+SVklOSnJ+a+1vp50PAAAAwJbNoofRkUmelORhVXVO//OoGbQDAAAAgHlMfdDr1tqnktS0cwEAAABYnJkNeg0AAADAzknBCAAAAIABBSMAAAAABhSMAAAAABhQMAIAAABgQMEIAAAAgAEFIwAAAAAGFIwAAAAAGFAwAgAAAGBAwQgAAACAAQUjAAAAAAYUjAAAAAAYUDACAAAAYEDBCAAAAIABBSMAAAAABhSMAAAAABhQMAIAAABgQMEIAAAAgAEFIwAAAAAGFIwAAAAAGFgx6wZM1AmrFpi+abrtYGDNulPnnb5h5fSyJpW3oIWOxWS7jsdpr9c09xkAsASN+W8duKlarp9fdirTXLcJZC342Wz9Mdu1vC3RwwgAAACAAQUjAAAAAAYUjAAAAAAYUDACAAAAYEDBCAAAAIABBSMAAAAABhSMAAAAABhQMAIAAABgQMEIAAAAgAEFIwAAAAAGFIwAAAAAGFAwAgAAAGBAwQgAAACAAQUjAAAAAAYUjAAAAAAYUDACAAAAYEDBCAAAAIABBSMAAAAABhSMAAAAABhQMAIAAABgQMEIAAAAgIGZFIyq6uiq+mpV/XdVrZtFGwAAAACY39QLRlW1a5LXJHlkkrsleWJV3W3a7QAAAABgfrPoYXS/JP/dWvtaa+0nSd6Z5LEzaAcAAAAA85hFwWj/JJeMPN/YTwMAAABgJ1CttekGVj0+ydGttWf0z5+U5P6ttWfPed3aJGv7pwcn+ep2xO2b5PIdaK6s5Zs17TxZSy9P1tLKmnaerKWXJ2tpZU07T9bSypp2nqyllydraWVNO0/W0B1ba/vNN2PFjrVnu1ya5A4jz1f30wZaaycmOXFHgqrq8621w3dkGbKWZ9a082QtvTxZSytr2nmyll6erKWVNe08WUsra9p5spZenqyllTXtPFmLN4tb0s5IcpeqOrCqbpbkuCQfnEE7AAAAAJjH1HsYtdauq6pnJ/nXJLsm+cfW2pen3Q4AAAAA5jeLW9LSWvtwkg9PIWqHbmmTtayzpp0na+nlyVpaWdPOk7X08mQtraxp58laWlnTzpO19PJkLa2saefJWqSpD3oNAAAAwM5tFmMYAQAAALATUzACAAAAYEDBCAAAAIABBSMAgDGqqtvMug2TUFX7zLoNsNy5fsDkTfM8W+rH/rIoGFXVrarqJVX15araVFWXVdVnq+qpU2zDf01oufcYebxbVf1JVX2wqv6yqnYfc9b7q+rXq+pW41zuAll3qqp/rKo/7/ffG6rq3Kp6T1WtGXPWLlX19Ko6taq+UFVnVdU7q+oh48zps1ZU1TOr6iNV9cX+51+q6reqardx522lLWMdJb+qdu3X7c+q6sg58/5kzFm7V9ULqur5VbWyqp7aH/cvndLxueTP5z7j2VW1b//4oKr6ZFVdWVWnV9WhY85y/RhP3qqqWl9VX6mq71bVFVV1fj9tr0lkLtCOfxnz8vasqr+qqn+qql+bM++148zql3m7qvr7qnpNVe1TVSdU1Zeq6t1VdfsxZ+0952efJJ+rqltX1d5jzjp65PGqqjqp/z3z9qq67Ziz1o9cPw6vqq8lOb2qLq6qB48566z+enjncS53C3mHV9XHq+qtVXWHqjqtur8fz6iqe485a2p/o7p+jC3P9WPHs6Z2/egzpnYNcf2YrHFfP/plTvM8W3a/O5dFwSjJ25J8Lckjkrw4yauSPCnJQ6vqL8cdVlVXVdX3+5+rquqqJHfePH3McW8aebw+yUFJ/ibJLZK8bsxZ90/yuCRf738p/nJV3WzMGZu9KckZSX6Q5LNJvpLkkUk+kuQfx5x1UpIDkvxVko8n+VA/7U+q6nfHnPVPSe6V5IQkj+p/XpzknkneOuas+S6AoxfCR4057vVJHpzkiiSvqqq/HZn3K2POelOS2yY5MMmpSQ5P8rIkleTvxxm0jM/nJPnt1trl/eNXJnlFa22vJC+cQJ7rx3i8O8n3kjyktbZ3a22fJA/tp717nEFVddgCP/dJdx0bpzemO3/fl+S4qnpfVd28n3fEmLOS7hg5L8kl6fbbj9JdE/8z4z/2L09y5sjP55Psn+Ss/vE4jf5N8zdJvpnkMenOh9ePOeuYkevHy5L8r9baQUl+qc8ep1sn2SvJx6vqc1X13Kr6uTFnjHptkpem+/3ymSSvb62tSrKunzdO0/wb1fVjPN4U148dNc3rRzLda4jrxw6a8vUjme55tvx+d7bWlvxPki/MeX5G/+8uSb4ygbxXJXlLktuOTLtoQut29sjjc5Ls1j+uJF+cRFaSPdNdjD6c5LJ0v6gfPsH1+vpC88aU9cU5zz/b/3vzJOePOeu/tmfeDuRdn+4XyUUjP5uf/2RS2zHJiiQnJnl/vx3Hvc/O6f+tJN9KUiPPx33cL8vzuV/uV0cen7HQ/hznurl+jG+fbcu87cy6PsnH0n0gmvvzozFnnTPn+R8n+XSSfZKcNYHtuKVj5JwxZz0vXbHy0JFpF417nfrlnjXyeO42Hfd6nZ9kRf/4s3PmfWmC6/XAdB+6vtUfi2unfHycPeasqf2N6voxlePjnDFnuX6Mf90meg1x/RhL1tSuH33eNM+zZfe7c0WWhx9W1QNaa5+qqmOTfDdJWms3VFWNO6y19py+AvqOqjo5yauTtHHn9FZV1a+k+0B589batX0bWlWNO7P1y/5+up4y/9T3VHlCuqr5R8eYdUNV/Xy6qujuVXV4a+3zVXVQkl3HmJMk11bVnVtrF1bVYUl+kiSttR9PYBt+t6qekOR9rbUbku6WlnTb8Htjzkq64tBRrbWvz51RVZeMOevG3iKtteuSrK2q49Nd8CdyG1J/nH+49VfCSRz3MziffzndL/pJn89J8t6qelOSlyT5QFX9fpIPJHlYkp85ZnbQLK4fq7K8rh9JcnFVvSDJm1tr306S6m4VeGq6/+0ep/OTPLO1dsHcGRO4fty8qnbZfF1srf1FVV2a5JOZzPVjtAf1W7Ywb4e11v6mqt6V5BX9djs+k7uG3Kaq/iDd3wR7VlVtvj5m/L3GX5vkw1W1PslHquqV6f6T4GHpCt4T0Vr7zyT/2ffg+6Uk/yvdf1CM0zVV9fB015BWVY9rrZ1c3e0C1485a5p/o7p+jIfrx46b9vXjxnNpCtcQ148dN83rx7TPs2ke+9M57idRWZv2T7rbfT6X7gP5p5Ic3E/fL8lzJpi7S5LnpOui+o0JZbxxzs9t++m3S/LvY8765BT32VFJvprugvGAdN2ML0jynSSPHXPW5g/HF6TreXP/kePjpWPOWpPkXel6VvzXyDq9K8mBE9iOv5PkngvM+90xZ701ydHzTH9GkmvHnPUPSW41z/Q7J/nUuLdjv+xpnM9vmtb5PJL5tCSnp+uOe1W6bvZ/mWTVmHN2luvH48actfn68d/99eOIfvrYrx/9cm+d5K/T3Wb3vXR/HJ7fT9t7zFmP3/z7cp55496OL03yi/NMPzrJBRPYji9Z4BpyUJL3jjtvZPnHprtN8lsTWv7xc37266ffLslbJpD3kP7319lJvpSu5+Da9L0jx5jzzkntkwXy7pXkX5P8S5K7prtl93tJvpzkyDFnzf0b9ef76WP/G9X1Y2x5rh/jyZvK9aPPmto1pD+np3X9uIfrx9j330TPsz7jocvpd+fm2zyWvKr6H+nuRfxsa+0HI9OPbq19ZAJ590vXMeCMqnpgugPj8621D08g6/5Jbuiz7pbuF+RXJpQ1ul6Tzhpdr7unG4PkvAll/UKS66axXiOZm0fEf2Vr7dcnlTNP7ltaa09erllz/kdsEjm3T3Ju6+7dnrhpbsM+759aa0+aUtY0j48PJTm29f8DPeZlV5J9Wn9P+pTX64FJ7peuG/M4e2nNl/WAPuvc5ZQ17bx+nz04yeeW03Zcrsdin7cs1q3/u+orrbVN1X2Rwrokh6X7IPuXrbVNY846v7X2/aq6RZIXJbl3+v+UmEDW5vWaaNZI3ui6bd6Ok1q3zVm7pxsD87B046xMcjtuPj4muc9G12tix+I8ebM4Hid5no3usxdmcsfic5J8oLU29h4+s8yaL6/fb3durZ076axJmlbWsigY9RvrWekqovdK8nuttVP6eWe11g4bc97x6YobK5Kclu4X/yfSdf/619baXyyTrPunuwdyua3XJLM+OM/kh6W7bSuttWPHlbVAXqUrXo497yaUlUxon+0Ex8fE8uyzseV9rrV2v/7xM9L1Ijw5ycOT/HNrbf2Esn6zz/rAUs+adt48Wc/KdPbZM5I8O9NZr2VzLC6Qt1z22ZfT9Tq+rrpvSv1huh6YR/XTx/YFFfNkXZ3kvUs9a9p5N6F9NrH1WiBvWazblNdrU7p1uTDJ25O8p/108OaxmpP1jj7rsklkLZD37imt2/LYjm0K3Zgm/ZOuq9et+sdr0o12/nv987MnlLdrkt2TfD/Jnv30W2T8A8nKWlpZZ6W7desh6f6H+SHpvoXiwUkePIFj8exp5S3jrKnts2mu13Jet+WatTlv5PEZ+ektA7fM+AdLXJZZy3ndZC29vClnnT/y+Kw5886RtfPlyVp6ecs46+x0wzM8PN23wV6WbqDopyTZY6lmLed1m1bWuAc4m5VdWn8bWmttQ7o/6B9Z3dd+j33Q63S3Nl3fWrs6yYWtG+Q1rbUfJRn37RCyllbW4em6Ef9xkk2ttU+kG+3/P1pr/zHmrCS5zxTzlmvWNPfZNNcrWb7rtlyzkmSXqrp1f0trtf5/ilprP0xynaydMk/W0sqadt40s86tqqf1j79QVYcnSXVfEnCtrJ0yT9bSy1uuWa21dkNr7aOttd9I8nPpBnA+Ot2X7CzVrGnnLb+scVWeZvmT7taAe82ZtiLdNxtcP4G805Ps3j/eZWT6qoz56z1lLa2skWWvTvKedN+49fVJZMwqT9bSylrO67Ycs5JsSPdL/qL+39v302+V8f9v4rLMWs7rJmvp5U05a1W6L1e4MN3fPtf2mf+RBb4gQ9ZNZ92Wa9ZyXrcpZ529hXm7L9Ws5bxu08paLmMYrU7Xi+Rb88w7srX26THn3by19uN5pu+b7g+BL8m6aWbNk3FMum9M+KNJZcwqT9bSypp2nqyx5+6e7lv1LpK1NPJkLa2saedNMquq9kxyYLr/PN3Y+q/InoTlmjXtPFlLL2+5ZVXVz7fW/mvcy5111rTzlmPWsigYAQAAADA+y2UMIwAAAADGRMEIAAAAgAEFIwCARaiqNVV17pxpJ1TVHy7w+mOrat10WgcAMF4rZt0AAIDlqLX2wSQfnHU7AAC2hx5GAAA7qKqeU1XnVdUXq+qd/bSnVtWr+8ePqarTq+rsqvq3qrrtbFsMALBlehgBAOy4dUkObK39uKr2mmf+p5Ic0VprVfWMJC9I8rxpNhAAYFsoGAEALE7bwvQvJnlbVZ2c5OR5XrM6ybuq6vZJbpbkokk0EABgXNySBgCwOFckufWcaXsnuTzJMUlek+SwJGdU1dz/lPu/SV7dWjs0yTOTrJxwWwEAdoiCEQDAIrTWfpDkm1X1sCSpqr2THJ3udrM7tNY+nuSFSVYludWct69Kcmn/+CnTaTEAwPZzSxoAwOI9Oclrqupv++cvTvL1JB+vqlVJKsmrWmtXVtXo+05I8p6q+l6SjyU5cHpNBgDYdtXaQrfjAwAAAHBT5JY0AAAAAAYUjAAAAAAYUDACAAAAYEDBCAAAAIABBSMAAAAABhSMAAAAABhQMAIAAABgQMEIAAAAgIH/HzQ6F/sAnJ0oAAAAAElFTkSuQmCC\n",
      "text/plain": [
       "<Figure size 1440x432 with 1 Axes>"
      ]
     },
     "metadata": {
      "needs_background": "light"
     },
     "output_type": "display_data"
    }
   ],
   "source": [
    "pd.crosstab(df.age,df.target).plot(kind=\"bar\",figsize=(20,6))\n",
    "plt.title('Grafik frekuensi penyakit jantung berdasarkan usia')\n",
    "plt.xlabel('Usia')\n",
    "plt.ylabel('Frekuensi')\n",
    "plt.savefig('PenyakitJantungDanUmur.png')\n",
    "plt.show()"
   ]
  },
  {
   "cell_type": "code",
   "execution_count": 9,
   "id": "e51645dc",
   "metadata": {
    "execution": {
     "iopub.execute_input": "2022-02-15T03:34:20.197364Z",
     "iopub.status.busy": "2022-02-15T03:34:20.194700Z",
     "iopub.status.idle": "2022-02-15T03:34:20.360849Z",
     "shell.execute_reply": "2022-02-15T03:34:20.360393Z",
     "shell.execute_reply.started": "2022-02-15T03:33:13.814569Z"
    },
    "papermill": {
     "duration": 0.20582,
     "end_time": "2022-02-15T03:34:20.360996",
     "exception": false,
     "start_time": "2022-02-15T03:34:20.155176",
     "status": "completed"
    },
    "tags": []
   },
   "outputs": [
    {
     "data": {
      "image/png": "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\n",
      "text/plain": [
       "<Figure size 1080x432 with 1 Axes>"
      ]
     },
     "metadata": {
      "needs_background": "light"
     },
     "output_type": "display_data"
    }
   ],
   "source": [
    "pd.crosstab(df.sex,df.target).plot(kind=\"bar\",figsize=(15,6),color=['#1CA53B','#AA1111' ])\n",
    "plt.title('Grafik frekuensi penyakit jantung berdasarkan kelamin')\n",
    "plt.xlabel('Kelamin (0 = perempuan, 1 = laki-laki)')\n",
    "plt.xticks(rotation=0)\n",
    "plt.legend([\"Tidak Memiliki Penyakit Jantung\", \"Memiliki Penyakit Jantung\"])\n",
    "plt.ylabel('Frekuensi')\n",
    "plt.show()"
   ]
  },
  {
   "cell_type": "code",
   "execution_count": 10,
   "id": "4ad72bb2",
   "metadata": {
    "execution": {
     "iopub.execute_input": "2022-02-15T03:34:20.430603Z",
     "iopub.status.busy": "2022-02-15T03:34:20.430070Z",
     "iopub.status.idle": "2022-02-15T03:34:20.749837Z",
     "shell.execute_reply": "2022-02-15T03:34:20.750298Z",
     "shell.execute_reply.started": "2022-02-15T03:33:14.055266Z"
    },
    "papermill": {
     "duration": 0.357864,
     "end_time": "2022-02-15T03:34:20.750457",
     "exception": false,
     "start_time": "2022-02-15T03:34:20.392593",
     "status": "completed"
    },
    "tags": []
   },
   "outputs": [
    {
     "data": {
      "image/png": "iVBORw0KGgoAAAANSUhEUgAAAYUAAAEGCAYAAACKB4k+AAAAOXRFWHRTb2Z0d2FyZQBNYXRwbG90bGliIHZlcnNpb24zLjUuMSwgaHR0cHM6Ly9tYXRwbG90bGliLm9yZy/YYfK9AAAACXBIWXMAAAsTAAALEwEAmpwYAABG6ElEQVR4nO2deXxV5bX3vyshSAJIEK1XghD0ehGQSdCiUXFqccSjtFZLKw4ttYq29jYWXm1Fe3nRG1urWNvi64CVi1rBSB2uU0Wr1gEERFFuHQAJXkU0qEA0hPX+sU9Chv3snH3YZ17fz+d8cs5z9vDsvU/22s961votUVUMwzAMA6Ao0x0wDMMwsgczCoZhGEYLZhQMwzCMFswoGIZhGC2YUTAMwzBa6JLpDuwKe+65p1ZWVma6G4ZhGDnF0qVLP1bVvfy+y2mjUFlZyZIlSzLdDcMwjJxCRNa6vjP3kWEYhtGCGQXDMAyjBTMKhmEYRgtmFAzDMIwWzCgYhmEYLRSeUZg3DyoroajI+ztvXqZ7ZBiGkTXkdEhqaObNgylTYOtW7/Patd5ngEmTMtcvwzCMLKGwRgpXXLHTIDSzdavXbhiGYaTOKIjIviLytIisEpE3ROQn8fY9ROQJEfln/G/veLuIyE0i8raIvCYiB0feqXXrwrUbhmEUGKkcKWwH/l1VhwBjgYtFZAgwDXhKVQ8Anop/BjgROCD+mgL8IfIe9e8frt0wDKPASJlRUNUPVPXV+PvPgTeBCuA0YG58sblALP7+NOAu9XgRKBeRfSLt1MyZUFbWtq2szGs3DMMw0jOnICKVwCjgJWBvVf0g/tX/AnvH31cA77dabX28rf22pojIEhFZsnHjxnAdmTQJ5syBAQNAxPs7Z45NMhuGYcRJefSRiPQAFgA/VdXPRKTlO1VVEQlVJFpV5wBzAMaMGRO+wPSkSWYEDMMwHKR0pCAiJXgGYZ6qLow3f9jsFor//SjeXgfs22r1fvE2wzAMI02kMvpIgNuAN1X1t62+WgRMjr+fDDzYqv2ceBTSWGBzKzeTYRiGkQZS6T6qAr4PrBSR5fG2/wNcC9wnIhcAa4Ez4989ApwEvA1sBc5LYd8MwzAMH1JmFFT1OUAcXx/ns7wCF6eqP4aRaWqX1VHz2Go21G+jb3kp1eMHERvVIZbCMDJKYWU0G9FiOlIJU7usjukLV1JXvw0F6uq3MX3hSmqX2bSZkV2YUTCSo1lHau1aUN2pI2WGwZeax1azrbGpTdu2xiZqHludoR4Zhj9mFIzkMB2pUGyo3xaq3TAyhRmFdJMvLhfTkQpF3/LSUO2GkSnMKKSTfHK5mI5UKKrHD6K0pLhNW2lJMdXjB2WoR4bhjxmFdJJPLhfTkQpFbFQFs84YRkV5KQJUlJcy64xhFn1kZB2FVWQn0+STy6VZKuSKK7z+9+/vGYRCkRCZNy/0scdGVZgRMLIeMwrppH9/z2Xk156LFKqOlFXwM/IYcx+lE3O55Af55AY0jHaYUUgnJt2dH9FX+eQGNIx2mPso3RSqywXyx+2Sb25Aw2iFjRRymVx76s4Xt4u5AY08xoxCrpKLOQ/pcrtEaSz9tmVuQCOPEU+cNDcZM2aMLlmyJNPdyAyVlf4ujAEDYM2adPcmMdLR5/YuKvCe4pO5aUe5LcPIIkRkqaqO8fvORgq5Si5Odga5XaJ6uo/SRZUv7i7DCIEZhVwlF2UmXG4XiM4VFqWxDNpWrs3nGEaCmPsoV8kn10aUbqV0bKtPH9i2LT/OvVGQmPsoH8mnyc4on+6jjAxybQvMrWTkLWYUsoVk3BGTJnlPvzt2eH/jBqF2WR1V1/6NgdMepurav7Wt7pXMflLtKonSFRalsXRt65NP/JfP5vkcMJeXkRiqmrOv0aNHa15w992qZWWqnkfde5WVee0heeDV9XrglY/qgF881PI68MpH9YFX1ye3nwj7ltF9RMmAAW372vwaMCDTPXOTa+fYSCnAEnXcV22kkA1EGOUSWPYxYD/O0UUyfQv7RJprrrBcTF6zSCojQVJmFETkdhH5SEReb9U2UkReFJHlIrJERA6Nt4uI3CQib4vIayJycKr6lZVE6FMPLPvo2F5t94HuovJh+9ZZUp3LYDhcYUmRajdJrhkxyM0QZiMjpHKkcCdwQru2/wSuVtWRwK/inwFOBA6Iv6YAf0hhv7KPCH3qgWUfHdurOfY89+gibN+CnkjTkYWdrkzvKI1YOsjFEGYjI6TMKKjqs0D7GTkFdo+/7wVsiL8/Dbgr7u56ESgXkX1S1besI0J3RGDZx5kzoaSk7QolJWzovofvtjbUb/PW6dq17Rddu7r7FvREGrULw29EYG4Sf9Ll8rLJ7Jwn3XMKPwVqROR94Hpgery9Ani/1XLr420dEJEpcdfTko0bN6ayr+kjQndEp2UfRdquIELfkh2+22oZdbTPZWn+fNFF0KWLt80uXbzPQU+kfjH/4G4PwjUicG0rm/WV0rGfdLi8clGPy+iIawY6ihdQCbze6vNNwMT4+zOBJ+PvHwKOaLXcU8CYzrafN9FH6cIRNfPAISfrgT+7v23E0s/u1wdm3+uOtOne3b/9uOPcUS7Fxf7rFBdHdizOfUQZGZSuSJ5cixjKxaisAoWA6KOUZjSLSCXwkKoeFP+8GShXVRURATar6u4i8idgsarOjy+3GjhaVT8I2n5BZzQnQ1FRx6f+OLWDx1EzbjIbdt+Tvp99TPUzc4ltXeM9YYf5jRQXw9y5/vWLRfz38+Yz4fbRybFQVpbabON0iRHmmuih65qIeHMvRtYQlNGc7iI7G4BxwGLgWOCf8fZFwFQRuQf4Op6xCDQIRhIEuHBibz7j3ZxbIxLs9vGjqclZSKj2yIlMP+RstpV0A6Cu19eYfuIlsOeexBLfg4erXwMGeEbIzyhFRboieXItYsiKD+UFnc4piMhAEfmtiCwUkUXNrwTWmw/8AxgkIutF5ALgh8BvRGQF8H/xIo0AHgHeBd4GbgUuSvJ4jCBck419+vgv33xD9VunyPHTKS72bwdqxp3TYhCa2VbSjZpx53TW844ETZymOjIoXZE8uRYxlIv5G0YHEplorgXWALOB37R6BaKqZ6vqPqpaoqr9VPU2VX1OVUer6ghV/bqqLo0vq6p6sarur6rDVNV8QqnANdl4443BN1i/dX70I/99NJfX9GFDo7/B2NBYHG3CW6ongdN188u1m2wu5m8YHXFNNjS/gJc6WyZTr5ycaL77bm/iTcT72zxp6GrPdL+C+PGPd07sFhd7nwM4/MoH20xmN78Or74vugnVdE4Cp+N6OfbzwOx79fCpc7Xy8kV6+NS5XlBAjvLAq+v18FlPaeUvHtLDZz3lSbIYKYVdmWgWke/iJZU9DnzZypi8mkJblRA5N9HskruePNmbnM1zKebao77VZk4BoLSxgVmP/Z7YG093XCHT0tlZSu3N9zH9veKO53FgE7GpZ2awZ+GpXVbH9IUr2yRPlpYUtw2jNiJnV6Wzh+HNBVzLTtfR9dF1r4BwJVbNmRNtwpVf/kAqCOmmiT23kFmPzqZi80eI7qBi80fMenS2v0GA6AvjJEGg4qyLFLuvalY3+M/NrG5Irr8ZJFCry8gIiUQffRvYT1W/SnVn8h7Xjampyb89mRvZRRfBH1qphDQ17fx8yy3ht+ei/ainOVEJ3KObPfbwj3IqKvIPWUxmQjXCCJj2T7HNmlCA+yk2mfMSkg1lvX3b68r2CN/fDBOo1WVkhERGCq8D5SnuR2HgujG5InaSuSk2l7dMtD0R/EYeUcpJlJZGV7s5wsnZwKdYV7/SILPR97OPfduLdUfmn7pDXq9Ara6I9mGEIxGjUA68JSKPhQlJNXxw3bCmTIkuysQ16nC1d0bzyKN5/eaRR5CchOuf1lWcptmFFkXt5gijktxPsVvd/UpDbkH1M3MpbWxo01ba2EBTewmT1v0NIqqbbBIyF4FaXRHtwwhHIhPN4/zaVfUZv/Z0knMTzbBTtK19YpWrPSxduvgbgOJi2L49uu25CKpffMUV4SaBo5w0TqKmddW1f6POxzBUbNnE8zdP9u8XpH6iu7KS2rLKDpnhM46fQn1Zrw6Llzd8zvLfneW/rShrfSd5vWqX1VHz2Go21G+jb3kp1eMHud1dBRBIkA6CJppTKnORanLSKESJnyF5/vm2cwrN/PjHyc0pOJ4+AX85idJS2LSp47LNmcbnnQeNjTvbS0rgjju89+2P5fvfj042IYmbiTMyZuF1xFYt9u/Xn//svslCNIbfcSMfdcGtfOpjFHpv3cyym77rvy2HgYltXRP+JpsOmQuT0oiEXYo+EpHPReSz+KtBRJpE5LPou2mEwjWMrqryDEDzPEVxcfIGoXl9V3sy9Yvb/+Pu2OEZMr9j2cNf0jupuZYk3DpOxdkt77n75XJfQXJuDz/XjmMf9aW7+27C1Q7xAksnXkJdr6+hUtQiPVLbfWD4SKb+/akdPI6qC29n4OWLqLrwdmoHj4s2AzvXsrxzkFAjhbiI3WnAWFWdlrJeJUhBjxTSNYxuH83UjMvQBPXriy/8RxEi/k9/Qa6oNLk2fDn+eHjqqY7txx0HTz4Z3f5DunaqfrmIOp+s8YqSJp7/9QTfXVRdchd13TvKnPRu+IKGnr1C5Q+kJX8iSndXAbOreQotxJPhaoHxUXTM2AXSJZZ2yy0wZEjbtiFD3COPoOgfP4MAbrXTTz5JSjbB9wk3SsmIxYv9n4gXL3avk8z16qyKXbsRRPUZoymVtueyVJTqM0Y7d+EqsPRpt+6hI5lqvtjTP3/iiz2d64TGpDRSTiLuozNavb4lItcCDZ2tZ6SYdA2jL7oIVq1q27ZqlTshLsp/2mZ3TAhxu+Z5gA71poccHVm/av/tCH+Xy78dEXwsYdrBbTBaFxRq5YqKrVrMrDNHtXV3nTkqMEehb3mZ4xtXJJM7fyBtOQe5Vgo1x0gk+uiOVh+344nj3aqqH6WwXwlR0O6jdA2jo4xm2nNP/9FCjx7eP3gEx+KMGCov5flpx4brr2sfP76Dul5f67iPzR/x/B/O818prBsO3C6n4mL/a5KEK8w1mb5blyLqtzV2WD7oPKbj3BvRsEvuI1U9r9Xrh6o6MxsMQsGTrmF0lHkPN97oX+/5j3+M7Fgif1r1cdNs2H0v/3042gF45BF3uytPwOXyijAD3jWZPmPC0HD5AySRc2BkJZ3KXIjIQOASvNKaLcurqv/MlZE+HMVsIsX1VBpQN8GZc9HcV1dYZgTH0qu0xPcJt1dpSfiNOSQr+v5svu+Ebt/eLlcMnbuCgmQx2p8vV75H//7U3nwfNasb2FDWm75bP6V6ULdOJ3ljoyqcLqaE8wfYKaURZp0gQuUvGJGRiPtoBXAbsBJoiSe05LUCIazbI8PRIaOueZxPt3Y0Cr3LSlj2q2+G25jDfVN75ESmj/tBOGVPl+vMpfuURFRS7QXTmV4y2NRTjU7Z1eijBlW9SVWfVtVnml8R99HIVm65JVzeQxq0f4Ko9zEIQe2BOJ7uY88t9M9fSOZm5Uq4CnIFTZpE7XV3UDV1rhf9NHUutdfdQY32d6qnAjmlGWTqqZkjEZXUG0XkKrKwnoKRJqqqPN/3unXQr5/32UWG6wr3LS/1nezsW14aKCXi63YJUFwNcrn44krqc9EcleTT59ohRzO9roxt3bsDUNe9D9PrlG1l/iJyG8p6R6/eGpUsi4OguSFzK6WWRNxHs4DvA++w032kqprxcAJzH6WBsO6gDGvTON0Oe39G7Bfn+R5H7acl/klXjW8Su21WNK4wl/uoe3cvrNQli+Fz7qsuvpO6oo7zF8U7mmgq8kle27KJ5//6q4zqSIXFFcnUu6yEhsYd5lbaRXbVfdRcT2Gcqh4Tf2XcIBhpImQCFTNnenpGrSkpSVtdYac0xfWXO4/DWbRG+6e+DnS3bu59OM79Bunmu6kmKfJVT60e1A3WrePK43/E/tUPUnn5X9m/+kGuPP5HyY3g0uAidEUyqZI+t1KWuttSXUgpEfdRcz0FC0MtRMJGzUye7K9vlEZ8XTsuqe+1a51FazaU9YZJp3Z8+p03j9qaudSceNVOEbmaucTA/aTsch8FuZUcfe772cf+eRKfbaT6ubupOeJ7O/v13N3Epp3PlbF/5+4DxrUIHDZJMXcffAr07Ml/OHbvdNOkwUXoimS67N7lvstHniCXhmJJyZBU4aeQJOI+WgwMB16h7ZxCYEiqiNwOnAJ8pKoHtWq/BLgYaAIeVtXL4+3TgQvi7Zeq6mOddd7cR2kgbAKVK5qmTx/42L84TFoISMKr+uGtoZLRnLWmX5lP7Nn7/ffvOo9B+k6TJ/v2uXbwOKafeEmoWtf7f2c2TdLRMVCsO3jnulM77iMo+uf0qoy5CNOWIJelEt1RHf+uuo+uAk4H/i87azT/JoH17gROaNeRY/AE9Uao6lDitZ5FZAhwFjA0vs4tIhIQCG+kjbAJVK5RgUv3qDOiGsIHJOG5itZUPzPXd5WaoSf7u5uGnuzu88yZ/ol74HbFOPoce/MZZj31p7a1rp/6E7E3nvbXZFq3jiaHbEUTQu3N91F1yV0M/MVfqbrkLm/SPSj6Z+ZMakd8o+1+RnwjLS7C6vGD/PWdok6Qy3DAhIt0SIl06j5KNvxUVZ8Vkcp2zT8GrlXVL+PLNLukTgPuibe/JyJvA4cC/0hm30aEhE2gipIoh/ADBjif/GJb18Cjs/1rCvhQ58hcrtt9L3efJ0/uKAuyfbvbWK5bF9znw/+V2JwfeoajuBimTKF2993bjGCaNZnYc0+KdQdNPs9ZRareJHtcKbWuex+mv9fAtpKt+OkfbajfRu34o5l+Yi+2qbTaz6UwZJTnQkshsVWL4dG51Bx29s5r9Y/5xA6aDKMidOtEWOs7SgKj6yLC6T4SkedU9QgR+RxovZDgRR+5Rdp3bqMSeKjZfSQiy4EH8UYDDcDPVfUVEbkZeFFV744vdxvwqKo6xuIe5j7KIK4IFBHYsqXj8sm4j9JVeS1kYaL9pz3k++RdjPLOPVP9++ySB3e1Nxcl8uvz5Mkwd27CUUkVJU1UrlvN8/8yuG3RJFVKtn9FY8luHY/FFckUv/lkTOMoXW6dLJXojiqpLyn3kaoeEf/bU1V3b/XqmYhBcNAF2AMYC1QD98VrNCSMiEwRkSUismTjxo1JdsMIg2+0g0t76U9/8neT3Hhj+B1HOYQP0ooK0iXyIcgV4+yba+5O1S3p7erzI484opIceQqNxazpP6hjFT0RGrt09V2nScSpY5SMCyMoYiZUNE263DpZKtHtjK6LMBw3kYnm/YH1qvqliByNN+l8l6rWd7rxjiOF/wauU9Wn45/fwTMQPwBQ1Vnx9seAGaoa6D6ykULqSerJJKrEpnQ9FQY9l9x9d4djqXqrp7uYzZ8vDe9W89lH4PlylKSsuvB2/wnz8lI2xKXEO6Dqe/wVWzZRff5xvtFHYSc7g35DANPvW9biigJvjsAp+Z2lE8C5xq5ONC8AmkTkX4E5wL7AfyXZl1rgmHin/g3oCnwMLALOEpHd4gJ8BwAvJ7kPI0KSkhuISu8+ysI4QbjE/UR86xZUPzbHMTF9l7vPLsNTVBT+fDn82tVvPOx8uu9b4j9p3Z2mjgZGlWP6dSc2qoLnpx3Le9eezPPTjm25SVf3+Nj/+Hv4uweDfkM1C5e2MQgA21SoWbjUd1tp+00UMIkYhR2quh0vAmm2qlYD+3S2kojMx5soHiQi60XkAuB2YD8ReR24B5gcr+b2BnAfsAr4b+BiVU1Cmzl3SXVCSrKkrXCKH5Mmef7z1rpLkyfvvGmmOjKpfaYxwNatxF55mImvPUHxDu+GWryjiYmvPUHsuYVut4NrRJ5MDofjxhj70elMHF1BcdwAFYswcbSXs1H9zF2+N/KSL7f5upWeVv/cDYDY9Zcz69HZbaOfHp3tJQj6EPQb2vCV/y3I1Z6tbp18IpHktUYRORuYDDQHNHeqQ6yqZzu++p5j+ZlAQZr7dCSkJEs6oh2czJvnTag237SbmrzPzdpLqY5MclA7eBwLhn+jZSK2SYpZMPwbjPnyY2JA7ZCjqbnw9p1ulyGDiPXp4x9p1KdPeHebIyKsdsjRLFi4kqa4AWpSZcHSOsYM2MMzWB9/3CHC6rJT/913F4FGf906YrqW2JvtAhMdo6HA39Datb4ur76fBcwXpkMyvoBJZE5hCHAh8A9VnR9375ypqtelo4NB5MucQjZXrMqohHGQ/xhSH5lUWup7I6+66E7qenasO1xR0kT1GaP9z9djNxN75eGO+w7SPoqy6twfz/c9X6N+cg+fduvRoT1QajykX7/25vv8taUGNsF994VPBDR2maA5hURGCqWqemnzB1V9T0TeiKx3RmZdNJ0QdeGUUCQTaZJsZBJ0fFoHOP98+Oqrnct27cqGnn18N7OhsdjtPx890d8o+IXvNievhTQKgb8jR3irlpW1qpKyk8BnxZkzPZmP9rkC1ZP9pTGuvxzKKv3zQGbOhJo/+W7LyAyJGIVbReQcVX0dIO5K+inwUCo7Vkhk1EWTALFVi4n9sdUNc9+ZSScKhZI97iyBKMrkIj+XxLx5vpOwfUt2+Fdei0f5+BFYqtOPZuMWwrXUt6TJv18lTU7Dt3mlv+9+s0/1umZqh/gnry3pPoAFfm7Qskpibz7T0d0EMGkSMSCWQhluIxyJTDR/C7hLRA4UkR8CFwEhS1gZQWR1bdtm10q7CJxkJnWbXVF18fDI5puGc1I9KNIkHVEoV1wBje1ujo2N3qStK8rHYcj7dt3h398+/qMO+vcPfe5dk8nVz9zlffCJcnL2N+CBpOax1b4RQ/Nfet9/lDTO8dTfHEAQVbSaEQmdGgVVfRdPl2ghMBH4pqpuTnXHCol0JKS0EDZiJ0KZ5MDwVr9+BUUfOaqPRXpDSaLymlOb54zR/sdy441u4xby3MeeW+iOinKQzAOJazTU5PA5bdi94/yLt0InAYZZKl2d7wTJXKykrbzF14DNxJVSVXV4ynvXCfky0Zw2kknddyRKIRI6nHLgtId9E6gE5b3Z30lYzoE5czwXRqonwJNJlGqW1W7vIz/8X53HAvi7iEKe+6TUWwnp0sM9oV0s4msYKrZs4vmbfUYLzefRz0UGvvM53H57sOF3udtSXCku1wiaaA4yCgOCNqqqKVZD6xwzCiFJ5iYXYQapMzrGddNwyXMPGOBl76Y6YisZIxpWajzCc1/1y0XuTOtfByrdh8IVkTZxdAULltaFqnoH+J/joiL44ouOOw/S0HJdr4CHi0I1DMlqH61t/QK24Y0cml9GrpFMNE+Q7z7k8N7pqvjbHf4ruNwL69Z1WsM3kkTAZBKlXOcy4FicBEhU+x3jBh+DADjbk8Xl7vyP2DBm7f0ZFVs2eUltWzZ5BmHqmaGry/kaBIBNm9zX94orqB1wSNvzNeAQb18prhSXT3QafSQiE/DqJ/TFq742AHgTr/aBkUskIwccFK4ZMnksNqoCnn+emtUNbCjrTd+tn1I9qBuxLe/579v1dN2/vzNiq7ysJLOJgK5zHHAsLsJG+ZSXlfDp1o5RQ6mIYvOtbjdvHrFfTCHW/om8d6M74SxkCHHt4HHO60v3gUw/YWpH6XDwj3zKcG2EbCWR5LUVwLHAk6o6Kl4o53uqekE6OhiEuY9CEqUccJL+9lDD+yTmFHbrUkS9TzhlUm6lZM5XhC6MsL778tISvtyewaL2UbonHZLizsTB8lKoW09d947RXBWbP/KS98L0K8/ZVUG8RlXdBBSJSFFc4dR3Y0aWE6VuTDKuKJer4JFH/CNzbrnF2V+XC8MVX59UImAykVeucxxwLC7CRvls3taYvig2P5J1T/pJrV94IZS0U9MpKXEnDtZvY0P3Pfy/230vE9ELQSLJa/Ui0gN4FpgnIh8BPmmYRk4QlW5MMq4o181h7VpqX3ibmh/eujNi54X5xObN89cRiq/m58KoeWx1dImAQTe5oGiWiM6xy0VWjPrWdOhb0uTv1kkX/ftT68pcDsInQZCqKu/V7hz3fb8s8Pr6ftc7PiKz6KOESMR91B2vSpoAk4BewLz46CGjmPsog0QYmVM79Bimj7+4QyjlxPdeZMHQ40K5QyLVanK5Nvr0gW3bonErBazjjPJ54ykWDBybdXpBQRpHsaln+q8UVkeps9oMmdLpyjGSCknNBcwoZJiwsd+OG2PVOTf7KmUGlYQMmh8IG3cftr8uobxUhPb6Hsvofak98KiOT+RvPUvt0vcj06kKPI8+177q/X3ChwknkQcT1C/Xd5H9JvKEZPMUfGszN//dhZKckWFGIQfxuZkMfK0X6ie77KgKJsB7156c+r6Cv+H7/vfDJ/QF3PxC38hdI64jJzJ93A/cT8ohjHjtsjqq/7KCxh07+1xSJNR8ewSxVYt9E/QuO+FS1MetFXi90lBJLaNKv1lKskahFvgXPHmLe1Q16+K3zCjkB66kK5fvPOOS4hFG2XR6I/fDNeL62Xz/5LXyUp7f94NQ7quRVz/uG8VVXlrCjKfm+GZO79bUSH23nv77d12vKCPiHGSzNH2mSDZ5LQaMBzbiKaU+IyIXiYj/FL9hJIBf4lH1GaN99YLOHjuAkqK2RqGkSDIvFJiMGJ9jnZpx5wSWO/VN1HJEODmT1+q3BUZS+e3DzyAA1G9rpGboyW0MAsC2km7Ijh3u6+VKdExDJbVslqbPRgJDUlV1s6reAZwI/Am4Bjg3Df0ychhXxqlLJRVg1pmj2oZSnjmKMQP2oMNAofXndAimuYT6gm5kIdYJupEHqcrWDjk6nrn7Vy9zd8jRzjrMfUuaYN06agePa5vtO3gctd0HOq+JC5cM+Kelu/tfr+efD1Z7TbFKaqASrInudSBwollEDgfOBo4EngPuVdW/p6lvnWLuo+wjyH/rChd1DeMDh/0h3SFJEWXymmOdoGME/xBLV5JaUFQSEMrl48gdo3dZCWWNDeHcfZ0J4qUY528ySJMpz8NVk3Ificga4BagDpgC3A5sEZGDReTgVHTUyH2C5LHDDuMD2yOU9Hbi0tIJ2kfIfgVJV7uOv35bo+85fnrvIcx6dDYVmz/ytIc2f8SsR2cTe26h56bycfnU+5TiBM8glBS3cwUVC1edOtTp7vMzCAAbynr7tictMxHy6d4pTX/95aaJ5ENQ8toavGij8XhFdVpfccWTvjCMNgTdyMNWmAtcPpns2ZDUllUy/cRLOmrpPDq7JYEu4f27ajMElDu9+q9v+GoZudiw+17+Fc4GDPB9svfwv5GXl5YwY8LQwKio9t85Ewe3fuq/62Sq5LUfibXT3HKFnvom9aXhN5SLOI2Cqh6dxn4YeULQjbx6/CDfYbxr4jhw+T8mkVEdkppxk32frmvGTXYbhSQyvV1ZyC7PbnNseHvKu6jn/mjvDpk5k+LX/fWSXHy1PTg72vWd7/Ua1M3Zr9AETZi308PqVAwxmaz8AiAR7aOkEJHbReQjEXnd57t/FxEVkT3jn0VEbhKRt0XkNXNPpY7IZKUdBLlDwlaYC1w+DeU4XRXDnJXEINJ+uXScXLd27bqbsxpdGIMAsLVxR/BvxceF47xeQdLZjm05CXi6D6zs50c6SrrmIIloHyXLncDNwF2tG0VkXzx3VOureyJwQPz1deAP8b9GhLSfcEuFrHSQO6T5+zD7ci7vkvQOqLIVNqu179ZPfVU3ne6QzvoVEteoy0X9tkamf7g727p3B6Cuex+mf1gMy+ro7ZDVDsL5W1m12OnCicXFCjvg0oPqxB3UgYCn+9ChpxFeq3wipTIXIlIJPKSqB7Vqux/4NfAgMEZVPxaRPwGLVXV+fJnVwNGq+kHQ9i36KBwFkcTjiP6pve4O74YZRkcpGS2fCHFFzXQrKfK9wTvLYZaXsuXL7c7cAz+KBHb43Boqyks9GeqospDDJgIGRHclJbNRoOySdHZztFG71/4iEnqUISKnAXWquqLdVxXA+60+r4+3+W1jiogsEZElGzduDNuFgiark3iiihd3+JxrVjeEcy0AsalnMmtgU9tKYmkyCOB2n1116lBfF53LRbShfpvTFQX+UUZ+BqF5W5FO0HamRBsiRyTIdWkkTiI39luAg4HX8Oa4DgLeAHqJyI9V9fFEdiQiZcD/wXMdJY2qzgHmgDdS2JVtFRpho3/SRlgXQhCOm4wrLLIzgxibeqZ7UjkNBLnbEo7+Cch5qGi1buttzVj0hu/IoldpSbQTtK5t7bFH8G/C53fRmevSSIxEjMIG4AJVfQNARIbgZTZfjqeLlJBRAPYHBgIrxBM56we8KiKH4uVC7Ntq2X7xNiNCwkb/pI2g2P6wRsFxk3HOD2TaICZJqOif+PV1fee3ravvfxU/R4J89aXnd/dz4SQzQevaFiT1m8hoPYk8IZHoo39rNggAqroKOFBV3w2zI1VdqapfU9VKVa3EcxEdrKr/CywCzolHIY0FNnc2n2CEJ2z0T7KEjnCK0h3hiCipHtQt710LQdc37LWv3+6fv1C/XQJdOKGvvWtbn3ziv3yB5xCkg0SK7NwLfALcE2/6DrAn8H3gOVU9xLHefODo+LIfAlep6m2tvl/DzolmwYtUOgHYCpynqp3OINtEc/aRlExx1PLJEUUfFTJVP77Dt8ZFxeaPeP4P5/muk5YCRwVcVzlKdqnIjoiUAhcBR8SbnsebZ2gAylT1iwj7GgozCtlHUhFOaZBPNsJRe9S3fLWSgqq7RRrdZr+JlBJkFDqdU1DVbcBv4q/2ZMwgGNlJUhFOFi+eFsKMlGI/Oh1q/tShkE6s2kfYLk6k0W32m8gYnRoFEakCZgADWi+vqvulrltGrpJ0hFNExe7zjahcXqETFydNIgbEQtyUA6992NKt8T7YbyL9JDLRfBvwWzz30SGtXobRAYsVj46gegphCS0BAaHrHDivfY+Pg+spGFlFIiGpm1X10ZT3xMheQjzlJRsrXsiTwK5jD7qRhz03Qa6dqM59bFQFS9Z+wvyX3qdJlWIRJo6uIPbTC6kdcAg14ybvdEU9M9cbhQQYmkL+TWSSRIzC0yJSg5eT8GVzo6q+mrJeGdlDEollYWPF06HJlK0EHXsyPvram++jZnUDG8p603frp1QP6kZs6plO1055WUlk5752WR0Llta1ZFY3qbJgaR0ccCL3jhhPY5cSbx+9vkb1ST+FR290JgZG/ptIxn1VoCQSffS0T7OqasbFRCz6KA2kITSwIDSZHCRTec11XoK0mqiq8g0X3a1LkW/mcjLn3nUssmMHWtTRU9274QuW/e47obZlkUzRsEvaR6p6jM8rv/9TM0CqJa2TJg2FSLJakynFBB172PmZmtUN/vUfVjc4k9dcmkjJnHvXOlrknwj3abfuobeV1G8i2Sp9BVq/OZHoo1/5tavqNdF3pzDJavdJGgqRZK0mUxroVVri1BgKOz9T59B3am73c+t1ppcUBrfUt79RcLcH/yZCzzUk82ATpR5XjpFI9NGWVq8mvNoHlSnsU8GRVGRIukhDIZJCjlgSx32xuT02qoLnpx3Le9eezPPTjg28+RU7XMGudoj23Lu2VVbif5spLy0Jva1jDtwrfESW6wEm6MEmHTXAs5REktfaJK2JyPXAYynrUQGS1e6TNCQRZYO6ZaYiXeodhW9c7UE0+fjtg9oh2nPv2hZA9V9W0NhKj7ukSJgxYWjobSUVkZWMgF8B129OpvJaGZ6KqRERWe8+SUMSUSbVLTPpvovy2leUlzkmZ8t8lt5JlOc+jNR383Iug+y3rcvuXe677cgz5gu4fnMiRXZWxusmvyYibwCrgRtT37XCoZDdJ9lAJt136XDfZMPvyOUGC5ug5zKWCWXMh0jEK+T6zYmMFE5p9X478KGqbk9RfwqSbHCfFAKuJ9J0ue+CXFShr71P3H0sfqPLpd9RWHdQ2mqCFLD2UiJG4T9U9futG0Tkz+3bjF0jF4uD5FLGaZCLKCgCKKqkp85cVKHOW0BkTGzSJHfN6ZDXKx3XN6xBdmZNJ9mvXPoNp4tEoo/azAbFazOPTk13jFwhSl2edBD0ROqMAPrqy8g0eyJ1USURGRP2eqXr+oZ1B7myppPpV+AxNhveAtRrchoFEZkuIp8Dw0Xks/jrc7yCOQ+mrYdGVpLVYbQ+BD2ROiOAtktkYYmRuqjWraN28DiqLrydgZcvourC26kdPC4wMibs9UrX9Q2doBdhvwK3ZSGpHVHVWcAsEZmlqtPT2CcjB8jqMFofOovy8f3us43+G0siLDHKKKPaI86g+tBJNHbpCjRrCf0E9tzTqSUU9nql6/qGnVOJsl+B2yrgkNREZC6mi0iFiBwuIkc1v9LROSN7SToKJEMEPZE6v1u6wH9je+wR6f7DMuOIyS0GoZnGLl2ZcYS7AE7Y65XO6xsmQS/KfgVuK5mEtzwhkZDUa/FKcF4JVMdfP09xv4wsp3r8IEqlbaZsqWhWhD/6kVRR+3df9HfTRLz/sNTv8P+3rd9R5NTrCWuUIg9vjUhHKG0hvAUckpqISupqYLiqfhm4YAYwldQMMm8etTVz/cs15knYXu3QY5h+wtSOqqP/fTOxN/zEg9ND5bSHHd8oa2Z/x6kGmrHoo4hVSqOMGArcVpRy21km3R2kkpqIUXgU+LaqZl09ZjMKGSQNktqZpuqSu6jr3qdDe8WWTTw/+5wM9Mhj1DWP86nP5Hjvhi9YduNZHVfI9DUpgN9KIFko3R1kFBLJU9gKLBeRp2hbZOfSTnZ6O17i20eqelC8rQY4FfgKeAc4T1Xr499NBy7AE927VFVNXymbCZiIS9uTXIrZ0N1/7sDVni6uOnUo1fevoLGplZZQsXDVE3/0XyHTk6NJTtrmTQ5BUCRTFo6qE8lTWAT8GngBWNrq1Rl3Aie0a3sCOEhVhwP/A0wHEJEhwFl4OREnALeISDFG9uKYcKs94ozI4tsznQvR16EZ5GpPF7FRFdR8a0Sb+Ymab40gtuU9/xUyPTmaxKRtpq99pORYJFMi0Udz/V4JrPcs8Em7tsdbSWS8yE5hvdOAe1T1S1V9D3gbODTUkRjpxTERVzPunPTEkaeBnNMSytbJ0ST6lelrHyk5FsmUSPTRASJyv4isEpF3m18R7Pt84NH4+wrg/VbfrY+3+fVniogsEZElGzc64siN1DNpkucTHTDAE/8fMADmzGFDo/8AL/I4clJfrS7KiKG04LgmGXdRJNGvXMuDCSRbjbWDROYU7gCuAm4AjgHOIzG3kxMRuQJPXC90XJqqzgHmgDfRvCv9MHYRH0ntvo7aulFW8mquvpUOueuc06RKg8x5UoTsV9bLyYchx8T1Erm5l6rqU3iRSmtVdQZwcrI7FJFz8SagJ+nO0Kc6YN9Wi/WLtxk5RrriyPPJvZC19bkzSDa77pIirHR3BknEKHwpIkXAP0VkqoicDvRIZmcicgJwOTBBVVtPxy8CzhKR3URkIHAA8HIy+zAyS5Qul6Bt5aJ7we/mn1cTqhGSc667qIko2S8ZEslTOAR4EyjHi0LqBfynqr7YyXrzgaOBPfFE9K7CizbaDdgUX+xFVb0wvvwVePMM24Gfquqj7bfZHstTKFyqHG6qivJSnp92bAZ6FEx7dxd4T767dSnyle3O1uMw0kAa8hp2KXktmzGjULi4brJZ8TTpk71a9f4+vkbMhQDvXev20uZNDH/UZFnmcFKkIdkvqeQ1Efkr4LIYX+Iln/1eVd93LGPkELl2k8naanWOAjgbLrkX71afGEETqpmsKZ0KnL+9sDf4gOJDOWUYMpzX4BwpiEiQ8lcXvESzs1X1sFR0LBFspBANWf3UnWs4nvKqps71lczoXVZCQ+OOUOc+11xnQTh/e3t/RuwX54VzoeSLnEaGRwrOiWZVfSbg9ZSq3gS8EUkPjYyST5E8GcfxNFf9tzsoKW47UigpFq46dWjoCdVcnGR34fztrW4IX+QmxzKHnWQ4ryGRPAUnqvqDqDpiZI58uslknP79/Z/y+vTp6IyNfw6bC5FPMfzO315Zb/8Vgm7wrnPfiZxG1rkgM5zXsEtJaEZ+kGsFc7KaAPmPxh1trULjDk1qNHbMgXuFas9mnL+9rZ/6rxAkDRHyCTurw4EzmNeQiMzFQJ+2Q1LTHSMT5F2iUCaZNAkmT4bi+PksLobJkwPlP8Imrz39lr+8y9Nvbcy5RDjnb29Qt/AulJByGuY29SeRkcICEWkZT8UnoG9PXZeMdFPwiUJRMm8ezJ0LTfGbTVMTzJ1L35Im38V7lZaEflp1uVya183KJ18Hzt/e1DOT03EK8YRtblN/Ek1euwWvDsLBwCzglGwIRbXoIyPrcESO1B45kenjftAhyqZbSZFvwZygSCJX9FGxCE0+/8+5GJWUDvIpiissSUUfNaOqrwCXAo8DM4Djs8EgGEZW4pgIjT23kImjKygWLwKpWISJoyuo9zEIEPy06nK5+BmEzrZVyFSPH+QbEVbobtMwyWtlwGbgNhFBVSekunOGkXM4ImBqjziDe19+v+XG3aTKvS+/T3lZie9IIWiS35W4V/PY6ryJSgoi0oghR0RYIRMUknp92nphGPnCzJm+ujUzjpjsG33U0NhEaUlxB7dSZ0+rrjBWv0SwfHryjTKbu+ax1c6IsEKeT3MaBVV9Jp0dMYy8wBFjXr/S31O7rXEHv/vOyEiefLNW+iNCgiKGwh6nTTT702nymoiMBWYDg4GuQDGwRVV3T3HfDCM38SsoM+1h5+JRFvJJV1GgTCV9RXkjz6ckwChJJCT1ZuBs4J9AKfAD4Pep7JRh5Bu9y0pCtWczmUz6ijLR0vJz/Ekoo1lV3waKVbVJVe8ATkhttwwjv7jq1KFO7aMgwiajpSN5Lamkr4iKxkR5I7f8HH8S0T7aKiJdgeUi8p/AB5g8hmGEIhl/f9hJ1XRJaod24UQoaR31vEnO1eBOA4kkrw3Aq5zWFbgMr/La71X1ndR3LxhLXjPymbDJVelKxgq9n3yRtM4jdil5DYipaoOqfqaqV6vqz4BTou2iYRjtCftEnq5omtBJX/kiaV0gJGIUJvu0nRtxPwzDaEevUv9JaFd7WtVuwyR9uZRNgxRPjYzhNAoicnY8q3mgiCxq9VoMfJK2HhpGgSKO6p2u9nRF0wQlffmS4aIxRjiCJppfwJtU3hP4Tav2z4HXUtkpwzBw6iK52tOVvBbaTZXhojFGOIIymtcCa4HD4pPNB6jqkyJSipev8HnQhkXkdry5h49U9aB42x7AvUAlsAY4U1U/FREBbgROArYC56rqq7t4bIaR0ySTXJWOaJqkkr78EvqMrCSRIjs/BO4H/hRv6gfUJrDtO+mYzzANeEpVDwCein8GOBE4IP6aAvwhge0bRl6TrclV2dovIxoSmWi+GKgCPgNQ1X8CX+tsJVV9lo5zD6cBc+Pv5wKxVu13qceLQLmI7JNA3wwjb8nW5KrYqApfGfBM98uIhkSS175U1a8k/gMQkS4kLzC7t6p+EH//v8De8fcVQOsaDevjbR/QDhGZgjeaoL9FLxh5TjYmV9Uuq2PB0ro2MuALltYxZsAeWddXIzyJjBSeEZH/A5SKyDeAvwB/3dUdq5c1F9q4qOocVR2jqmP22iv3CpUbRq5jtY3zm0SMwjRgI7AS+BHwCHBlkvv7sNktFP/7Uby9Dti31XL94m2GYWQZJjmd3yRSjnMH3sTyRar6LVW9VTvTxnCziJ3JcJOBB1u1nyMeY4HNrdxMhmGkkpBidWGT6iA9Qn1GNASV4xTgKmAqceMhIk3AbFW9prMNi8h84GhgTxFZH9/WtcB9InIBXrjrmfHFH8ELR30bLyT1vCSPxzCMMCQhVhc2qS5dQn1GNARNNF+GF3V0iKq+ByAi+wF/EJHLVPWGoA2r6tmOr47zWVbxopwMI+fJVAGapLjiiralQ8H7fMUVTqMQNqkuymppRuoJch99Hzi72SAAqOq7wPeAc1LdMcPIRTJZgCYpkhCrC6uxZHMQuUWQUShR1Y/bN6rqRiD3ykUZRhrIucicJMTqwiavpVWoz9hlgozCV0l+ZxgFS849FSchVhc2qc4yoHOLoDmFESLymU+7AN1S1B/DyGlyrhh8kmJ1YZLq0iXUZ0RDp5XXshmrvGZkG+0jbcB7Ks4GeQrDaCao8loiMheGYSSIPRUbuY4ZBcOImGzUK4IcC5U1MoYZBcMoACyBzEiURLSPDMPIcXIuVNbIGDZSMIwcJKwrKOdCZY2MkXdGobGxkfXr19PQ0JDprhhGStj61XZ6NjQy46hyoByAooYPWbriE8q6ev/S3bp1o1+/fpSUeHmmORcqa2SMvDMK69evp2fPnlRWViIuhS7DyGHe+uAzSpp2dGjvWlzEgfvsjqqyadMm1q9fz8CBAwEvgcwvVNYSyIz25N2cQkNDA3369DGDYOQtX/kYhNbtIkKfPn3ajJaztbSnkX3k3UgBMINg5DVdi4t8DUPX4p3PeH7/A9kaKmtkF3k3UjCMfGfvXt0oanfTLxJh716mPmPsOmYUUoCI8L3vfa/l8/bt29lrr7045ZRTItn+r371K5588kkAjj76aJqlPk466STq6+tZs2YNBx10UIf1lixZwqWXXtqhffHixfTq1YuRI0cyePBgrr766kj62RmLFy/2PSeLFi3i2muvBaC2tpZVq1b5rj9jxgyuv/76pPa9Zs0a/uu//iupdTNN77KuVPQubRkZdC0uoqJ3Kb3Luma4Z0Y+YEYhZCnCROjevTuvv/4627Z50R5PPPEEFRXRDduvueYajj/++A7tjzzyCOXl5c71xowZw0033eT73ZFHHsny5ctZsmQJd999N6+++mpU3Q3NhAkTmDZtGhBsFHaFXDYK4BmGA/fZneH9yjlwn93NIBiRUdhGobkU4dq1oLqzFGEEhuGkk07i4YcfBmD+/PmcffbOQnRbtmzh/PPP59BDD2XUqFE8+KBXqvrOO+8kFovxjW98g8rKSm6++WZ++9vfMmrUKMaOHcsnn3wCwLnnnsv999/fYZ+VlZV8/HHbEhjvvvsuo0aN4pVXXnE+mbeme/fujB49mrfffpt33nmHE044gdGjR3PkkUfy1ltvtez/0ksv5fDDD2e//fZr6cs555xDbW1ty7YmTZrEgw8+yJo1azjyyCM5+OCDOfjgg3nhhRc67PeVV15h1KhRvPPOO9x5551MnTqVF154gUWLFlFdXc3IkSN55513nP2+9dZbOeSQQxgxYgQTJ05ka7yamKuv06ZN4+9//zsjR47khhtuaNlnM6eccgqLFy8GoEePHlxxxRWMGDGCsWPH8uGHHwLwzjvvMHbsWIYNG8aVV15Jjx49As+tYeQChW0UgkoR7iJnnXUW99xzDw0NDbz22mt8/etfb/lu5syZHHvssbz88ss8/fTTVFdXs2XLFgBef/11Fi5cyCuvvMIVV1xBWVkZy5Yt47DDDuOuu+4K1YfVq1czceJE7rzzTg455JCE1tm0aRMvvvgiQ4cOZcqUKcyePZulS5dy/fXXc9FFF7Us98EHH/Dcc8/x0EMPtTzVX3DBBdx5550AbN68mRdeeIGTTz6Zr33tazzxxBO8+uqr3HvvvR1cWC+88AIXXnghDz74IPvvv39L++GHH86ECROoqalh+fLlbb5rzxlnnMErr7zCihUrGDx4MLfddltgX6+99tqW0dFll10WeE62bNnC2LFjWbFiBUcddRS33norAD/5yU/4yU9+wsqVK+nXr18CZ9cwsp+8jD5KmCRKESbK8OHDWbNmDfPnz+ekk05q893jjz/OokWLWvzhDQ0NrIvv85hjjqFnz5707NmTXr16ceqppwIwbNgwXnvttYT3v3HjRk477TQWLlzIkCFDOl3+73//O6NGjaKoqIhp06YxYMAAXnjhBb797W+3LPPll1+2vI/FYhQVFTFkyJCWJ+dx48Zx0UUXsXHjRhYsWMDEiRPp0qULW7ZsYerUqSxfvpzi4mL+53/+p2U7b775JlOmTOHxxx+nb9++CR9fe15//XWuvPJK6uvr+eKLLxg/fnxgX8PQtWvXlhHW6NGjeeKJJwD4xz/+0TIy+u53v8vPf/7zpPtvGNlCYRuF/v09l5FfewRMmDCBn//85yxevJhNmza1tKsqCxYsYNCgtolDL730ErvttlvL56KiopbPRUVFbN++PeF99+rVi/79+/Pcc88lZBSOPPJIHnrooZbPn332GeXl5Sxfvtx3+db9bF2T45xzzuHuu+/mnnvu4Y477gDghhtuYO+992bFihXs2LGDbt12Rsnss88+NDQ0sGzZsl0yCueeey61tbWMGDGCO++8s8X1E9TX1nTp0oUdO3aGebaO8S8pKWkJ8SwuLg51HQwj18iI+0hELhORN0TkdRGZLyLdRGSgiLwkIm+LyL0ikvqZsyRKEYbh/PPP56qrrmLYsGFt2sePH8/s2bNbblDLli2LZH+t6dq1Kw888AB33XVXUhOqu+++OwMHDuQvf/kL4N1MV6xY0el65557Lr/73e8AWozR5s2b2WeffSgqKuLPf/4zTU07s2rLy8t5+OGHmT59epsbeTM9e/bk888/73S/n3/+Ofvssw+NjY3MS2BOqP12KysrWb58OTt27OD999/n5Zdf7nQbY8eOZcGCBQDcc889nS5vGLlA2o2CiFQAlwJjVPUgoBg4C7gOuEFV/xX4FLgg5Z2ZNAnmzIEBA0DE+ztnTqelCBOlX79+viGgv/zlL2lsbGT48OEMHTqUX/7yl5Hsrz3du3fnoYce4oYbbmDRokWh1583bx633XYbI0aMYOjQoS0T4kHsvffeDB48mPPOO6+l7aKLLmLu3LmMGDGCt956i+7du3dY56GHHuLiiy/mpZdeavPdWWedRU1NTcskdGu2b9/eMgr49a9/zde//nWqqqo48MADO+3n8OHDKS4uZsSIEdxwww1UVVUxcOBAhgwZwqWXXsrBBx/c6TZ+97vf8dvf/pbhw4fz9ttv06tXr07XMYysR1XT+gIqgPeBPfDcVw8B44GPgS7xZQ4DHutsW6NHj9b2rFq1qkObkT62bNmi++23n9bX16d8X7FYTB9++OGU78fFli1bdMeOHaqqOn/+fJ0wYULG+uKH/S8YLoAl6rivpn2koKp1wPXAOuADYDOwFKhX1WZn7Xo849EBEZkiIktEZMnGjRvT0WUjQZ588kkGDx7MJZdckvKn5mHDhlFUVMQ3v/nNlO4niKVLlzJy5EiGDx/OLbfcwm9+85uM9cUwoiLtE80i0hs4DRgI1AN/AU5IdH1VnQPMARgzZoz/rKGREY4//njW+k3cp4CVK1emZT9BHHnkkQnNsxhGLpGJiebjgfdUdaOqNgILgSqgXESajVQ/oC4DfTMMwyhoMmEU1gFjRaRMvDi/44BVwNPAt+LLTAY6n9U0DMMwIiUTcwovAfcDrwIr432YA/wC+JmIvA30AW5zbsQwDMNICRlJXlPVq4Cr2jW/Cxyage4YhmEYcQpb+ygFbNq0iZEjRzJy5Ej+5V/+hYqKCkaOHEmPHj3aaAe1xk/Irj2JiK2ZZHdimGS3YbgpbJkLoHZZHTWPrWZD/Tb6lpdSPX7QLlWn6tOnT4s0xIwZM+jRo0faNHFaS3aXlpamRLLbj0ceeQSA+vp63+/HjBnDmDFjfL9rltfYsmULI0eO5NRTT00ocSwVTJgwgQkTJgCeUTjllFMSkggJQ7NR+O53vxvpdg0jKgp6pFC7rI7pC1dSV78NBerqtzF94Upql0Uf+NT66XTTpk1885vfZOjQofzgBz9oo8cTi8UYPXo0Q4cOZc6cOR228/HHH3PYYYe1yHK3xyS7TbLbMHaFgjYKNY+tZltjU5u2bY1N1Dy2OqX7vfrqqzniiCN44403OP3001sUUgFuv/12li5dypIlS7jpppvaCOl9+OGHnHzyyVxzzTWcfPLJvts2yW6T7DaMXaGg3Ucb6reFao+KZ599loULFwJw8skn07t375bvbrrpJh544AEA3n//ff75z3/Sp08fGhsbOe644/j973/PuHHjnNs2yW6T7DaMXaGgjULf8lLqfAxA3/LSDPTGczE9+eST/OMf/6CsrIyjjz66RcK5S5cujB49msceeyzQKIBJdptkd34T9Tyg0ZaCdh9Vjx9EaUlxm7bSkmKqxw9yrBENRx11VEsEyqOPPsqnn34KeK6P3r17U1ZWxltvvcWLL77Yso6IcPvtt/PWW29x3XXXBW7fJLtNsjtfSec8YKFS0EYhNqqCWWcMo6K8FAEqykuZdcawlD91XHXVVTz77LMMHTqUhQsX0j9e1OeEE05g+/btDB48mGnTpjF27Ng26xUXFzN//nz+9re/ccsttzi3b5LdHibZnX9kah6wkBDXsDYXGDNmjDbHyjfz5ptvMnjw4Az1yMgUW7duZdiwYbz66qspv0mefvrp/PCHP+wwZ5Mutm7dSmlpKSLCPffcw/z5830NZz7+Lwyc9jB+dywB3rvWP/jC6IiILFVV3zjxgh4pGPmBSXYXjmS3a74vU/OA+UhBTzQb+YFJdhcO1eMHMX3hyjYupHTMAxYSeWkUVLUlasMwCpFcdgsH0TzfZ9FHqSPvjEK3bt3YtGkTffr0McNgFCSqyqZNm9qE4OYTsVEVZgRSSN4ZhX79+rF+/XqsVKdRyHTr1s2ynY2kyDujUFJSwsCBAzPdDcMwjJzEoo8MwzCMFswoGIZhGC2YUTAMwzBayOmMZhHZCKQiQH1PILgUWv5SyMcOhX38duyFwwBV3cvvi5w2CqlCRJa4UsDznUI+dijs47djL8xjb4+5jwzDMIwWzCgYhmEYLZhR8KdjceTCoZCPHQr7+O3YDZtTMAzDMHZiIwXDMAyjBTMKhmEYRgsFbRREpJuIvCwiK0TkDRG5Ot4+UEReEpG3ReReEema6b6mChEpFpFlIvJQ/HMhHfsaEVkpIstFZEm8bQ8ReUJE/hn/2zvT/UwFIlIuIveLyFsi8qaIHFZAxz4ofs2bX5+JyE8L5fg7o6CNAvAlcKyqjgBGAieIyFjgOuAGVf1X4FPggsx1MeX8BHiz1edCOnaAY1R1ZKsY9WnAU6p6APBU/HM+ciPw36p6IDAC7zdQEMeuqqvj13wkMBrYCjxAgRx/ZxS0UVCPL+IfS+IvBY4F7o+3zwVi6e9d6hGRfsDJwP+LfxYK5NgDOA3vuCFPj19EegFHAbcBqOpXqlpPARy7D8cB76jqWgrz+DtQ0EYBWtwny4GPgCeAd4B6Vd0eX2Q9kK8VPX4HXA7siH/uQ+EcO3gPAI+LyFIRmRJv21tVP4i//19g78x0LaUMBDYCd8Rdh/9PRLpTGMfenrOA+fH3hXj8HSh4o6CqTfFhZD/gUODAzPYoPYjIKcBHqro0033JIEeo6sHAicDFInJU6y/Vi9fOx5jtLsDBwB9UdRSwhXaukjw+9hbi82UTgL+0/64Qjt9FwRuFZuLD56eBw4ByEWkuQNQPqMtUv1JIFTBBRNYA9+C5jW6kMI4dAFWti//9CM+nfCjwoYjsAxD/+1Hmepgy1gPrVfWl+Of78YxEIRx7a04EXlXVD+OfC+34fSlooyAie4lIefx9KfANvAm3p4FvxRebDDyYkQ6mEFWdrqr9VLUSbwj9N1WdRAEcO4CIdBeRns3vgW8CrwOL8I4b8vT4VfV/gfdFZFC86ThgFQVw7O04m52uIyi84/eloDOaRWQ43oRSMZ6BvE9VrxGR/fCenvcAlgHfU9UvM9fT1CIiRwM/V9VTCuXY48f5QPxjF+C/VHWmiPQB7gP648myn6mqn2SomylDREbiBRh0Bd4FziP+P0CeHzu0PAisA/ZT1c3xtoK49p1R0EbBMAzDaEtBu48MwzCMtphRMAzDMFowo2AYhmG0YEbBMAzDaMGMgmEYhtGCGQXDCImIVIrI6+3aZojIzx3LTxCRghRXM3KPLp0vYhjGrqCqi/ASowwj67GRgmFEiIhcKiKrROQ1Ebkn3nauiNwcf39qvF7FMhF5UkQKUnTNyF5spGAY0TINGKiqXzZLqLTjOWCsqqqI/ABPpfbf09lBwwjCjIJhhMclA6DAa8A8EakFan2W6QfcGxdc6wq8l4oOGkaymPvIMMKzCWhfqnEP4GO8okW/x1MdfaWV4mwzs4GbVXUY8COgW4r7ahihMKNgGCGJV+v7QESOBa+uM3ACnmtoX1V9GvgF0Avo0W71XuyUI5+MYWQZ5j4yjOQ4B/i9iPw2/vlqPNXNp+PlLgW4SVXrvSqnLcwA/iIinwJ/w6uCZhhZg6mkGoZhGC2Y+8gwDMNowYyCYRiG0YIZBcMwDKMFMwqGYRhGC2YUDMMwjBbMKBiGYRgtmFEwDMMwWvj/COB0RAOfcmUAAAAASUVORK5CYII=\n",
      "text/plain": [
       "<Figure size 432x288 with 1 Axes>"
      ]
     },
     "metadata": {
      "needs_background": "light"
     },
     "output_type": "display_data"
    }
   ],
   "source": [
    "plt.scatter(x=df.age[df.target==1], y=df.thalach[(df.target==1)], c=\"red\")\n",
    "plt.scatter(x=df.age[df.target==0], y=df.thalach[(df.target==0)])\n",
    "plt.legend([\"Memiliki Penyakit Jantung\", \"Tidak Memiliki Penyakit Jantung\"])\n",
    "plt.xlabel(\"Usia\")\n",
    "plt.ylabel(\"Detak Jantung Maksimum\")\n",
    "plt.show()"
   ]
  },
  {
   "cell_type": "markdown",
   "id": "cf359253",
   "metadata": {
    "papermill": {
     "duration": 0.03211,
     "end_time": "2022-02-15T03:34:20.815416",
     "exception": false,
     "start_time": "2022-02-15T03:34:20.783306",
     "status": "completed"
    },
    "tags": []
   },
   "source": [
    "#### thalach - Detak jantung maksimum yang dicapai"
   ]
  },
  {
   "cell_type": "code",
   "execution_count": 11,
   "id": "8ceb6184",
   "metadata": {
    "execution": {
     "iopub.execute_input": "2022-02-15T03:34:20.882787Z",
     "iopub.status.busy": "2022-02-15T03:34:20.882220Z",
     "iopub.status.idle": "2022-02-15T03:34:21.051127Z",
     "shell.execute_reply": "2022-02-15T03:34:21.051619Z",
     "shell.execute_reply.started": "2022-02-15T03:33:14.466327Z"
    },
    "papermill": {
     "duration": 0.203769,
     "end_time": "2022-02-15T03:34:21.051772",
     "exception": false,
     "start_time": "2022-02-15T03:34:20.848003",
     "status": "completed"
    },
    "tags": []
   },
   "outputs": [
    {
     "data": {
      "image/png": "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\n",
      "text/plain": [
       "<Figure size 1080x432 with 1 Axes>"
      ]
     },
     "metadata": {
      "needs_background": "light"
     },
     "output_type": "display_data"
    }
   ],
   "source": [
    "pd.crosstab(df.slope,df.target).plot(kind=\"bar\",figsize=(15,6),color=['#DAF7A6','#FF5733' ])\n",
    "plt.title('Grafik frekuensi penyakit jantung berdasarkan kemiringan pada puncak segmen ST')\n",
    "plt.xlabel('Kemiringan pada puncak segmen ST')\n",
    "plt.xticks(rotation = 0)\n",
    "plt.ylabel('Frekuensi')\n",
    "plt.show()"
   ]
  },
  {
   "cell_type": "code",
   "execution_count": 12,
   "id": "c5939122",
   "metadata": {
    "execution": {
     "iopub.execute_input": "2022-02-15T03:34:21.161291Z",
     "iopub.status.busy": "2022-02-15T03:34:21.130573Z",
     "iopub.status.idle": "2022-02-15T03:34:21.309421Z",
     "shell.execute_reply": "2022-02-15T03:34:21.308941Z",
     "shell.execute_reply.started": "2022-02-15T03:33:14.711622Z"
    },
    "papermill": {
     "duration": 0.224194,
     "end_time": "2022-02-15T03:34:21.309538",
     "exception": false,
     "start_time": "2022-02-15T03:34:21.085344",
     "status": "completed"
    },
    "tags": []
   },
   "outputs": [
    {
     "data": {
      "image/png": "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\n",
      "text/plain": [
       "<Figure size 1080x432 with 1 Axes>"
      ]
     },
     "metadata": {
      "needs_background": "light"
     },
     "output_type": "display_data"
    }
   ],
   "source": [
    "pd.crosstab(df.fbs,df.target).plot(kind=\"bar\",figsize=(15,6),color=['#FFC300','#581845' ])\n",
    "plt.title('Grafik frekuensi penyakit jantung berdasarkan FBS')\n",
    "plt.xlabel('FBS - (Fasting Blood Sugar > 120 mg/dl) (1 = true; 0 = false)')\n",
    "plt.xticks(rotation = 0)\n",
    "plt.legend([\"Tidak Memiliki Penyakit Jantung\", \"Memiliki Penyakit Jantung\"])\n",
    "plt.ylabel('Frekuensi memiliki penyakit jantung atau tidak')\n",
    "plt.show()"
   ]
  },
  {
   "cell_type": "markdown",
   "id": "6cb2acda",
   "metadata": {
    "papermill": {
     "duration": 0.034035,
     "end_time": "2022-02-15T03:34:21.378424",
     "exception": false,
     "start_time": "2022-02-15T03:34:21.344389",
     "status": "completed"
    },
    "tags": []
   },
   "source": [
    "#### fbs - (fasting blood sugar > 120 mg/dl) (1 = true; 0 = false)"
   ]
  },
  {
   "cell_type": "code",
   "execution_count": 13,
   "id": "4f1ef093",
   "metadata": {
    "execution": {
     "iopub.execute_input": "2022-02-15T03:34:21.451183Z",
     "iopub.status.busy": "2022-02-15T03:34:21.450406Z",
     "iopub.status.idle": "2022-02-15T03:34:21.635207Z",
     "shell.execute_reply": "2022-02-15T03:34:21.635681Z",
     "shell.execute_reply.started": "2022-02-15T03:33:14.966991Z"
    },
    "papermill": {
     "duration": 0.222528,
     "end_time": "2022-02-15T03:34:21.635868",
     "exception": false,
     "start_time": "2022-02-15T03:34:21.413340",
     "status": "completed"
    },
    "tags": []
   },
   "outputs": [
    {
     "data": {
      "image/png": "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\n",
      "text/plain": [
       "<Figure size 1080x432 with 1 Axes>"
      ]
     },
     "metadata": {
      "needs_background": "light"
     },
     "output_type": "display_data"
    }
   ],
   "source": [
    "pd.crosstab(df.cp,df.target).plot(kind=\"bar\",figsize=(15,6),color=['#11A5AA','#AA1190' ])\n",
    "plt.title('Grafik frekuensi penyakit jantung berdasarkan tipe sakit pada dada')\n",
    "plt.xlabel('Tipe sakit pada dada')\n",
    "plt.xticks(rotation = 0)\n",
    "plt.ylabel('Frekuensi memiliki penyakit jantung atau tidak')\n",
    "plt.show()"
   ]
  },
  {
   "cell_type": "markdown",
   "id": "97390f12",
   "metadata": {
    "papermill": {
     "duration": 0.035251,
     "end_time": "2022-02-15T03:34:21.707671",
     "exception": false,
     "start_time": "2022-02-15T03:34:21.672420",
     "status": "completed"
    },
    "tags": []
   },
   "source": [
    "#### cp - tipe sakit pada dada"
   ]
  },
  {
   "cell_type": "markdown",
   "id": "6b96eb8e",
   "metadata": {
    "papermill": {
     "duration": 0.034148,
     "end_time": "2022-02-15T03:34:21.777594",
     "exception": false,
     "start_time": "2022-02-15T03:34:21.743446",
     "status": "completed"
    },
    "tags": []
   },
   "source": [
    "# Preprocessing"
   ]
  },
  {
   "cell_type": "markdown",
   "id": "4d00127c",
   "metadata": {
    "papermill": {
     "duration": 0.03539,
     "end_time": "2022-02-15T03:34:21.848306",
     "exception": false,
     "start_time": "2022-02-15T03:34:21.812916",
     "status": "completed"
    },
    "tags": []
   },
   "source": [
    "## Scaling"
   ]
  },
  {
   "cell_type": "code",
   "execution_count": 14,
   "id": "debd8553",
   "metadata": {
    "execution": {
     "iopub.execute_input": "2022-02-15T03:34:21.931498Z",
     "iopub.status.busy": "2022-02-15T03:34:21.930891Z",
     "iopub.status.idle": "2022-02-15T03:34:21.932139Z",
     "shell.execute_reply": "2022-02-15T03:34:21.932537Z",
     "shell.execute_reply.started": "2022-02-15T03:33:15.220663Z"
    },
    "papermill": {
     "duration": 0.04869,
     "end_time": "2022-02-15T03:34:21.932685",
     "exception": false,
     "start_time": "2022-02-15T03:34:21.883995",
     "status": "completed"
    },
    "tags": []
   },
   "outputs": [],
   "source": [
    "scaler = MinMaxScaler()\n",
    "\n",
    "normalized_array = scaler.fit_transform(df[['sex','chol','fbs', 'restecg', 'exang', 'slope', 'ca', 'thal']])\n",
    "normalized_df = pd.DataFrame(normalized_array, columns=['sex','chol','fbs', 'restecg', 'exang', 'slope', 'ca', 'thal'])\n",
    "\n",
    "df[['sex','chol','fbs', 'restecg', 'exang', 'slope', 'ca', 'thal']] = normalized_df"
   ]
  },
  {
   "cell_type": "code",
   "execution_count": 15,
   "id": "fd724907",
   "metadata": {
    "execution": {
     "iopub.execute_input": "2022-02-15T03:34:22.006917Z",
     "iopub.status.busy": "2022-02-15T03:34:22.006155Z",
     "iopub.status.idle": "2022-02-15T03:34:22.022039Z",
     "shell.execute_reply": "2022-02-15T03:34:22.022427Z",
     "shell.execute_reply.started": "2022-02-15T03:33:15.236282Z"
    },
    "papermill": {
     "duration": 0.054253,
     "end_time": "2022-02-15T03:34:22.022580",
     "exception": false,
     "start_time": "2022-02-15T03:34:21.968327",
     "status": "completed"
    },
    "tags": []
   },
   "outputs": [
    {
     "data": {
      "text/html": [
       "<div>\n",
       "<style scoped>\n",
       "    .dataframe tbody tr th:only-of-type {\n",
       "        vertical-align: middle;\n",
       "    }\n",
       "\n",
       "    .dataframe tbody tr th {\n",
       "        vertical-align: top;\n",
       "    }\n",
       "\n",
       "    .dataframe thead th {\n",
       "        text-align: right;\n",
       "    }\n",
       "</style>\n",
       "<table border=\"1\" class=\"dataframe\">\n",
       "  <thead>\n",
       "    <tr style=\"text-align: right;\">\n",
       "      <th></th>\n",
       "      <th>age</th>\n",
       "      <th>sex</th>\n",
       "      <th>cp</th>\n",
       "      <th>trestbps</th>\n",
       "      <th>chol</th>\n",
       "      <th>fbs</th>\n",
       "      <th>restecg</th>\n",
       "      <th>thalach</th>\n",
       "      <th>exang</th>\n",
       "      <th>oldpeak</th>\n",
       "      <th>slope</th>\n",
       "      <th>ca</th>\n",
       "      <th>thal</th>\n",
       "      <th>target</th>\n",
       "    </tr>\n",
       "  </thead>\n",
       "  <tbody>\n",
       "    <tr>\n",
       "      <th>0</th>\n",
       "      <td>63</td>\n",
       "      <td>1.0</td>\n",
       "      <td>3</td>\n",
       "      <td>145</td>\n",
       "      <td>0.244292</td>\n",
       "      <td>1.0</td>\n",
       "      <td>0.0</td>\n",
       "      <td>150</td>\n",
       "      <td>0.0</td>\n",
       "      <td>2.3</td>\n",
       "      <td>0.0</td>\n",
       "      <td>0.0</td>\n",
       "      <td>0.333333</td>\n",
       "      <td>1</td>\n",
       "    </tr>\n",
       "    <tr>\n",
       "      <th>1</th>\n",
       "      <td>37</td>\n",
       "      <td>1.0</td>\n",
       "      <td>2</td>\n",
       "      <td>130</td>\n",
       "      <td>0.283105</td>\n",
       "      <td>0.0</td>\n",
       "      <td>0.5</td>\n",
       "      <td>187</td>\n",
       "      <td>0.0</td>\n",
       "      <td>3.5</td>\n",
       "      <td>0.0</td>\n",
       "      <td>0.0</td>\n",
       "      <td>0.666667</td>\n",
       "      <td>1</td>\n",
       "    </tr>\n",
       "    <tr>\n",
       "      <th>2</th>\n",
       "      <td>41</td>\n",
       "      <td>0.0</td>\n",
       "      <td>1</td>\n",
       "      <td>130</td>\n",
       "      <td>0.178082</td>\n",
       "      <td>0.0</td>\n",
       "      <td>0.0</td>\n",
       "      <td>172</td>\n",
       "      <td>0.0</td>\n",
       "      <td>1.4</td>\n",
       "      <td>1.0</td>\n",
       "      <td>0.0</td>\n",
       "      <td>0.666667</td>\n",
       "      <td>1</td>\n",
       "    </tr>\n",
       "    <tr>\n",
       "      <th>3</th>\n",
       "      <td>56</td>\n",
       "      <td>1.0</td>\n",
       "      <td>1</td>\n",
       "      <td>120</td>\n",
       "      <td>0.251142</td>\n",
       "      <td>0.0</td>\n",
       "      <td>0.5</td>\n",
       "      <td>178</td>\n",
       "      <td>0.0</td>\n",
       "      <td>0.8</td>\n",
       "      <td>1.0</td>\n",
       "      <td>0.0</td>\n",
       "      <td>0.666667</td>\n",
       "      <td>1</td>\n",
       "    </tr>\n",
       "    <tr>\n",
       "      <th>4</th>\n",
       "      <td>57</td>\n",
       "      <td>0.0</td>\n",
       "      <td>0</td>\n",
       "      <td>120</td>\n",
       "      <td>0.520548</td>\n",
       "      <td>0.0</td>\n",
       "      <td>0.5</td>\n",
       "      <td>163</td>\n",
       "      <td>1.0</td>\n",
       "      <td>0.6</td>\n",
       "      <td>1.0</td>\n",
       "      <td>0.0</td>\n",
       "      <td>0.666667</td>\n",
       "      <td>1</td>\n",
       "    </tr>\n",
       "  </tbody>\n",
       "</table>\n",
       "</div>"
      ],
      "text/plain": [
       "   age  sex  cp  trestbps      chol  fbs  restecg  thalach  exang  oldpeak  \\\n",
       "0   63  1.0   3       145  0.244292  1.0      0.0      150    0.0      2.3   \n",
       "1   37  1.0   2       130  0.283105  0.0      0.5      187    0.0      3.5   \n",
       "2   41  0.0   1       130  0.178082  0.0      0.0      172    0.0      1.4   \n",
       "3   56  1.0   1       120  0.251142  0.0      0.5      178    0.0      0.8   \n",
       "4   57  0.0   0       120  0.520548  0.0      0.5      163    1.0      0.6   \n",
       "\n",
       "   slope   ca      thal  target  \n",
       "0    0.0  0.0  0.333333       1  \n",
       "1    0.0  0.0  0.666667       1  \n",
       "2    1.0  0.0  0.666667       1  \n",
       "3    1.0  0.0  0.666667       1  \n",
       "4    1.0  0.0  0.666667       1  "
      ]
     },
     "execution_count": 15,
     "metadata": {},
     "output_type": "execute_result"
    }
   ],
   "source": [
    "df.head()"
   ]
  },
  {
   "cell_type": "markdown",
   "id": "c8ed0cf9",
   "metadata": {
    "papermill": {
     "duration": 0.035925,
     "end_time": "2022-02-15T03:34:22.094537",
     "exception": false,
     "start_time": "2022-02-15T03:34:22.058612",
     "status": "completed"
    },
    "tags": []
   },
   "source": [
    "## Heatmap"
   ]
  },
  {
   "cell_type": "code",
   "execution_count": 16,
   "id": "af971d40",
   "metadata": {
    "execution": {
     "iopub.execute_input": "2022-02-15T03:34:22.169766Z",
     "iopub.status.busy": "2022-02-15T03:34:22.169198Z",
     "iopub.status.idle": "2022-02-15T03:34:22.938234Z",
     "shell.execute_reply": "2022-02-15T03:34:22.938646Z",
     "shell.execute_reply.started": "2022-02-15T03:33:15.261756Z"
    },
    "papermill": {
     "duration": 0.807868,
     "end_time": "2022-02-15T03:34:22.938799",
     "exception": false,
     "start_time": "2022-02-15T03:34:22.130931",
     "status": "completed"
    },
    "tags": []
   },
   "outputs": [
    {
     "data": {
      "image/png": "iVBORw0KGgoAAAANSUhEUgAAAjQAAAJhCAYAAABWyCpHAAAAOXRFWHRTb2Z0d2FyZQBNYXRwbG90bGliIHZlcnNpb24zLjUuMSwgaHR0cHM6Ly9tYXRwbG90bGliLm9yZy/YYfK9AAAACXBIWXMAAAsTAAALEwEAmpwYAAEAAElEQVR4nOydd3gVxfeH37k3vfebQkKHAAkgIFIDBOlIV1Gwotjway+AoKCAKKBiB7uCovTeQklo0gkJNZRAILnpvd+7vz82JLkpcEML+Jv3efJAds/uZ3ZmdvfMmTMboSgKEolEIpFIJHczmtougEQikUgkEsmNIh0aiUQikUgkdz3SoZFIJBKJRHLXIx0aiUQikUgkdz3SoZFIJBKJRHLXIx0aiUQikUgkdz3SoZFIJBKJRHLTEEL8JIRIFEJEVbNfCCHmCiFihBCRQog2N0NXOjQSiUQikUhuJr8Afa+yvx/QuORnLPDtzRCVDo1EIpFIJJKbhqIo4UDqVUwGA78pKnsAFyGEz43qWtzoCa6FeKFDrX6K2NCnRW3Kg51NrcpndAupVX0Xa69a1Sf1Yq3KGzeF1Zr2uc8P1Jo2QMMV/6tVfeHZuFb1C7++KYPO6yb32QdrVd858VKt6ufP21Sr+rYfrhG3U++2vmu/+/c51MjKFeYpijKvBmfwA8o/nONKtsXfSLFuuUMjkUgkEonkv0OJ81ITB+a2IKecJBKJRCKR3E4uAf7lfq9Tsu2GkBEaiUQikUjucoTmts5w3SgrgXFCiL+A+4AMRVFuaLoJpEMjkUgkEonkJiKE+BPoDngIIeKA9wFLAEVRvgPWAv2BGCAXeOpm6EqHRiKRSCSSu5w7KUKjKMoj19ivAC/dbF2ZQyORSCQSieSuR0ZoJBKJRCK5y7mTIjS1hYzQSCQSiUQiueuRERqJRCKRSO5yZIRGRmgkEolEIpH8B5ARGolEIpFI7nKEkBEaGaGRSCQSiURy11OjCI0Qwk5RlNxbVRiJRCKRSCQ1R+bQmBmhEUJ0EkIcA06U/N5KCPHNLS2ZRCKRSCQSiZmYG6H5DOiD+vcXUBTliBAi5JaVSiKRSCQSidnICE0NppwURblYIenIcPOLU8aPj01kYHBnErPSCP5w1E07r6IoTF95lvCTadhYapj+UBNa+DlUsouOy2b8P6coKDIS0tSVCYMaIITgxOVsPlh2htxCA36u1nw6sikONhYUGYxMWhzDscvZGAwKg9t6MbaHf2XtJacIj07GxkrL9NHNaeHvVFn7Qibj/4hWtVt4MGF4k9KErz+2X2BheBwajaBbCw/eGtKYwmIjH/x1nKgLmWiEYMKIJrRv7HbVeti94zSfzVyL0agwaFgbHh9j6p8u/G0nK5ceRKvV4Opqx8SpQ/HxdQHgyzkb2BVxCqNRoX3Hhrz+Tv8aJ6RFhEczbdrfGI1GRjzYmbFj+5rs//nnzSz+ZwdarRY3NwemTX8cPz93AJ4ZM5cjR87Rpm0jvv/++r6eHbH7DNM+34jRoDBiUGvGPt7JZP++QxeY8flGTp5JZPbUofQNbQbA8VMJfPDpenJyCtBoNDz/ZGf639+8xvqKojB9bSzhp9OwtdQyfWhDmvvaV7L7fPMFVh5OJiO/mAPvtS/d/svOeBYfTMRCI3C1s+CjoQ3xc7GucTmu4PHaeOw6dUXJzyfxw4kUnDpera3PJ19i4VuHi6OH1kgj4t9zTPtiK0ajwoiBQYwdfZ/J/sLCYt6Zto7ok4m4ONkwZ8pA6vg4U1hk4P1PNxF1Uq/271d6cN89/mTnFjL6pb9Kj09IymJQ7+ZM+F+Pa5YlPKKs/z04our+98/isv43fVpZ/xvzjNr/2ra5/v6nKAofh18mIjYTGwsNH93vT3Mvu0p2c3fHs/JEGpkFBvY+H1y6fWbEJfbFZQOQX2wkNbeYXc8FVzq+KnbvOMWcmWsxGo0MGtaWJ8Z0M9m/8LedrFi6HwutBhdXe96bOhQfX1cAvpyznp0Rp1BK7/0BZt37EXsvMO2bHWrb92vG2EfamOwvLDTwzswwok8nqW3/Xi/qeKvPxpNnU5j82XZycgsRQrD4m+FYW1mwestpvl94ECHAy92eT8f3xNXZ1qw6sOz/HJom7aCogMKln6HEn6lgYI3Vw+MRbt6gGDGc2Evxpl8A0N7bD4v7BoLRiFKYR9GKL1GSLpqlK7m1mJsUfFEI0QlQhBCWQog3geqfeDeBX3avoe+Xr93084afTCM2OZ/1b7VlyrBGTF0WU6XdlGUxTB3WiPVvtSU2OZ+Ik2kATFoSw+v96rHytTbc38KdH7erf/F8Q2QyhcVGVr7WhsX/a82ifxO4lJpvqn0shdjEXNZP7sSUkc2YuuhE1dqLTjD1keasn9yJ2MRcIo6lAPDvqVTCIpNZ/m4HVk/syNM96wLwzy61DCsndOTHcW2Yuew0RqNSbR0YDEZmTV/NZ98+xp/Lx7Fx3VHOnUk0sWka6MMvfz7HgiUv0aNXC776bCMAkYcvEHn4An8sfomFS8dxPOoSB/efv1qVV6k/deqfzP9hHKvXvM+a1fuIiblsYtOsmT+Ll0xg5apJ9OnThlmfLi3dN+aZ3sz85Pr/lpnBYGTq7PXMnzOS1X8+x5pN0cScSzKx8fF2YsakBxjYK8hku42NJTMnD2L1wueY/9lIZny+kcws03Y2h/DT6cSm5LH+ldZMGVSfKavOVmnXo6kri54LqrS9mY8d/zwXxPKXWtKnhRuzN8bWuAxXsOvYFUv/AC482J/Ejz/A8+1J1drad7sfY17N0+gMBiNT54Qxf9YwVv/+JGs2nyTmXIqJzeI1UTg52rDxrzE88VBbZn8XDsA/qyIBWPXrE/z02QhmfrUNo1HBwc6K5T8/Xvrjq3OiV0hj88oy9U9+mD+ONavfZ/WaqvvfksUTWLVS7X+fzirrf8+M6c0nM2/sb+lFxGYRm17AmscCeT+0Dh9tu1SlXbf6Tvz5UOVreqerH4sfacriR5rySEsPejZ0NkvXYDDy6fRVfP7t4/y1/H9sXHeUsxXu/SaBPvz65wssWPIyob1a8NVnG4Cye3/B4nEsXPoyx6IucXD/ObM0p34ZwfzpA1n940jWbI0hJjbVxGbxuuM4OVqz8bdRPDG8JbPn7wGg2GDkrRmbmfJqCKt/HMlvswdjodVQbDAy/Zsd/DZ7ECvnP0zTBu78sTzKrDrQNG6HcPel4PNnKVzxJVYPVO2UFu9cSsHc5yn45n9oApqhadxWvZ7IbRR89RIF37xM8Y4lWPZ71izdW43QiNv2c6dirkPzPOofkvIDLgGtuQV/WKo8ETGHSc3JvOnn3RKdyuC2XgghaF3Xicw8A4mZhSY2iZmFZBcYaF3XCSEEg9t6ERat3oDnk/K4t746cujU2JVNUcmAumQur8hAsUEhv8iIpVZgb6M11T6axOD2Pqp2fWcy84pJzCgw1c4oIDu/mNb1nVXt9j6EHVVftn/tiOPZXnWxslSbzd3RCoAzCTnc18StdJuTrQVRF6qvu2NRcdQJcMOvjhuWlhb06htM+FZT56pt+wbY2KrnD2rpT6I+o+Q6obCgmKIiA0WFxRQXG3FzrxzhuhqRkecJqOuFv78nVlYW9B9wL2FhkSY2HTo0xbZEv1Xr+iQkpJXu69gxEHv7649GRB67TEAdN/z9XLGy1NL//uaEhZ8ysanj40LTRrpKN2/9AHfq+at1rfN0xM3VntT0mr/gt5xIY3BrT4QQtPJ3JCvfQFJWYSW7Vv6OeJa0c3nua+CMrZXav1r6O6LPqHysudiH9CBr3UoACqIj0Tg4onX3qGQnbG1xeeRxUn/+vsYakccTCPBzwd/XRa3znk0J22E6mAiLiGFI3xYA9OnehN0HLqAoCmfOp9ChTQAA7q52ODnYEHUiweTYcxdSSU3PpV0rv2uXJfI8dQPK+t+A/lfvf61b3dz+B7D1bAaDmrmq7e9tT1aBgaScokp2rbzt8bS3vOq51p1Kp18TV7N01XvfvcK9bzo2bVfp3lefJUJAgcm9bzDr3o88mUiArzP+vk5q23dvRNjO8yY2YbvOM6R3UwD6hDRk96FLKIrCzv0XadrAncCGan90dbZBq9WgKAqKArn5xSiKQnZuIV7ulSOcVaFt1gHD4S0AKHEnwdYeHCrUX1EBxnMlfcJQjBJ/BuFUck8U5JWaCUsbUKofPEpuL2Y5NIqiJCuKMkpRFJ2iKF6KooxWFCXl2kfeeegzC/B2LntBeDtbkZhZwanILEBXzkbnbIW+xKaRzo6wY6pzsyEymfh09UXSO9gdW0stIdP+peeMfTwdUgcXO9MHkT69AG9XmzJtF+sqHRqdS5mNzsUafbpqcz4xlwNn0nl41l4e+2I/R2NVJyPQz4GtR5MoNhiJS84j+mIWCenVRw2S9Fl46cpGdF46J5ISq3eAVi07QMcu6igxuFUAbe+tz8CenzKg56fc16kR9Rt4VntsVej1afh4lz1AvHUu6PVp1dovXryTkJDKUYrrRZ+UhY+XY5m+lxP6pKwanycy+hJFRQYC/Mx7mZQnMbPQpB/qnKzQZ16fU7L0QCJdG7tc17EAFp46ivVlDkJxkh4LT10lO/exL5P+568o+TWPSOmTsk3r3NMRfXK2iU1icpmNhYUGR3tr0jPyaNrIiy07z1BcbCTucgbRp/TEJ5q219qwk/QLbWrW9Iden4a3T1mb6bxvb/8DSMwpwtuh7Pmgc7AkMbuyQ3MtLmcWcimzkPvqmDeoSNRnoqvBvb+yint/QM+Z9O85kw6dGlO/gdc1NfXJOfh4lTkb3p726FNyTMuVko2Pp3oNFloNjvZWpGfmcz4uHSEEY95ZzbDn/+GHRYcAsLTQ8v4rIQx6dhEhD//Gmdg0RvQLNKsOhJM7SkZZRFbJSEY4uVd/gI09mqb3YTx7pHSTtv0ArF/7AYs+T1G0puYOvuTWYO4qp7lV/HwohBhcjf1YIcR+IcR+jiVWZXLXMu3Bxvy5O57hcw+RU2DA0kJ9gB69mI1WI9g+sT2b3m3Hz+GXuJhS8wf/1Sg2KmTkFvHXG/fy1uDGvPbTURRFYVgHX3Qu1jz46V5mLD1J6/rOaG7SR5bWrT7C8ejLjH6yCwAXL6Rw/lwSKze9warNb3Jg71kOHzh/U7SqYuWKf4mOusCYZ3rdMo3rITE5i7enrmT6ew+gqcUQ7MojSURdzuHpLr63VMeqcVMs/fzJ2R52S3WqYnj/ILw9HRjx7B9M/3Ir9wT5oq1Q52vDTjDg/mY3XXvFyn+Jir7AM2PurP53hXWn0+nVyLlSfdyUc68+zPHoS4x+sitQdu+v2vQWqze/zf69Zzl0C+99gGKDwoGoeGZN6MmCz4ewacc5dh+Mo6jYwF+roln23YOEL3qcJg3cmffnoZtfAI0GqwffpnjPSpS0MqffsHcNBZ89Q/HGn7Ho/vDN170O5JST+UnBNkAg8E/J78OBc0ArIUQPRVFeLW+sKMo8YB6AeKFDrcfjFuy6zOK9egCC6jiQUC48n5BRiJeTafjYy8naJISvzyhEV2LTwMuOH59RR2vnkvLYfkKN1qw+nESXpq5YajW4O1jRpp4jUXFZhJ/LYnFJjktQgBMJaWVOTkJ6AV7OFbSdrdGXi67o0wvQlSR7ervY0KuVOl3Wsp4zGo0gLbsIN0crxg9vWnrMI3P2Ua+KBMMreOocS6eQQB21eXpVTk7eu+cMv8zfzrc/PY2VldpVtocdJ6ilP3Z2apk6dmnM0SMXad22XrV6FdHpXIkvF8JP0Kej01WOcuzadZzvvlvH73+8jpXV1cPuNUHn6Wgywk9IzETn6XiVI0zJzing+TcW8epz3WkddO0pjiss/DeBfw6oDn6wn2k/1GcWonOqPLV0NXadyWDe9kv8+nQLrCxq9o1M5+EjcRo0AoD841FY6LxL91l46ihO0pvY2wS1xjqwBXWXbkBotWhd3fH7+mcuvWReLonO08G0zpOy0HmYRhW8PFQbby9HiouNZOUU4OJsixCC8eUSfUe+sLB02g/gREwixQaFoKaVo0pVlkXnSkJ8Wf/TJ1y9//3x+83pf39GJrMkWg1sB3nZkVAuIqPPLsLLoeYa60+lMbF7HbPtvXRO6M2692NK7v0xpff+trBjle79qCMXueca977Ow574xLKITEJSDroK00Ne7g7EJ2Xj7elAscFIVk4hLk42eHva0y7YpzTZt9t9ARw7nYSDnXqvBPiq0aZ+3Roy/6/qHRpt+wFYtFMTv42XTiGcy6LKwtkDJbPqCQfLQS+jpFzGsHtFlfsNR8OxfOAlivjsqnUguT2Y+xRsCfRQFOVLRVG+BO5HdXCGAr1vVeFuFqM6+bLs1XtY9uo99GzhzooDiSiKwuHYTBxttHhVeJF4OVnhYK3lcGwmiqKw4kAioS3UB2hKtvoSMhoVvttygYc7qC8CHxdr/o1JByC30MCRC1k08LJjVIg/y97twLJ3O9CzpRcr9sar2ucycLSxqNKhcbCx4PC5DFV7bzyhwerN17OlJ/+eVh/E5xJzKCo24upgSV6hgdwCddHZzhMpaDWCRj7Vh6CbtfDjYmwql+PSKCoqZtP6o3TtbhquPXk8nplTV/Lp3FEm8+Q6H2cO7j9PcbGB4iIDh/afp14Np5yCg+sSez6RuIvJFBYWs3bNPkJDW5rYHDt2gfcnL+Cbb1/A3b3yA/dGCG7mS+zFVOIup1NYZGDt5mOEdm1i1rGFRQbGvbOYwf1alq58MpdH7/Nm2YstWfZiS3oGurLicBKKonDkYhaONtoqc2Wq41h8DlNWnuWrUU1xv44XYcaSv7j4xAguPjGCnPAtOPYbBIB1i5YYc7IxpCSb2GcuW8T5QaHEDutD3HOPU3jhvNnODEBwoDexcenEXc5Q6zzsJKFdGprYhHZpyPL10QBs2HaKDm0C1Ny0/CJy89SX/85957HQamhUv2yKYM3mEwy4vynmEhxcl/OxiVyMU/vfmrVV97/J7y/g229uXv97pKVHaSJvaANnVh5PU9s/IQcHK801c2UqcjY1n8wCA628qx+8VES991O4HJdaeu+HVLr3L/Px1BWV7n1vHxcO7T9X43s/uKkXsZfSiYvPVNt+WwyhneqZ2IR2qsfyjScB2BB+hg6t/RBC0KVdAKfPpZKXX0Sxwci+I5dpWNcNLw97zsSmkZqu5rPsOhBHg4Dqp34Ne9dQ8M3LFHzzMobje9C2DgVA1GkK+TmQXXnK0aLnYwgbe4rWzTPZLtzKoqGaJveipFyueGitICM05kdoXAEH4Iprbw+4KYpiEEIUVH/Y9bPw6al0b9IGDwcXLk5fyfur5/PTrlU3fN5uga6En0yjzycHsLHSMP3BshUEQz8/xLJX7wFg8tCGjP/7NAVFRro2dSWkqXqzrDmcxMLd8QD0CvJgWDt1VPhoRx8m/nOKgbMPAgpD2+lo6mM6CunWwp3wY8n0mbpLXTI+ukWZ9sd7WPZuB1X74cDSZdtdm7kT0lx9eA/r4Mt7C47xwPTdWGo1zBjdAiEEqVmFPPPNITQCvJxtmPl4C66GhYWWNycM4JUXfsNoMDJwSBsaNPJi3tdhBDb3I6RHIF/O2UBubiET31wEgM7bmVlfjiK0VwsO7D3HqOFfI4SgQ+dGlZyha2FhoWXS5IcZ88xcjAYjw4d3onFjX+Z+sZKgoLqE9mzFp58sJTe3gFdfmQ+Aj48b3373IgCjHp3F2bMJ5OYW0C3kXT6a9hhdu179mk31NUx6ow9jXv0To9HI8IGtaNzAk7nzthPUzIfQrk04euwy495dTGZWPlt3nOarH8JZvfA51ocdY//hC6Rn5rJsrTqnPuO9B2jWxPsaqqaENHEh/HQ6fT8/jI2lhmlDy17uQ7+JZNmL6gt21oZY1hxNIb/ISI9ZBxnexpNxof7M2hBLbqGR1xadBsDX2ZqvR5n/Ui9P7q5w7Dp1pe4/6zAW5JH4UdkqJ/9fF3PxiRHXdd7yWFhomPRaKGPeWKLW+YAgGtf3YO4POwkK1BHapREjBgTz9kfr6D3yR5ydbJjzwQAAUtJyeeaNJWg0Ap2HAzPf629y7nVbTjHvU/OXkFtYaJk86WGeGTMXg7Gs/30xV+1/PUNb8cmnav975dWy/vfdt2r/e3RUWf8L6fYu0z6qWf8D6FrPkfDYTPr/dgIbSw0f9Sz7xMOIP0+y+BG1LefsvMyak+nkFxnp+dMxhrdw48X71L62/nQ6fRu71OiTCeq9P5D/vfArRoORB4a0pUEjHd9/vZlmzf0I6dGML+esJze3kAlvqkvivb1dmPXlaEJ7tWD/3jOMGv4VCOjYubFZ976FVsOkl7sy5t3VGI0Kw/sG0rieG3N/2UtQE09CO9VnRL9A3v44jN6PL8DZ0YY5E9UpPmdHa54c0YoHX1qCEBDSvi7dO6irO196rB2jX1+OhVaDr86RGW+FmlUHxlP7UJq0w/q1H0qXbV/B+sUvKfjmZXByx7L7SIxJF7F+YS4Axf+uwnBgIxYdBqJp2BoMBpS8bAqXzjG7/iW3FqGYkaEthBgDvAdsAwQQAkwH/gQ+UBTlrWqPreUpJ0Ofmj1objp2Nte2uYVkdKvd7x+6WF87afCWklq734cwbrr9OSdXOPf5gVrTBmi44n+1qi88r72E+1ZS+PW3taqf++yDtarvnFj1UvTbRf68TbWqb/vhmtsaynCY3PO2vWuzp4bdkWEasyI0iqL8KIRYBzyG+v2ZjUCcoig5QLXOjEQikUgkEsntwCyHRgjxDPAKUAc4DHQAdgPmxfgkEolEIpHcMu7k3JbbhblJwa8A9wKxiqL0AO4B0m9VoSQSiUQikUhqgrlJwfmKouQLIRBCWCuKckIIcX0ZiBKJRCKRSG4qNf17ev9FzHVo4oQQLsByYJMQIg24/j8eI5FIJBKJRHITMTcp+MqayA+EEFsBZ2D9LSuVRCKRSCQSs5E5NOZHaEpRFGX7rSiIRCKRSCQSyfVSY4dGIpFIJBLJnYWM0Ji/ykkikUgkEonkjkVGaCQSiUQiucuRERoZoZFIJBKJRPIfQDo0EolEIpFI7nrklJNEIpFIJHc5cspJRmgkEolEIpH8B7jlERpDnxa3WuKqaDdE16q+4eEOtarvvHNnreoX/nuhVvWtRnaqVX3h6Vxr2g1m9q41bQBhU3vXDqAkna5VfYs2dWtV3zk7p1b1RZ1WtapflLiiVvVtb7OejNDICI1EIpFIJJL/ADKHRiKRSCSSuxwZoZERGolEIpFIJP8BZIRGIpFIJJK7HBmhkREaiUQikUgk/wFkhEYikUgkkrscGaGRERqJRCKRSCT/AWSERiKRSCSSuxwhZIRGRmgkEolEIpHc9cgIjUQikUgkdzkyh0ZGaCQSiUQikfwHkBEaiUQikUjucmSERkZoJBKJRCKR/Acwy6ERQoyp8LtWCPH+rSmSRCKRSCQSSc0wd8qppxBiODAGcAN+AbZfj6CiKExfeZbwk2nYWGqY/lATWvg5VLKLjstm/D+nKCgyEtLUlQmDGiCE4MTlbD5YdobcQgN+rtZ8OrIpDjYWFBmMTFocw7HL2RgMCoPbejG2h//1FBGAHx+byMDgziRmpRH84ajrPk95FEVh+qLjhEclYWOlZfqTwbQIcK5kFx2bwfhfItVrD/JkwsPNTJbk/bzpHJ8sPsGu2T1xdbAiI6eIib8d5WJSLtaWGj56PJgmfo5V6/99gvDoEv3Hg2kR4FS1/m9RFBQZCGnhyYSHAhFC8NXqGP7ZEYeboxUArw5uTLcgT1btvcxPm86XHn/yUhZLxnekmX/lc1eHttczaBu2RSkqoHj1XBT9WVMDCysshr6NcPUGoxFjzD4M2343+/wAEfvjmPbtHoxGIyP6NmXsw61M9hcWGnhn1naiTyfj4mTDnPE9qONdVo+XE7MZOHYJL41uw5gRwQCEPr4IeztLtBqBVqthyZeDq9W/VfVfZDAy6fdojl3MxGBUGHyfL2P7Nqha/69jhB9NVPWfakWLutX0v5+PUFBoICTYiwkjm5v2v41n+eSf4+ya0wvXkrIAHD2XziMf72L22Hvo09an2noACN91mmmz12I0Kjw4uA1jnwwx2b/v4Hmmz1nHyRg9c6Y9SN+eLUz2Z2fn0//hr7i/WyCT3x54VS2AiH/PMe2LrRiNCiMGBjF29H0m+wsLi3ln2jqiTyaqbT9lIHV8nCksMvD+p5uIOqlHIwQTXunBffeoz5XCIgMffhbG3kNxaDTw6rNd6NO9SZX6iqIwfWEU4ZF6te7H3EOLei6V7KLPpzP+h0Nq27fUMeHRIIQQfLH0BFsOxaMRAjcna2aMuQcvVxvOxmcx4cfDHIvN4NVhgTzdr9G162LPGaZ9vhmjwciIB1oz9vGOJvv3HbrAjC82c/JMIrOnDKFvaCAAx0/p+eDT9eTkFqLRCJ5/ohP9729+Tb2KhEdEM23a3xiNRh4c0ZmxY/ua7P/55838s3gHWq0WNzcHpk97HD8/dwDGPDOXI0fO0bZNI77//qUaa1/B+uGXsQy6D6Uwn7xfZmK8eNrUwNIa2+c+QOPpC0YjxZG7KFg2HwDh6oXtU+8ibB1Ao6Fg2XyKo/697rLcLOSUk5kRGkVRHgV+BY4Ca4FXFUV583oEw0+mEZucz/q32jJlWCOmLoup0m7KshimDmvE+rfaEpucT8TJNAAmLYnh9X71WPlaG+5v4c6P2y8BsCEymcJiIytfa8Pi/7Vm0b8JXErNv54iAvDL7jX0/fK16z6+KsKjkohNzGH9hyFMGd2CqQuiq7SbsjCaqY8Fsf7DEGITc4iITi7dF5+ax85jyfi42ZRum7fuDM3qOLJichc+fqolMxYdr1o/OpnYxFzWT+nKlEdbMPXPY1Xr/3mMqaNasH5KV2ITc030n+hZl2UTO7FsYie6BXkC8EB739JtM58Mpo67bY2cGU3DtmhcfSj87gWK132DRd/nq7Qz/LuconnjKPrpdTR1mqFp0MZsDYPByNSvdzH/o96snjecNdvOEhObZmKzeMNJnBys2fjzQzwxtAWzf9pnsv/jef/StV2dSuf+bWZ/ln8z9KrODNy6+t9wIEHt+5M6s3h8RxZFXORSSl5l/Sv9b1p3pjwWzNQFUVXr/3GUqY8Fs35ad7X/RSWV7otPzWNndBI+brYmxxiMCrOXnKBTc4+r1gGUtMUnq/nhi8dY8/c4Vm88SszZRBMbH29nZrw/lIF9gqs8x+ffbeHee+peU6tUb04Y82cNY/XvT7Jm80lizqWY2CxeE4WTow0b/xrDEw+1ZfZ34QD8syoSgFW/PsFPn41g5lfbMBoVAL77bQ/urnZs+PNp1vz+FO1bV+4bVwiPTCRWn8P6j3sy5clWTP09skq7Kb9FMvWpVqz/uCex+hwijqr1MqZfQ1Z82INlU7vTvZWOb1aeBMDZ3oqJjwbxdN+G5tfFrI3Mn/0QqxeOZc3mY8ScSzax8fF2YsZ7AxnYy9SJtLGxYObkB1i94Fnmz3mYGV9sJjOrZs9Yg8HI1Kl/8sP8caxZ/T6r1+wjJuayiU2zZv4sWTyBVSsn0adPGz6dtbR03zNjevPJzKdqpFkRi6D70Hr5kT1pNPl/zMZ2VNXP+cKNi8h5/wlyPnoWbcMgLFq0B8B6wGMU7d9GzrSx5P3wITaPvHpD5ZHcPMydcmoMvAIsAWKBx4QQdtcjuCU6lcFtvRBC0LquE5l5BhIzC01sEjMLyS4w0LquE0IIBrf1Iiw6FYDzSXncW199WXZq7MqmqOQrZSSvyECxQSG/yIilVmBvo72eIgIQEXOY1JzM6z6+KrYcSWRwBz/12hu4kplXTGKG6QMhMSOf7LxiWjdwVa+9gx9hh/Wl+z/+5zhvDmtqMmKOic/mvkB1BNPA24FLKbkkZxZUo+9bou9CZm4RiRmmdokZBWTnG2jdwKVE35ewI4mVzlUda/bF07/d1UfnFdE0bo8hahsAyuVTYG0P9q6mRsWFKBdKXsDGYowJZ8DR3WyNyJNJBPg44e/jhJWllv7dGhC2+4KJTdjuCwy5Xx3h9ulan92HL6Mo6str867z1NE50qiua6Vzm8utqn8hBHmFBooNRvILDVhaaKrs+1sO68v6X0NXVT+9Qv9Lzyc7v5jWDavpf4uO8eaIZlT8htcfW87Tq6037o7W16yHyOg46vq74V/HDStLCwb0CiZs+wkTmzq+rgQ29kZTxcfCoo5fJiU1m873XTsaARB5PIEAPxf8fV3Utu/ZlLAdpgOpsIgYhvRVX+B9ujdh94ELKIrCmfMpdGgTAIC7qx1ODjZEnUgAYOnaqNJIj0YjcHWp/pG45VACgzvVKal7t+rrPq+Y1g3d1LrvVIewg6qWg61lqV1egQFKqsXdyZrgBq5YaM0bnUceu0xAHVf8/VzVuri/GWERp0xs6vi40LSRV6URf/0Ad+r5uwGg83TEzdWe1PRcs3RL9SPPUzfAC39/T6ysLBjQ/17Cwkyduw4dmmJrq0b+WreqT0JC2cCjY8dA7O2v3ceuhkWrzhTu2QiA4dxxsLVHOLmZGhUVYDh1WP2/oRjDhdMIV3UAgaIgbNW2Frb2GDNMHcLaQqO5fT93KuYWbRUwWVGU54BuwGlg39UPqRp9ZgHezmVham9nKxIrvHwTMwvQlbPROVuhL7FppLMj7Jjq3GyITCY+XXWGege7Y2upJWTav/ScsY+nQ+rgYmfJnYQ+PR/vcpEVbxcbEtMqXHtaATrXMhudqw36kgdf2GE9OhcbAitEPwLrOLLpkPrSiTyXzuXUfPRplUdO+vQCvMud29vVpsqHqs6l7IGhc7FBn15WxgXbLjD4o51M/C2KjJyiShrrDiTQv5139ZVQFY5uKJnlHgpZKQhHt+rtre3RNroXY2zVo9yq0Kfk4uNpX/q7t4cd+pQcE5vElBx8PNXpTwutBkd7K9IzC8jJK2L+35G8NPqeSucVAsZMWM+wcctZtPZEpf0mZbhF9d+7jQ5bKy0h726j58Rwnr6/Hi72VlREn5aPd7nISrX6Jv3PtrQvhR1OQOdauf/p0/LZfCiBR7qZFzHRJ2XhrSub6tLpnNAnmTd4MBqNzPx8Pe+80scse1UvGx+vsqlDb09H9MnZJjaJyWU2FhYaHO2tSc/Io2kjL7bsPENxsZG4yxlEn9ITn5hVGpn44oedDHv6d16ZtIrkVNP+ZFKG9Ip1b0tihXs0MS0fXbnng87NtvTeB/h8yXF6vL6RVXvi+N+QQLOv36QcSdn46Mraz9vTEX1SVo3PE3nsMkVFBgL8aubg6/VpePuUHaPzdkGvT6vWfvHinYSEBNW4fFdDuHigpJYNEpT0ZITrVSKLtvZYtuxI8YmDABSs+gXL+3rh8PHf2I37mPy/vryp5ZNcP+Y6NO0VRdkMoKjMBobeumJVz7QHG/Pn7niGzz1EToEBSwt1FHH0YjZajWD7xPZsercdP4df4mLK9U853WnkFRqYt+4MLw9qXGnfs30bkJVbxNAPd/DH1lia+TuhuQXzqSND/Nn4YQjLJnTC09maT5acNNl/5Fw6NlbaKvN3bhpCg+Xg1zEcWAPp+mvb3wS++uMgTw4Lwt62soO8cPZAln49hPkf9WHhquPsOxp/y8pRXf0fPZ+h9v2Pu7Ppw678vPk8F5NqNnK+FnkFBuatPcPLgyrniMxYFM0bwwJvSZ+ryMLF+wjp3NjEIbqVDO8fhLenAyOe/YPpX27lniBftBqBwWAkITGbe4J8WfrTY7Ru4cMnX19XWqHZvDq8GVvn9OaBDnVYEHbulmpdjcTkbN6euorpEwfc0jZfsfJfoqIv8MyYXrdM45poNNg9M4nCrUtRktV727J9T4p2rSf73YfI/epdbJ8aT6WQZS2gFeK2/dypmJsUbCuE+AzwUxSlrxCiOdAROFWVsRBiLDAW4NsXOmHv4MTiverLJ6iOAwkZZVNMCRmFeDmZhhC9nKzRl7PRZxSiK7Fp4GXHj8+oHvu5pDy2n1CjNasPJ9GlqSuWWg3uDla0qedIVFzNRx43mwVbY1m84yIAQfWcSSiX15OQno+Xa4Vrd7U2ia7o0/LRudhwMSmXuJQ8hny4s3T78I92smi8+nKb/mRLQE0+vH/idvw91NHggm0XWLwzTtWv60RCuXMnpOXj5VI2IgTwqhAR0JeLGHiUa6cHu9Th+a8Pmhy7dn8CA8ycbtK06Ye2dW+1zPGnEU4eKFd2OrqjZKVWeZxFvxcxpsVj2LfKLJ0r6NztiE8qG0EnJOeic7c3sfFytyc+KRtvT3uKDUaycgpxcbIm8kQSGyLO8+kP+8jKKUQjwNpKy+hBzdF5qOdwd7Hl/k51iTyZzL3BZXVwO+p/9d54urTwUPu+kzVtGroSdSETfx8nFmw9z+Lwkv5X35mE1LLcmmr1TfpfHjpXGy4m5RCXnMuQqREl2/MZ/lEEiyZ0Jup8Bm/MPwRAenYh4VGJaDWC3q2raQtPRxL0GWUa+kx0nublXB2KvMiBw7H8uXgfObmFFBUbsLO14s2Xe1d7jM7TgfjEsmdBQlIWOg/ThQheHqqNt5cjxcVGsnIKcHG2RQjB+P/1KLUb+cJC6vm74eJsi62NBb27qQOMvj2asGSNaU7SgrBzLN4eC0BQfZcKdZ+Hl2uFune1QV/u+aBPzUNXoX0ABnb047nP/uXloTWP0ug8HYjXl0XDEpKy0HmaPwDJzing+Tf/5tWx3Wgd5FdzfZ0rCfFlERl9Qjo6XeUoz65dx/nuu3X88fvrWFndeKTdsvsQrLoMAMBw/gTCzQvOqPuEiwdKWtXTRjaj38SQeInCsCVl5+rcn9y5b6vnOnsMYWmFcHBGyUq/4XJKbgxzHZpfgJ+BiSW/nwIWAT9WZawoyjxgHoBx+RgFYFQnXwC2HU9l4a54+rfy4MiFLBxttHg5mYbHvZyscLDWcjg2k1YBjqw4kMiozupLIiW7EHcHK4xGhe+2XODhDur0ho+LNf/GpDO4jRe5hQaOXMji8S5+kGBuVdwaRvWoy6geaih+29FEFm6Npf+9Phw5l46jrQVezhUeas42ONhacPhsGq3qu7BizyVG9ahLEz9Hds7qWWrXc8I2Fk/ohKuDFZm5RdhYabGy0PDPjjjaNXYtnXMf1T2AUd0DSvSTWLjtAv3beXPkXEaJfgWHytkaBxsth8+m06q+Myv2XGZUD/X4xIyCUvtNh/U09i17KRiNCusPJPDHG+3NqhfjwXUYD64D1KRgbdv+GI9FIHybQEEO5FQOQ2tDHgVrewxrvzZLozzBTT2JvZxJXEIWXu52rN1+llnvdDexCe0QwPLNMdzTXMeGiHN0aKXmuyyYXbaK5svfD2Jna8noQc3JzS/CaFRwsLMiN7+InQcv8dIo02mp21H/Pm42/HsyhcH3+ZJbUMyRc+k8Hqr2uVE96jGqRz1VP1Kv9r/2vhw5W9L/qnBoHGwsOHwmjVYNSvpfaD2a1HFi55yykXLPd7eweGIXXB2t2PxxaOn28T8doXsrL+6/p/ppx+Dmfpy/kMrFS2novBxZs+kosz98sFr78sz+aETp/5euOkTU8UtXdWYAggO9iY1LJ+5yBl6eDqwNO8ms9/ub2IR2acjy9dHcE+TLhm2n6NAmQM1Nyi9CUcDO1pKd+85jodXQqL6au9WjU0P2HrpIh7YB7D5wgYb1THO6RvWsz6ie9QHYdkTPwrBz9L/PjyNn03C0tay67m0tOHwmlVYNXFmxK670+PMJ2dTzVtt7y6EEGvhUXhlqDsHNfImNSyPucjpeno6s3XycWR8MMuvYwiID495dwuB+QaUrn2qsH1yX87GJXIxLRuflwpq1+5g9y+SrIBw7doHJ7y/gh/kv4+5u/uKCq1G0bTlF25YDYBHUAaseQyjetwVt/WaQl4OSWXkAZT34aYStPfm/f2qyXUnVYxHYhqLdG9B4B4Cl1R3hzGjlKiezHRoPRVH+FkKMB1AUpVgIYbgewW6BroSfTKPPJwewsdIw/cGyKZShnx9i2avqC2Hy0IaM//s0BUVGujZ1JaSp6sWvOZzEwt1q6K9XkAfD2ukAeLSjDxP/OcXA2QcBhaHtdDT1sQfz0yxMWPj0VLo3aYOHgwsXp6/k/dXz+WlXzaICFekW5En40ST6vLddXbr5RMvSfUM/3MGySV0AmPxIC8b/GklBoYGuQZ6ElKxmqY4z8dmM/yUSIQSNfBz46PGqV4Z0C/IgPCqJPpMjSpYNl81ND522i2UTO5XoN2f8r+qy4a4tPAhpoc4vz1p6khNxWQgBfm62fDCqbBXE/pg0vF1t8Pesea648cwBNA3bYvX8d+qy7TVzS/dZPv0ZRT+9Bo7uWHR+CGPyRSyfngOA4cAajEc2m6VhodUw6cWOjJm4HqNRYXjvJjSu58rc3w4Q1NiD0I51GdG3CW9/sp3eT/2Ns6M1c8b3uOo5U9LyGDc1TC2LwcjAHg2rXAV1hVtV/492C2Di71EMnLoDFBja0Y+mdSqPursFe6n9b+K2ks8GlOt/UyJY9n5XVX9UkLpsu8hoVv+rKRYWWia/PYBn/vcbBoOR4YPa0LihF198F0ZQMz96dgskMvoS497+k8zMPLbuOMmX329hzd8vX6eehkmvhTLmjSUYjUaGDwiicX0P5v6wk6BAHaFdGjFiQDBvf7SO3iN/xNnJhjkfqKP5lLRcnnljCRqNQOfhwMz3yhyhN14I4Z2P1jJ97lbcXOyYPqH6vJ5uLb0Ij9TT552w0mXbVxg6eRvLpnYHYPJjLRn/4yH13g/2IqSlFwBzFh/nXEI2GgG+7nZ8UPLsSMrI58Ep4WTnFaMR8Nums6ye1sMkibhSXbzeizGv/YXRoDB8YEsaN/Bk7vxwggJ9CO3amKPHLjNu/FIys/LZuuM0X/0YweoFz7I+7Dj7D18kPTOPZWuPAjBj4kCaNdHVoC20TJ70MM+MmYvBaGT48E40buzLF3NXEhRUl56hrfjk06Xk5hbwyqvqMmkfHze++/ZFAB4dNYuzZxPIzS0gpNu7TPvoMbp2bXE1yUoUR+3BIvg+HD76A6WwgLxfZ5bus39vPjkfPYtw8cC6/2MY4mOxnzgPgMKtyyjauZb8xd9iM/pNrHo+CCjk/TKzGiXJ7UZcWcVxVSMhtgHDgU2KorQRQnQAZiqK0u1ax16J0NQW2g1VL42+XRge7lCr+hiNtSpf9O+FaxvdQqxGdqpVfeVcXO2JW9TuXzbRtL7v2ka3ECU/49pGt1I/5vS1jW4homnNXvQ3Xd/NvCTxW0Xm81NrVd/p+623NWTS+KcRt+1de/rpxXdkOMjcJ97rwEqgoRBiJ+AJjLj6IRKJRCKRSCS3B3MdmoZAP8AfNVJzXw2OlUgkEolEcgvR3sHfh7ldmFsFkxRFyQRcgR7AN8C3t6xUEolEIpFIJDXAXIfmSgLwAGC+oihrgMpf7pJIJBKJRHLbuZO+QyOE6CuEOCmEiBFCvFvF/gAhxFYhxCEhRKQQon9V56kp5jo0l4QQ3wMPA2uFENY1OFYikUgkEsn/A4QQWuBr1DSV5sAjJd+uK897wN+KotwDjESd9blhzM2DeQjoC8xSFCVdCOEDvHUzCiCRSCQSieTGuIO+4NseiFEU5SyAEOIvYDBQ/q/xKsCVjww5A6Z/ofQ6McuhURQlF1ha7vd44NZ9410ikUgkEskdSfm/BlDCvJIP6gL4ARfL7YtDXUhUng+AjUKIlwF74P6bUS65UkkikUgkEonZlP9rANfJI8AviqLMFkJ0BH4XQgQpinJDH06TDo1EIpFIJHc5d9CfPriE+omXK9Qp2VaeMahpLCiKslsIYQN4AIncADKxVyKRSCQSyc1iH9BYCFFfCGGFmvS7soLNBaAngBCiGWADJN2osIzQSCQSiURyl6O9QwI0JX/rcRywAdACPymKEi2EmArsVxRlJfAGMF8I8RpqgvCTijl/h+kaSIdGIpFIJBLJTUNRlLXA2grbJpf7/zGg883WlQ6NRCKRSCR3OXdQDk2tIXNoJBKJRCKR3PXICI1EIpFIJHc5d9CH9WqNW+/Q2NnccomrYXi4Q63qaxftqVV949vDalXfsrCoVvWxd6lVeVH3hvPcrpsUP79a0wZI7/FhrerXHRNcq/oWw/rVqn7RrytqVV/Y1O54OfKDrrWq36VW1f9/IiM0EolEIpHc5cgcGplDI5FIJBKJ5D+AjNBIJBKJRHKXc6d8h6Y2kREaiUQikUgkdz0yQiORSCQSyV2OzKGRERqJRCKRSCT/AWSERiKRSCSSuxz5HRoZoZFIJBKJRPIfQDo0EolEIpFI7nrklJNEIpFIJHc5cspJRmgkEolEIpH8B5ARGolEIpFI7nK0MjwhIzQSiUQikUjufmSERiKRSCSSuxyZQ1MLDo2iKExfcorw6GRsrLRMH92cFv5OleyiL2Qy/o9oCoqMhLTwYMLwJoiSBvtj+wUWhseh0Qi6tfDgrSGNKSw28sFfx4m6kIlGCCaMaEL7xm5V6y86TnhUkqr/ZDAtApwr68dmMP6XSFU/yJMJDzcr1Qf4edM5Pll8gl2ze+LqYEVGThETfzvKxaRcrC01fPR4ME38HK+7nn58bCIDgzuTmJVG8Iejrvs85YnYH8e0b/dgNBoZ0bcpYx9uZbK/sNDAO7O2E306GRcnG+aM70Ed77JruJyYzcCxS3hpdBvGjAgG4JelUSxefxIhoHE9N2a80RVrq6q7laIoTF96mvBjKdhYapg+qjkt/CvXUfTFTMYvOK7WfXN3JgxrjBCC136J4nxiLgCZecU42Vqw7O32rNqfwE9bLpQef/JyNkvevJdmdUzPHfHvOaZ9sRWjUWHEwCDGjr6vwvUX8860dUSfTFSvf8pA6vg4U1hk4P1PNxF1Uq/2rVd6cN89/ibHvvDuMuIuZ7DqtyevXv/f71H1+zRh7EMV6r/IwDuzwomOScbF0Vqtf12F+n9+KS+Nuocxw4NLtxsMRka8shIvd3u+n9KrWv3q2LMzhs9nbsBoVHhg6D08Nqazyf5lfx9g6aJ9aLQa7GyteHvyAOo39KyxTkU8XhuPXaeuKPn5JH44kYJTxyvZ+Hz2HRbunqDVkn/kIEmzPgKjEatGTfF6exLCzo7i+MskvP8OSm6O2dqKojBjSxwRZzOxsRBM61+P5jq7SnZfRFxiZXQqmfkG9r3aunT78qgUZm+7hJeDJQCPtPFkREsPs/Ujdp9h2ucbMRoURgxqzdjHO5ns33foAjM+38jJM4nMnjqUvqHNADh+KoEPPl1PTk4BGo2G55/sTP/7m5utewVt96fR1G+DUlSIYeOXKInnKtt0ehRN825gbU/R16PLdjh6YNHnZbC2A6HFsOMPlPMHzdZWFIUZ2y8RcS4TG0sN03oH0NyrirrfGc/K46lkFhjY91JLk33rT6XxzZ4EBIKmnjZ80q+e2fpH/43nz68OoRgUug5oQP9Rzaq027/9It++v4tJ3/WiXqAbZ4+n8Nus/eo1oDD4ySDadK1jtq7k1mP2lJMQwkoI0VIIESyEsLpewfBjKcQm5rJ+ciemjGzG1EUnqrSbsugEUx9pzvrJnYhNzCXiWAoA/55KJSwymeXvdmD1xI483bMuAP/sugTAygkd+XFcG2YuO43RqFTWj0oiNjGH9R+GMGV0C6YuiK5af2E0Ux8LYv2HIcQm5hARnVy6Lz41j53HkvFxsyndNm/dGZrVcWTF5C58/FRLZiyq/HCuCb/sXkPfL1+7oXOUx2AwMvXrXcz/qDer5w1nzbazxMSmmdgs3nASJwdrNv78EE8MbcHsn/aZ7P943r90bVd2A+uTc/h9RTSLvxzMqu+HYzQqrNl2ttoyhB9LITYpl/XvdWDKyECm/nOySrspf59k6shA1r/XgdikXCKOpwLw2ZNBLHu7Pcvebk/vlp7c31J9qT7Qzrt0+8zRzanjZlPJmTEYjEydE8b8WcNY/fuTrNl8kphzKabXvyYKJ0cbNv41hiceasvs78IB+GdVJACrfn2Cnz4bwcyvtpn0rY3bT2Nne/VbwmAwMvWb3cyf2pvV3w1jzfazxFyoWP+ncHKwYuOPD/LE0CBm/7TfZP/H8/ea1P8VfltxjAb+LlfVv1q5Zk9fz+xvHmXBshfYvD6Kc2eSTGx69w/i9yXP8+vfY3n0qY58OWvTdWmVx65jVyz9A7jwYH8SP/4Az7cnVWmXMPENLj4+nIujhqB1ccUhtA8AXuOnkPzt51wcPYzs7WG4jn6qRvoR5zK5kFbA2mea80Gfuny46UKVdt0buvDX6MAq9/UNdGXJk81Y8mSzGjkzBoORqbPXM3/OSFb/+RxrNkUTc860zn28nZgx6QEG9goy2W5jY8nMyYNYvfA55n82khmfbyQzK99sbQBRrw3CxYein8dh2Pwt2tCxVdoZz+6j6M93Km3X3jcC46ldFC94i+K1c7AIfbZG+hHns9S6f7IZH/T058OwuCrtujdw4q9HmlTaHptWwA/7Evn9ocaseDyQd7r5ma1tNBhZ8MUBXpsZwoe/9uXfLbFcPp9RyS4vt4jNS07ToFnZoNivvjOTvu/FBz/24bVPuvHb7P0Yio1ma99qtBpx237uVMxyaIQQA4AzwFzgKyBGCNHvegS3HE1icHsfhBC0ru9MZl4xiRkFJjaJGQVk5xfTur4zQggGt/ch7Kh6w/+1I45ne9XFylIturuj+iI5k5DDfU3cSrc52VoQdSGzsv6RRAZ38FP1G7iW6Js+EBIz8snOK6Z1A1dVv4MfYYf1pfs//uc4bw5rahKxiYnP5r5AdwAaeDtwKSWX5EzT66oJETGHSc2pXP7rJfJkEgE+Tvj7OGFlqaV/twaE7TZ9iIftvsCQ+xsB0KdrfXYfvoyiqC/uzbvOU0fnSKO6ribHGAwK+YUGig1G8gqK8XKvPNK6wpaoZAbf663Wfb2rtb2B1vVK2v5e79K2v4KiKKw/nMiANrpKGmsO6OlfxfbI4wkE+Lng7+uiXn/PpoTtiDG9/ogYhvRtoV5/9ybsPnABRVE4cz6FDm0CAHB3tcPJwYaoEwkA5OQW8sui/bzweIdqrxsg8lQyAb7l6j+kivrfc4Eh9zdW9bvUY/eR8vUfSx1vBxoFuJgck5Ccw/Z9F3mwT+UHvzkcj7pMHX9X/Oq4YmmppWffFkRsM3U07R2sS/+fn1fEzYhs24f0IGvdSgAKoiPRODiida/sFJRGXbQWCEtLKKkPy4C65B9SHb68vbtx6F6zyNTW0xkMauGGEIJWvvZk5RtIyi6qZNfK1x7PkijMzSLy2GUC6rjh7+eq9oX7mxMWfsrEpo6PC00b6RAVXh71A9yp568+53Sejri52pOanlsjfU3DezEe3w6AknAaYW0P9i6V7JSE05CTXvkEigJWtgAIazuUnNQa6W89k8GgZiV172NPVqGBpJwq6t7HHk/7ynW/OCqFka08cLZRI8Hudua3z9kTqXj5OeLp64CFpZb2oQEc2nmpkt3yH4/S75FALK20pdusbSzQWqjvnaJCw025DyQ3F3MjNLOBHoqidFcUpRvQA/jsegT16QV4u5ZFNrxdrKt8qelcymx0Ltbo01Wb84m5HDiTzsOz9vLYF/s5Gqt614F+Dmw9mkSxwUhcch7RF7NISK88ctGn5+PtVl7fhsS0CvppBejKlVHnaoO+5Fxhh/XoXGwIrDBNFljHkU2HVKcn8lw6l1Pz0afVbOR0K9Gn5OLjaV/6u7eHHfoU0xB9YkoOPp4OAFhoNTjaW5GeWUBOXhHz/47kpdH3mNjrPOx5ekQQoY/9RddH/8TR3ooubasPwerTC/Au167eztW1fdkLVOdiU9r2V9h/Jh13RyvqVRGmXneoaodGn5SNj1dZ1Mbb0xF9crapdnKZjYWFBkd7a9Iz8mjayIstO89QXGwk7nIG0af0xCdmATD3h508NbIdNjZXn73Vp+Tg41G+/u3Rp5i+iNT6V20stBoc7crV/+JIXnrUtP4Bpn//L28+fW+lF5+5JCVm4uVd1pe9vJxI0mdVslvy1z4eHPAV33wWxqvv9LkurfJYeOoo1ieU/l6cpMfCs3K7Afh+9j31127HmJtD9taNABSeO4N9SCgADqG9sfDyrpG+PrsQb8eyqJrO0Qp9dmGNzrHpVBpDfz7GayvOEp9p/rH6pCzTvujlhD6pcp1fi8joSxQVGQjwc722cTmEgxtKVlnEWclOQTi4m328Yc8iNM1CsHxmHhZDJmLY+mON9PU5RXg7ljkhOgdL9FU4k9URm5ZPbFoBoxed5tG/TrHjvPkDv/SkPNw8bUt/d/W0Iz0pz/T8p1JJTcqjVUffSsefPZbCpCfX8f5TG3js9XalDs6dgFaI2/Zzp2Jua2QpilJ+OHsWqPkdeBMoNipk5Bbx1xv38tbgxrz201EURWFYB190LtY8+OleZiw9Sev6zmhucsXnFRqYt+4MLw9qXGnfs30bkJVbxNAPd/DH1lia+TuhuYNDczXhqz8O8uSwIOxtTUdCGVkFhO2+wOZfHiJ8wSPk5RexMiymmrPcPNYcrDo6c+R8BjZWWpr4OtxUveH9g/D2dGDEs38w/cut3BPki1YjOH46kQuX0+kVUrk/3Ey+WnCIJ4e0qFT/W/+9gLuLDUGNzZ/uuF6Gj7yXf9aM44VXQ/ll/o5brleey689x/kHeiAsrbBtq+Y9JU6bhPOwkdT5eRHCzh6l2PwX4s2ge0NnNo4NYtlTzelY15GJ687fVv3E5CzenrqS6e89cNufM5qmXTFGb6Xoh7EUL5+GRd//AbevDMUKxKYX8POIRnzSry7vb75IZn7xTTm30aiw6OvDPPxC6yr3N2juzoe/9OO973uxdsFxigoMN0VXcnMwNyl4vxBiLfA3oAAPAvuEEMMAFEVZWt5YCDEWGAvw7SvdsHdwYnFJjktQgBMJ5SIXCekFeDlblz8cL2fr0ogIqCP7K6N2bxcberXyQghBy3rOaDSCtOwi3BytGD+8aekxj8zZVzqCX7A1lsU7Lqr69ZxJSC2vn4+XawV9V2uT6Io+LR+diw0Xk3KJS8ljyIc7S7cP/2gni8Z3wtPZmulPqolriqJw/8Tt+HvYcqegc7cjPqksIpOQnIvO3d7ExsvdnvikbLw97Sk2GMnKKcTFyZrIE0lsiDjPpz/sIyunEI0AaystHi621NE54uaiXmevzvU4dFzPoJ6NSs+5ICKOxbsvAxAU4GgSNUvIqK7tyyIy+vR8k4hNscHI5iOJLH7r3krXuLYaRwdA5+lQGlUBSEjKQudh6vh4eag23l6OFBcbycopwMXZFiEE4//Xo9Ru5AsLqefvxr7DF4k6oSf0wfkYDEZS03J57OVF/P7lw5X13e2JTy5f/znoKkzPqfWfg7dHSf3nltT/ySQ27DjPpz/tN6l/fXIuW/ZcYPu+OAqLDGTnFvLWp9v59K1uVdZBVXh6OZGYUDbCTUzMxFNXfTL7/X2DmDVtndnnL4/z8JE4DRoBQP7xKCx0ZVEVC08dxUn66g5FKSwkJ2Ir9iE9yNu3m6LYc1x+Vc39sPSvi33nkGvq/3kwicWRamQiyMeOhKyyqIo+qxCdg/mpgS62ZY/O4S09mLO98rRFdeg8HU37YmImOk/zFxBk5xTw/BuLePW57rQOMi9/RNOqL5qg+wFQ9DEIRw+uZIEJB3eU7JTqD654rqCeFC/9UD1X/CmwsAJbR8irPlLy55EkFh9VNYK87UjIKnNA9dlF6GowradzsKSltx2WWkEdZ2vquVoTm15IsPe1X2cunraklovIpCXl4lIuYpOfW8Slcxl88uoWADJS85k7MYL/TetKvcCyfBrfuk5Y21pw6VyGyfbaRH6HxnyHxgbQA1eelEkl2x5AdXBMHBpFUeYB8wCMG19SAEaFqKtCtkUlszD8Iv3b6jhyPhNHG4sqX2oONhYcPpdBq3pOrNgbz6hu6vE9W3ry7+k07mvixrnEHIqKjbg6WJJXaEBRwM5ay84TKWg1gkY+6gtrVI+6jOqhJg9vO5rIwq2x9L/XhyPn0nG0tcDL2aaCvg0OthYcPptGq/ourNhziVE96tLEz5Gds3qW2vWcsI3FEzrh6mBFZm4RNlZarCw0/LMjjnaNXXGwvblz7zdCcFNPYi9nEpeQhZe7HWu3n2XWO91NbEI7BLB8cwz3NNexIeIcHVr5IoRgweyBpTZf/n4QO1tLRg9qzpETiRw5kUhefjE21lp2H75cKVowqmsdRpWsBNgWnczCiDj6t9FxJDYTRxttNW2v5fD5DFrVdWLFvoTS4wF2n0qjvs7eZOoK1JHV+sN6/vhf26qvP9Cb2Lh04i5n4OXpwNqwk8x6v7/p9XdpyPL10dwT5MuGbafo0CYAIQR5+UVq37K1ZOe+81hoNTSq706j+u48MrQ1AHHxGbzwzrIqnRmA4CYexF7OKKv/8LPMertC/d/nz/LNp7mnmRcbdpynQ0s112zBpwPK6v+Pkvp/QF3Z8sZT7QD4NzKen5ZE1ciZAQhs4UvchVQux6XhqXMibH00788YamJzMTYF/7rqlMSu8NPUCbi+B3jGkr/IWPIXAHadQnAe8QjZm9Zh3aIlxpxsDCnJJvbC1haNnb26XavFrlMI+UcOAKB1dcOQlgpC4PrUc2Qs+/ua+o+08eSRNmoi+fYzGfx5KIl+ga5ExufiYK2tUa5MUnZRqf3WmAwauNtc44gygpv5EnsxlbjL6Xh5OrJ28zFmTRli1rGFRQbGvbOYwf1alq58MgfjkfUYj6wHQNRvg7ZVP4wndyC8G6MU5ladK1MdmUloAlpiPLYV3PxAa3lVZwbgkVaePNKqpO7PZfDn4WT6NXUhMiEXByttlbky1dGzoTNrT6YxtIU7aXnFnE8rwN/ZPGe0flM39HFZJMVn4+phy94tFxj7XsfS/XYOVnyxsqz/f/LKFh56oTX1At1Iis/GzdMOrYWG5IQc4i9k4u5tX5WMpJYw16HRAK8oipIOIIRwBWYrilKzpQVAtxbuhB9Lps/UXerS3dEtSvcN/XgPy95VkysnPxxYumy7azN3QpqrD9RhHXx5b8ExHpi+G0uthhmjWyCEIDWrkGe+OYRGqA7JzMdbVK0f5En40ST6vLddXbb9RNlywKEf7mDZpC6q/iMtGP9rJAWFBroGeRISdPVlqmfisxn/SyRCqI7UR48HX9X+Wix8eirdm7TBw8GFi9NX8v7q+fy0a9V1n89Cq2HSix0ZM3E9RqPC8N5NaFzPlbm/HSCosQehHesyom8T3v5kO72f+hvnkmXDV6NVoBe9u9Zn2LjlWGgFzRq683C/qleEAHRr7k74sRT6fLhbrftHyx7IQz/Zy7K32wMw+cGmJcu2DXRtXtb2AGsP6quMwuw/k463i021UTELCw2TXgtlzBtLMBqNDB8QROP6Hsz9YSdBgTpCuzRixIBg3v5oHb1H/oizkw1zPlAdiZS0XJ55YwkajUDn4cDM9/pXqXE1LLQaJr3QkTHvbSip/8Y0ruvK3N8PqvXfIYARfZrw9qxweo/5R63/Cg7nrcDCQsNr4/vy+gsLMRgVBg5pRYNGXsz/ehuBLXzo2r0pS/7az749Z7Gw1OLoaMN7Hw66Yd3cXeHYdepK3X/WYSzII/GjslVO/r8u5uITI9DY2OHzyVcIKysQgryDe0sdF4de/XEePhKAnG2byVq9rEb6IQ2ciDibQb/50dhaaviwX93SfcN/Oc6SJ9W+OXtbHGuPp5FfZKTnt0cZ1tKdlzr78sfBRLbFZKDVCJxttHxUg2XDFhYaJr3RhzGv/qn2xYGtaNzAk7nzthPUzIfQrk04euwy495dTGZWPlt3nOarH8JZvfA51ocdY//hC6Rn5rJs7REAZrz3AM2amJ9DpJw7iFKvDZZPfY1SXIBh49dlZRs1i+IFbwKg7foYmqZdwdIay2fmYYzajGHP3xSH/4pFrxfQtBkIikLxhq/M1gYIqedExLks+v1yHFsLDR/2DijdN/yPEywpWVU2O+Iya0+W1P0P0Qxr4cZLHX3oXNeRXbFZDPrtOFoheKOrr0nE7GpoLTSMeqUNn721HaNRoUu/BvjVd2b5T0ep19SN1p2rj3idPprMuoXH0Wo1CA2MfrUtji7W1drfbu7k3JbbhbiyiuKqRkIcUhTlnmttq4orEZpaw6p2oyTaRXtqVd/49rBa1VdOVv6+xe1EtLlmF721ZKVd2+YWkeJn/nLWW0F6j49rVb/umBsbVNwoFsOuayHoTaPo1xW1qi+ukSh/q/l3SNNrG91CuvhMva0exqj1T922d+2Cvj/fkd6T2REaIYSroihpAEIItxocK5FIJBKJ5BZyJ38f5nZhrlMyG9gthPin5PcHgWm3pkgSiUQikUgkNcMsh0ZRlN+EEPuB0JJNwxRFOXbriiWRSCQSicRcZA5NDaaNShwY6cRIJBKJRCK545Ar1yUSiUQikdz1yMReiUQikUjucuSH9WSERiKRSCQSyX8AGaGRSCQSieQuRyYFywiNRCKRSCSS/wAyQiORSCQSyV2OVgZoZIRGIpFIJBLJ3Y+M0EgkEolEcpejkTk0MkIjkUgkEonk7kdGaCQSiUQiucuROTQyQiORSCQSieQ/wC2P0GR0C7nVElfFeefOWtU3vj2sVvU1nyytVX3jtBdrVV/Yu9eqvmH7rlrTdrukrzVtAPe/n6lVfeHbolb1DYv/qFV9y9H9alWfvMxale+wbn+t6vP07ZXTyAhNzSI0QghXIUTLW1UYiUQikUgkkuvhmhEaIcQ2YFCJ7QEgUQixU1GU129x2SQSiUQikZiBzKExL0LjrChKJjAM+E1RlPuA+29tsSQSiUQikUjMx5wcGgshhA/wEDDxFpdHIpFIJBJJDdHIJBqzIjRTgQ3AGUVR9gkhGgCnb22xJBKJRCKRSMznmhEaRVH+Af4p9/tZYPitLJREIpFIJBJJTbhmhEYI0UAIsUoIkSSESBRCrCiJ0kgkEolEIrkD0Irb93OnYs6U00Lgb8AH8EWN1vx5KwslkUgkEolEUhPMcWjsFEX5XVGU4pKfPwCbW10wiUQikUgk5qERt+/nTsWcVU7rhBDvAn8BCvAwsFYI4QagKErqLSyfRCKRSCQSyTUxx6F5qOTf5ypsH4nq4Mh8GolEIpFIapE7ObfldmHOKqf6t6MgEolEIpFIJNeLOX/6wAZ4EeiCGpGJAL5TFCX/FpdNIpFIJBKJGWiEDNGYM+X0G5AFfFny+6PA78CDt6pQEolEIpFIJDXBHIcmSFGU5uV+3yqEOHYzxHfvOM1nM9diNCoMGtaGx8eEmOxf+NtOVi49iFarwdXVjolTh+Lj6wLAl3M2sCviFEajQvuODXn9nf6Ia3ioiqIw/e8ThEcnYWOlZfrjwbQIcKpkFx2bwfjfoigoMhDSwpMJDwUihOCr1TH8syMON0crAF4d3JhuQZ6s2nuZnzadLz3+5KUslozvSDN/03NH7I9j2rd7MBqNjOjblLEPtzLZX1ho4J1Z24k+nYyLkw1zxvegjrdj6f7LidkMHLuEl0a3YcyIYAB+WRrF4vUnEQIa13NjxhtdsbYyp1mvzo+PTWRgcGcSs9II/nDUDZ+vIhG7zzDt840YDQojBrVm7OOdTPbvO3SBGZ9v5OSZRGZPHUrf0GYAHD+VwAefricnpwCNRsPzT3am//3Nq5K4KuE7jjNt5nKMRiMPDuvA2DE9TfX3n2H6J8s5eTqeOTMfo2/vsrb6ZM4qtkccw2hU6NyxCRPfGXrNvlcRRVGYvuY84afSsLXUMn14Q5r7OlSy+3zTBVYeSiIjv5gDk+8r3b7/XCYz1p7nlD6HWQ81oU+Qu3mafx0j/Gii2v+fakWLus6V7KJjMxj/8xEKCg2EBHsxYWRzk+v7eeNZPvnnOLvm9MLV0YofN5xh9Z7LABQbjZyNz2bnZ71wrXDeiL0XmPbNDoxGhRH9mjH2kTYm+wsLDbwzM4zo00lq/3+vF3W81Xvo5NkUJn+2nZzcQoQQLP5mONZWFqzecprvFx5ECPByt+fT8T1xdba9Zl2ERxxj2ozFGA1GHhzRibHP9jbZv29/DNNnLObkqcvMmfUUffvcU7rv09nL2b49GoAXX+hL/35tr6lXEUVRmL42lvDTJe0/tCHNfe0r2X2++QIrDyer7f9e+9Ltv+yMZ/HBRCw0Alc7Cz4a2hA/F+salwMgYs85pn0RprbLwJaMfew+k/37Dl9kxtwtnDyTxOwPHqBvj6Y119h3gWnf7Cpp+0DGjrzHZH9hoYF3PtlS9uybeH/ps+/k2RQmfx5OTm6R2vZfD8VoVHj1w81ciM9EqxH06FCXN565ryrpSiiKwoywi4SfycTWUsO0/vVo7m1Xye6L8EusjEohI9/A/tfvqbR/48k0Xlt+lkWPBxLkU7ntbjcyh8a8ZdsHhRAdrvwihLgP2H+jwgaDkVnTV/PZt4/x5/JxbFx3lHNnEk1smgb68Mufz7FgyUv06NWCrz7bCEDk4QtEHr7AH4tfYuHScRyPusTB/eevqRkenUxsYi7rp3RlyqMtmPpn1X7ZlD+PMXVUC9ZP6UpsYi4R0cml+57oWZdlEzuxbGInugV5AvBAe9/SbTOfDKaOu20lZ8ZgMDL1613M/6g3q+cNZ822s8TEppnYLN5wEicHazb+/BBPDG3B7J/2mez/eN6/dG1Xp/R3fXIOv6+IZvGXg1n1/XCMRoU1285esx7M4Zfda+j75Ws35VwVMRiMTJ29nvlzRrL6z+dYsymamHNJJjY+3k7MmPQAA3sFmWy3sbFk5uRBrF74HPM/G8mMzzeSmVWz2U+DwcjU6Uv54duxrFn+DqvXHSTmTIKpvo8rMz56hIH9TF+6Bw+f4+Dhc6xc/Barl77N0aiL7N1/pkb6AOGn0olNyWf9a/cwZUgDpqw8V6Vdj0BXFr0QXGm7j4sV04c3ZEBLD/M1o5KITcxh/bTuTHksmKkLoqq0m/LHUaY+Fsz6ad2JTcwhIqqsbeJT89gZnYSPW5nTMKZPQ5a935Vl73fl9WGB3NvEHRd7K5NzGgxGpn4ZwfzpA1n940jWbI0hJtZ0geTidcdxcrRm42+jeGJ4S2bP3wNAscHIWzM2M+XVEFb/OJLfZg/GQquh2GBk+jc7+G32IFbOf5imDdz5Y3nV11SpLB/9zQ/fv8iaVe+xeu0BYmLiTWx8fFyZMf0xBg5oZ7J92/Yojh27yPKl7/L3X2/y489hZGfnXVOzIuGn04lNyWP9K62ZMqg+U1ZVfd/2aOrKoueCKm1v5mPHP88FsfyllvRp4cbsjbE1LgOU1MWcTcyfNYLVfzzNms3HiTmXbGLjo3NixoR+DLy/2fVrfLmT+dP7s/qHh0ravsKzb/0J9dn36yM8MSyY2T+Ua/uPtzDllRBW//AQv81+AAut+tp66sGWrPvpYZZ+O5yD0QmE771gVnkizmYSm1rAurEt+KBPAFOrqbvuDZ356/GqrzmnwMAf+xNpeQc4MpIyqnVohBBHhRCRQFtglxDivBDiHLAbaFfdceZyLCqOOgFu+NVxw9LSgl59gwnfesLEpm37BtjYqg/GoJb+JOozSsoGhQXFFBUZKCosprjYiJt75dFtRbYcSWRwB1+EELRu4EJmbhGJGQUmNokZBWTnG2jdwAUhBIM7+BJ2JLGaM1Zmzb54+rfzqbQ98mQSAT5O+Ps4YWWppX+3BoTtNr0Bw3ZfYMj9jQDo07U+uw9fRlEUADbvOk8dnSON6pqOew0GhfxCA8UGI3kFxXi5Vx5pXA8RMYdJzcm8KeeqSOSxywTUccPfz1Wti/ubExZ+ysSmjo8LTRvpEBU+elA/wJ16/m4A6DwdcXO1JzU9t2b6UReoG+CBfx13rCwtGND3HsK2mr4I6/i5EdjEt9IffBNClPS9YgoLiykqNuDh7khN2XI8lcGtPRFC0Mrfkaz8YpKyCivZtfJ3xNPRqtJ2P1cbmnrb12jefMthPYM7+Kn9v6Gr2v/TTZ3BxPR8svOLad3QtaT/+xF2WF+6/+NFx3hzRDOqk12z9zL92/tW2h55MpEAX2f8fUv6f/dGhO08b2ITtus8Q3qro/8+IQ3ZfegSiqKwc/9FmjZwJ7Ch6ry5Otug1WpQFAVFgdz8YhRFITu3EC/3a79gIo+eV9vf3wMrKwsG9GtD2JZIE5s6fu4ENvWr1P4xMQm0a9cICwstdnbWNG3iR3jE8WtqVmTLibQK7W+oUfvf18AZWystAC39HdFnVD7WHCKPxxNQxxV/P5eSezGQsB0xJjZ1fJxp2sir0r1otsbJRAJ8yz37ujcibNd5Exu17ZsA0CekAbsPXS5p+ziaNnAjsKEagXR1Utve1saSDq39ALCy1NK8kQcJyTlmlWfL6XQGBbmrde/nQFaBgaTsokp2rfwc8HSwrPIccyMuM6aDN9YWd05YRH6H5uoRmoHAA0BfoD7QDehe8v9+NyqcpM/CS1cW7vbSOZGUWP0LdNWyA3Ts0hiA4FYBtL23PgN7fsqAnp9yX6dG1G/geU1NfXoB3q5l3wT0drWp8oGuKxe61bnYoE8vc3oWbLvA4I92MvG3KDJyKt8E6w4k0L+dd2XtlFx8PMsett4eduhTTG/AxJQcfDxVx8xCq8HR3or0zAJy8oqY/3ckL402DXvqPOx5ekQQoY/9RddH/8TR3ooubetwp6NPysLHq8wJ8PZyQp+UVePzREZfoqjIQIBfxcmNa+jrM/DWuZT+rtO5oE/MMOvYe1rV4757G9Gl5wd06fkBXTsF0rCBrkb6AIlZhXg7l72odE5W6DOv76VkLvq0fLzLRVaq7f/l7hGdqy36NNUm7HACOlcbAv0rT9MC5BUY2BGVRO+2VfT/5Bx8vMr1f0/7Kvp/dhX9P5/zcekIIRjzzmqGPf8PPyw6BIClhZb3Xwlh0LOLCHn4N87EpjGiX+C160Gfgbd3WZ/Rebua3f6BgX5E7DhOXl4hqWnZ/Lv3FAkJadc+sAKJmTev/ZceSKRrY5frOlaflG16L3o6ok/Kvq5zVauRnFvargDeHvbok8159uVz/lI6AsGYd9cw7IUl/LDocKXzZ2YXsHVPLB3v8TOrPInZRXg7lat7Ryv0VTiT1XEsIZeErEK6Naw8XStREUL0FUKcFELElHzHriqbh4QQx4QQ0UKIhTdDt1qHRlGUWEVRYoGPrvy//LarnVQIMVYIsV8Isf+XHzbfcCHXrT7C8ejLjH6yCwAXL6Rw/lwSKze9warNb3Jg71kOHzh/wzrXYmSIPxs/DGHZhE54OlvzyZKTJvuPnEvHxkpLE7+aj9ivxld/HOTJYUHY25qOFjKyCgjbfYHNvzxE+IJHyMsvYmVYTDVn+W+RmJzF21NXMv29ByqNom8lsReSOHNOz/ZN7xO++X327D3N/gM3Z5rvTiavwMC8tWd4eVCTam22Ruq5p5FrpemmG6XYoHAgKp5ZE3qy4PMhbNpxjt0H4ygqNvDXqmiWffcg4Ysep0kDd+b9eeimalekS+dmdOvanJGPzuaNN3+mdav6aLTmzNzfGlYeSSLqcg5Pd6kcFfsvUGxQOBCdwKzxoSz4bBCbdqptX7bfyBvTw3hsaBD+PlU72jcTo6LwyZaLvB165w0ctULctp+rIYTQAl+jBj6aA48IIZpXsGkMjAc6K4rSAnj1ZtSBOdmjLSoUxAJ1GqpaFEWZB8wDSCtYpFRl46lzLJ1CAkjUZ+LpVblD7t1zhl/mb+fbn57GqiTZdXvYcYJa+mNnp0ZSOnZpzNEjF2ndtl6l4xdsu8DineoNEFTXiYS0shFpQlo+Xi6mf8XBq0JERl8uYuPhVBa5ebBLHZ7/+qDJsWv3JzCgiukmAJ27HfFJZaOShORcdBXC417u9sQnZePtaU+xwUhWTiEuTtZEnkhiQ8R5Pv1hH1k5hWgEWFtp8XCxpY7OETcXddTdq3M9Dh3XM6hnoyrLcKeg83QkPrEsIpOQmInO03wnMDungOffWMSrz3WndZB5ozITfZ0zCfr00t/1+nR0XuaNtjaFHaVVy7rYl/S9rl0COXTkPO3aXvv7kgv3JPDPfnX6JtjPgYRy0wT6zEJ0TjfXEQBYsPU8i8MvAhBU35mE1LJ8j2r7f7l7RJ+Wh87VhotJOcQl5zJkakTJ9nyGfxTBogmd8XRWz7F272UGVDHdBGo0MT6xXP9Pyqmi/zuU9H+Hcv3fBm9Pe9oF+5Qm+3a7L4Bjp5NwsFPrK8BXbbt+3Roy/69rOzQ6nbNJVEWfkGZ2+wO88HxfXni+LwBvvPUz9et6mXXcwn8T+OeAOn19M9p/15kM5m2/xK9Pt8DK4vqcKp2ng+m9mJSFzvPa0/c10vCwI75c1CchOQedR3XPvgpt71Gh7dsHcCwmmY5tVIdi8mfh1PVz5olhLa9ahoUHE1l8RM0NCvK2J6FcNEyfVYiuimm9qsgpNHI6OY8nF6pT5Mk5RYxbeoavhjW8IxKD7xDaAzGKopwFEEL8BQwGyietPgt8rShKGoCiKObndVyFq+XQjBdCZAEthRCZJT9ZgB5YcaPCzVr4cTE2lctxaRQVFbNp/VG6djcNF588Hs/MqSv5dO4okxwZnY8zB/efp7jYQHGRgUP7z1OvmimnUd0DShN2e7bSsWKPOjd7+Gw6jrYWeDmbrgzwcrbGwUbL4bPpKIrCij2XCW2lPrDK59tsOqyncblVKUajwvpqppsAgpt6Ens5k7iELAqLDKzdfpbQDgEmNqEdAli+WY2wbIg4R4dWar7PgtkD2fLbw2z57WEeH9KCsSNbM3pQc3y87DlyIpG8khyC3Ycv08Df5Ro1X/sEN/Ml9mIqcZfT1brYfIzQrtWP/MtTWGRg3DuLGdyvZenKpxrrt/DnfGwSF+NSKCwqZs36Q4R2r5x4WRW+Pq7s23+G4mIDRUUG9u0/a/aU06MdvFk2rhXLxrWiZ3M3VhxOQlEUjlzMwtFaW2WuxI0yqke90oTdnq11rNij5qUcPpOm9v8qHBoHGwsOn0kr6f+XCG2to0kdJ3bO6UXYx6GEfRyKztWGJe91LXVmsnKL2H8qldDWVddFcFMvYi+lExefqbb5thhCO9UzsQntVI/lG9Wo54bwM3Roreb7dGkXwOlzqeTlF1FsMLLvyGUa1nXDy8OeM7FppKarTtquA3E0CLj29GNwUN2S9k+msLCYNesOEtrj6i/EKxgMRtLS1ZfziZOXOHnyMp07X3uaC+DR+7xZ9mJLlr3Ykp6Brqbtb1Oz9j8Wn8OUlWf5alRT3KvJ8zCH4EAfYi+mlbsXTxDa+eYOiNS2zzBt+451TWxCO9Zl+UbVSdgQfpYOrX1L2t7ftO0j42lYkkf4+c97ycopZMILnSppVuTRNl4sfao5S59qTs8mLqyMSlHr/lI2DtbaanNlKuJorWXn/1qz6YVgNr0QTCtf+zvGmbmdOTTlZ2FKfsaWK4ofcLHc73El28rTBGgihNgphNgjhOh7M+qg2giNoigzgBlCiBmKooy/GWImwhZa3pwwgFde+A2jwcjAIW1o0MiLeV+HEdjcj5AegXw5ZwO5uYVMfHMRADpvZ2Z9OYrQXi04sPcco4Z/jRCCDp0bVXKGqqJbkAfhUUn0mRxRsmy77CU2dNoulk1Ub4zJjzRn/K/qsu2uLTwIaaEmI85aepITcVkIAX5utnwwqix4tT8mDW9XG/w9q07KtdBqmPRiR8ZMXI/RqDC8dxMa13Nl7m8HCGrsQWjHuozo24S3P9lO76f+xtnRmjnje1z1eloFetG7a32GjVuOhVbQrKE7D5uRQ2AOC5+eSvcmbfBwcOHi9JW8v3o+P+1adVPObWGhYdIbfRjz6p8YjUaGD2xF4waezJ23naBmPoR2bcLRY5cZ9+5iMrPy2brjNF/9EM7qhc+xPuwY+w9fID0zl2VrjwAw470HaNakakeyan0tkycM45kX5mEwGBk+pD2NG3nzxdfrCGruT88eQURGXWDcqz+TmZnH1u3RfPntetYse4c+vVqxZ+9pHhj+KUIIunYOJLR7i2uLViCkiQvhp9LoO+cQNlYapg0re4kM/eoIy8apy8RnrY9lTWQy+UVGenxygOFtvRjX05+jcdn8b+FJMvOK2Xoija+2XGTV/1pfVbNbsBfhR5PoM3Gb2v+fLHuJD50SwbL3uwIweVSQumy7yEjXIE9Cgq6dn7b5UAKdWnhgZ131I8VCq2HSy10Z8+5qtf/3DaRxPTfm/rKXoCaehHaqz4h+gbz9cRi9H1+As6MNcyb2AsDZ0ZonR7TiwZeWIASEtK9L9w7qC/Glx9ox+vXlWGg1+OocmfFW6DXLamGhZfLEh3jm2a8xGBWGD+1A48Y+fPHlaoJaBNAztCWRR2MZ97/5ZGbmsnXrUb78ag1rVr1HcbGBUaM/B8DBwYZPZz6BhYX2mpoVCWniQvjpdPp+fhgbSw3ThjYs3Tf0m0iWvai2zawNsaw5mqK2/6yDDG/jybhQf2ZtiCW30Mhri04D4Otszdejar6c2sJCw6TX72fM64vVe3FAMI0beDD3hx0EBXoT2qURR4/HM27CcjKzCti68wxf/biT1X88bb6GVsOkcV0YM179RMfwPk1L2n5fSdvXK2n7rfR+4k/12TfxfqCk7YcH8+C4ZSVtH0D3++qSkJTNdwsP0cDfhWEvLAFg1OAWPNj/2oOckAZOhJ/JoN+8KGwsNHzUv17pvmE/H2PpU+rsyKytcaw9lkp+kZHQryMZ3sqDl/6jU3s1pfwszHViATRGzcutA4QLIYIVRUm/kXKJK6toqjUQojNwWFGUHCHEaKAN8EVJLs01qW7K6XbhvHNnbcoj6tfuXKvmk6W1qm+c9mKt6gv7a3+f5VZiWPlPrWkLnVutaQOI+gHXNrqV+r41dzRvJobFf9Sqvia0a63qk3drVkmai2HzDX9d5IaweHrhbV0P9MmB52/bu/bttt9Ve21CiI7AB4qi9Cn5fTyUBkmu2HwH/Ksoys8lv4cB7yqKsq+KU5qNOROv3wK5QohWwBvAGdSvB0skEolEIrkD0Irb93MN9gGNhRD1hRBWqH/IemUFm+Wo0RmEEB6oU1A3vLrCHIemWFHDOIOBrxRF+Rq4uct4JBKJRCKR3PUoilIMjAM2AMeBvxVFiRZCTBVCDCox2wCklPzVga3AW4qipNyotjmrnLJKQkaPAV2FEBrg+rPQJBKJRCKR3FQ0tff1gEooirIWWFth2+Ry/1eA10t+bhrmVMHDQAHwtKIoCagJPJ/ezEJIJBKJRCKR3AjXjNAoipIghFiCmpEMkAwsu6WlkkgkEolEYjbX+uDd/weuGaERQjwLLAa+L9nkh5rQI5FIJBKJRHJHYE4OzUuoX/77F0BRlNNCCPM+jSmRSCQSieSWcyf/0cjbhTk5NAWKopR+J7rkTx/U6rdlJBKJRCKRSMpjToRmuxBiAmArhOgFvAjcnE/GSiQSiUQiuWHM+D7Mfx5zIjTvAEnAUeA51KVY793KQkkkEolEIpHUhKtGaEr+DHi0oiiBwPzbUySJRCKRSCQ1QebQXCNCoyiKATgphKjdP8oikUgkEolEchXMyaFxBaKFEHuBnCsbFUUZVP0hEolEIpFIbhfyOzTmOTQ2wMByvwtg5q0pjkQikUgkEknNMcehsVAUZXv5DUII21tUHolEIpFIJDVE5tBcxaERQryAukS7gRAistwuR2CnuQIu1rX7Db7Cfy/Uqr5lYVGt6hunvVir+pqJ39SqvvHFvrWrn1FQa9oWDexqTftOQIk7Uqv6mia1nHpYmFu7+jYOtSqv8apdfcnt52oRmoXAOmAG8G657VmKoqTe0lJJJBKJRCKR1IBqHRpFUTKADOCR21cciUQikUgkNUV+WM+8D+tJJBKJRCKR3NGYkxQskUgkEonkDkYjl23LCI1EIpFIJJK7HxmhkUgkEonkLkfm0MgIjUQikUgkkv8AMkIjkUgkEsldjsyhkREaiUQikUgk/wFkhEYikUgkkrscGaGRERqJRCKRSCT/Aa4aoRFCHAWUqnYBiqIoLW9JqSQSiUQikZiNjNBce8pp4G0phUQikUgkEskNcFWHRlGU2Cv/F0LogHtLft2rKErirSyYRCKRSCQS89AImUFiVlKwEOIh4FNgG+p005dCiLcURVl8I+IR4dFMm/Y3RqOREQ92ZuzYvib7f/55M4v/2YFWq8XNzYFp0x/Hz88dgGfGzOXIkXO0aduI779/6UaKUYq21zNoG7ZFKSqgePVcFP1ZUwMLKyyGvo1w9QajEWPMPgzbfjf7/IqiMH3pacKPpWBjqWH6qOa08HesZBd9MZPxC45TUGQkpLk7E4Y1RgjBa79EcT4xF4DMvGKcbC1Y9nZ7Vu1P4KctF0qPP3k5myVv3kuzOpXPfYWI3WeY9vlGjAaFEYNaM/bxTib79x26wIzPN3LyTCKzpw6lb2gzAI6fSuCDT9eTk1OARqPh+Sc70//+5mbXgbn8+NhEBgZ3JjErjeAPR92Uc0Ycusy0nw9iNCqM6NmQsUNNy11YZOCdL/cQfTYVFwdr5rzeiTpeDqRlFfDKrB1EnUllSPf6TH6mXekxz3y0laS0fAwGI22beTH5mbZotdd+sCiKwowtcUSczcTGQjCtfz2a6+wq2X0RcYmV0alk5hvY92rr0u3Lo1KYve0SXg6WADzSxpMRLT2q1Jn222HCD8djY2XBjOfvpUV910p2UWfTGP/9XgoKDYS09mHi460RQpCeXcjrc3dzKSkXP087PvtfR5wdrMjILmTivH1c0Odgbalh2nP30sTfGYDf1p3mn61nUbRaHuzfjCeGt1Lrf+8Fpn2zQ63/fs0Y+0gb0/ovNPDOzDCiTyfh4mTDnPd6UcfbCYCTZ1OY/Nl2cnILEUKw+JvhFBUbGf3a8tLjE5JyGHR/Yya82KXKOo/Yd5Fp3+5W9fs2ZezI1ib7CwsNvPPpNqJPJ+PiaM2ciT2p4+1IXEIWA575h/p11Otr1cyLKa90NTn2hckbiIvPYtX8EVVql7bFr4cIP5SAjbWWGS+0r6YtUhn/7T61Le7xZuIT95S0RQGvf7GHS0k5+Hna89kraltc4eiZVEZOCmP2/zrQt4O/6bXvjWXaVzvUZ23/5ox9tG3la/94M9GnEtW6n9yHOt5OrNp8kh8XHSq1O3k2haXfP0SzRp589uMeVmw8SWZWPgfXPlftdQNE/HuOaV9sVet+YBBjR99XQb+Yd6atI/pkif6UgdTxcaawyMD7n24i6qQejRBMeKUH992jXtvasBN899u/GI0K3Ts14M0XQq5a99OXnyH8eAo2Vlqmj2xKiyqej9EXsxj/10kKigyENHNnwpCGCCE4fimbDxaforDYiFYjmDy8MS0DnNgbk85LP0dRx80GgPuDPXipd72r1oXk1mGuSzcRuFdRlCcURXkcaA9MuhFhg8HI1Kl/Mv+Hcaxe8z5rVu8jJuayiU2zZv4sXjKBlasm0adPG2Z9urR035hnejPzk6dupAgmaBq2RePqQ+F3L1C87hss+j5fdbn/XU7RvHEU/fQ6mjrN0DRoU6VdVYQfSyE2KZf173VgyshApv5zskq7KX+fZOrIQNa/14HYpFwijqcC8NmTQSx7uz3L3m5P75ae3N/SE4AH2nmXbp85ujl13Gyu6swYDEamzl7P/DkjWf3nc6zZFE3MuSQTGx9vJ2ZMeoCBvYJMttvYWDJz8iBWL3yO+Z+NZMbnG8nMyje7Dszll91r6PvlazftfAaDkak/HGD+xO6s/qw/a3bEEnMxw8RmcdhZnOyt2PjVAzwxsCmz/zgCgLWllldGtuTtx1pXOu/nr3dhxex+rPqsP6mZ+azffdGs8kScy+RCWgFrn2nOB33q8uGmC1XadW/owl+jA6vc1zfQlSVPNmPJk82qdGYAwg8nEJuQzYY5/Zj6TFum/HSwSrspPx3gw2fasWFOP2ITsok4kgDA/JUn6BCkY8Nn/egQpGP+qhMAfL/iOIF1XVg5szczX2jP9N8OA3DqYgb/bD3L3x/2ZPm8h9i2J5bYSxlq/X8ZwfzpA1n940jWbI0hJjbVpAyL1x3HydGajb+N4onhLZk9fw8AxQYjb83YzJRXQ1j940h+mz0YC60GBzsrln//UOmPr86BXl0aVHl9BoORqV/tZP60vqyeP4I1284QE5tmqr/+JE4OVmz85WGeGBbM7B/3lu4L8HFi+XfDWf7d8ErOzMYd57CztaxSt1JbxGez4fN+TH22HVN+OFB1W/x4kA/HtmPD5/2Ijc8m4nBJW6w4QYcgLzZ83p8OQV7MX3G87PqMRmYtjKRzS13V1/5FOPM/Hsjqnx9lzZbTxJyvWPfH1Lr/4zGeGNGa2fN2A/DA/U1ZPn8ky+ePZOZ41cFs1kh97vToWI+/v6negTPRnxPG/FnDWP37k6zZfJKYcymm+muicHK0YeNfY3jiobbM/i4cgH9WRQKw6tcn+OmzEcz8ahtGo0JaRh6ffhPOL58/yOrfnyQpNYfd+2MraV8h/EQqscm5rB/fnikPNmHqktNV2k1ZcpqpDzVh/fj2xCbnEnFCradZq8/yUu+6LHujHS/3rces1WWD3bb1nVn2RjuWvdGuVp0ZjRC37edOxVyHRlNhiimlBsdWSWTkeQLqeuHv74mVlQX9B9xLWFikiU2HDk2xtVVHIK1a1ychoewB1LFjIPb21jdSBBM0jdtjiNoGgHL5FFjbg32F0VNxIcqFKPX/xmKMCWfA0d1sjS1RyQy+1xshBK3rOZOZV0xiRoGJTWJGAdn5BlrXc0YIweB7vQk7aupsKIrC+sOJDGhT+eG15oCe/lVsL0/kscsE1HHD388VK0st/e9vTlj4KRObOj4uNG2kQ2hMO2/9AHfq+bsBoPN0xM3VntT0XLPrwFwiYg6TmpN5084XGZNKgLcD/joH9Zo7BxC2L87EJmxfHEO61wegT0d/dh9NQFEU7GwsaNvMEysrbaXzOtipL7Jig0JRsRFz7/WtpzMY1MINIQStfO3JyjeQlF1Uya6Vrz2eDtd+WVZH2IHLDO5aV+1zjd3JzC0kMS3PxCYxLY/svGJaN3ZX+1zXumzef7nk+EsM6VoXgCFd67J5/yUAzlzKpEMLLwAa+DlxKSmH5Ix8zl7KpGUjN2ytLbDQari3lS+bdpwl8mQiAb7O+Ps6qfXfvRFhO8+blnXXeYb0bgpAn5CG7D50CUVR2Ln/Ik0buBPYUHXaXJ1tKkXBzsWlk5qeR7tgnyrrIfJkEgG+Tvj7lOh3a0jYLtMXYNju8wzp1aREv36p/tXIySvilyVHeeHRe65qBxC2/xKDQ+qVa4uiatqiqKwtQuqV1nnY/ssMCakHwJCQeqVtBPDH+hh6t/fDzcmm8rWfSCTAzxl/X2f12kMbE7brnGnZdp5jSG/Vce7TrSG7D8ZVuvY1W07RP7Rx6e+tm3vj5W5/zeuOPJ5AgJ8L/r4uqn7PpoTtiDHVj4hhSN8Wqn73Juw+cAFFUThzPoUObQIAcHe1w8nBhqgTCcRdzqBuHVfcXNWoZqe2ddm4vWonBWBLVAqD25Y8e+s6qc/ezArP3swCsvOLaV3XSa37tt6ERamOlwCy8w0AZOcZ8HK6ee8eyc3DXKdkvRBigxDiSSHEk8AaYO2NCOv1afh4lzkM3joX9Pq0au0XL95JSEhQtftvGEc3lMzkst+zUhCObtXbW9ujbXQvxtjI6m0qoE8vwNul7IHj7WxdpUOjcym7WXQuNujTTW32n0nH3dGKel6VpyjWHbq2Q6NPysLHqyyC4+3lhD4py+zruEJk9CWKigwE+FUOm99p6FNz8fEoqy9vdzv0qRVeJql5pTYWWg2OdlakZxVe89xjPtxK5zFLsbe1pE+FUH+15ckuxNuxbLpA52iFPvvaWuXZdCqNoT8f47UVZ4nPrPpYfVoePm7lrtvNDn2Fl6g+LQ9vN9tyNralNikZBXi5qvs8XWxIKemvTQNc2LRPfdFGxqRyOTmXhJQ8Gvs7s/9EMmlZBeTlF7H93wvEJ2ajT87Bx6vs5eftaY8+JcekHIkp2fh4OgAl9W9vRXpmPufj0hFCMOad1Qx7/h9+KDcFcoW1W2Po170RohqPUp+cU3ruavWTc/HxtK+gr15vXEIWQ19Yyug3VrH/aHzpMXN/2c9Tw4Oxsb727L0+NQ8f9wr1XKEP6lOraIvUK22RX6Et8kuOyWXTvks80qtRNdeejY9XuWv3cECfVPHac0ptytd9edZtjWFAOYfGXPRJ2abPG09H9MnZFfTLbCwsNDjaW5OekUfTRl5s2XmG4mIjcZcziD6lJz4xi4A6Lpy7mEpcfAbFxUY274ghPrH6Z5g+owDvcs9V9dlres8kZhRWePZaoS/p7+OHNGTW6rP0mLqHT1ad4bX+9UvtDsdmMmTWfsbOj+R0gmm9Sm4vZuXQKIrylhBiONC5ZNM8RVGWVWcvhBgLjAX47vvXGTv2xhZLrVzxL9FRF/j9j9dv6Dw3DaHBcvDrGA6sgXT9bZdfc7Dq6MyR8xnYWGlp4utQxVE3l8TkLN6eupKPJw1Co7lzQ5C3gx8n9aCg0MCbX+xiT5Sezq2qjhLcTLo3dKZ/oCtWFhr+PpzExHXn+enhJrdUUwjBlZYeOyiQab8dZsj4jTTxd6ZZPRe0GkFDPyeefSCQMTPCsXO0pVlDd7Q3+Ffzig0KB6LiWfz1cGysLXjyrVW0aOxJxzZ1Sm3Wbo1h5rs9b0inOrzc7Niy4BFcnWyIOpXEuA82sXr+CC4mZHEhPpPxL3QkLqHmA4IbQQhRGg2c/uth3ny05S29D48cT8DGxoIm9c2PSN8MhvcP4uz5FEY8+we+3k7cE+SLViNwdrTh/Tfu5/X3VyM0gnuCfLl4Kf2WleOvXfG8O7ghvVt6su5wIu/9fZKfn29F8zoOhL3XAXtrLduPpzDu52g2jG9/y8pxNe7kqaDbhdlfClYUZQmwxEzbecA8AIWtVcZsdTpX4stNISXo09HpKo/0d+06znffreP3P17Hyur6Q+9VoWnTD23r3mqZ408jnDzKPrrj6I6SlVrlcRb9XsSYFo9h36praiyIiGPxbjU0HBTgSEJ62agnIaMAL2fT0KWXs7VJREafnm8yaig2GNl8JJHFb91LRdZW4+hUROfpaDKaSUjMROdZfc5NRbJzCnj+jUW8+lx3Wgf5mX1cbaJzsyM+uWxqLCElF125kTCAl5st8cm5eLvbUWwwkpVbiEu5KMrVsLbS0vPeOoTtu1StQ/PnwSQWR6pRwCAfOxLKRX/0WYXoHMzTAnCxLbt1h7f0YM72S5V0xN9nCG7gRnxquetOzUXnanrdOldbEspFChJS80pt3J2tSUzLw8vVlsS0PNxK+quDnSUznlf7oKIo9HxlLf4lEZgRPeozokd98PJgzo978PZwQOdhT3xi2eg1ISkHXYXpCi93B+KTsvH2dFDrP6cQFycbvD3taRfsg6uzWqZu9wVw7HRSqUNz4kwyxQYjQU08q60vnYc98UllUYEq9T3siE/KqaBvjRCidLoxqIkn/r5OnLuUQdTJJKJOJRP62J8YDAqp6Xk89uZqfp9VNoBbsOE0/2xRp3eCG7oSn1Khniv0QZ1bFW3hdqUtbEzbomR6KepsGq9/oea8pGcVEn44HguthvsHeJZcuwPxieWuPTkbnWfFa7cnPrFy3V9h7Zbri84A6DwdTJ83SVnoPEwHXV4eqo23lyPFxUaycgpwcbZFCMH4//UotRv5wsLSKe/Qzg0J7dwQgEUrI9FWcOgW7LjE4n/VaFqQvyMJ5Z6r6rPX9H7zcraq8OwtRFfS35fvT2DCEFWrbytPJv2tTtE72JTdh92auTN1yWnSsotwvYFpYsn1Y9aUkxBimBDitBAiQwiRKYTIEkLcUIJDcHBdYs8nEncxmcLCYtau2UdoqOl3+o4du8D7kxfwzbcv4O7udCNyVWI8uI6in16j6KfXMJ76F21QdwCEbxMoyIGcylNg2pBHwdoew6YfzdIY1bVOacJuz2BPVuxT8zIOn8/A0UZbpUPjYKPl8PkMFEVhxb4EQoPKEj53n0qjvs7eZOoKwGhUWH/42tNNAMHNfIm9mErc5XQKiwys3XyM0K7mje4LiwyMe2cxg/u1LF35dDcQ3MiN2Pgs4vTZ6jXvvEDovXVMbELb+bF8m/ry2bD7Ih2CdNVOYYCaP3ElB6LYYGT7wcs08Ku+nz7SxrM0iTe0kQsro1NRFIUjl3NwsNbWKFemfL7N1pgMGriX9YcrOstn9KZnOz9WRMSqfe50Co62lqXTFlfwcrXFwdaCw6dT1D4XEUvPtr5qnbTxZXmEmmuyPCKWnm1VBzYzp5DCYiMA/2w9x72BnqX5RFemQi7rs9i04xwDezYmuKkXsZfSiYvPVOt/WwyhneqZlCO0Uz2Wb1QT5TeEn6FDaz+EEHRpF8Dpc6nk5RdRbDCy78hlGtYtmw5esyWGAaFVT7dcIbipJ7GXMsv0t58htGOAqX7HuizfdKpE/xwdWvsihCA1PQ+DQb3Wi/GZxF7KwN/bkUceaE7EX6PY8vsjLJjzAPX8nE2cGYBRfRqzfGZvls8saYvw82VtYVddW1iWtUX4eXq2U+s8tK0vy8PPq20Rfp6e7dQ2CvtyAFu+GsiWrwbS+746TH66DfffWzbQCA70IvZSRtm1bzlNaMeKdV+f5RvVhO8N28/Q4R6/0r5vNCqs2xbDgB7X59AEB3oTG5dO3OUMVT/sJKFdGprqd2nI8vXRqv62U3RoE4AQgrz8InLz1L6+c995LLQaGpVEiVLSVEc9IyufP5cdZsTAYJNzjuriV5qs2zPIgxUHSp69sZk42lhUyoPxcrLGwcaCw7GZat0fSCA0yL10374z6iKCPafTqeuptltSZmFprlHkhUwUBVzsa+cvCsmkYPMjNJ8ADyiKcvyaluYKW2iZNPlhxjwzF6PByPDhnWjc2Je5X6wkKKguoT1b8eknS8nNLeDVV+YD4OPjxrffvQjAqEdncfZsArm5BXQLeZePpj1G164trrs8xjMH0DRsi9Xz36nLttfMLd1n+fRnFP30Gji6Y9H5IYzJF7F8eg4AhgNrMB7ZbJZGt+buhB9Loc+Hu9Wlg4+WOQRDP9nLsrfVUOXkB5uWLNs20LW5OyHNy8K8aw/qq4zC7D+TjreLDf4etpX2VcTCQsOkN/ow5tU/MRqNDB/YisYNPJk7bztBzXwI7dqEo8cuM+7dxWRm5bN1x2m++iGc1QufY33YMfYfvkB6Zi7L1qqrgGa89wDNmnibVQfmsvDpqXRv0gYPBxcuTl/J+6vn89Oua0fEqsNCq2HSM+0Y85G6SmJ4aAMa+zsz969Ighq6EXpvHUb0bMjbc3fTe9wqnB2smPNa59LjQ19YSU5eEUXFRsL2xvHjpB64OFrx4sfhFBYZUBRoH+TFyN5Xf7FeIaSBExFnM+g3PxpbSw0f9qtbum/4L8dZ8qTaN2Zvi2Pt8TTyi4z0/PYow1q681JnX/44mMi2mAw1/G6j5aN+9arU6dbam/DD8fR+bR021lqmP1cW2RsyfiPLZ6gRyslPt2HCd/vILzTQtZU3Ia3V9nx2UCCvzd3Dkq3n8PWw47NXOgJw5lIW7363FyGgcR1nPnq2bCn7/z7fTXp2ARbWVkx+uStODuqLY9LLXRnz7mq1/vsG0rieG3N/2UtQE09CO9VnRL9A3v44jN6PL8DZ0YY5E3sB4OxozZMjWvHgS0sQAkLa16V7h7L6Wrc9hnnTB1y1vi20GiaN68SYCetU/T5NVf1f96v6Hesyom9T3p65jd5PLsLZ0Zo5E0IB2Hc0gS9/24+FVoNGI/jgf11Mohfm0u0eH7UtXlmLjbUF058v1xbvbGT5zHJt8e1etS1a+5S1xeBAXvt8d1lbvNrRLF0LrUat+3dWYjQoDO/XjMb13Zn7878ENfEitHN9RvRvxtvTN9N79O9q3U/qXXr8vsjL+Hg54O/rbHLeT7/fxeqwU+QVFNPtoV8Y0b85Lz9ZebrFwkLDpNdCGfPGEvV5MyCIxvU9mPvDToICdYR2acSIAcG8/dE6eo/8EWcnG+Z8oLZnSlouz7yxBI1GoPNwYOZ7/UvPO+2LLZyMURdMvPhkR+oHVJ/z2K2ZG+HHU+kzYy82luqy7SsMnb2fZW+o/Xfy8MaM/+sEBUVGuga6/R979x2f0/k/fvx13Xf23ncSEisIYlN7haJoUXTp0FKtT/dUtBRFbdVNp5ZWa6+iYsWqLWLHCJHkzt77vs/vjxNJblm3kkS/v+v5eOTBfc51zvs65z7n3Ne5xjl0D1TXOW1EI2auj8BgULC21DBtuHoDuD0snt8ORGOhEVhbapj/dJMKb4KkqiUq68UPIITYryhKl0oTlqG8Jqfqkjfrs5oMj2Xrqu9PURHxgHkXvaqimfRVjcY3/q9/5YmqUME/ZQ/Nrw4WrRtUnqgqeZU9lLzaGAtqNn5SauVpqpJX+U1w1cLyzgt995Jy+GiNxtcMWlKtJZst196rtt/aAXXn3peltsre5fRo4X+PCiFWAuuAokZGRVHWlLWcJEmSJElSdaqsyenhwn8VIAvoW2KeAsgCjSRJkiTVsPu5b0t1qexdTs8DCCF+Bt5QFCWl8LMrML/KcydJkiRJkmQGczsFt7hVmAFQFCVZCFH5ozElSZIkSapysobmDl59UFgrA4AQwo07eIaNJEmSJElSVTK3UDIfOCiE+LPw8whgRtVkSZIkSZKkO6ERd/V6xf8TzH31wTIhxFEguHDSo4qinK26bEmSJEmSJJnvTl59cBaQhRhJkiRJus/IPjTm96GRJEmSJEm6b8mOvZIkSZL0HydraGQNjSRJkiRJ/wfIAo0kSZIkSf95sslJkiRJkv7jZJOTrKGRJEmSJOn/AFlDI0mSJEn/cfLBetVRoEm6UeUhKmL1ROcajY+9S42GF/buNRrf+L/+NRpf89XWGo1veLhVjcavURkZNRs/L79GwyvJqTUaX9MgqEbjG8OP1mh8PFwrTyP9nyJraCRJkiTpP06D7EMj66gkSZIkSfrPkzU0kiRJkvQfJ0c5yRoaSZIkSZL+D5A1NJIkSZL0HydHOckaGkmSJEmS/g+QNTSSJEmS9B8n+9DIGhpJkiRJkv4PkAUaSZIkSfqP0whRbX+VEUL0F0JcEEJECCE+qCDdMCGEIoRod0/2wb1YiSRJkiRJkhBCC3wJPAQ0BZ4UQjQtI50j8Abwz72KLQs0kiRJkvQfpxGaavurxANAhKIoVxRFyQN+BwaXkW46MBvIuWf74F6tSJIkSZKk//uEEGOFEEdL/I0tMbsWUPIljlGF00ou3wbwUxRl873MlxzlJEmSJEmS2RRFWQIs+TfLCiE0wAJg1L3ME5hRQyOE6CKEsC/8/9NCiAVCiDr3OiOSJEmSJP0791Gn4JuAX4nPtQun3eIIBAG7hRDXgI7AhnvRMdicGpqvgZZCiJbAO8B3wDKgx90GDz14mRmLtmM0KAx/pBVjn+1sMv/IievMWrSdC5fjmD9tKP2DmwBw7mIsH8/dSmZmLhqNhpdHdWFAn1J9jkrHOxrFjK8PYTQaGd6/MWMfb2kyPy/PwPh5ezhzKQEXJxsWTOhFbW/HovnRcRkMGruaV55uw+jhzQEIfnYl9naWaDUCrVbD6s/LaiosjP/PVWZ8tgujUWH4oCDGPt3htvgFjJ/xF2cuxKnxpw6ito8zefkGpsz9m/ALejRCMPGNXnRo7Wey7LgP1hIVncrGZaMq3Q8Ae/edY8bsdRiNRkY82pGxo3ubzD9y9DIz56zjwqUYFsx+hv59i/fVnAUb2RN6FqNRoUunRkwaPxRhRs/30BPRzPjxuLr9vRswdqjpd5aXb2D854c4cyUJFwdrFrzdmdpeDiSn5/LGvH2EX05iSM96TB5TfNyP+WQX8ck5GAxG2jbxYvKYtmi1d9+S+v0zkxjUvAtx6ck0nz7yrtcHoCgKM9deYu+5JGwsNcx8sgnN/BxLpTtzI50Jv50jN99I9yZuTBzaECEE526m8/GfF8nLN6LVCCYPb0SLOk5Fy52+nsaTnx1n/jNN6dfKqyjmjGUn2XsyBhsrC2a93J5m9VxLxQy/ksyEbw+Tm2egeysfJj3bCiEEKRl5vL34IDfjs6jlacfC1zvh7GBFelY+7335DzGJWRgMCs8PbMSwnvUAiE7I4sOlR4lNzkYg+PajYGrrHAg9fpMZ3x1Vv/8HAxg7LMgkD3n5BsYv2s+Zy0m4OFqx4N3u1NY5sP9kNPOXnSC/wIilhYb3R7WhYwufomWmLznM4TPqufHmyFb066zeb4WejClxvNVn7JAyjrcvDnHmSrIa7031eAP4du1ZVu+8gkYjmPR8G7q1UuMFv7IBe5tb57tg9af9AHhr4X6uRqcDkJaVh5OdFWs/MD2/Sx0Lf5xn75l4bKy0zHy2Oc38nUqlOxOZyoRl4eTmG+jezJOJjwUWnWu/7opkxZ4baDTQI8iT9x5tXG68kvYeuMSM+VswGhVGDG7D2FHdTeYfOX6NmQv+4kKEngUzRtC/dzOT+RkZOQx4/Av69Ahk8vuDzIqpKAozV4SzN0yvbu/o1jSr61J6e6+lMOG7E+r2ttAx8akghBB8tuY8O0/EoBECNydrZo1ujZerDRsPRvHdlksoCtjbWDDl2RYE+juXHX/5afaeKoz/Ypuy419NYcJ3x9XzoKWOiSObI4Rg7u/h7DoZi6VWg5+XPTPHtMbJ3or8AiMf/XCCs5GpGAxGBnfxZ+zDjczaJ/+HHQEaCiHqoRZkngCeujVTUZRUwOPWZyHEbuBdRVGO3m1gc678BYqiKKider5QFOVL1BLWXTEYjEybv5WlC55g028vsfnvM0RcjTdJ4+PtxKyPHmbQg6YXPhsbS2ZPfoRNK15i6cInmLVoO2npFfcrMhiMTPvyAEs/6cumJcPYvPsKEZHJJmlWbbuAk4M12398jOeGNmP+D0dM5n+65B+6tatdat3LZg9g3VdDKyzMGAxGpi0IYem8R9n0yyg277hAxNVE0/ibw3FytGH776N57rG2zP9mLwB/bgwDYOPPz/HDwuHM/mI3RqNStNz2PZews7WqcPtL5WXmGr77eiyb141n01/Hibgca5LGx8eVWZ88yaCH2phMP37yKsdPXmXDqvfYtOZ9Toff4PDRy+bF/O4YSyf1ZNPCAWzeF0nEjVTT7Q+5gpO9Fdu/eJjnBjVm/q+nALC21PLGEy14/5lWpda76O2urJ//EBsXDiApLYetB2+USvNv/HRwM/0/f+uerOuWveeSiIzPZuvEDkx9rDHTVl0oM93UVReY9lhjtk7sQGR8NqHnkwCYt+Eyr/Sry9r32vPaQ/WYt7F4vxuMCvM3XqZzY9PCyt6TsUTGZrBtwUNMG9OWqT8cLzvmD8eYPqYd2xY8RGRsBqGn1ONh6YbzdAzSsW3hQ3QM0rF043kAlm+PIKC2E+s/7cuyj3oyZ/kp8gqMAIz/+jCjBzVmyxeD+WPuQ7i72Kjf/7eHWTo5mE2fP8zm0GtE3EgxycOqvyNwcrBi+zdDeO6RJsxfpubV1cmGrz/sxcbFD/PpG515f9H+omW+WRWOu4sN274awubPH+GBIJ26PwxGpn1/lKUTe7Bp4UNs3n+diKjbjredhcfb54N4bmBj5i9Xj7eIqFS2HLjOpgUP8d2kHkz7/igGo7FouWVTglk3t39RYQZg4VtdWDe3P+vm9qdvBz8e7FD6OmHyvZxJIDIui61TuzH1qWZM++1s2d/Lb2eZNrIZW6d2IzIui9AzCQD8cyGRkFNxrJvUmU2Tu/JCn7oVxrvFYDAybc4mvvvsGTb/8Sqbtp8m4kqcSRofb2dmTRnKoH7Ny1zHom920r71nVXS7w2LI1KfydZPezN1VEum/RJWZrqpy8KY9nxLtn7am0h9JqGn1byNfqgB66f3Yu20nvRsqeOrDeq5U9vDjmUfdGHDJ70Y90gjpvx8qpz4eiJjM9g6pw9Tn2/FtHLSTf35JNOeb8XWOX3U8yBMjd+5mRcbZgSzfkYwdb0dWLLpEgDbjtwkr8DIhhnBrJrak5W7r3IzPvOO9s29okFU219FFEUpAF4FtgHngD8URTkjhJgmhHikavdB5dKFEBOAZ4DNhe1flncbOOxsNP613fCr5YqVpZYBfZoSsveiSZraPi40DtAhNKY7sJ6/O3X93ADQeTri5mpPUkpWxfEuxOPv44Sfj5Mar0d9Qg5eN0kTcvA6Q/oEANCvWz0OnoxGLcvBjgPXqK1zJKBO6btbs7b3XCz+tVzw83VR4/duTMi+CNP4oREM6a/eDfXr2YiDx66jKAqXryXSsY0/AO6udjg52BB+Xv3ByczK46eVRxn3bEfz8xJ+nTr+HvjVdsfK0oKB/VsTsivcJE3tWm4ENvJFc9u+F0KQl1tAfn4BeXkF5BcY8HCvvHwbFpGEv7cDfjoHdfu7+BNyJMp0+49EMaTwLr9fJz8Ono5FURTsbCxo28QTKyttqfU62KmHYoFBIb/AyL16WGZoxEmSMtPuzcoK7QxPYHB7b4QQtKrrTFp2AXGpuSZp4lJzycgx0KquM0IIBrf3JuS0+iMmBGTkFADqv17OxYXYX0OjeLClJ+4OpgXbkGPRDO5WR43Z0J20rDzikrNNYyZnk5FdQKuG7mrMbnXYcTS6cPmbDOmm/ngN6VaHHUdvFuUlM7sARVHIyinA2cEKC40gIioNg8FIl+ZqwcLe1hJbawvCLiXi7+OIn7ej+v13rUPIP6aFz5DDNxjSqwEA/TrX4WCY+v03re+Gzs0OgIb+LuTmGcjLNwCwZkdEUU2PRiNwdbIBUON5O6rHm4WWAZ39CTly0zTe0ZvFx1tHPw6G61EUhZAjNxnQ2R8rSy21vRzw93YkLCKpsq8XUGsCth68zsAuFf/g7zwVx+COvur3Ut+FtKz88o+F+i7q99LRl5BT6g/s73tv8GK/+lhZqpdwdydrs/IXdiaKOn5u+NV2U8/9B5sTsue8SZravq4ENvQus2kh/Fw0iUkZdOkQYFa8ou09EcvgzrXV7W3gpm5viulNaFxKjnocNnBTt7dzbUKOq9c5B9vin5zsXAO3flNbN3TD2V495ls2cCU2qewb253HYxncxV+NH1BB/JwCWgUUxu/iT8jxGAC6NPfCorDmt2UDV/SF55BAkJ1bQIHBSE6+EUutBnvbu/55/M9TFGWLoiiNFEVpoCjKjMJpkxVF2VBG2p73onYGzCvQPA7kAi8oihKL2h42924D6+PT8fEq/iH09nJCH59+x+sJO3OT/HwD/rUqLmjoE7Pw8bQvjudhhz7RtCQdl5iJj6da5Wyh1eBob0VKWi6Z2fks/SOMV55uXWq9QsDoiVt59NV1rNxyvtT8ovjxGabb6+mIPiHDNH5CcRoLCw2O9takpGbTOMCLnfsvU1BgJCo6lTMX9cTEqftq8Xf7ef6JdtjYmN+/W69PxVvnUvRZp3NBH5da/gIltG5Zlw7tA+ja+2O69v6Ybp0DaVBfV3nMpCx8POyKPnu726FPuu2HNSm7KI2FVoOjnRUp6XmVrnv09F10Gb0Ge1tL+nX0qzR9TdGn5uLtUvzD4+1iXeaPmM65OI3O2Rp9YZoJQxsyb8Nlek09wJwNEbw1UP3x16fksuN0PE92NhlIoM5LzsbHrcR+d7MruhiXTOPtZlsijW1RmsTUXLxc1XmeLjYkFuZlZN8ALken0f2VTTwyfhsTn22NRiO4FpOOo70Vry08wNC3NjHnp2MYDMbC77/E+eduX8b3n3Xb929JSrrp/tl28DpN67thZaklLUM9Nj5bcYpH397MG3P2kJCirlOflIWPe8njzbbs48399nh56EtML9ofScU/YKNn7ObR8dtYucP0hgTg6Ll43J1tqOtTcSFfn5KLt6tNcQxXmzJ/YHUljhediw36FHV/XIvL4lhEMo/PPsQzCw5z+pp5568+Ph1vXXGTjE7nhD7evIK70Whk9qKtjH+jX+WJb4+bkmN6jLnaEpd82/Ym56BzK94nOjdb9CX2yaLV5+j19nY2Hori9SGBpWKs3nudbs29yo6fnI23e8lj3KbMgr3OtTiNzs2m1LkCsCY0km6FBfa+7X2xtbag+xtb6f3WNl54qCEuDubXlt9L91EfmhpTaYGmsBCzAnAVQjwM5CmKsqyiZUoO6Vry8657lNXS4hLSeX/aBmZ++HCpmoR76YtfjzPq0aAyS94r5g9izZdDWPpJP1ZsPMeR0zH3PP6wAUF4ezow/MVfmfn5LloH+aLVCM5diuN6dAoPdm94z2OWJ/J6PJev6tnz9xT27pjCocOXOHrsSrXFL8v3H/UidOlQ8vINHArX12heqtLv+2/ywZAAdk3pzAeDG/Lh72oBeta6S7wzqEGVngOg1s7dirAvTE+TOi7s/XIQa2f1ZfpPx8nIyqfAqHDsfDzvP9WCP+cN4EZsBmt3Vt4kaY5L11OY//Nxpo5TayMNRiOxiVm0DvRkzYKBtGrsyZwfj92TWOVZMb03a2b3Y+nEHqzYFsGRs6bNNZv3V147cy8UGBRSs/L5/f0OvPdoI9767lRRbXJVWbHqCN27NDQpEFWnN4c1YdeCvjzcsTbLQ66azPvnXAKrQ6/zzmOV96W8G99suIBWo+HhzmqT4ukryWg1gj2L+vP3/L78uDWCG3E10+QkmdEpWAgxBpgM7ESt6PtcCDFNUZQfylum5JAuJWlZmWeZztOxqJYBIDYuDZ2n+V1zMjJzefmdlbz5Uk9aBZW+My0Vz92OmBJtm7EJWejc7U3SeLnbExOfgbenPQUGI+mZebg4WRN2Pp5todeY+90R0jPz0AiwttLy9CNN0RXedbq72NKncx3CLiTQvrlPGdvrYLq98enoPBxM43uoaby9HCkoMJKemYuLsy1CCCa83qso3RPjVlDXz40jJ28Qfl5P8IilGAxGkpKzeOa1lfzy+eMV7wudM7H6lKLPen0KOi/zLlJ/h5ymZYs62Nupd47dugZy4tQ12rWtX3FMNztiEoqbBWMTs9CVuGMD8HKzJSYhC293O3X/Z+Xh4mje3Y61lZbe7WsTcuQmXVqW3v81Zfm+KFYdVAu5Qf6OxKYU1zjEpuTi5WzaVOBVokYG1FqdWzU2647EMnGoWnjt38qTj1aqBZrwG+m8s0ztg5GSmc/2U3HM3XgZR0drmtd3IyapxH5PyjK5CwXQudoSW6L2Ijap+E7V3dmauORsvFxtiUvOxq0wL2v3XOXFR9QOqnW8Hajtac+V6HS83WwJrOOCn84BtBr6dPDj1MV4Hu5Rn5iEEudfYmYZ3796jHh7FJ5/Wfm4OKrxYhMyefXT3cx+swv+hbUfLo7W2Fpr6dtRbY7t37kOqwtrTXRudsQkljzesss+3hJLHm/5uDhaoSucbrI/Cpe91fTl7mxDn/a1CItIon1TtVagwGDk78M3TPrWlLR893VW7VebWYPqOBFbooYiNjkHLxcbk/ReJWpkQK3luFVj4+1qzYOtvBBC0KKuCxoByRn5uFVyvug8HYnVF9fm6PVp6DxLd0Yuy4mwGxw7Gclvq46QmZVHfoEBO1sr3n2tb9nbG3KVVXsi1e2t52J6jCVn4+V62/a62qAv0WSkT8pGd9s+ARjUqRYvLfyH14aqtTQXbqTy0Y8n+fbtjriWqB1ZvuMKq/ZcK4zvSmxiyWM8p6jmsTi+rUmNjD4px+RcWRsaye6Tsfw4vktRx+xNh6Lo2twLSwsN7k7WtGnoRvjVFPy8TH9bqoMZD7z7P8+cPfAe0FpRlFGKojwHtAXG323g5k18ibyRRFR0Cnn5BrbsOEtwN/N6h+flG3h1/CoGP9SiaORTpfEaexIZnUZUbLoab88VggsvhLcEd/RnXeEFcVvoVTq2VNu4l88fxM5lj7Nz2eM8O6QZY59oxdOPNCUrJ5+MLLXaOysnn/3Hb9KobtlNX80DvYmMSiEqOlWNH3KB4K4NTON3bcC6rWfU+Lsv0rGN2uabnZNPVnY+APuPXMNCqyGgnjtPDm1F6LqX2fnniyz/8gnq+rlWWpgBaN7Mj2uR8dyISiQvv4DNW08Q3DOo0uUAfH1cOXL0MgUFBvLzDRw5esWsJqfmAW5ExqQTpc9Qt3//dYLbm3acDG5Xi3W71TuvbQdv0DFIV+Hoqczs/KJq4wKDkT3Ho6lfy7yLc3UZ2bU2a99rz9r32tM7yIP1R9R+ISevpeJoa1FmgcbBRsvJa6koisL6I7EEB6kDArycrDlyOQWAQ5eSqeOpXmx3fNSJkMnqX9+Wnsx8sgk7PurEull96d2uFutDI9WYlxJxtLUs80LuYGvByUuJaszQSHq39QUguI0v60LVH6V1oZH0bqvePPi423EwXK2dSEjN4WpMOn5e9jRv4EZ6Vj5JaeoP8aHTsTTwc6F5Q/fC77/w/NsXSfADps2DwQ/4sW6XWpuz7UAkHZur/Y3SMvJ46ZNdvPNMG9o0KW5SEELQq31tDoer/SwOhsXSwE8tmBfFi8sgr8DAlgPXCW5neuMT3LbE8XboBh2bqcdbcLtabDlwnbx8A1FxGUTGpNMiwI2snAIyCs/DrJwC9ofF0qjEiJqDp/XU83XCu0Rzlcmx0NOftZM6s3ZSZ3q31LH+kNpH7+SVlIqPhSsp6vdyKJrglur2926p45+Lar+eq/pM8g0Krg6V991o3rQW164nceNmsnru/32a4O6lm2/KMv+T4eze9A47N7zN+Df6MWRAy3ILMwAje9dj7bSerJ3Wk95tfFh/IErd3stJ6nFYRgHOwdaCk5eT1O09EEVwa28ArsUWN8/vPBFLfR/1ZjA6MYvXvzjC7BfbUM/b9AZxZJ/6rJ0ezNrpwWr8/WqfxJMRSer+Liu+jQUnIwrj779OcBs1fmiYnu+3RPDVmx2xtS6uB/Bxt+Wfs2oft6zcAk5dTi7Km1T9RGXVlEKIA0DPwkcYI4SwAnYritK5wgULlVdDA7DnQAQzF/2N0Whk2KCWvDyqK4uX7CGoiQ/B3Rpx+mw0r36wirT0HKysLPB0t2fTipfYsPU0Ez/ZRED9opFfzPrwYZo08i4dJLV49M6ewzeY+e0hjEaFYX0b8fKTrVi87BhBDT0I7lSH3LwC3p+zh3OXE3F2tGbBhF74+Zj+QH7+y3HsbC0ZPbw5N2LSeHVaCKCOHhjUqwEvP9nKNL69S3H8g1eYuXi3ur0Dg3j52Y4s/m4/QYE6grsGkJtbwPuf/MW5S3E4O9mw4OOB+Pm6EBWTyph3VqPRCHQeDnzyQT9qeZvmKyomlXHj15Yati2cy6692hN6lplz1mMwGBk25AHGjX2Qz778i6CmfvTuFURY+HVeffNH0tKysba2wMPDkc1rx2MwGJk6YxVHjl1BCEG3LoFMeK/80V3KxeKRYnuORzOzcBjtsOD6vDysGYt/DyOogRvB7WuTm2fg/cUHOXctGWcHKxa81UW90weCx20gMzuf/AIjjnaWfP9RL1wcrXh51l7y8g0oCjwQ5MWEUW2KOu8BaL7aWm7eKrLihWn0bNQGDwcX9GlJTNm0lB8ObLzj9RgeblW8LxSF6asvse98ojp09IlAggqH6g6de4S177UHIPx6GhN+O09uvoFuTdz58FF12PaxKynMXHsJg1HB2kLD5OGNSw37nrDiHD2butOvlRdC56HG/OkEoadisbHWMvOl9jSvr3aoHzJhO+tmqT9Ip68kMfGbI+TkGejW0puPRrVGCEFyei5vLT5ETEIWvh52LHyjEy4OVuiTs5nwzRHiU7JBgRcfCeSRrmpTy/7Temb/egpFCJo1cGPa/zpiZallz9GbzPzhCEaDwrA+Abw8ojmLV5wkKMCd4Af81O9/0T7OXUnG2dGKBe90w8/bka//CGPJ6nDqlDgXv/+4N+4uttyMy2D8ov2kZebh5mTDzNc741vYV27PoUhm/nxCPd961eflR5uxeOVp9XhrV0uN98Uhzl0tPN7e7Fx0vH2z5gyrd11Bq9EwcVRrurf25YY+g1fn7VO/V4ORQV3r8PKjxUOaP/jyEK0aevBEX7XDrJJoOoqyJEVRmP77OfadTSgcth1EUB21cDR0xgHWTlIvr+GRqUz4WR223a2ZBx8+3kTtmF9g5MNfwjl3Ix1LC8H7jzamY6C7SQxNuy5lxt6z/yIzF/ylnvuPtGHcCz347JsQgprUonePQMLO3OTV938rPvfdHNj8x2sm61iz8QTh525WOGzbGF7cz1NRFKb/epp9p+OKhm0H1XNRt3fybtZO66lu79UUJnx/gtw8A92ae/Hh0+qw6de/OMLV2Aw0Anzd7fj4uRboXG358IeT/H0sBt/C/jFarWDVlMInimg0pvF/CWNfmB4bawtmjmlNUOHjC4Z+tJO104ML4yczYak6bLtbCx0fPtMCIQT93vubvAIjLoWFxpYN3Ph4VCsycwqY9N1xIm6qte9Du/kzeoBai6rpOLtaO5tcTJlXtW2OJTRyefe+7EhTboFGCPF24X9bAc2B9cCt4dthiqKMMidARQWaalGiQFMjShRoakJ5BZrqUrJAUxP+bYHmXilZoKluQudReaKqZFe6uaBa5eXXaPiKCjTVobwCTXUpWaCpEZqabYKRBZrqV1EfmtZABPAwsKjE9PVVmSFJkiRJku6MkH1oKizQtEHtKzMM+Lx6siNJkiRJknTnKirQfAuEAPWAknWHArXpqeJhLZIkSZIkVQuNWWN8/m8rdw8oirJYUZQmwI+KotQv8VdPURRZmJEkSZIk6b5R6XNoFEUZVx0ZkSRJkiTp35F9aMx7Do0kSZIkSdJ9TRZoJEmSJEn6zzP/jYaSJEmSJN2X5KsPZA2NJEmSJEn/B8gaGkmSJEn6jxOyfkLuAUmSJEmS/vtkDY0kSZIk/cfJPjSyhkaSJEmSpP8DZA2NJEmSJP3HyT401VCgMf4dUtUhKiQ8nWs2fp1qe6N7mQx7DtRofGNqbo3GNzzcqkbjazeerLHYxneH1lhsAOXy9RqNj4W2RsOLpk1rNL7x0N4ajS9ca/ja26h5jcaXqp+soZEkSZKk/zjZh0b2oZEkSZIk6f8AWUMjSZIkSf9x8uWUZhZohBBtypicCkQqilJwb7MkSZIkSZJ0Z8ytofkKaAOEAQIIAs4AzkKIcYqibK+i/EmSJEmSVAmN7EFi9h6IBloritJOUZS2QGvgCvAgMKeqMidJkiRJkmQOc2toGimKcubWB0VRzgohAhVFuSKEqKKsSZIkSZJkDtmHxvwCzRkhxNfA74WfHwfOCiGsgfwqyZkkSZIkSZKZzC3SjQIigDcL/64UTssHet37bEmSJEmSJJnP3BoaDbBIUZT5AEIILWCtKIoRyKiqzEmSJEmSVDn5YD3za2hCANsSn22BHfc+O5IkSZIkSXfO3BoaG0VRimpiFEXJEELYVVGeJEmSJEm6A4KafXfZ/cDcGprMkg/XE0K0BbKrJkuSJEmSJEl3xtwamjeBP4UQ0agP1vNGHekkSZIkSVINk31ozCzQKIpyRAgRCDQunHRBURQ5XFuSJEmSpPuCue9ysgPeBuooivKiEKKhEKKxoiib7ia4oijM3BLJ3kvJ2FpqmTm0AU197UulW7TjOhtOJpCaU8CxDx8omv7T/hhWHY/DQiNwtbPgk6ENqOViXXnMP86z90w8NlZaZj7bnGb+TqXSnYlMZcKycHLzDXRv5snExwIRQvDFpgj+3BeFm6MVAG8ObkiPIE/yDUY++uUMZ2+kYTAqDO7gy9j+9U3WGXo0ihnfHsJoVBjerxFjH2tpMj8v38D4eXs5E5GAi6M1Cyb0orbOsWh+dFwGg15ewysjWzN6WPOi6QaDkeFvbMDL3Z5vpz5Y4fab7IfN19h7sXDfD2tAU1+HUukW/X2dDSfi1X0/uUPR9KNX05i15RoX9ZnMe6wR/YLczYpbMv6snVGEXknDxkIwY0BdmupKd8v6LPQmG84kkZZj4MibrYqmrwtPZP7um3g5WALwZBtPhrfwqHyb115i77kkbCw1zHyyCc38HEulO3MjnQm/nSM330j3Jm5MHNoQIQTnbqbz8Z8Xycs3otUIJg9vRIs6xcfO6etpPPnZceY/05R+rbzuaH+U9P0zkxjUvAtx6ck0nz7yX6/ndjV9/CmKwszVF9l7JkE9955uSjO/Ms6962lM+PWMuv+beTBxWCOEELz1w2muxWUCkJZdgJOtBWs/6EhyZh5vfn+a8Mg0hnTw4aPHAsuPXwXnfl6BkY9XnCE8Mg2NgImPNeGBRm6m+/6fa8z4fDdGo5HhA4MYO/IBk/l5eQWMn7mNMxf1uDjZsmDKAGr7OJOXb2DKvB2EX9Cj0QgmvtaTDq39ABjz3hriEzMxGIy0bVGLyW8Go9WWfZdeVft+//lEFmyIIL/AiKWFhvcGN6RjY7dS61UUhRm/nGLvyVhsrLXMGtuOZvVcS6ULv5rMhG+PkptnoHsrbyY90xIhBFv/ieKLNWe5HJ3OH1ODaV5fXXb/aT3zV4YXxX//yeZ0bFbxubf34CVmzN+K0WhkxOA2jH2um8n8I8evMXPhVi5E6FnwyXD6925mMj8jI4cBT3xJnx6BTH5vYIWxqpOQrz4wew/8COQBnQo/3wQ+udvgey+lEJmYzdY3WjH1kXpM3XilzHS9Gruy8qWgUtOb+Njx50tBrHulBf2auTF/e2TlMc8kEBmXxdap3Zj6VDOm/Xa2zHRTfzvLtJHN2Dq1G5FxWYSeSSia91zvOqyd1Jm1kzrTI8gTgG3HYskrMLLhoy6smtCJlaE3uJlY3M3IYDAy7auDLJ3Wl03fPMrmPVeIuJ5sEnPVtos4OVix/fsRPDc0iPk/HDWZ/+nSw3RrV7tUXpetP0t9P5dKt91kP1xMITIxh61vtWbqkPpM3XC1zHS9Al1ZOa55qek+LlbMHNaAgZUUIsoTejWN68m5bBnTlI/71WH639fLTNezgQu/P132D1T/QFdWj2rC6lFNKi3MAOw9l0RkfDZbJ3Zg6mONmbbqQpnppq66wLTHGrN1Ygci47MJPZ8EwLwNl3mlX13Wvtee1x6qx7yNl4uWMRgV5m+8TOfGpS/Sd+qng5vp//lbd72eku6H42/v2UT13JvcmalPNGHayvNlppu68jzTnmzK1smd1XPvbCIAC19oztoPOrL2g470belFn5bqD5e1hZbXBzbgvaENK45fRef+n/uiANjwURe+f70ds1ddwGhUipYxGIxMW7STpXOGsOnn59gccoGIa4kmMVdtPoOTozXbV7zAcyPaMP/bfeq6N50GYONPz/LD/GHM/mpv0boXfTyQ9T88w8afniUpJZutuy+Vv+1VtO9d7S35+qVWbJjYiVlPN2P8L2fKXO/eU7FExmawbX4/po1uw9SfTpQd/8cTTB/Thm3z+xEZm0FomB6AhrWdWPxGJ9o1Nj3PXR2t+fqdzmz89EE+fakd739zpNx9AIXfxZwtfPfZSDavfIVN28KJuBJnksbH25lZk4cwqG/p6x7Aom930b5VnQrjSDXD3AJNA0VR5lD4VGBFUbJQ+9LclZ3nkxncyhMhBC39HEnPMRCfnlcqXUs/RzwL74pK6lDfGVsrtWd3Cz9H9Kmlly0V81Qcgzv6IoSgVX0X0rLyiUvNNUkTl5pLRo6BVvVdEEIwuKMvIafiylmjSghBdp6BAoORnDwDlhYa7G2Ke52HXUzA39cJPx8nrCy1DOhen5CDpj/iIYeuM6SPelHu17UuB09FoyjqxWvHgUhqezsQ4O9iskxsQiZ7jtxgRL9GlW67yX44l3Tbvi+4o31fy9WGxt72aP7lqy92XUrlkWZuanxfe/W7zyjditnS1x7PwlqYu7UzPIHB7b3V776uM2nZBeV/93Wd1e++vTchp9UfNCEgI0d9uXxGTgFezsX75dfQKB5s6Ym7Q+l9dadCI06SlJl21+sp6X44/naejmfwAz7q/q9X0f4voFW9wv3/gA8hp+NN0iiKwtYTega29QbAzlpL2wYuWFtUfDmrqnP/ckwGHRqrNZTuTtY42VkQfj21aH7YuVj8a7ng5+ui7vvgxoTsu2yyjpD9lxnSrykA/Xo05ODx6yiKwuVrSXRso9bIuLva4eRgTfgF9UfewV6tjS4wGMnPN1DRqVhV+76pnxNezmo+GvrYk5tvIC/fWCp+yLEYBneto8YPcCctM5+4ZNNxJXHJ2WRk59MqwF2N37UOO45GA9CglhP1fUvXpjat64LOVX2iSMPaTuTmGcjLN5S7H8LO3KRObTf8arlhZWnBwL5BhOw1vbGp7etKYENvNJrSOzT8XDSJSRl06dig3Bg1RSM01fZ3vzI3Z3lCCFtAARBCNAByK16kcnFpeXiX+FHQOVmhT6u8UFKWNcfi6NbQpdJ0+pRcvF1tij57u9oQl5Jjmq+UHHQlmq50LjboU4o3d/nu6wz+ZD+TloWTmqn+CPdto8PWSkv3D3bTe9JeXuhTFxf74m3TJ2bi41HcnObtYY8+Mcs0bmImPp5qGgutBkc7K1LScsnMzmfpqjBeeap1qe2Z+e0/vPtCe0QZJ19F4tLv3b7/N/QZeXiXKCjpHK3QZ9xZ/L8vJjP0x7O8tf4KMWbkXZ+ai3eJ79XbxbrMi7rOucR372yNvjDNhKENmbfhMr2mHmDOhgjeGqhe1PQpuew4Hc+TnWvdUf6r0/1w/JU698rb/y7FaXQu1ibnHsDRyym4O1pR1+vOnhxRVed+YG1HdoXFUWAwEpWQxZnracQmFa9Xn5CBj1fxj7G3pwP6BNPnkcaVSGNhocHR3pqU1BwaN/Bg5/4rFBQYiYpJ5czFOGLi0ouWG/3uGroM/hZ7Oyv69Si/hqo69v32k3E0qe2ElWXpnxV9cjY+7sWPMvN2s0WfnHNbmhy83W5PY/5g2m1HbtK0rlpoLI8+Pg1vXXFTm87LCX28eTcPRqOR2Z9tY/zrfc3Ok1S9zC3QfAxsBfyEEMtRH7Q3vrzEQoixQoijQoijS3dcvPtcVmLDqXjCozN5oatvlcd6orsf26d3Z+3Ezng6WzNntVq6P30tFa1GsOfTnvw9vRs/7rjGjfisStZmni+Wn2DUkGbY25rWVOz65zruLjYENfx3zT7/ZT0bOLN9bBBrn29KpzqOTPrrWpXH/H3/TT4YEsCuKZ35YHBDPvxdrbafte4S7wxqUOYd3f8F99vxt/lYbFENQXUq79x/tHMtdC42jPj0ELP+PE+r+i737FgYNiAIby8Hhr+0gpmf76Z1Mx+0Jdb9/bxHCV0zlrx8A4eO37gnMStS3r6/FJPB/A0RTH2i7ObhqnYpKo35v4cz9YU2lSf+l1asOkL3zg3x1jlXWYy7IYSm2v7uV+aOctouhDgGdERtanpDUZSECtIvAZYAGFY+p5Sct+KfWP48plbhNq/lQGyJZiJ9Wh46pzursj9wOZUle27y8wvNsCqnynn57uus2q+2cwfVcSK2xJ1BbHIOXiXuSgC8brsr05e4a/NwKr57G9G1Ni9/eRyATYdj6NrMA0utBncna9o0cCX8ehr+7dS0Ond7YhIyi+MmZKJzN73L8XK3JyY+E28PewoMRtKz8nBxsibsQjzb9l1j7g9HSc/MQyPA2kqLPiGLnYeus+dIFHn5BjKy8nhv7h7mvtejzP2w4lAsfx5Vq6vvxb6/U78dj2dVmHrYBPnYEVuiiUufnofuDpprXGyLD91hLTxYsOdmmemW74ti1cEYNaa/I7ElvtfYlNyi6vJbvErUyIBaq3OrxmbdkVgmFvbT6N/Kk48K+yGE30jnnWVqf4yUzHz2nktEqxX0ae5p9vZUtZo6/pbvvcGqA+p3E+R/27lX3v4vUWuiT8k1qTEpMBjZcSqeVe+ZdqotT3Wc+xZaDRNGFP+QPzn3H+rqimvDdB4OJrUqsfEZ6DxMO+B7Fabx9nKkoMBIemYuLs42CCGY8GrPonRP/O936vqZ9tOytragd5cGhOy/TJf2xX07qmvfxybn8NrSMD59phn+nsXH1PK/L/PnLrVvXvP6rsSU6FMYm5SNztV03+tcbYhNuj2NLZWJTczi1UUHmf1yO/x1pQc2mMTwdCJWX1wjo49LQ+dZunN0WU6cjuLYyUh+W32EzKw88gsM2Nla8e6r5g3EkKqeuaOcQhRF6Q1sLmPaHXmqgzdPdVBL+HsuJLP8n1gGNHcnLCoDRxttmf01ynM2JpOpG67w7bOBuFfQz2JkT39G9vQHYPfpeFbsvs6Adt6cupqKo61FmSe2g42Wk1dSaFnPmfWHohnZS10+LrX4QvD3ST0NC0cG+bjZ8M+FRAZ38CUrt4BTV1N4Nrj44tK8kQeR0alExabj5W7Hlr1XmPd+T5O4wR38WLfjEq2beLFt3zU6tlDbvJfPLe5J//mvx7GzteTph9X29neeV0tM/4TF8MPq8HILMwBPdfTmqY4l9v2hWAa0KNz31ne27/+NJ9t48mQb9Ud+z+VUfjsRz0OBroTFZOFgrb2jvjLxGflF6XdFpFLf3abMdCO71mZkV7Uj6+4zCazYd5MBrb04FZlW8Xd/LZWWdZxYfySWkd3U5b2crDlyOYUHAlw5dCmZOp7qxXbHR52Klp+w4hw9m7rfV4UZqLnjb2R3P0Z2V/uA7A5PYMXeGwxoq+PUtTQcbcrb/xacvJpKy7pOrD8cw8gefkXzD15Iop7OzqT5pCLVce5n5xlQFAU7awv2n0tAqxEE+BT/sDYP9CYyKpmomFS8PBzYsvMC8z56yHTfd6nPum1naR3ky7Y9l+jY2k/tl5eTj6KAna0l+49EYqHVEFDXncysPDKz8/Byd6CgwMieQ1dp28K0ybM69n1aVj4vf3OStx8JoE19F9P4DzZg5INqs+zuEzEs//syAzvV5tTlJBztLPG6rbDi5WqLg60lJyMSadnAjfX7Inm6b8V9VdIy83hp/gHeeTyINo0qryls3tSXazcSuXEzGZ2XI5u3hzN/+rBKlwNM0q3ZdILwc9H3VWFGI0c5VVygEULYAHaAhxDCleKOwE7AXXcY6N7Ihb2XUui/6CQ2lhpmDC0+eId+Fcba/7UAYN62SDafTiQn30iveccZ1saTV4P9mLctkqw8I2+tVHv3+zpb8+XIxmXGuqVHkAd7w+PpNzm0cOhm8eipoTMOsHZSZwAmP9mUCT+rQze7NfOgezP1ZJm35gLno9IRAmq52fLxSHVI31M9/Jn0SziDpu0DBYZ2qkXj2sXt5hZaDR+N68ToD7dhNCoM69uQhnVcWfzLcYIaehDc0Z/h/Rrx/ry99B39J86O1iwY3/Nud3G5ujdyYe/FZPovOIGNlYYZjwYU74cvTrH2VXVI77ytkWwOS1D3/ZxjDGvrxau9/TgdlcHrKy6Qll3ArvPJfLHzBhtfb2V+/PpOhF5J5aGlZ7C11DD9oeLC37CfzrF6VBMA5u+OYsu5ZHLyjfT++jSPtnDnlS6+/Ho8jt0RajOfs42WTx6qW2nMHk3d2XsuiX4zDqnffYnq8aFzj7D2vfYATB7WiAm/nVe/+ybudG+iDkOd9nhjZq69hMGoYG2hYVo5w4Pv1ooXptGzURs8HFy4MXMDUzYt5YcDG+9qnffD8dejmTt7zybQb9oBddj808XDYYd+eoi1H3QEYPLjgUVDh7s1cad70+JHAmw5pi+zyaP3lH1k5hSQX6AQcjqe7/7XmgA/06aBqjr3k9LzGLP4KBqNwMvZmtmjTEfHWFho+OjNYEa/u0bd9wOa0bCeB4u/P0BQoI7gLg0YPiCI92dspe9TP+DsaMOCKQMASEzOYsx7a9EIgc7TntmT+gOQnZPP/yZsIC9fLUw90MqPJx5pUe37fvneG1xPyOLrrVf4eqs6SvW7V9rgftvNUY9W3uw9FUvfd7ap+35su6J5QybuYN3MPmr8Ua2ZuOQoOXkGurXU0b2lGu/vIzf5ZNkpktJzeXnefgLrOPP9+G4s//sy1/UZfLX2HF+tPQfA9+O74u5cdoHXwkLL5PcGMOb1XzAYFYY93JqGDbz47NudBDXxpXf3QMLO3uTV938nLS2HXaEX+XzJbjavfKXcfSvdP8StUQxlzhTiDdSnBPuiDtW+VaBJA5YqivJFZQFub3KqbsKzZts7RZ2a7ShqPH6uZuOn3nXf8bui9a3Z71+78WSNxTa+O7TGYgMol8seil9tLGr23TaiadMaja+Ena7R+MK1hq+9jcoedl1tnJ+s1k51WQUbq+231s7i4fuyw2CFNTSKonwGfCaEeE1RlM+rKU+SJEmSJEl3xNxGt1ghhCOAEOJDIcSaki+rlCRJkiRJqknmFmg+UhQlXQjRFegDfA98XXXZkiRJkiTJXPLBeuYXaG49enEgsERRlM1A1Q6JkSRJkiRJMpNZw7aBm0KIb4EHgdlCCGvMLwxJkiRJklSF5MspzS+UPAZsA/opipICuAHvVVWmJEmSJEmS7oS5TwrOEkLEAV2BS0BB4b+SJEmSJNWw+7lvS3Uxaw8IIaagvrtpQuEkS+DXqsqUJEmSJEnSnTC3D81QoDVwHEBRlOhbw7glSZIkSapZsg+N+X1o8hT1kcIKgBDCvpL0kiRJkiRJ1abSGhohhAA2FY5ychFCvAi8ACyt6sxJkiRJklQ52YfGjAKNoiiKEGIE8DbqO5waA5MVRfm7qjMnSZIkSZJkDnP70BwHUhRFkUO1JUmSJOk+I2QNjdkFmg7ASCFEJJB5a6KiKOW/r16SJEmSJKmamFug6fdvA1xddOzfLnpP1J/dt0bjJ9aqVaPx3W7qazS+RX27Go1f04zvDq2x2Jp5a2ssNsCV89k1Gt/KoWbfzpL8k2+Nxg84dL1G41u10tVo/H/8LtRo/I7O1RtPKNUZrBpj3QGz6qgURYks66+qMydJkiRJ0n+LEKK/EOKCECJCCPFBGfPfFkKcFUKECSFChBB17kVc2egmSZIkSf91irH6/ioghNACXwIPAU2BJ4UQTW9LdgJoV9htZRUw517sAlmgkSRJkiTpXnkAiFAU5YqiKHnA78DgkgkURdmlKEpW4cdDQO17EdisPjRCiM5A3ZLpFUVZdi8yIEmSJEnSXaqk5uReEkKMBcaWmLREUZQlhf+vBdwoMS8KdWBReUYDf92LfJnzYL1fgAbAScBQOFkBZIFGkiRJkv4/U1h4WVJpwkoIIZ4G2gE97jpTmFdD0w5oWvjqA0mSJEmSpPLcBPxKfK5dOM2EEKIPMAnooShK7r0IbE6BJhzwBmLuRUBJkiRJku6xamxyqsQRoKEQoh5qQeYJ4KmSCYQQrYFvgf6KosTdq8DlFmiEEBtRm5YcgbNCiMNAUSlKUZRH7lUmJEmSJEn671MUpUAI8SqwDdACPyiKckYIMQ04qijKBmAu4AD8qb4ukuv3okxRUQ3NvLtduSRJkiRJ1eD+qaFBUZQtwJbbpk0u8f8+VRG33AKNoih7AAqrjWIURckp/GwL1OwjICVJkiRJkkow5zk0fwIli36GwmmSJEmSJN0PjMbq+7tPmVOgsSh8OA4Ahf+v2ZekSJIkSZIklWBOgSZeCFHUWUcIMRhIqLosSZIkSZJ0R+6TVx/UJHOGbb8MLBdCfIH6js0bwLNVmitJkiRJkqQ7UGmBRlGUy0BHIYRD4eeMqsqMx1sTsOvcDSUnh7jpk8i9eK7ctD5zPsfCtzY3nh56RzEURWHm72fZezoOGystM59vSbM6pd/zfiYylQk/niI3z0D35l5MfKIphcPLAPhx+xXm/HmOAwsexNWxuAXu9NUUnvz0APPHtqZfWx+z83VofwSLZm/DaFR4eGhrnhndxWT+2j+OsWblETRaDXa2Vrw/eSD1GnjeF9v+/bbLbDoUDUCB0ciVmAz2L3wQF3srFEVhxrKT7D0Zg42VBbNebk+zeq6lYoZfSWbCt4fVmK18mPRsK4QQpGTk8fbig9yMz6KWpx0LX++Es4MVqRl5TFpyhOv6TKwtNcx4qT2N/NRtWfbXJf7cdQVFgeG96hIVn3XP46dn5fPel/8Qk5iFwaDw/MBGDOtZD4DohCw+XHqU2MQshFbLt9MepLbOkdCjUcz49hBGo8Lwfo0Y+1hLkzzk5RsYP28vZyIScHG0ZsGEXtTWORbNj47LYNDLa3hlZGtGD2teNN1gMDL8jQ14udvz7dQH7+SQKNP3z0xiUPMuxKUn03z6yLteX3ncXhuPXYeuKDk5xM/+iLxL50ul0c3+Cq27B0JrQU7YcRI/mwlGI1YNGuP+9ocIKyswGEhYNJO88+F3FN957DvYtO2CkptD8mdTyb98oVQa948Xo3VzB60FeWdOkPLNHJM+BA5DRuI8+k1iRvbBmJZqduwTh6L4YdE/GA0KvR9uxKPPtjCZv23tebauPodGq8HG1oKXx3fBr54L+fkGvp19gMvnExAawQtvdiCojfnXmVss+o1F07At5OeSv/4zlNjLtyWwxnLEeISrDxiNGC8dpiDkZwCEfzMs+72I0NUlf/UcjOcOVBpPURRmrr/C3vNJ2FhqmPl4Y5rVdiiV7kxUOhNWXiQ330j3QDcmDq6PEILz0Rl8vDqCrDwDtVxtmPtUYxxs1J+vC9GZTFl9iYxcAxoBf77eGmvL8hsfwv6JZvnnxzEaFXoMbMCgkbe/N1F1ZM8Nvpi8j4+/7Uu9QHfCj8Twx5JTGPKNaC01PDGuFU3beFe67dXmPq45qS5mvZxSCDEQ+B/wthBishBicmXL3Cm7Tt2w9PPn+ogBxH36MZ7vf1RuWvsefTBmZ5U7vyJ7w+OJjMtk64yeTH2mOdOWl30RnPrraaY905ytM3oSGZdJaHh80byYpGz2n4nHx83WZBmDUWH+6vN0bupxR3kyGIzMn7mV+V89xfK149ixNZyrl+NN0vQdEMQvq1/m5z/G8tTznfh83t93FAOqbttH92vA2indWDulG28/Gkj7Ru642KuFvL0nY4mMzWDbgoeYNqYtU384XnbMH44xfUw7ti14iMjYDEJPxQKwdMN5Ogbp2LbwIToG6Vi6Uf3R+3b9OQLruLBhdl9mj3uAmctOAnDxRip/7rrCH9N7s+7TB1m3N5LzkSn3PP7y7REE1HZi/ad9WfZRT+YsP0VegXpBGf/1YUYPasyWef35Y9HDuDvbYjAYmfbVQZZO68umbx5l854rRFxPNsnDqm0XcXKwYvv3I3huaBDzfzhqMv/TpYfp1q70O9yWrT9LfT+XMrfr3/jp4Gb6f/7WPVtfWWw7dMWylj9RTz9MwvxpuL/1YZnp4qa+R/SYx7j5/KNoXVyx79EXALeX3iLl52+IfvFxkn/8CreX3ryj+NZtO2Ph64/+pUdJ/nImLuM+KDNd0uwJxL0+krhXHkfj7Iptl95F87QeOqxbd6Ag7s6eOWowGFk67xCT5vdl0Yqh7NtxhRtXU0zSdOtbn4W/DmX+z4MZMrI5Py0+DMCODRcBWPjrUKYs6sfPnx/BaLyzh7hrAtoi3H3J++Il8jd9ieXAcWXn8+Ba8r4aR96SN9D4NUET0FadkRpP/vpFGE/vMTvm3vPJRCZks3V8O6YOb8i0NRFlppu6JoJpwxuydXw7IhOyCb2gniMf/XmJtwfUZcM7bekT5M73u6MAKDAovP/beT4eFsCmd9vy88stsNCKMtcNYDQYWbboGO/M6cmsnwdwKCSSm9dKF0Szs/LZvuoCDZq6F01zdLbmrVndmfHTAMZO6Mi3Mw6Zvf1S9ai0QCOE+AZ4HHgNtclpBFDnXmfEvnsv0v/aAEDumTA0Do5o3UsXDIStLS5PPkvSj9/+qzg7T+oZ3LEWQghaNXAlLSufuJQckzRxKTlk5BTQqoErQggGd6xFyEl90fxPV57l3eFNELedN7/uvMaDbb1xd7S+ozydC4+mtp8rtWq7YmmppXf/ZoTuNr1btHcoXmdOdn6p2Oaoym2/ZfPhaAY84Fv0OeRYNIO71VFjNnQnLSuPuORs05jJ2WRkF9Cqobsas1sddhyNLlz+JkO6qYfbkG512HFUfYL25ZtpdGzmBUD9Wk7cjM8kITWHKzfTaBHghq21BRZaDRZaDTpX23seXwjIzC5AURSycgpwdrDCQiOIiErDYDDSpbn6ZAN7W0tsbSwIu5iAv68Tfj5OWFlqGdC9PiEHr5vkI+TQdYb0aQhAv651OXgqmltvHNlxIJLa3g4E+LuYLBObkMmeIzcY0a9R2V/IvxAacZKkzLR7tr6y2HXpRcb2jQDknjuNxt4RrVvp813JylT/o7VAWFiiPusTFBQ09uodvsbeAUNifKllK2LbsQdZOzcDkH8hHGHviMbVvVQ6JftWfC1YWN4KD4DzmLdI/fFzuMO3wkScTcC7tiPetRyxtNTStU99joSaHgt29sW1vjnZBUXnW9TVFIIKa36d3Wyxd7Di8vk769KoadwRw6md6vbdvADW9uBwW61lQS7Ga6fV/xsLMMZcRjiq+0dJjUOJu3ZH273zTCKD23qp52EdJ9JyCohLyzNJE5eWR0aOgVZ1nNTzsK0XIeGJAFxLyKZ9fbUGtnMjV/4+rW7z/ovJNPaxJ9BXPRZc7S3Rasq/OF45l4SulgNevg5YWGrpEOzP8X1RpdKt+T6MgU81wdJKWzStTiM3XD3sAKhVz5n8XAP5eYZSy9YY2YfGrBqazoqiPAskK4oyFegE3LurZyELTx0F+tiizwXxeiw8Sz/uxn3sa6T89jNKTk6peebQJ+fgXaJ2wdvVpswfdZ2rTdFnnast+mQ1TcjJWHSuNgT6OZVa744TsTzZ487LevFxaXh5F6/Py8uJeH16qXSrfz/CiIFf8NXCEN4c3++O41TVtt+SnWtgX3g8fdsWV8Pqk7PxcbMrjulmh/62AoU+Ods0X262RWkSU3PxclXnebrYkJiqPqy6sb8Lfx9RCxdhEUlEJ2QRm5hNQz9njp5PIDk9l+zcAiL1GUU1J/cy/si+AVyOTqP7K5t4ZPw2Jj7bGo1GcC0mHUd7K15beIChE/5mzveHMRiM6BMz8fGwL47hYY8+0bSWMS4xEx9PNY2FVoOjnRUpablkZuezdFUYrzzVutQ+n/ntP7z7QntEBRfx+5GFhxcFccUFZUOCHq2HV5lpdXO+xn/tLozZmWTuUWsmk76Yg9tLb+G3chtuL79D8tLFdxRf6+6JIaFE/MQ4tO5lx3efuhifX7ejZGeSfSAEAJsO3TEkxlNw7dIdxQVIis/CQ1d8LLh52pEYn1kq3V+rz/G/4av45asjvPCW+rLiOgFuHN13A0OBEX10OpcvJJKgL71sRYSjO0pacSFISU8sKqyUydoeTaMHMF49dUdxStKn5eHtUnxT5u1sRVyq6et74lJz0TkXp9E5W6MvLPQE6OwIOaMWbradiicmVZ1+LSEbhGDM0tM8uug43+26QUWSE7Jw8yq+Hrl52pGcYHo9uHYxiaS4LFp1qlXueo7uuUGdRq4mBR6p5plToLn1bWcJIXyBfODOG23vAauGjbGs5UfmnpCaCE92roElWy7z2iOly3OzVp7hnUcD0VThD8uwJ9rz5+ZXGfdmMD8t3VdlccpS0bbfsitMT+sA16LmpntNCMGtvTv2kUDSMvMZMmE7v26/RJO6Lmg1gga1nHjx4UBGz9rLi7NDcbS1vGffScn4+8L0NKnjwt4vB7F2Vl+m/3ScjKx8CowKx87H8/5TLfjzk97ciEln7Y6yq9fN9cXyE4wa0gx7W0uT6bv+uY67iw1BDe+sifO/Rv/+OG4M642wtMKm9QMAOA5+jMSv5nLj8X4kfTUXj/c+rrL4iVNeJ+bZhxCWVli3aIewtsZxxPOkLf+mymICPDSsCV+tGs4z/2vH6p/UwkTvQQ1x97Lj/dEb+XHRPzRu7lml1xyEBsth72E4vBElRV95+ioy47FG/HYghmGLTpCZa8CysFnJYFA4fjWVuU8Fsvx/LdkRnsjBS8mVrK18RqPCb1+e4In/lb55uCXqaiorvz3FqHfa/+s4VUI+h8asUU6bhBAuqO9eOI5a6fpdRQsIIcYCYwGm1/PhCZ1bmemchz2B0yPDAcg5F46FrvjO3sJTR0G86QlkE9QK68Bm1FmzDaHVonV1p9aXP3Lzlecr3IDlu66xaq9acg+q50xsUnGJPDY5By8XG5P0Xi42RbUSoN7B61xtuBGfSVRCFkOmhRZOz2HYJ6GsnNiF8GupvLP0BAApGXnsDY9DqxG0eaDCrAHg6eVEXGxxFX9cXBqeJTqD3q5P/yDmzfir8hVTPdvu6ayuY8vhaAY+4GsSs3lDd2KSimsiYpOy0Lma9j3Sudqa5ispuyiNu7M1ccnZeLnaEpecjVvhHZyDnSWzXlYvKIqi0PuNLfh5qXe9ufkGjIpCRnY+TvaW2NtoS6z73sRfu+cqLz4SiBCCOt4O1Pa050p0Ot5utgTWccFPp1aB9+lUh1Pn43g4OICYhOI76diETHTudpTk5W5PTHwm3h72FBiMpGfl4eJkTdiFeLbtu8bcH46SnpmHRoC1lRZ9QhY7D11nz5Eo8vINZGTl8d7cPcx9rwf3I8chj+M48FEA8s6fwcJLV/RyOK2HDkNC+e+oU/LzyNq/C/suvcg5dgjHvg+T9PlsADJ3b8fj3SmVxrcfMAK7fkMAyL90Fq1HcQ2w1t0LQ2IF78jLzyP70B5sOvTAkJyIVueL1+IVhXn3wnPRr8S/PQpjSmKl+XDztDOpVUmKz8Ld077c9F361GfJ3INqLAsNz7/RoWjexLGb8PUv3bH/dtp2A9C2UWt1jdGXEE4eRa1nwtEdJb3sfFsMehUlMRrDPxsqjXG75fujWfWPWuse5OdIbEpxjUxsah5ezqZN817O1uhL1NroU3PROak3R/W97Ph+rNoR/mp8FnvOJwGgc7GiXX1nXO3Vwn73QDfO3sykU8PSHf8BXD3sSIorvh4lxWfh6lF8PcjJyifqagqfvqk2yaUmZbNoYihvzuxGvUB3kuKyWPxhKGMndkRXq/xrtFQzzBnlNL3wv6uFEJsAG0VRKuzOryjKEmAJQESnoHIbWlNX/07q6t8BsOvcHefhT5Lx919YN2uBMTMDQ6Jp23Da2pWkrV2pZtzbF595X1ZamAEY2asuI3vVBWB3mJ4VuyIZ8IAvp66k4GhrUeaPuoONBScvJ9OyvgvrD91kZHBdGtV2Yv+C4lEkvT/YyapJXXF1tGLHp8FF0yf8cIqeLb3o09qbpEpzB4HNfIm6nkR0VDKeOidCtp5hyizT0Vs3IhPxq6NWCx/Ye4na/mUXEmti2wHSs/I5ejGJOWNaYWdtURRzz8VUlm+PYGAnP05FJOFoa1nUhFMU09UWB1sLTl5KpGWAG+tDI3m6bwAAwW18WRcaydhHAlkXGknvtmo1cFpmHjbWFlhZaPhz11XaB3riYKde1Pp3qM3IvgFEJ2Tx5JSdxCRmoyjKPY3v427HwfA42gV6kpCaw9WYdPy87HEqHAGVlJaLm5M1h07FENTQneaNPIiMTiUqNh0vdzu27L3CvPd7muQjuIMf63ZconUTL7btu0bHFj4IIVg+d2BRms9/PY6drSVPP6yOzHjn+XYA/BMWww+rw+/bwgxA+rqVpK9Tz1/bjt1wGvIEmTu3Yt2kOUpmBoYk0/Nd2NiisbNXp2u02HbsTk6Y2qm7IDEem5btyDl1FJs2D5B/83qpeLfL3PInmVvUh5xbt+uCw6DHyN67HcvGQShZGRiTTX/UhY0twtZOna7RYtO+K3lnTlAQeZnYZ4qbfHXfrSf+7WfNHuUU0MSDmKg09NHpuHnasW/HFd782PR7i76Rim/hqL1jB27gU9jMm5uj9tuysbXk1OGbaLQa/Oq5VBrTcHQLhqPqq3U0DduhbT8I45m9iFqNITcLMkrXalj0ehphY0/+xs/N2q7bjeziy8guan+63eeSWLE/mgGtPDl1PR1HGy1eTqY1uV5OVjjYaDkZmUZLf0fWH4srWj4xIw93ByuMRoVvdtzg8Y5qI0HXRq58vzuK7DwDlloNR66k8lz38puK6gW6oY9KJz4mA1cPW/7ZeZ2XP+pcNN/OwYovNwwr+jzrjRCeGNeKeoHuZKbnseCDPTz2UksaNb+zEabV4j7u21JdKnrb9qMVzENRlDX3MiNZB/Zi17kbdf78C2NuNnGfFI9y8vt5FTeeG35P4vRo7sXe0/H0m7RbHbo8qni45NCpoayd0g2AySOD1KHL+Ua6BXnSPajqDmALCw1vTejP2+NWYDAqDBrSkvoBXiz9cjeBzXzo1rMxq38/ypFDV7Cw1OLoaMOH0x+pfMW3qcpt33Eils7NPLCzNj2kerTyZu/JGPq+9Rc21lpmvlRcTTtkwnbWzVJHrUx+oQ0TvzlCTp6Bbi296d5Kra178ZFA3lp8iNW7ruLrYcfCNzoBcPlmOh98cxghoGFtZz55sV3Rel9fdJCUjFwstBpmvdyOHUej73n8cY82ZcI3R3h4/DZQ4N0nW+DqpN5xvj+yJaNm7EFBoVljL0b0b4yFVsNH4zox+kN1aP6wvg1pWMeVxb8cJ6ihB8Ed/RnerxHvz9tL39F/4uxozYLxPc34Vu+9FS9Mo2ejNng4uHBj5gambFrKDwc23tMY2YdCsevQldq/bkLJzSF+dvHASd+lK4l+8XGErS26GZ8hLK1AoyH7xBHSN6gFkoR503B/7X3QalHy8kiYP+2O4uce3Y9Nuy7olqwtHLZdvLznZ8uJf2MkwsYW948WqJ2RNRpyw46S+dfdX/a0FhrGvN2R6W9tx2hQCB7UEP/6rvy29DgBgR607+bPX6vOEXY0BgsLDfaOVrz6oXpupiZnM/2t7QghcPO04/XJ3e84vvHSUTQB7bB6dYk6bHvDZ0XzrMZ+Rt6SN8DRHYtuj2OMv4HV2EUAGI5sxnBiO8K3IVaPTQQbBzSN2qP0GEneN69UGLNHoCt7zyXR79Oj2FhpmPlYcdP10AXHWft2GwAmDw0oGrbdLdCV7oFqTcvmE/GsOKCOJnuwuTuPtldr15ztLBnVrTYjFp9EoNbQ9GxS/s2e1kLDM2+2Y+67uzEaFboPqE/tes6s+T6MuoFutOlSehThLTvWXkR/M531P4ez/md1hOh783rh5GpT7jJS9RJKOT3VhRA/VrCcoijKC+YEqKiGpjrUn923JsOT9ECbGo3vdrjsYcrVRdjbVZ7o/zKXmquW1sxbW2OxAa6cz648URWycqjZN7Qk/zSs8kRVKODL/TUa36pVzb7D+PAD5RdOqkNH74+rt6d++p/V91vrOOK+HIVQ0du2K2/LkSRJkiSp5skmJ7M6Bd96sF4zoKhuTVGUO6vjlSRJkiRJqiKVFmgKH6xnB/RCHd00HDhcxfmSJEmSJMlcsobm/nmwniRJkiRJ0r9lTpPT7Q/WS6SGHqwnSZIkSVJpilJ9r2G4L3sEU0UP1pMkSZIkSapOVfJgPUmSJEmSqtF9/EqC6mLuKKfOQN1b6QsfrLesCvMlSZIkSZJkNnNGOf0CNABOArca6RRAFmgkSZIk6X4gRzmZVUPTDmiqlPdIYUmSJEmSpBpmToEmHPAGYqo4L5IkSZIk/RuyhqbCl1NuRG1acgTOCiEOA0XvdlcU5c7fjihJkiRJklQFKqqhmYc63Hw2MKTE9FvTJEmSJEm6H8gamgpfTrkHQAhheev/twghbKs6Y5IkSZIkSeaqqMlpHPA/oL4QIqzELEegZt9LL0mSJElSMVlDU2GT0wrgL2AW8EGJ6emKoiSZG6DB+tf/ZdbuDWHjXKPxU3pNrzxRFXL/Y0yNxq9xGRk1Gl65fL3GYl85n115oipUP7BmK3ITFr5Ro/Hrvf99jca3nvJ0jcYXbnVqNL5ts3E1Gp+zH9ds/P8PVdTklAqkAk9WX3YkSZIkSZLunFlPCpYkSZIk6T4mX32ApqYzIEmSJEmSdLdkDY0kSZIk/dfJTsGyhkaSJEmSpP8+WUMjSZIkSf91soZG1tBIkiRJkvTfZ1YNjRDiNOp7nUpKBY4CnyiKknivMyZJkiRJkplkDY3ZTU5/AQbUh+0BPAHYAbHAT8DD9zxnkiRJkiRJZjK3QNNHUZQ2JT6fFkIcVxSljRCiZh9HKUmSJEn/v5PPoTG7D41WCPHArQ9CiPaAtvBjwT3PlSRJkiRJ0h0wt4ZmDPCDEMIBEEAaMEYIYY/6ridJkiRJkmqK7ENjXoFGUZQjQHMhhHPh59QSs/+oioxJkiRJkiSZy9xRTtbAMKAuYCGEAEBRlGlVljNJkiRJkswja2jMbnJajzpM+xiQezcBQ/+5yozPdmE0KgwfFMTYpzuYzM/LK2D8jL84cyEOFycbFkwdRG0fZ/LyDUyZ+zfhF/RohGDiG73o0NqPjKw8nn7l96LlY+PTeaRvUya+3qvSvOw9cIkZ87dgNCqMGNyGsaO6m8w/cvwaMxf8xYUIPQtmjKB/72Ym8zMychjw+Bf06RHI5PcH/av94fHWBOw6d0PJySFu+iRyL54rlcZn4TdYuHuCVkvOqePEz/sEjEasAhrj9f5HCDs7CmKiiZ0yHiUrs9xYoYevM+Orfeq+f6gJY59sYzI/L8/A+NkhnLkUr+77Dx+ktrcTABeuJDJ54R4ys/IQQrDqq2FYW1mwaeclvl1xHCHAy92euRN64+psWy3x8wuMPP3WuqLlY+MzeaRPQyb+r2vZ8Y/fZMZ3R9X4DwYwdliQafx8A+MX7efM5SRcHK1Y8G53ausc2H8ymvnLTpBfYMTSQsP7o9rQsYVP0TLTlxzm8Bn1uHxzZCv6da5TZnxFUZi5+iJ7zyRgY6Vl5tNNaebnVCrdmetpTPj1DLn5Rro382DisEYIIXjrh9Nci1O/37TsApxsLVj7QUeSM/N48/vThEemMaSDDx89Flhm/Nu5vTYeuw5dUXJyiJ/9EXmXzpdKo5v9FVp3D4TWgpyw4yR+NlM99ho0xv3tDxFWVmAwkLBoJnnnw82KW5nvn5nEoOZdiEtPpvn0kfdknbc7tP8Si2ZvxWA08vDQNjw7upvJ/N+WHWDj2uNotRpcXO2ZOHUwPr4uAHy58G8OhF4E4PmxPejTP+j21ZvFatgraJs+AHm55C6fgzEqwjSBpTXWL0xG4+EDRiMF4YfI3/hd0Wxt6x5YPfQsKArGm1fIXTbTrLihhy4zY9EOjAYjwx9uxdhnO5nMP3LiOrM+28GFy3HMnzqE/sHq8XTuop6P524lMysPjUbw8nOdGdCn6R1v997QM8yY8QdGo5ERw7swdmx/k/k//riDP1ftQ6vV4ubmwMwZz1KrljsAo8cs5tSpq7RtE8C3375yx7Fv8Z04Cafu3TFm53Bj4gSyz50tN23dL77Cyq82Fwc/YjLdc9Tz+L4/nvDOHTGkpPzrvEj3jrkFmtqKovSvPFnFDAYj0xaE8MPC4eg8HRnx4nKCuwQQUM+9KM2qzeE4Odqw/ffRbN5xnvnf7GXh1If5c2MYABt/fo7E5CxefHc1q5Y+jYOdFet+fLZo+UdH/8KD3Rual5c5m/jxi+fQ6ZwY/ty3BHcPJKC+V1EaH29nZk0Zyg+/7i9zHYu+2Un71mX/eJnDrlM3LP38uT5iANbNWuD5/kdEjXmqVLrYSe8UFVS8Zy7EIbgfGTv+wmvCVBK+mEfOiaM4DhqK69PPk7Tki/K39/NQfpj9MDpPe0a8sprgznUJqONWlGbVX+dwcrRm+7KRbN51iflLD7Hwo74UGIy8N2sHcz7oTWADD5JTc7DQaigwGJn51T42f/8Ers62zF1ykF/XhfPac+2rJb61lQXrvn2saPlHx/3Jg13rl7/93x7mh6l90LnbMeK9vwh+oDYBfi7F8f+OwMnBiu3fDGFz6FXmLzvOwve64+pkw9cf9kLnZsfFyGTGTA1h7w/DAfhmVTjuLjZs+2oIRqNCakb55f29ZxOJjMti6+TOnLqWxrSV51n57gOl0k1deZ5pTzalZV0nXvr6JKFnE+nezIOFLzQvSjN7zUUcbNXT19pCy+sDG3ApJoNL0Rnlxi/JtkNXLGv5E/X0w1g3aY77Wx8S87/SAxbjpr5XdOx5TZ2PfY++ZO7aittLb5Hy8zdkH96PbYeuuL30JrFvjTErdmV+OriZL3avYtmoyfdkfbczGIzMm7mFz759Bi+dE6OfWkq3no2p16D43G8U6MMPK8ZiY2vFmj+O8NXCv5k+dwT7917k4vkYfv7jZfLzDLwy5ic6dQ3A3sHmjvKgbfoAwrMW2dOfQ1O3CVaPvUHOgtdKpcvf+QfGS6dAa4HNq3MxNmmP4dwRhGctLB98kuyFb0B2Bji4mL3t0+Zt54fPnkDn5cSI0T8R3K0hAfU8itL4eDsx68NB/LDiH5NlbWwsmD35Yer6uaGPT2f4Cz/StUN9nBzN33aDwci0ab/x4w9voNO5MnzELIKDWxAQ4FuUpkkTP1avmoitrRUrftvD3HlrWLTwRQDGjO5LdnYeK1eGmh3zdo7du2Ndpw7n+/fDrkVLak2ZQsQTj5eZ1rnPgxizskpNt/T2xrFzF/Kib/7rfNxzcpST2aOcDgghmleerGJh52Lxr+WCn68LVpZaBvRuTMg+07uSkNAIhvRXa0L69WzEwWPXURSFy9cS6djGHwB3VzucHGwIPx9rsuzV60kkpWTRrmWtyvNyJoo6fm741XbDytKCgQ82J2SP6R1qbV9XAht6oylsYisp/Fw0iUkZdOkQcEf7oCT77r1I/2sDALlnwtA4OKJ19yiVrqjWRWuBsLQERX3GoaV/HXJOHAUg+/BBHHo+WG6ssAtx+Ps64+frpO77ngGE7L9mkibkwDWG9G0MQL/uDTh44iaKorD/6A0a13cnsIGaN1dnG7RaDYqioCiQlVOAoihkZOXh5W5fbfFLuhqVQlJKNu2a+5Qd/1Ii/j6O+Hk7qvG71iHknxum8Q/fYEivBmr8znU4GBaLoig0re+Gzs0OgIb+LuTmGcjLNwCwZkdEUU2PRiNwdSr/4r7zdDyDH/BBCEGres6kZRcQl2paAIpLzSUjp4BW9ZwRQjD4AR9CTsebpFEUha0n9Axs6w2AnbWWtg1csLYw/8Hfdl16kbF9IwC5506jsXdE61bJsWdhya3nayooaOwd1O22d8CQGF9q2X8rNOIkSZlp92x9tzsbfpPafm7Uqu2GpaUFffoHEbr7gkmatg/Uw8bWCoBmzWsTF6fm59qVeFq1qYOFhRZbOysCGuo4tD+iVIzKaJt3puDw3wAYr51D2DognNxME+XnqoUZAEMBxhuXEC6eAFh0GkBB6Hq1MAOQkWJW3LCz0fjXdsWvlqt6HvRpQkhhbdMttX1caBzghdCYXvfq+btT10/No87TETdXe5JSSv/YVxg/7Bp1/L3w8/PEysqCgQPaExISZpKmY8fG2Bbu+1Yt6xEbm1w0r1OnQOztre8o5u2cg3uTvH49AFlhp9A6OmHh4VkqncbODs/nRqH/9utS83zHTyB6/tzSj5uVapS5V8CuwDEhxAUhRJgQ4rQQIqzSpW6jj8/Ax8ux6LO3pyP6BNM7yriE4jQWFhoc7a1JSc2mcYAXO/dfpqDASFR0Kmcu6omJSzdZdkvIBR4KbowoowBSOi/peOuciz7rdE7o4827iBqNRmYv2sr4N/qZlb48Fp46CvTFhbKCeD0Wnroy0/ou/JZ6W/ZgzMokY9d2APKuXsa+ezAADsF9sfDyLjeWPiETH6/iwoa3pz36RNPmqbjEDHw81R8pC60GR3srUtJyuBaVghCC0eM38ejLf/LdyhMAWFpomfJGdx55cSXdH1/G5chkhj9UdnNHVcQvacuuCB7qGVDud69PysLHo0R8d3v0Sdmm8ZOy8PGwK45vZ0lKummBY9vB6zSt74aVpZa0jDwAPltxikff3swbc/aQkGK6TpM8pOTi7Vpc4PF2sS6zQKNzKU6jc7FGn2Ka5ujlFNwdrajrZVdurMpYeHhREKcv+mxI0KP18CozrW7O1/iv3YUxO5PMPeqPcNIXc3B76S38Vm7D7eV3SF66+F/npbrFx6Wh8y5u6vP0ciJeX/65v2ntcTp2UW9cAhrpOHQggpzsPFKSMzl+5Cr62DsvfAlnD5SU4kKgkhKPcC5doCxia482qBOGi+qxr/GqjfCsjc2bi7B5+3O0TUrXipZFH5+Bj6542709HdHHp1ewRNnCzkaTn2/Av5brHS2n1yfj7VO8jM7bBb0+udz0q1btp3v3f9ekVx5LLx35sTFFn/P1sVjqSl93vV97nbiffsSYnWMy3Sk4mPw4PTkXLpRaRqpZ5hZoHgIaAn1Rnwo8iAqeDiyEGCuEOCqEOLpk2d67zyUwbEAQ3p4ODH/xV2Z+vovWQb5ob7uD2BJynoF9mtyTeBVZseoI3bs0NCkQVbXot17i2sO9EJZW2LZV+x3FzfgI50efoPaPKxF29igF+VUSu8CgcCw8hnkTe7N80RD+3neVg8ejyC8w8PvGM6z9ZgR7Vz5Lo/ruLPmtdGGjquKXtGVXBAN7Vd7UeDcuXU9h/s/HmTquIwAGo5HYxCxaB3qyZsFAWjX2ZM6Px6o0DwCbj8UW1c5UB/3747gxrDfC0gqb1moTmePgx0j8ai43Hu9H0ldz8Xjv42rLT3XauukU589GM3JUFwA6dA6gU9eGvPTc90z5YDVBLf3Qaiu/gborGg3Wz00if+9alMTCH2KNFo1nLXIWv0PuTzOweuItsC27dvRei0vI4P1pG5k5aSAaTdVt+/oN/xB+5jpjRpdf81xVbAIDsfLzJy1kh8l0YWOD19iXiP38PizAG5Xq+7tPmTtsOxJACOEFVNpgqijKEmAJgBK3pGjrdZ4OJrUqsfHp6DwcTJb18lDTeHs5UlBgJD0zFxdnW4QQTCjR0feJcSuKqj8BzkfEUWBQCGpcdg3H7XSejsTqi0ef6/Vp6DxLd9Asy4mwGxw7Gclvq46QmZVHfoEBO1sr3n2tb6XLOg97AqdH1P4XOefCsdAV/zBZeOooiNeXtyhKXh6Zobuw796L7CMHyY+8SvSbYwGw9KuDfZfu5S6r87AnJq64RiQ2PhPdbc1DXu4OxMRn4O3pQIHBSHpmHi5ONnh72tOuuU9RZ98eHfw5eykeBzu1WtjfVy3YPdSjAUt/L7tAUxXxO7WpDcD5ywkUGIwENSpdbVwU382OmIQS8RMz0bmZdl72crMjJiELbw97NX5WPi6OavV2bEImr366m9lvdsHfR61BdHG0xtZaS9+OalNo/851WL3DtPlh+d4brDqgtrMH+TsRm1x8txebkouXs2n1uZezNfqU4jT6lFx0LsVpCgxGdpyKZ9V7pfveVMZxyOM4DnwUgLzzZ7Dw0hX18Nd66DAkxJW7rJKfR9b+Xdh36UXOsUM49n2YpM9nA5C5ezse70654/zUFE8vJ5Nalfi4NDx1pc/9I4cu8/N3oXz5/SisrIovlaNe7M6oF9VzbcoHq/Cr415q2bJYdHsEi04DADBev1jUfAQgXDxRUhPKXM7qibdR4m9SsHtN0TQlJR5j5HkwGlCSYlHiotB41sZ4veJaA52nAzElaqNi49PReTpWsISpjMxcXn73D94c24NWQZU37ZeKr3MlNqa4RkYfm4JOV7qW58CBc3zzzV/8+svbWFlZ3nGc27k/+RTuI0YAkHX6NJbexU3Tljpv8vWm1137lq2wCwqiyd8hoNVi4e5Gg5+WcXPGJ1jVqk3jtesLl9XRaPUaLj3+GAUJZX9/UvUxq4ZGCPGIEOIScBXYA1xDfb/THWke6E1kVApR0ank5RvYEnKB4K4NTNIEd23Auq1nANi2+yId2/gjhCA7J5+sbLUGYv+Ra1hoNSadiTfvOM/APo3Nz0vTWly7nsSNm8nk5Rew+e/TBHc3b3TI/E+Gs3vTO+zc8Dbj3+jHkAEtzSrMAKSu/p0bzw3nxnPDydy7E8eH1J7z1s1aYMzMwJBoelIIW9vifjVaLXadu5MfeVX96FpYoBMC1+dfInVt+Y8Eat7Yi8ibKUTFpKn7fncEwZ3rmqQJ7lyXddvVC+K2vZfp2KoWQgi6tvPn0tUksnPyKTAYOXIqmgZ13PDysOdyZDJJhc0sB45FUd+/7Croqoh/y+adEQwMrrgvU/OG7kTGpBOlT1fj74sk+AE/0/gP+LFu12U1/oFIOjb3RghBWkYeL32yi3eeaUObJsXNMkIIerWvzeFwtdnwYFgsDfxMa+1Gdvdj7QcdWftBR3q38GL94RgUReHk1VQcbSzKLNA42Fhw8moqiqKw/nAMwc2Lf/gOXkiins7OpOnKXOnrVhL94uNEv/g4mft34dBXrWS1btIcJTMDQ9Jtx56NbXG/Go0W247dybuuHnsFifHYtGwHgE2bB8i/ef2O81NTmjTzJep6ItFRyeTnF7Bjazhde5heOy6ci2H29E3M+exJ3NyLb7oMBiOphf1GIi7GEnFRzwOdTK9h5SkI3UDOnJfJmfMyhrD9WDyg1jxo6jZByclESUsqtYzlwOcRNvbkrfnKZLrh9AE0AS3VD/ZOCK/aGBNiSi1/u+ZNfImMSiYqOkU9D3acI7ireTWbefkGXv1gNYMfCioa+XSnmjevw7XIOG5EJZCXV8DmLUcIDm5hkubs2etMnrKcr78ah7u7eTeZlUn8bQUXHx3KxUeHkhoSguvgwQDYtWiJMT2dggTTPmCJK3/nbM/unHuwNxFPjyT32jUuj3qWnEsXOdutC+ce7M25B3uTr9dzcdij90dhxmisvr/7lLmjnKYDHYEdiqK0FkL0Au74HU4WFho+eiuY0e+sxmg0MmxgEA3rebD4u/0EBeoI7hrA8IHNef+Tv+j7xPc4O9mw4OOBACQmZzHmndVoNAKdhwOzPxxgsu6/dl5kydyhd5AXLZPfH8iY15dhMBgZ9kgbGjbw4rNvQghqUovePQIJO3OTV9//jbS0bHbtu8Dn3+5k8x+lRyL8W1kH9mLXuRt1/vwLY242cZ98VDTP7+dV3HhuOBobO3zmfKEOjxWC7OOHiwouDg8OwHnYEwBk7t5B+qa15W+vVsNHr3Vj9AebMBoVhvUPpGFdNxb/dJigRp4Ed67H8IcCef/TEPo+uxxnRxsWTFIvuM6O1owa3pIRr6xGCOj+QB16dlRHd73yTDuefnsdFloNvjpHZr0XXK3xAf7aE8GSmQMr3NcWWg0fvfgAo6eGYDQoDOsTQEN/FxavOElQgDvBD/gxvE8A7y/aR9+X1+HsaMWCd9ShvMu3nOd6TBpfrQzjq5Vq17HvP+6Nu4st7zzbhvGL9jPz+6O4Odkw8/XO5eahRzN39p5NoN+0A9hYapj5dPFjAIZ+eoi1H6hNWZMfDywatt2tiTvdmxYX3Lcc05fZ3NR7yj4ycwrIL1AIOR3Pd/9rTUX3tdmHQrHr0JXav25Cyc0hfnbxiCLfpWrBR9jaopvxGcLSCjQask8cIX3DnwAkzJuG+2vvg1aLkpdHwvx790iqFS9Mo2ejNng4uHBj5gambFrKDwc23rP1W1hoeXvCAN4a9wsGo8KgIa2pH+DF0i93EtjMl249A/ly4Xays/L48D31XNN5OzNn8VMUFBgY9/wPANjbWzNl5qNYWGgrClcmw9l/0DZ7ANvJywqHbc8tmmfz/jfkzHkZ4eKBVb+RGGMjsXlP7ZhaELqegoN/YTh3BG1gW2wnfg9GI3nrl0BW5X15LCw0fPT2g4x+63f1PBjUgob1PVm8dC9BgT4Ed2vI6bPRvDphDWnpOezad4kvvg9l0/IX2RpyjqMnb5CSls3aLacBmDVpEE0amVcrrsbXMvmjxxkzejEGo5FhwzrTsKEvny3eQFBQHXoHt2TO3DVkZeXyxptLAfDxceObr/8HwFMj53HlSixZWbl07/EBMz55hm7dmlUUspT0vXtw6t6dwK3bMebkcGPSxKJ5jdas5eKj5v+OSPcXoSiVt4cJIY4qitJOCHEKaK0oilEIcUpRlJaVLVuyyakmCJvq6+dSloh+02s0foM/7s1Q2v+sDPOGMVcV5Ubld81VJXLWvhqLDVA/sOznEVWXhIVv1Gh8m/e/r9H4dlNq9r3Bwu3fP9LiXjjVbFyNxm959nwVd64ypVyYUW2/taLxpGrdNnOZW0OTUvgep73AciFEHFD+E9wkSZIkSZKqkbkFmsFADvAWMBJwBuRrDyRJkiTpfnAfjz6qLuYO266jKIpBUZQCRVF+VhRlMXDXD9qTJEmSJEm6F8ytoflDCPELMAd12PYcoB3QqcKlJEmSJEmqevfx6KPqYm4NTQfADzgAHAGigS5VlSlJkiRJkqQ7YW4NTT6QDdii1tBcVRT5rnJJkiRJui/IGhqza2iOoBZo2gHdgCeFEH9WWa4kSZIkSZLugLkFmheBS8BERVFigNeAU1WWK0mSJEmSzHcfvctJCNG/8GXWEUKID8qYby2EWFk4/x8hRN17sQvMLdA8j/qk4CcLP6ejDuWWJEmSJEkCQAihBb5Efal1U9QWnaa3JRsNJCuKEgAsBGbfi9hmdwpWFOUV1GfRoChKMlT4ZHVJkiRJkqrL/fMupweACEVRriiKkgf8TukKkMHAz4X/XwX0FkLc9dOHzS3Q5BeWuhQAIYTnrf9LkiRJkvT/DyHEWCHE0RJ/Y0vMrgXcKPE5qnAaZaVRFKUASAXMe219Bcwd5bQYWAt4CSFmAMOBD+82uCRJkiRJ/y2KoiwBltR0Pm5nVoFGUZTlQohjQG9AAEMURTlXpTmTJEmSJMk898+rD26iPrfultqF08pKEyWEsEB9nVLi3QY2t4YGRVHOA+fvNqAkSZIkSf9nHQEaCiHqoRZcngCeui3NBuA54CBqi89ORVHuukRmdoFGkiRJkqT71H3yYD1FUQqEEK8C2wAt8IOiKGeEENOAo4qibAC+B34RQkQASaiFnrtW5QUa4dmwqkNUSIm/VKPx64yu2Xd4Ct9mNRpfiarhxxXl5ddsfAttjYW2crCqsdgACQvfqNH4Hm99VqPxl3+TXKPxn/jMr/JEVeiuh6zcJY25Q16ke05RlC3AltumTS7x/xxgxL2OK2toJEmSJOm/7j6poalJZpVhhRBuZUyrd++zI0mSJEmSdOfMrZTbKIRwuvWh8Kl/G6smS5IkSZIk3QlFUart735lboFmJmqhxkEI0Rb4E3i66rIlSZIkSZJkPnOfQ7NZCGEJbAccgaGKolys0pxJkiRJkmQe2Yem4gKNEOJzTF9x4AxcBl4VQqAoyutVmTlJkiRJkiRzVFZDc/S2z8eqKiOSJEmSJP1Lsoam4gKNoig/VzRfkiRJkiTpfmBWHxohRENgFtAUsLk1XVGU+lWUL0mSJEmSzHX/vMupxpg7yulH4GugAOgFLAN+rapMSZIkSZIk3QlzCzS2iqKEAEJRlEhFUT4GBlZdtiRJkiRJMpvRWH1/9ylzX32QK4TQAJcKXzp1E3CoumxJkiRJkiSZz9wamjcAO+B1oC3qQ/Weq6pMSZIkSZIk3QlzH6x3BEAIYVQU5fmqzZIkSZIkSXfkPm4Kqi7mjnLqBHyP2szkL4RoCbykKMr/7ib43tAzzJjxB0ajkRHDuzB2bH+T+T/+uIM/V+1Dq9Xi5ubAzBnPUquWOwCjxyzm1KmrtG0TwLffvmJWvNB/rjLjs10YjQrDBwUx9ukOJvPz8goYP+MvzlyIw8XJhgVTB1Hbx5m8fANT5v5N+AU9GiGY+EYvOrT2U5fJNzB9YQiHT0Sh0cCbL3alX89GleZFURRm7Ywi9EoaNhaCGQPq0lRnVyrdZ6E32XAmibQcA0febFU0fV14IvN338TLwRKAJ9t4MryFh1n7AWBv6FlmzFqF0WBkxPDOjH2xr8n8I0cjmDlrFRcuRrNg3vP079e6aN7c+evYs+cMAP8b158BD7U1K2bokRvM+Pqguv/7N2bsE61M5uflGRg/dzdnLiXg4mjNgkm9qe3tSFRsOgPH/Em92s4AtGzixdQ3upksO27yNqJi0tm4dLhpzJMxzPjxuBqzd33GDmlqGjPfwPgvDnHmSjIujlYseLMztb3U1tRv155l9c4raDSCSc+3oVsrHwCCX9mAvY0lWo1AqxWs/rQfAG8t3M/V6HQA0rLycLKzYu0HxceYoijM/OM8e8/EY2OlZeazzWnm78TtzkSmMmFZOLn5Bro382TiY4EIIfhiUwR/7ovCzdEKgDcHN6RHkCd5BUY+XnGG8Mg0NAImPtaEBxqVep9sKc5j38GmbReU3BySP5tK/uULpdK4f7wYrZs7aC3IO3OClG/mmFw4HYaMxHn0m8SM7IMxLbXSmLcc2n+JRbO3YjAaeXhoG54dbfp9/rbsABvXHker1eDias/EqYPx8XUB4MuFf3MgVH1Q+fNje9Cnf5DZcc3x/TOTGNS8C3HpyTSfPvKerruktp9NwndADwqycjg06gOST5wtlab3rmXY+nhhyM4BYGffF8iNT8LOz4dOP8/G0sURodVy6oN5RP+116y4oaFnmDnjT/WcGN6ZF8f2M5n/048hrFq1H61Wg5ubI5/MeJpatdw5d+4GUz/+nYzMHLQawUsv92fAgHZ3vN3Vfd0vi8+ESTh2644xJ4eoSRPIOVd6399S5/OvsKpdm0tDHwFA9+rrOAb3BqORgqQkoiZNoCA+7l/nRbp3zO1DswjoB2wAUBTllBCi+90ENhiMTJv2Gz/+8AY6nSvDR8wiOLgFAQG+RWmaNPFj9aqJ2NpaseK3Pcydt4ZFC18EYMzovmRn57FyZaj58RaE8MPC4eg8HRnx4nKCuwQQUM+9KM2qzeE4Odqw/ffRbN5xnvnf7GXh1If5c2MYABt/fo7E5CxefHc1q5Y+jUYj+GbZIdxd7dj22wsYjQqpadlm5Sf0ahrXk3PZMqYpYTFZTP/7Or89HVgqXc8GLjzV2osB350pNa9/oCuT+viZFa/UvvjkD3787lV0OheGPz6X4F7NCQjwKUrj4+PKrJnP8MOPISbL7t4TztmzN1i35gPy8gp4ZtRndO/WFAcH28pjfrGfHz4dgM7DnhGvrSO4Ux0C6rgWpVm19QJODlZs/+lxNu+6zPzvD7NwUm8A/H2cWPfNsDLXvX3fVexsLcuO+f1RfviwFzp3W0ZM+JvgdrUIKCwYAazaeQUneyu2fz6Izfsjmb/8FAvf6kJEVCpbDlxn04KHiEvO5vnpu9j62UC0GrWVdtmUYFydrE3iLXyrS9H/P112Akc70zztPZNAZFwWW6d249TVVKb9dpaV4zuWyvfU384ybWQzWtZz5qUvjhN6JoHuQZ4APNe7Di88aPqi+z/3RQGw4aMuJKblMvaL4/z5Qen1lmTdtjMWvv7oX3oUy8ZBuIz7gPh3S1e+Js2egJKdCYDbhNnYdulNdujfAGg9dFi37kBBXEyFsW5nMBiZN3MLn337DF46J0Y/tZRuPRtTr4FXUZpGgT78sGIsNrZWrPnjCF8t/Jvpc0ewf+9FLp6P4ec/XiY/z8ArY36iU9cA7B1sKoh4Z346uJkvdq9i2ajJ92ydt/N9qDuODeuysWFf3Du0pP3XH7O942Nlpj0w8l2SjoWbTAv6cByRf/xFxDe/4dSkAT23LGFDvd6VxjUYjEyftpLvf3gdnc6Fx0bMpldwC5Nzv0mT2vy56gNsba347be9zJu3loULx2BjY8Wns5+jbl0v4vQpDBv+KV27NsXJqfSNWEXxq/O6XxbHbt2x9q/DxQH9sG3RklofTeHyU4+Xmdapz4MYs7JMpsX/+D36LxYD4D7yGbzG/Y/oaR//6/zcM3LYttl9aFAU5cZtkwx3Ezgs7Bp1/L3w8/PEysqCgQPaExISZpKmY8fG2Nqqd6OtWtYjNja5aF6nToHY25v+oFQY71ws/rVc8PN1wcpSy4DejQnZF2GSJiQ0giH9mwHQr2cjDh67jqIoXL6WSMc2/gC4u9rh5GBD+PlYANZsCS+q6dFoBK4u5p3cuy6l8kgzN4QQtPS1Jz3HQHxGfql0LX3t8XQo/WN9N8JOX6OOvwd+fh7qvn+oDSE7Tfd97VruBDauhUYjTKZHRMTSrl0AFhZa7OysadyoFntDz1Ue80I8/r5O+Pk4qfu/RwNCDkSapAk5eI0hD6q1W/261+PgiZuVvtk1Mzufn1afZtxTrUvNC7sQj7+3I346B6wstAzo7E/IkZumMY/eZEhPtYDQr6MfB8P1KIpCyJGbDOjsj5WlltpeDvh7OxIWkVTpdoJaE7P14HUGdqljMn3nqTgGd/RFCEGr+i6kZeUTl5prkiYuNZeMHAOt6rsghGBwR19CTlV893c5JoMOjdWCubuTNU52FoRfr7i2xLZjD7J2bgYg/0I4wt4Rjat7qXS3CjNotWBhafIiFOcxb5H64+dwh2/fPRt+k9p+btSq7YalpQV9+gcRutu0dqjtA/WwKTz3mzWvTVxcGgDXrsTTqk0dLCy02NpZEdBQx6H9EaVi3I3QiJMkZabd03Xertbg3lxdtg6AxH9OYeXihI23p9nLK4qCpZNak2jl7Eh2tHk1BGFh1/D39yw69wcMaMvOkFMmaTqUuO62bFkPfWwKAPXq6ahbVy10eulccHdzJCkpw+w834pfndf9sjj26k3yhvUAZIedQuvohIVH6X2vsbXD49lRxH37tcl0Y2ZmiTS2d3z8S1XH3ALNDSFEZ0ARQlgKId4FKv8Vq4Ben4y3T/Hduc7bBb0+udz0q1btp3v3f1+1rI/PwMfLseizt6cj+gTTkzEuoTiNhYUGR3trUlKzaRzgxc79lykoMBIVncqZi3pi4tJJS1ergT/7bj+PvvALb3y0kYSkTMyhz8jDu7DpAEDnaIU+I++Otunvi8kM/fEsb62/Qkya+cvq9al4e5fc967o48xrLggMrEXovnNkZ+eRlJzBP4cvmlxwyo2ZkImPZ/HAOG9Pe/SJpvsqLiELH097ACy0GhztrUhJU3/wo2LTGTpuDU+/s5Gjp4trBBb/dJTnhzXHxrp0ZaM+IRMf9+ICpre7Lfok0xq0uKTsojQWWg2OdpakpOehLzEdwNuteFmBYPSM3Tw6fhsrd5T+MT16Lh53Zxvq+jiaTNen5OLtWlyT4O1qQ1xKjml+UnLQuRRfsHUuNuhTigs9y3dfZ/An+5m0LJzUTLUAHFjbkV1hcRQYjEQlZHHmehqxSabrvZ3W3RNDgr7osyExDq27V5lp3acuxufX7SjZmWQfUGvsbDp0x5AYT8G1SxXGKUt8XBo67+KmNk8vJ+L15RcgNq09TscuAQAENNJx6EAEOdl5pCRncvzIVfSxVVv4qAp2tXRk3Ygt+pwVFYtdLV2ZaTv+OJOHTqwj6MPiFv7TH39BvacfZsiNPfTcsoSjr31iVtw4fcpt111X9Pryz/3Vqw7QrXuzUtPDwq6Rn1+Av7/5zdxQ/df9sljqdOTHFl9D8vWxWOpK73vda6+T8POPGHNKn0u619+k8Y5duAwcVFRbU+PksG2zCzQvA68AtYBooFXh5zIJIcYKIY4KIY4uWbLprjO5fsM/hJ+5zpjRD971uv6NYQOC8PZ0YPiLvzLz8120DvJFqxEYDEZi4zJoHeTLmh+eoVUzH+Z8uada8tSzgTPbxwax9vmmdKrjyKS/rlVL3K5dmtCjW1OeeGo+77z7I61a1kOjNbui71/xcrNj5/InWfv1o3zwUkfenbWLjMw8zl1O5HpMGg92rVf5Su6hFdN7s2Z2P5ZO7MGKbREcOWt6d7x5f+namXvhie5+bJ/enbUTO+PpbM2c1WqtxqOda6FzsWHEp4eY9ed5WtV3KVWzdjcSp7xOzLMPISytsG7RDmFtjeOI50lb/s09i1GerZtOcf5sNCNHqc15HToH0KlrQ1567numfLCaoJZ+aLX3blvvNwdGvsuWFo/wd7eReHZrS71nBgNQ98mBXPlpLev8erB7wFg6/zIHxL3dDxs2/EP4mUhGj+5jMj0uLpXx7//EjJnPotFU3blfk9d9m8aBWPn5kxayo8z5+sWLuNCnFymbN+H+1NPVnDupPOaOckoAzO4dpyjKEmCJ+mFXmfVxOp0rsTHFJXN9bAo6nWupdAcOnOObb/7i11/exsrq3ze96DwdiIlLL/ocG5+OzsP0UTpeHmoaby9HCgqMpGfm4uJsixCCCa/3Kkr3xLgV1PVzw8XZFlsbC/r2aAhA/16NWL3ZtK27pN+Ox7MqLAGAIB87YtOLa1X06XnoHKzKW7QUF9vir25YCw8W7LlZQWpTOp2zSa2KPjYZnZdzBUuYGvdyf8a9rHbke+e9H6lXp+w7e5OYHvbExBfXiMXGZ6JztzdJ4+VhR0x8Jt6eDhQYjKRn5uHiZI0QAisrLQBBjTzx83Xi6s1Uwi/EE34xgeBnfsNgUEhKyeaZdzfxy7xBxTETi9u/YxOz0bmZ9vXxcrMlJjELb3c7NWZWPi6OVugKpxctm1S8rM5Nrblxd7ahT/tahEUk0b6pug8KDEb+PnyjqKPw8t3XWbVf7eMSVMeJ2OTiu73Y5By8XEz7fnjdViOjL1Fj41Giz86IrrV5+cvjgFqzNGFEcf+rJ+f+Q12d6b4FsB8wArt+QwDIv3QWrUfxXanW3QtDYgXNFvl5ZB/ag02HHhiSE9HqfPFavEJd1sMLz0W/Ev/2KIwpieWvo5Cnl5NJrUp8XBqeutKdo48cuszP34Xy5fejsLIqPt5HvdidUS+qXfimfLAKvzqlm8ruRw3/9xQBL6r9ZBKPnMbOz7tonl1tb7Ju6kstc6spqSAjk2srNuH+QAuu/rKe+qOHs7v/GAASDp1Ea2ONtYcrufEVN4t66Vxuu+4mo9OVPvcPHDjPt99sZdlt192MjGxefvkr3nzzEVq1uvMbieq+7t/i9sRTuA0fAUB2+GksvYv7DFnqvMnXm+57u1atsG0WRONtIQitFq27G/V+XMbV5581SZeyaSN1v/6WuC8/v+s83rX7uOakuphVvBZC1BdCbBRCxAsh4oQQ64UQd/Uep+bN63AtMo4bUQnk5RWwecsRgoNbmKQ5e/Y6k6cs5+uvxuHuXvqCd0fxAr2JjEohKjqVvHwDW0IuENy1gUma4K4NWLdV7Xy7bfdFOrbxRwhBdk4+Wdlq9f7+I9ew0GoIqOeOEIJenRtw+ITavejgses0qFv+xfXJNp6sHtWE1aOaEBzgwoYzSSiKwqnoTBystXfUV6Zkf5tdEanUdze/U2TzoDpci4wv3vd/HSe4V4vKF0Tt1JecohZMzl+4yYUL0XTpUrozc6mYjT2JvJlGVEyauv/3XCa4k79JmuBOdVj3tzp6Zdveq3RspfY3SUrJxmBQT9YbMWlE3kzFz9uRJx9uSujvI9n5y5MsX/AwdWs5FxVmimLGpBMVl0FegYEtB64T3K6Wacy2tVi3+6oa89ANOjbTIYQguF0tthy4Tl6+gai4DCJj0mkR4EZWTgEZhcdCVk4B+8NiaeRf/INw8LSeer5OeBc2V43s6c/aSZ1ZO6kzvVvqWH8oGkVROHklBUdbC7ycTfsDeDlb42Cj5eSVFBRFYf2haIJbqoWlkv1t/j6pp6GvWiDPzjOQlVsAwP5zCWg1ggCf0s+9zNzyJ/FvjCT+jZFkH9qNXbD6sG/LxkEoWRkYk00LI8LGtrhfjUaLTfuuFERdoyDyMrHP9EM/ZjD6MYMxJMQR/+bTZhVmAJo08yXqTEjR8gAAfHBJREFUeiLRUcnk5xewY2s4XXs0Nklz4VwMs6dvYs5nT+LmXrwtBoOR1BS1oBlxMZaIi3oe6GR6Ht+vLn21gr9aD+Gv1kOIWreDes8OAcC9Q0vyU9PJiY03SS+0Wqzd1R97YWFBrUE9SQlXm/iyrseg690JAKfA+mhsrCstzIB63Y2MjCOq8NzfsuUYvUpdd2/w8ZQVfPnVONzdi5tN8/IKeO3VJQwe3IF+/dv8q31Q3df9W5J+X0HE8KFEDB9K2s4QXB9Ra7psW7TEkJFOQYLpvk9a+Tvng7tzoV9vLj87krxr14oKM1b+xbWvTsG9yb169Z7kUbp75o5yWgF8CQwt/PwE8BvQodwlKgtsoWXyR48zZvRiDEYjw4Z1pmFDXz5bvIGgoDr0Dm7JnLlryMrK5Y03lwLg4+PGN1+r7chPjZzHlSuxZGXl0r3HB8z45Bm6dSvd1lscT8NHbwUz+p3VGI1Ghg0MomE9DxZ/t5+gQB3BXQMYPrA573/yF32f+B5nJxsWfKxe8BOTsxjzzmo0GoHOw4HZHw4oWu8747oz/pMtzFy8CzcXO/5fe+cdHlXRxeF3dtN7L4TeS+goTVpAqQpIsWBBUWzYRQUVBAVFQRFUFKwoKJ9IbyI1VKWH3gktjfReduf7427Kpm6Q7ILO+zx5svfeufc3O3vLuWfOmZk6vndZVTCja10Ptp1Lpu+8ozjb63ivb+FFMuSH4/w+sgkAM7ZcZs3xRLJyjfScc5h7W/jyXOdq/Lw/li1nktHrBJ5Oet7vW7tybf/WcJ548gsMRsmQwR1o0CCYz2avIrRZTXqGtSDicCRjXphHSkoGmzcfZvbnq1m98m3y8gyMeGgmAG5uTnw87VHs7PQVa+p1vDOmE6PGr8VolAzp3YgGtX2Y9eNeQhv6E9axFkP7NOL1aVu4a+QiPN0d+WR8GAB7Dkcze/5e7PQ6dDrBuy/cgZdHxQacnV7HO4+3ZdSUrdpv3qMuDWp4MmvRYULr+RDWLoShYXV5/fPd3PX8KjzdtLRtgAY1POnbsQb9X1mDXqdjwqi26HU64pMzGDN9O6A9XAfcUasgnRtg9Y5IBpTR3dQt1I/wI3H0nrDNlLZdGBsweMpOlr6laU94oCnjftTStrs086NrMy1OYfqSk5y4nIoQEOLjzLsjtPM9ITWHJ2btRacTBHg6Mm1k8wrbJnvvDpzadSZw7lJT2vbkgm3+ny0g7sURCCdnfN/5BGFnDzod2RF7SV+7pMJjV4SdnZ5XxvXj5Wd+wmCUDBjUmrr1A5j3xSYaN6tGl+6N+eLT9WRm5PD22P8BEBjkyUezHiQvz8Azj30HgKurIxOn3mvR+VcZFj4+me4N2+Dn5sWlqSuYuGoe3+1ceUM1rq7ZSrV+3bj7zJ8YMjLZ/dj4gm19DyxjbetB6Bwd6PHHNwh7e4ReR8yGXZydp7XH/lc/pP2892n88kiQkt0j37RI185Oz9vv3McToz7HaDRy75CONGhQjVmzVhIaWouwsBZ8bLrvvvzSN4CW8fjlnGdYt24fe/eeJikpnWVLdwMw9YOHadLE8kxLa9/3SyM1fCvuXbrScO16ZGYWl98pbPv6i5dyZujgcvaGoJdfxbF2baSU5F69ypXJEyulX2WoLCdERVkkAEKICClli2LrDkkpW1a4cxldTtZCxlU+aPFGkrdis0317R973Kb68vKhigtVJUmpFZepQmR8xQHTVUXUp7tspg3g9NsrNtX3e/kzm+ov+Mp2vz3A/cYvbaqvszyJtko43PwZm+o3P3LCqsFdxjVPW+1Zq+v31U0ZuGaph2atEOJN4Fe0xM37gDVCCB8AKaVl+awKhUKhUChuPCqGxmKDJn/Ep6eKrb8fzcD5R/E0CoVCoVAoFP8ES7OcrJsXq1AoFAqFwnKUh6Z8g0YIcW9526WU/zxCUKFQKBQKheIfUpGH5m7T/wCgE7DJtNwD2Akog0ahUCgUClujspzKN2iklI8BCCHWA02llFGm5WDghyqvnUKhUCgUCoUFWJpXVyPfmDERA9Qsq7BCoVAoFAqFNbE0y2mjEOIPtMH0QEvbLn2SC4VCoVAoFNZFBQVbnOU0xhQg3MW0aq6UcmnVVUuhUCgUCoXCciz10ORnNKkgYIVCoVAobjKkQQUFV5S2nYo2cJ4w/S/YBEgp5Y2ZOUyhUCgUCoXiH1BRllPBVKtCiFYUdjmFSyltPEmPQqFQKBQKQKVtY2GWkxDiBeAnwA/wB34SQjxflRVTKBQKhUKhsBRLY2ieADpIKdMBhBDTgF3A7KqqmEKhUCgUCgtRMTQWj0MjAEORZYNpnUKhUCgUCoXNsdRD8z3wlxAiP1V7EPCtJTvmfDHnOqp147BrU8u2+vf2tam+YfHPNtXXNbTt+IsyMdmm+qJpU5tpJ/5QzWbaAHVet+gWUWUs+CrRpvojnva2qf79a3+zqb4xK9um+u67xthU39pIFUNj8Tg0nwghtgB3mFY9JqU8UGW1UigUCoVCoagElRmHZj+wvwrrolAoFAqF4npQMTQWx9AoFAqFQqFQ3LRY7KFRKBQKhUJxk2JQczkpD41CoVAoFIpbHuWhUSgUCoXiFkdlOSkPjUKhUCgUin8ByqBRKBQKhUJxy2PpXE4NhRAbhRBHTMsthBBvV23VFAqFQqFQWIRBWu/vJsVSD808YByQCyCljADur6pKKRQKhUKhUFQGS4OCXaSUfwthNn1TXhXUR6FQKBQKRWVRQcEWe2iuCSHqARJACDEUiKqyWikUCoVCoVBUAks9NM8Bc4HGQogrwHlgRJXVSqFQKBQKhcXImzi2xVpYOjnlOaCXEMIV0EkpU6u2WgqFQqFQKBSWY5FBI4TwBSaizbYthRDbgclSyvh/Ii6l5MPwq2yLTMHJTsf7vWrQNMClRLlZu6JYcSKRlGwDfz/dvGD9tG1X2HM5DYCsPCMJGXnsfKp5if2La05deITwiBicHPRMHdWaZrW9SpQ7eiGJcd8cIDvXQNcWgYx/MBQhBJ8tOcGmA1HohMDHw5EPRrUmwNuJc1GpjP/2IMcik3np3sY83rd+ufXYtussU2aux2iQDL2nFaMf6WS2fc+Bi3wwcz0nz8YyY/Jg+oQ1AeD4qWje/Xgd6enZ6HQ6nh7ZmX69mparVWY7rIkk/HQizvZ6pg6uR9NqriXKzdxwkRUHr5Gclce+t28vWP/DjigW74/FTifwdrHj/cH1CPFyrFBzyo8HCD8QjZOjng+euZ1mdbxLlDtyLoFxc/aQnWOga+sg3nq0NUIIktKyeeWz3VyJSyfE35VPX+yIp5tDwX6HzyZw/zsbmfFCB/p0qFHx9//fCcKPxmnnwSPNaVbTo0S5o5HJjJt/RDsPmvkzfnhj8mPJft4cycKtl9DpoFuoP2PvbVSu5ra/LjBl9haMRiND+4cyesTtZttzcvJ4Y+ofHD0Vg5eHM59M7Ef1YE9ycg1MnL6BIydj0OkE45/vTvvW2vd7YuwS4uLTMRiMtG0RwoSXwtDrK+5JPrD7Mt/N/AujQdLz7obc+0gLs+1/LD3But+Po9PrcHK24+k3OlOjjhe5uQa+nraTsyeuIXSCx19qT2ib4Ar1SsNhyHPom94OOdlkL/gI4+Uz5gXsHXF8fAI6v2AwGsk7spvcld8UbNa37oZD30dASoxXzpE9f2ql9Nt+9hbV+nUjLyOL3SPfJPHAsRJlem6ej3NwAIbMLAA23fU42XEJuNQIpuOP07D3ckfo9Rx6czpX14ZXvhFK4duH32JA887EpibS/L2qcYRLKZm69DThxxNwstcx9YEmNKvhXqLc0UupjPvlONm5Rro28WH84AYIITh+JZV3fztFTq4RvU4wYWhDWtQqef1YXJeV5wk/mYSTg46pQ+vTLMStRLmZf0Sy/EAcKZl57JvU4bq0APbsjOSr6eEYjJK+g5py38h2ZttXLT7Myt8Oo9MLnJ3tefGtMGrV9SH6agpPDvuZ6rW0e1bj0CBeHN/juutxwzGqqQ8sjaH5FYgDhgBDTZ8X/VPxbZGpRCZls/rhxkwMq877W66UWq5bHQ9+Gd6gxPo3uoSw+IFGLH6gEQ+08KNnPc8KNcMjYomMSWfdhz2ZNLIlk3+KKLXcpPkRTH6sJes+7ElkTDrbDscCMKpvPZa/14Olk7vTvWUgX644CYCnqwNvPRjK433qVVgHg8HI5BnrmPfJ/az65SlW/3mUM+fjzMoEB3nwwTt3M+DOULP1Tk72TJtwD6sWPsW8T+/ng5nrSUnNqlCzRDucTiIyPpN1L7Zi0j11mLTyXKnlejTyZtFToSXWNwl24benQln2XAt6N/NhxvrIijUPRhMZlcYfM/sy+cl2TPpmX6nlJn27n/dGt+OPmX2JjEpj28FoAOYtP0GH0AD+mNmPDqEBzFt+vGAfg9HI9IURdG4RaMnXJ/zoNSJjM1g3qQuTHmzG5F9KPswAJv1yjMkjmrFuUhciYzPYdvQaAH+djGfjoViWvdWJVRPu4PFetcvVMxiMTJ65iXkfDWLVj4+yeuNJzlwwfx9YvPooHu6OrF/4OI8Oa8OMr7cD8NuqwwCs/OERvpsxhGlfhmM0BQDOfLc/y797mJU/PEJCUibrtpyu8LsbDEbmTd/NWzPuYubCwWzfcI5L55PMynS5qy6f/jyYGT8OZNCI5vww628ANqw4BcCnPw9m4sze/Dh7T0FdKoO+6e0I/xAy33uU7EWf4jD8xVLL5W76H5lTHifzo6fR122GvsltAAj/EOzvfIDMT18k84MnyF7yZaX0q/XtinuD2qxscBd/j36H2+a8W2bZnSNeY23rQaxtPYjsuAQAQt9+hsj/rWVdm8HsuP9l2n05sVL65fHDrtX0mf3yDTteaYQfTyAyLpN149szaXgjJi8+WWq5SYtPMnl4I9aNb09kXCbbTmjff/qKszzXuzZLx97G833rMH3l2euvy8kkIuOzWPdaayYNrsfkZaXfi7o38WHRsy1K3WYpBoORL6Zt4f1Z9zDvtxFs/uMUkecSzMr06NOIrxc9yJyFDzDskTZ8/em2gm3BIZ7MWfgAcxY+cHMZMwrAcoMmWEr5npTyvOnvfcCyJ0c5bD6XzD1NvBFC0DLIldRsA3HpuSXKtQxyxd/VvtxjrT2VRN+GJd/2i7PpQDQDO1VHCEGrej6kZOQSm2RuEMQmZZGWmUerej4IIRjYqTob92sPVTfnwnpkZhvAlPjl6+FI87re2OnNMsFKJeLYVWpW96FGiDcO9nr69WrKxvBTZmWqB3vRqH4gQmd+vDo1faldwweAQH93fLxdSUjKqFCzRDucSGRgK3+t7Wu4k5plIC41p0S5ljXc8Xd3KLG+fV1PnB30ALSo4U5Mcsl9i7Nx7xUGdq2ttX0DX63tEzPNysQmZpKWmUurBr5a23etzYa9V0z7X2VQ19oADOpamw17rxbs9/O6M9x1ewg+Hk6Wff9DsQzsUE2rS10vrS7J2eZ1Sc4mLctAq7peWl06VGPjIc2w/TX8Ek/2rouDvXYJ+XqU752KOB5NzRAvalTz0n7zsEZs3G7+ENi44yyDemvett7dGrBr/0WklJy9kECHNppHxtfbBQ83R46cjAHAzVXTzTMYyc01ICo+/Thz7BpB1d0JCnHH3l7PHb3qsmfbRbMyLq6Fv3lWZl7BcS+fTyK0reaR8fRxxtXNgbMnrlUsWgx9807k/f0nAMYLxxHObggPH/NCudkYTx/SPhvyMF46jfDyB8CuYz/yti2HTM1DS1pSpfRDBvbk/PxlAMT/dQgHLw+cgvwt3l9Kib2H5kVw8HQn82pspfTLY9uZgySkp9yw45XGpiPXGHhbkHb+1/YkJTOv7PO/tqd2/t8WxMbD2m8tBKRlaYmuaVl5BHiWvEdYXJfjCQxsrd2LWtV0JyUrj9iUkveTVjXdCfC4fh2Ak0djqFbDi+Dqntjb6+l+V0N2bTU3oFzdSj/3b3rUODQWGzTrhRD3CyF0pr/hwB//VDw2PZcgt0IDIdDNnti0kgZNRVxNyeFKSg7tq5d0UxYnJimLIB/nguUgb2diE4sZNIlZBPoUPhgDfZyJKWL0zPz9OD1eWc/K3Zd5YVDjStc3Ji6V4IBC925QgAcxcZUPS4o4eoXcXAM1Qyo25IoTm5JDUJGbUKCHAzGl3EQsYcm+WLo08KqwXExCJsG+Rdrex5mYhMwSZcx+nyJl4pOzCPDWtvl7ORGfnGXaJ4M/91zhgTvL7+Yz00nKJsi78DcO8nYq1bANLNKNFujlREySdtO/EJvBvjOJ3DdtNw9/8jeHLySXr3ctzfw393cj5lqauV6RMnZ2OtxdHUlKzqJRPT827ThHXp6Ry1HJHD0VS1Rs4fky6rUldB74Na4uDvTuVtKTWZyEuAz8Agu7F338XYiPSy9Rbu3vx3l26GJ++nIPj7/cHoBa9X3Yu/0ShjwjMVdTOXsynmsxJfetCOHph0wq9ErKpDiEp1/ZOzi7og/tiOHUAQB0AdUR/tVxemkmTq/MLvDcWIpLSCAZl6ILljMuR+MSUvo7Wofvp9L3wDJC3362YN3hdz+nzkN3M+jSVrqvmcve59+vlL6tiUnOJqjIuR3k5ViqQRPoWeT893QkxlRm3OAGTF9xlh6TdvLRijO83L9iz3TZdckxr4unY6kGzY0gPjYd/8DC54RfgBvXYtNKlFvxvwhGDvyRb2bv4NnXuhWsj76awrMP/sJro3/n8IHSexQUtsNSg+ZJYCGQY/r7FXhKCJEqhCjxKiGEGC2E2CuE2PvNjtLdhzeStaeTuLO+J3qddUzpl4Y0YfMnd3F3h+os2HjeKprFib2WyuuTVzD17bvRWel7l8aKQ3EcuZrO43dUs6quEKLgzWnqjwd57cEWVm2HPIMkOSOXX19vz9h7G/LyN4eQsmreXIb0CyUowI2hTy1k6uwttG4WbHaufzv9XrYtGU1OroHd+y/dMN2+Q5rw5eKhPPxsO37/QfOU9BzQAN8AF14ftZLvZ/5Fo+b+Vd/uOh2Oj75FbvhSZLxptAidHp1/CFmzXiX7hyk43P8yOJeMAfun7BzxGmta3MOfXUbg36UtdR4eCEDtB/pz7oelLKvRjS39RtPpp4+4dV7l/zm/7rjCm4Pqs3liJ94c2IC3fz1h6yrdUO4Z3oIflj/KqOc7sfDbPQD4+Lny86qRfLnwAZ56uQsfvr2e9LSqMbyuB2mUVvu7WbE0y6lktFj55eeipXmT8/lws2//S8Q1fj+qxQ6EBrgQXcQjE5OWS4Bb+V1LpbHuVCJvda9e5vYFG8+zeKsW4xFax4voIl6B6MRMArzNuykCvJ2ISSh8W49JyCTQq2RXxoCOITz16V88P7hyXppAf3ezN+zo2BQC/S1v4rT0bJ5+dREvPdWdVqEhFu+38K9oftunucabh7gRXaSbKCYlh8BKunN3nk1m7tYr/Ph4MxzsSreNF/xxmt82aUZf83reRMUXafuETAKLeGNA84aZ/T5Fyvh6OhGbmEmAtzOxiZkF3UtHziXyyme7AEhKzSH8YBR2eh29bjNvmwVbLrJ4x2UAQmt5EF3EMxedmEVAsd84oIhHBjTvXr7HJsjbkTtbBSCEoEVtL3QCEtNy8Smlew4g0M/N/DePSyPQz9yjGGAqExTgTl6ekdT0bLw8nRBCMG5M94Jy9z/7K7VrmHvlHB3t6Nm5Hht3nKXzbbVKrUM+Pv4uZl6VhLgMfP3LNgY696rL3I+19tXb6XjsxfYF28aPXkW1mhXHrgHYdbkHu479ADBePFXQfQQgvPyRyaV3XTnc/woy7gp5W5YUrJNJcRgjT4DRgEyIRsZeRudfHePF0mNBABo8+yD1nxwOQPyew7jUCCrY5lI9iIwrMSX2ye9KyktL58LCVfje3oLzPy2n7qihbOnzBADXdh9E7+SIo593QYzNzciC7ZdZvEszCENruhNd5NyOTsomwNO82zSgiEcGNK9Ovsdm2Z5oxg/WvIF9WvnzzqLKGTQLdkWxeI/W3qHV3czrkpz9j7uWysI3wJW4mEKPzLXYNPwCyvbsd7+rIbM/2AKAg4MeBwftXtSgSQDVQjy5cjGRhk3/cfSF4gZh8eSUQoh7hBDTTX8DrlfwgRZ+BYG8YXU9WXE8ESklh6LTcXPQVRgrU5xzCVmkZBtoGVQyOyqfET3rsHRyd5ZO7k7PNsEs33kZKSUHzybg7mxf6oPMzdmOg2cTkFKyfOdlwlprN78L0YUXw6YD0dQNrribqzjNm1Qj8lICl68mkZNrYM2GY4R1aWjRvjm5Bsa8sZiBfVsUZD5ZyoPtg1j6bAuWPtuCno29WX4wTmv7S6m4O+lLjZUpi2NR6UxacY7PRzTCtxwjdETvBiybdhfLpt1Fz3YhLA+/oLX96XjcXewLupDyCfB2xs3ZnoOn47W2D79Az3aaYRLWthrLwi8AsCz8Aj3baV6hjbP7s+nzAWz6fAB3ta/OhMfblDBmAEZ0r8nStzqx9K1O9GwZyPLdV7W6nEvC3dmu1Bu6m5Oeg+eStLrsvkpYywAAerYM5K9T2sPrfEw6uQaJdznt0LxxEJGXE7kclaz95ptOEta5rlmZsM51WfaHFpz8x9bTdGhdAyEEmVm5ZGRqhv+OPZHY6XXUr+1LekYOsfHa+ZiXZ2Tr7vPUrVksDqUU6jfxI+pyCjFXU8nNNbB9wzna3WGeFXb1UmEX2r6dlwiuoWWwZGflkWWqy6G/r6DT66hRx6tCTYC8bSvI+uhpsj56GkPEDuxuvxMAXe0myKx0ZEpJY8C+/2MIJ1dyigX9Gg7vRFe/pbbg6oEIqI7xWvljfZ7+cmFBcO/lZRuo88ggAHzbtyQ3OZWsaPPAfKHX4+irGY7Czo6QAd1JOqIFXWdcjCKwZ0cAPBrXRefkeFMbMwAj7qjO0rG3sXTsbfQM9WP5nmjt/L+QXP75fyFZO//3RBMWqnULBng4sudsEgC7TydSy9+5uFz5dekYzNIXWrH0hVb0bOrD8gPavejgxVTcneyqzKBp1DSQK5eSiL6STG6ugS3rT9Ghax2zMlcuJhV8/nv7BUJqegGQlJiJwaBlEkVdTubKpSSCQiwz5q2CiqGxOG37Q+A2YIFp1YtCiM5SynH/RLxLbXfCI1PoN/8ETvY63u9ZeFMd+stJFj+gpcF+suMqq08mkZVrpOd3xxjSzIdn22sGxrrTSfRp4FWQSlsR3VoEEB4RQ+83NhakbeczeMIWlk7uDsCEh1sw7tsDZOcY6NI8gK4ttAfZJ4uPcz46DZ2Aar4uvPuoFnUfl5zFsEnhpGXmoRMw/89zrJrSg9L8LnZ2Ot55tTejXvoFo9HIkAEtaVDXn1lztxLaJJiwLg05fOwqY95cTEpqFpu3n+bzb8JZtfAp1m08xt6DF0lKyWDpGq0b4IO376ZJw6BSlMqma0Mvwk8n0WfmQZzsdUwZXNgHPvjLCJaasgmm/xHJ6sPxZOUa6TF9P0Pa+DMmrAbT/4gkI8fIy4u0G3w1T0e+GFF+2nK31sGEH4zirhfX4ORox9SnC+MeBr2xnmXT7tLa/vE2jJ/zN1k5Brq0CqZrK+27PTmwMS/P3MXvm89Tzc+FT1/qWKnvbFaXUD/Cj8TRe8I2U9p2YSbX4Ck7WfqWlkY/4YGmjPtRS9vu0syPrs20G/q9nUJ4+6cj3D15B/Z2gg8eCS33HLSz0/HOS2GMem0JRqNkSL9mNKjjx6xvdxLaOJCwzvUY2i+U16es464Hv8PT3YlPJmrejPjEDJ4YuxSdEAT6uzLtrT4AZGbl8uy4FeTkGpBScnurGtx/T8VZIHo7HU+80oH3XtaGDQgb0ICadb35Zd5+6jf247YuNVm7+DgRe6Ows9Ph6u7AmLe7AJCcmMl7L69HCIGPvwsvTOh6Xe1vOPYX+ma34zxhvilt++OCbU6vf0XWR08jvPxw6D0CY3QkTmPnAJC3bTl5u9ZiOL4HfeO2OI//FoxGcpbPhQzLA2mvrtlKtX7duPvMnxgyMtn92PiCbX0PLGNt60HoHB3o8cc3CHt7hF5HzIZdnJ33PwD2v/oh7ee9T+OXR4KU7B755nW1Q2ksfHwy3Ru2wc/Ni0tTVzBx1Ty+27nyhh0foFtTX8KPJ9B7ym7t/L+/0Ms8+OM9LB2rXZsThjRk3C8ntPO/iS9dm2gG8+T7GjF16WkMRomjnY7JwysfS1hQl0behJ9Movf0/TjZ65k6tDAWbvCsgyx9oRUAH6+9wOqD18jMNdL9g70MvS2AMb1qVkpLb6fjubHdGP/8CowGI3fd05Ta9Xz58avdNGwSQMdudVnxvwj2/30JOzsdbu6OvPZuLwAO77/C/K//ws5Oh04IXhjXAw9Py5IQFIUIIXzQsqRrAxeA4VLKxGJlWgFzAA/AAEyRUlaYWS0s6fcXQkQAraSURtOyHjggpazw7lm8y8na2LUp3/1e1YjG5Y+LU9UY/9xoU31dw8rdcG40MrH8YN2qRjSt/BhBN4qj9kk20waoM2mDTfWXz75x8UTXw4inKx+sfyMx3N3KpvpkZVdcpgq5eGdbm+rXdh9j1aCq7A8GWe1Z6zhu2XV/NyHER0CClPJDIcSbgLeU8o1iZRoCUkp5WghRDdgHNJFSJpV3bIu7nACvIp9vIj+bQqFQKBSKW4SBwI+mzz8Cg4oXkFKeklKeNn2+CsQCFY6rYOlcTh8AB4QQm9FGXukK3Dgfq0KhUCgUilsCIcRoYHSRVXNNyUCWECilzA94i6aCMe2EELcDDkCFozdamuX0ixBiC1ocDcAbUsrocnZRKBQKhUJhJayZTl00k7k0hBAbgNICO98qdhwphCiz4kKIYOAn4NH8kJfyKNegEUK0Kbbqsul/NSFENSnl/ooEFAqFQqFQ/HeQUvYqa5sQIkYIESyljDIZLKUOsy2E8ABWA29JKXdboluRh2ZGaXUt8jnMEhGFQqFQKBRViOGWmZxyBfAo8KHp//LiBYQQDsBSYL6UcrGlBy43KFhK2UNK2QMtfWqg6fNmIBl4zeLqKxQKhUKhUGiGzJ1CiNNAL9MyQoh2QohvTGWGo8XqjhRCHDT9tarowJYGBb8tpfyfEOIONK/MdDQjp335uykUCoVCoahqbuYpCYoipYwHepayfi/whOnzz8DPlT22pWnbBtP//sA8KeVqtKhjhUKhUCgUCptjqYfmihDia+BOYJoQwpHKjWGjUCgUCoWiqriJpySwFpYaJcOBP4DeppH6fICxVVUphUKhUCgUispg6Tg0GcCSIstRQPkzwSkUCoVCobAOt0gMTVWiuo0UCoVCoVDc8lgaQ6NQKBQKheImRaoYGuWhUSgUCoVCceujPDQKhUKhUNzqqBgahJRV2whJ2b/ZtJU909JtKU/u/JU21bd/qK9N9cnJsKm8cC93Itcqx7g73GbaObsv2kwbwPG5ITbVlz41bKrP2t9sKq9fedCm+vJj2ybCnu3zrk31620/LKypl/F6H6s9a10+WmfV72YpykOjUCgUCsWtzq0zl1OVoWJoFAqFQqFQ3PIog0ahUCgUCsUtj+pyUigUCoXiFudWmZyyKlEeGoVCoVAoFLc8ykOjUCgUCsWtjhpYT3loFAqFQqFQ3PooD41CoVAoFLc4KoZGeWgUCoVCoVD8C1AeGoVCoVAobnHU5JTKQ6NQKBQKheJfgPLQKBQKhUJxi6NiaJSHRqFQKBQKxb8A5aFRKBQKheIWx6hiaGxr0OzafopPpq3BaDRyz71teXRUN7PtC+fvYPmSvdjpdXh5u/L25MEEV/MGYPYn69ix7RTSKLm9Yz1eeaM/QlRuRvNtu88yZeYGjAYjQ+9uxehHOppt33PgIh98toGTZ2OZMWkQfcIaA3D8VAzvfryO9IwcdDrB0492ol+vptfVBvruj6Or0waZm4Nh/Wxk7PmSZTo9iK5pN3B0JfeLhwo3uPth1/t5cHQBocew/Wfkhf2VrsO23eeZ8tlGjEbJ0AEtGP1we7Ptew5e4oNZmzh5No4Z795Nnx6NKq0BsO3vSKZ8vh2j0cjQfk0Z/WBbs+05OQbe+HADR0/F4uXhxCcTelM9yIOVG07y7aIDBeVOnotnydfDaVLfn0+/3c3y9SdJSc1i/5qnLK5L+M7TTJmxBqNRMmxgG0aP7Gr+nfdfYOonazl5JoZPpgyjT89mZtvT0rLod9/n9OrWmAmvD7BIU0rJ1N9PEX70Gk4OeqY+1JRmNTxKlDt6MYVxPx8lO9dI12Z+jB/SECEEL393mAux6QCkZObh4WzH0jc7sONEPJ+sOENunhF7Ox1jBzagQyOfCutj13s0ugZtITeb3OWfIaPPFivgiP2wNxDewWA0Yjz9N3kbfwRA1GyGfe8nEYG1yf39I4zHd1rUBvnY+trbtu0oU6f8pp3zQzvx5OjeZtt/+H4jixfvQK/X4ePjzvtTHiIkxJfjxy8x6d1fSUvPQq8TPPV0H/r1a1dpfSklU5eeJvx4Ak72OqY+0IRmNdxLlDt6KZVxvxzXzoUmPowf3AAhBMevpPLub6fIyTWi1wkmDG1Ii1olz6Xr4duH32JA887EpibS/L0RN+SYRQnfeYop01dhNBgZNug2Rj9mft/fs/88U6ev5uSZaD6Zeh99ejUv2NbktrdoWD8IgOAgT7769JHrqoPvi2/i2rELxqwsYqe+Tc6p4yXKBM+Yg97XH6HXk3loP9c+mQJGIw71G+L/2gSEswt50VeImfQmMiP9uuqhuLHYzKAxGIx8PHUls+c+RkCgByMf+Iou3ZtQt15AQZmGjYP58ZdncHJ24PdFf/H5p38w5eP7iTh4kYiDF1mweAwAox+dx/6952l7W91K6U+evp7vPrufwAAPho36gbAuDahfx6+gTHCQBx+8PYDvFv5ltq+Tkx3TJtxN7Ro+xMSlMvTx77mjfV083J0q1QaidhuEVzC5349BBDVAHzaavF/HlShnPLcHw6E12I/83Gy9vv1QjKd2Yoz4A3yqYz/oLXK/e6ZSdTAYjEz+5E+++3Q4gQHuDHviJ8LuqGfeDoEefDC+L9/9sqdSxy6h81k43318D4H+bgx75jfCOtWhfu3CB+/itcfwcHdk/c8Ps3rTaWbM3cWnE3pzd69G3N1LM6JOnotnzDtraFLfH4AeHWszYlBz+jz8c+Xq8tEqvv/8UQIDPRj66NeEdW1M/bqF515wkCcfTBzMdz/vKPUYM7/axG2ta1WqDcKPxRMZm8G6CZ04dCGFyYtOsOi120uUm7ToBJMfaErL2h48Necg247F07WZH58+Xnhjn7bkFG7O2uXr7WrPnKdaEeDpyKmraTz55QG2vt+l3Lro6rdF+FYj5/OnECGNsO//DDnfvlainGHXUowXDoPODodH3kdXvy3GM/sgOY7c5TOx6zi4Um0Atr/2DAYj701exLffvUBgoBfDh02jR1gL6tcPLijTpEl1flv8Js7ODvzySzjTpy/l00+fwMnJgQ+nPUrt2gHExiQxZOiH3HFHUzw8XCrVBuHHE4iMy2Td+PYcikxh8uKTLHq5pGE0afFJJg9vRMtaHjw1N4JtJxLo2sSX6SvO8lzv2nRt4svWY/FMX3mW+WNaV6oOZfHDrtV8vmUx80dOuCHHK4rBYGTyhyv4/svHtWvv4S8J69aY+nUDC8oEB3nxwaQhfPfT9hL7Oznas/yX5/9RHVw6dMGhRi0u3t8fx2Yt8H/tba6MLmm4Rb/zWoGhEvj+J7j1uIu0jevwf2MS8V/MIOvgXtz7D8LrwcdI/ObzEvtbGxVDY2EMjRDCXwgxXQixRgixKf/vnwgfO3KZ6jV9Canug729HXf2aU74ZnMrud3tdXFydgAgtEUNYmNSTPWB7Ow8cnMN5ObkkZdnwMfXrVL6EceuUrO6NzVCvHGw19OvVxM2bjtlVqZ6sBeN6gcgdOaenzo1faldQ3sQB/q74+PtSkJSRqX0AXT1bsN4fCsAMvo0wtEVXL1KlJPRpyE9qeQBpAQHZwCEowsyPaHSdYg4HmVqBy9TOzRm4/YzZmWqB3uW2g6V0jkRS80QT2pU89R0whqwcae5N2rjjvMMukt7E+/drR679l9GSvOLdPWmU/QLa1Cw3KppEAG+rpWry9HL1KrhQ43qPjjY29H/zuZs3HrCrEz1at40bhCErhSv35HjV4lPSKNz+/qV0t10OI6BtwcjhKBVHU9SMvOITc42KxObnE1aVh6t6ngihGDg7cFsPBxnVkZKyboDMfRvq72pNq3hQYCnIwANgl3JzjWQk2ssty66Rh0wHNIuYXnlJDi6gpu3eaG8bM2YATDmYYw6i3D31fZJjkXGXtDOwUpi62svIuICNWv6U6OGHw4OdvTr15ZNGw+ZlWnfoRHOpntPy5Z1iIlO0vTrBFK7tmb4BgR64evjTkJCWqX0ATYducbA24K0c6F2eeeCgVa1TefCbUFsPHwN0O6BaVl5gPY/wNOh0nUoi21nDpKQnnLDjlcU7drzLbz27mrBxi3m933t2gsu9dq7Ebh06UHquhUAZB+NQOfmjt7Xr0S5Aq+L3g5hb19wL7KvUYusg3sByNizC7duvaqknorKY2lQ8ALgOFAHmARcAK7/dR2IjUkhMNCzYDkg0IO42LIvohVL99HxDu1B1rxlTdreVof+PafRr+c0OnRqQJ0ib9eWEBOXRnBgoYs2yN+dmLjUSn4L7eacm2ugZoh3xYWLIdx8kKnXCpZlWjzCzdfi/Q27F6Fr0hX7J+ZiN+gtDJu/rXQdYuLSCA4odHVr7VD5G3SFOtfSCA4oNDqD/NyIiTN308ZeSy8oY6fX4e7qQFJKllmZtZvP0L+IQXNddYlLJajIuRcY6EFMnGU3cKPRyLSZ63jjxd4VFy6um5RNkHehJyHIy7HUh1igV2GZQC9HYpLMy+w9m4SvuwO1A0p6BdYfjKVJdQ8c7Mu/tIW7LzKlyLmXGl9grJSKoyu6hrdjPH+o7DIWYutrLzYmiaDgwn0Cg7yJiUkus/zvi3fSpWuzEusjIi6Qm5tHzZolH4YVEZOcTZCXY8FymeeCZ2GZQE9HYkxlxg1uwPQVZ+kxaScfrTjDy/3rVboOtiAmNrnYtedp8bUHkJ2Tx70PfcHwR+ewYfOx66qDnV8AebHRBct5sTHY+ZX+/Aie8RW1V23FmJFB+pY/Acg9fxaXLmEAuPXojV1g0HXV40YjjUar/d2sWGrQ+EopvwVypZRbpZSPA2FlFRZCjBZC7BVC7P3hmw3/uJJrVx3k+NErPDRSc6NfuhjPhfNxrPxzLKs2vM7ev89xYN+Ff6xTWWKvpfH65JVMfas/un/gvbhedI26YDy6mdxvRpO3bAp2fV4ArF8Pa3HoeDROTnY0rGO50XejWbh4D107NzC7KVub1fuiC7wzRTkdlcaMFWeYdH/jGysodNgPGYvh75XIpJgbe+zrxFrX3ooVf3HkaCSjRpm/hcfGJvPG6z8wZeoj6HTWTxb9dccV3hxUn80TO/HmwAa8/euJinf6F7B51ViW/PwcM6bcx9QZq7h4Kb5K9aJefZrIgT0Q9vY4t9FiC2M/mIDn4Puo/u0idC4uyNzcKq2DwnIsjaHJ/8WihBD9gatAmVGHUsq5wFyApOzfSvVJBwR6mL0Vxcak4B9QMqjt791n+GHeVuZ8NwoHB626WzYeI7RFDVxctLeXjnc04MihS7RuW9vCrwOB/m5ExRS+GUTHpRLoXzIoryzS0rN5+rX/8dLobrQKDbF4P13LPuhCtZujjDmDcPcjv4GEmy8yzfILVBfak7wl72nHijoFdg7g7A6Zlr/xBPq7ERVb+HastUPluu8s0vFzIyq20PMTfS2NQH/zrqIAP1eiYtMI8ncjz2AkNT0HL49Cb8WaTf/cOwNaV0V0kXMvJiaFQH/LAioPRFxi38FIflm8h/SMHHLzDLg4O/Da83eVWn5B+CUW77wCQGhND6ITCz1O0UnZBV1F+QR4OhKTVFgmJimbwCJv8nkGIxsOxbF4rHnsTXRiFs/Pi+DDh5tR07/0eA59u37o22ieJePV0wiPIueeuy8ytfRzz27AGGT8VQx/rSh1e2Wx1bWXT0CgF9FRiQXLMdGJZt7ifHbuPMHXX61j/k+v4OBgX6iflsnTT3/JSy/dQ6tWdSzWXbD9Mot3RQEQWtOd6CKetzLPhSJem5giHptle6IZP1i7Fvq08uedRbeGQRMY4Fns2ku2+NrL3x+gRnUfbm9bl2Mnr1KzRsUvOB733o/H3UMAyD5+BLuAwhcCu4BA8q7FlrmvzMkhfftmXLv0IHPvLnIvnifqFS0Bwb5GLVw6di1zX2uiRgq23EPzvhDCE3gVeA34Bnjpnwg3aRbCpch4rl5OIDc3jz/XHaZrd/M3y5PHr/Lh5OV8PGuEWYxMULAXB/aeJy/PQF6ugQN7L1C7rn+l9Js3qUbk5UQuX00iJ9fAmg3HCbvDsodlTq6BMW/+zsC+oQXZF5ZiPLSOvAWvkbfgNYxn/0bXRIvwF0ENkDkZpcfKlEVKHLqaLbTPPiGgt6+UMQPQvHEwkZeKtsMJwjpXLjbEMp0AIq8kczkqRdPZdJqwjrXNyoR1qsOy9dqN+Y+tZ+nQOqQgc81olKzdcob+Pf65QdO8aQgXLiZw6UoiObl5rP7zMGFdLfsdZ7w/lC2rXmXTild448XeDOrXskxjBmBE1xosfbMDS9/sQM8WASz/OwopJQfPJ+PuZFfqQ8zNyY6D55ORUrL87yjCmhee27tOJlAn0MWs6yolI5envzrIK/fUp01drzLrYti7hpy5L5Iz90WMJ3ejb6k5WUVII8jOgLTEEvvY9XgI4eRK3h/zLGofS7DVtVeg37wWkZGxXL58jZycPNas2UePsBZmZY4du8S7ExfyxZfP4OtbaGzl5OTx/Ji5DBzYnt592lRKd8Qd1Vk69jaWjr2NnqF+LN8TrZ0LF5Jxdy7rXNBz8ILpXNgTTVio1r0V4OHInrNJAOw+nUgtf+fraAnr07xpCBcuXePSlQTt2lsfQVi3Jhbtm5ySSU6OFjeUkJjO/kORZoH85ZGy5FcuPzaMy48NI33bJtz73AOAY7MWGNPSMMRfMysvnJ0L42r0elw7diUnUov503uZ3uWFwPvR0aQs/59FdVBUPZZ6aIYB26WUR4AeQggfYDqw8rqF7fS8Nn4ALzzzI0aDkbsHtaVu/UC+/mIDTZqG0LVHE2Z/so6MjBzGv/YrAEFBXkyf/RBhdzZj799nGTHkcxDQsXMDunSv3M3Nzk7HO6/cyaiXf8VokAwZ0IIGdf2ZNS+c0MbBhHVpwOFjVxkzbgkpqVls3n6az7/dxqoFT7Ju43H2HrxEUkomS9doQZMfvDWAJg0DK1A1R57fj6zdBvvHvkDmZWNY/0Vh/UZMJ2+BlnWi7/IwukZdwN4R+yfmYjyyAcPu/5EX/iN2dz6Drs0AkJK8Pyofaa+1Qy9GvbIYo9HIkP7NaVDXj1nfbCe0cRBhd9Tn8PEoxoxfRkpqNpt3nOXzb3ew6ufHK6ej1/HO810Y9cYKrb37NqFBHV9mff8XoQ0DCOtch6H9mvD61A3c9dBPeLo78ck7hYbCnoirBAe4UaOa+Zv0x1/vZNXGU2Rm59Ft+A8M7deU50eWzBwy/856JrzenydemI/BYGTIPW1oUC+Az77aSGiTEHp2a0zE0SuMef0XUlIy2bz9JLO/3sTq//2z7IpuzXwJP3aN3pN3aqm6DxXGZQz+cDdL3+wAwIT7GhekbXdp4kvXpoVvoGv2xZTobloQfomL1zKYs+4cc9adA+Cb59pQns/DeHovuvrtcBgzV0vbXvFZwTaH0Z+RM/dFcPfFrst9GOMu4TB6JgCGPasxHFiPqNYAh+HjwckNXcPbkN1GkPPVcxa1g62vPTs7PW+/cx9PjPoco9HIvUM60qBBNWbNWkloaC3Cwlrw8cdLyMjI5uWXvgEgONibL+c8w7p1+9i79zRJSeksW7obgKkfPEyTJjUs1gfo1tSX8OMJ9J6yW0vhL9JNOPjjPSwdexsAE4Y0ZNwvJ8jONWjnQhPtYTr5vkZMXXoag1HiaKdj8vAb18248PHJdG/YBj83Ly5NXcHEVfP4bud13+rN0K69e3hizPcYDJIhA9vSoF4gn835k9Cm1enZrQkRRy8z5rWftWtv23Fmf72R1b+9xNnzsUycsgyhE0ij5MmR3cyyoywlY9c2XDp2peaiNRizsoib+nbBturf/8blx4ahc3Ih6MPZCHsHhE6QuX9PgeHidmdfPO69H4D0rRtJXb3shrSN4p8jimeRlFpIiANSytYVrSuNsrqcrIVnmm3HB8idf2NuBNeL/UN9bapPTuWzv24kwr3yN7wbiXF3uM20c3ZftJk2gONzQ2yqL30qZ2TccNb+ZlN5/cqDNtWXH4+1qf7ZPu/aVL/e9sNWDWi8NqKz1Z61fgt23JTBmpZ2OemEEAVpASYPjRplWKFQKBQKxU2BpUbJDGCXECL/lWMYMKVqqqRQKBQKhaIyqKBgCw0aKeV8IcReClO175VSXt8gAAqFQqFQKBQ3GIu7jUwGjDJiFAqFQqG4yVBTH1geQ6NQKBQKhUJx06ICexUKhUKhuMUxKg+N8tAoFAqFQqG49VEeGoVCoVAobnFUlpPy0CgUCoVCofgXoDw0CoVCoVDc4qgsJ+WhUSgUCoVC8S9AeWgUCoVCobjFUR4a5aFRKBQKhULxL0B5aBQKhUKhuMVRWU5WMGg8Y69UtUS5iOotbavvZGObMTPFtvpObjaVNx7Za1N94e1pM22HVoE20wYQPrVsq29TdTBmZdtUX3481qb6YuzHNtW/7O1kU32F9VFdTgqFQqFQKG55VJeTQqFQKBS3ONJotHUVbI7y0CgUCoVCobjlUR4ahUKhUChucVRQsPLQKBQKhUKh+BegPDQKhUKhUNziqIH1lIdGoVAoFArFvwDloVEoFAqF4hbHqDw0ykOjUCgUCoXi1kd5aBQKhUKhuMVRWU7KQ6NQKBQKheJfgPLQKBQKhUJxi6OynMoxaIQQ95a3o5RyyY2vjkKhUCgUCkXlKc9Dc3c52ySgDBqFQqFQKG4CbpUYGiGED7AIqA1cAIZLKRPLKOsBHAOWSSnHVHTsMg0aKeVj11NZhUKhUCgUijJ4E9gopfxQCPGmafmNMsq+B4RbemCLYmiEEP2BZoBT/jop5WRLRYqy7e+LTPlyO0ajZGjfJox+oI3Z9pwcA29M28jR03F4eTjxydt3Uj3IA4CT5+KZ8OlW0jNyEEKw+MshODrYsWrTab5euB8hIMDXlY/H9cTb07nCuoRvO8qUKf/DaDQybGhnRo/uY7b9++838Nvi7ej1enx83Jg65RFCQnwBGPXELA4dOk/bNvX5+uvnKt0OUko+2HqFbedTcLLXMeWumjQNcClR7rMdUaw4nkBKtoE9z7Uw27buVCJf7o5GIGjk78RHfWuXq7ltz0WmfLnT1PaNGX1/a7PtOTkG3vhoE0dPX9Pa/q1eVA9yB0xtPzOc9Ixcre2/GIzRKHnpvQ1cjEpBrxP06FCLV59oX7b+X+eZ8tlmTX9AKKMfMi+bk5PHG1PWcvRkrKY/aQDVgz3JyTUw8eM/OXIyBp0QjH+xB+1b1wBgzcYTfDX/L4xGSfdOdXntma7ltvnUhUcIj4jByUHP1FGtaVbbq0S5oxeSGPfNAbJzDXRtEcj4B0MRQvDZkhNsOhCFTgh8PBz5YFRrArydWLnrMt+sOY2U4Opkx8RHWtC4pmep+lN+OkT4wWicHPV8MLodzep4lyh35Hwi477eS3aOga6tgnjr4ZYIIVj312U+X3KMs1dT+d+kMJrX1fbdcTiGGYuOkJtnxN5Ox+sPNKdDs4DSv//yc4SfSMDJXsfU+xrRrLpbye9/OZVxi06RnWuka2Mfxg+sixCCE1fTePf3M2TkGAjxduLjBxvh5qTdQk5eTWfi76dJyzagE/DbC60p7wq05bV3M+gXRUrJ1JXnCT+ZhJODjqlD69MspOTvMvOPSJYfiCMlM499kzpct174zlNMmb4Ko8HIsEG3Mfqxbmbb9+w/z9Tpqzl5JppPpt5Hn17NC7Y1ue0tGtYPAiA4yJOvPn3kuutRFt8+/BYDmncmNjWR5u+NuOHHB/Ac/SpObTsjs7NI/GwSuWdPlijj++4s9D6+oLcj5+gBkr76CIrMaO02aASeo14iakQvjCnJVVLPynALxdAMBLqbPv8IbKEUg0YI0RYIBNYB7Sw5cIVZTkKIr4D7gOcBAQwDally8OIYDEYmz97GvKkDWPXt/azefIYzkQlmZRavPY6HuyPr54/g0SEtmDFvNwB5BiNjP9jApJe6surb+5k/YyB2eh15BiNTv9zO/Bn3sGLefTSq68vPy45YVpfJv/DNvDGsXjWRVav3cObMVbMyTZrU4PfF41m54h16927Dx9MLe9meGHUXH027fifWtgupXEzMZs3IJrzbswbvbbxcarnudT349YGGJdZHJmbzzZ5YfhregOWPNOaNbiHl6mltv4N5U/ux6pvhprY39/ItXncCDzdH1v/4AI/e25wZ3xRp+w83MenFrqz6ZjjzZ9yNnV47dR4b1oK1393HkjlD2H80mvC/L5at/8lG5k2/l1U/jWT1hpOcOR9vrr/6CB7uTqz/dRSPDm/LjK80w/y3lREArPzxUb77dCjTPt+C0ShJTM7k4y/D+WHmMFb9NJK4hHR27Y0ssw3CI2KJjEln3Yc9mTSyJZN/iii13KT5EUx+rCXrPuxJZEw62w7HAjCqbz2Wv9eDpZO7071lIF+u0G6C1f1cmP9mZ1a834Nn7mnIxB8Pla5/KJrI6DT+mNGbyaPaMOmHA6Xrf3+A955owx8zehMZnca2iBgAGlT3YNaLHWnXyM+svLe7I3Ne7cTKD+/kw6fa8fpXe0rXP5FI5LVM1r3RjklDGzB5yZnS9ZecYfLQBqx7ox2R1zLZdlI7T9757TSv9KvNilfb0ivUl2+3aOdsnkHy+i8neHdIfVa91pYfn26BnV6Uemyw/bVna/3ihJ9MIjI+i3WvtWbS4HpMXnau1HLdm/iw6NkWpW6zFIPByOQPV/DNrJGsXvwSq/44xJlzMWZlgoO8+GDSEAb0aVlifydHe5b/8jzLf3m+SowZgB92rabP7Jer5NgAjm07YVetJjFP3UviF1PxeubNUsslTBtH7AsjiH3uPnSe3jh37lmwTe8XiGPr9uTFRlVZPW9mhBCjhRB7i/yNrsTugVLK/IaLRjNaih9fB8wAXqtMvSxJ2+4kpXwESJRSTgI6AiWfsBYQcTKWmtU8qVHNAwd7Pf2612fjjgtmZTbuvMCguxoB0LtrPXYduIKUkh17L9Gori+N62k3c29PJ/R6HVJKpISMrDyklKRl5BDg61pxXSIuUKtmADVq+OPgYEf/frexcaP5A65Dh0Y4OzsA0KplHaKjCw2Ajh0b4+rqeD3NAMDms8nc08QHIQQtg11JzTEQl55bolzLYFf8Xe1LrF98JJ77W/rhaXpD9nUpWaYoWtt7UCO4SNvvvGBWRmt77aft3bUuuw5cNbX9ZRrV9aFxPe0N1dtDa3tnJ3s6tNIMKQd7PU3r+xF9Lb10/ePR1AzxokY1L02/ZyM2bjd/oG7cdoZBfZpp+t0bsmvfRaSUnL0QT4c2NbXv6e2Ch5sTR05Ec/lqMrWqe+PjrXm2OrWtxfqtp8tsg00HohnYqTpCCFrV8yElI5fYpCyzMrFJWaRl5tGqnvbbDOxUnY37owFwcy5s48xsg2beA60b+ODpqp0nLet5E51gfsyC77cvioF31NL06/uSkp5LbGKmuX5iJmmZubSq76vp31GLDXu1h229EA/qVnMvcdymtb0I9Nb8IQ2qe5CdYyAn11Dy+x+NZ2DbAE2/lgcpWXnEpuSY66fkkJZloFUtD02/bQAbj2iG54VrmdxWV/M8dWrozZ+HrwGw41QijYJdaVxN8yp4u9qj15Vt0Nj62rO1fnE2HU9gYGt/7Xep6V7q7wLQqqY7AR4O/0gr4uhlatXwpUZ1Hxzs7eh/Vws2bjluVqZ6NW8aNwhGJ8r+DauSbWcOkpCeUmXHd+7QjYxNqwHIPXkE4eqOztu3RDmZabqX6fVgZ69FjprwfOJlkr+fDfKW8YrcUKSUc6WU7Yr8zS26XQixQQhxpJS/gcWOIzFr2QKeBdZIKUt/0y8DSwya/DtuhhCiGpALBFdGJJ+Ya+kEBxQaG0H+rsTEmz8AY+PTCPbXbox2eh3urg4kpWRx4XISQghGvbGKe5/+jW8WaW+39nZ6Jr7YlXueXETX++ZzNjKRoX0bV1yXmESCggvd/YFBXsTElBqXBMDixTvo2jW0Ut+3XP30XILcCx+QgW72xKSVNGjKIjIxi8jEbB5adJoHfz3F9gvl3wBirmUUtCtAkJ8rMdeKt3166W1/JQmBYNSbq7n3md/5ZtHBEsdPSctm8+5IOrYu3VMUE5dGcEDhwzjI352Ya2nm+tcKy9jZ6XB3dSQpOZNG9QPYtOMseXlGLl9N5uipGKJiU6lZ3YvzlxK4HJVMXp6RDdvPEBWbWnYbJGUR5FPYERLk7UxsYjGDJjGLQJ+CnlUCfZyJKWL0zPz9OD1eWc/K3Zd5YVDJ8+z38It0aV6yuwcgJjGTYN8i+j7OxBTTj0ksVkcfZ2KKGT3l8ceeKzStrRmNJfRTcgjyKnwQB3k6EJucbVYmNjmbQM/CMoGejsSYHq71A13YeFQzbv44FEdUsrb+wrVMEIIn5h3m3pn7+WbzpXLraPNrz8b6JeqTXPx3cSzVoLkhWrHJBAUWdocGBnoSE2e58ZCdk8e9D33B8EfnsGHzsaqoYpWj9/XHcK3QK2WIj0XvW/o16ztpFsE/r0dmppO5cyMATu27YoiPI+9C2S9PtkAapdX+KqyLlL2klKGl/C0HYoQQwQCm/7GlHKIjMEYIcQGYDjwihPiwIl1LDJpVQggv4GNgP1pU8i/l7VDUHTV3wU4LJComzyDZdySK6eN7smDmIP7cfp5d+y+Tm2fg15VHWfrVMMIXPULDur7M/aV0V/71snzFXxw5epEnRt15Q4/7T8iTEJmUzfdD6/NR31pM3HCJlKy8qtEySPYdjWb6uDAWfHoPf+7Q2r5wu5FXp27k4cGh1Aj2uOH6Q/qFEuTvxtAnf2bq7M20Dq2GXifwdHdi4qu9eGXiKkaM+ZWQII9yPQM3gpeGNGHzJ3dxd4fqLNh43mzbX8ev8fu2i7w6vGmV1qEsTl9OYcavR5j0eJuKC18HU4Y35JedUQyZeYD0bAP2pm4lg0Gy/3wyHz/YmAXPtmTDkXh2nS7bQKgMtr72bK1/s7F51ViW/PwcM6bcx9QZq7h4Kb7inW5h4ie+QNQjfRH2Dji2aIdwdMR92GOkLPjK1lW7lVkBPGr6/CiwvHgBKeUIKWVNKWVttG6n+VLK0vsGi1BhULCU8j3Tx9+FEKsAJylluRFQJvfTXAB5aWaBORfo50pUbKFXIDouncBi3UMBvm5ExaUR5O9GnsFIanoOXh5OBPm70q55cEGwb7f2NTl2Og43F80FW7Oa9tbRt1s95v1asUETGOhNdFThTTcmOonAwJIBmjt3Huerr9by80+v4OBQfrdORfxyKI7Fh7UbQGiQC9GphR6ZmLRcAt0sP36gmz0tglyw1wuqezpS29uRyKQcmgeV/pMG+rkQFVfoEYm+lk6gX/G2dy297f2Ktf3tNTl25hod21QHYMKn4dQK8eTRe8vu3w/0dzPznkTHpRLoZx74GOCnlQkKcCcvz0hqejZens4IIRj3Qo+Ccvc/s5DaNXwACOtcj7DO9QBYtCKihEGzYON5Fm/V4mpC63gRnVDo7YhOzCTA28msfIC3EzFFuoxiEjIJ9DIvAzCgYwhPffoXzw/WvDQnLyXzzvcH+fqVDni7FXYLLPjzLL9t1gyf5nW9iYovop+QSWAx/UBvJ/M6JmQWdCeVR3R8BmNm7mLa0+2oGVjYrgt2XGXxX1qXWWgNd6KTCj0y0ck5BHiad50EeDoSU8RrE5OcTaCpm6NugAvfjtYCRM/HZbD1hBb/FujlQLu6nnibuka7Nvbh2JV0OpdRV1tcezeTPsCCXVEs3qN5CUKruxX7XbL/cddSWQQGeBIdU3j7jolJJtDf8peQwADtPlujug+3t63LsZNXqVmjZHfNzYZrv2G49B4EQO7pY+j9CsM29L4BGOJLcxKYyM0hc/dWnNp3w5AYjz6wGgGzFmr7+gXgP/Nn4l4ZiTHJtsbdrZK2DXwI/E8IMQqIBIYDCCHaAU9LKZ+43gNbNPWBEKKTEOJBtODggUKI64oGa94ogMgrSVyOSiEn18CaLWcI61TbrExYp9osW68FW/4RfpYOrUIQQnBHu5qcPp9AZlYueQYjew5dpV4tHwL8XDkbmUhCkvYQ2LnvMnVrlrw5lahL81pciIzl0uVr5OTksXrNHsLCzB/Ix45dZMLEBcz58hl8ff+55+GBlv78/lBjfn+oMWH1PFlxPAEpJYei0nFz0JcaK1MWPet5sueyZqAkZuZxITGbGp5l3wS1tk82b/uO5rHdYR1rsWz9KQD+CD9Hh1bVTG1fw7ztI6KoV0tr45nf/01qeg7jn+lUbn2bNw4i8nISl68ma/obTxJ2Rz1z/TvqsWzdUU1/yyk6tKmJEILMrFwyMjXjb8eeC9jpddSvo91E4xMzAEhOzeKXpQcZOqC52TFH9KzD0sndWTq5Oz3bBLN852WklBw8m4C7sz0BxYyVAC8n3JztOHhW+22W77xMWGstq+NCdKFBuOlANHWDNcPhanwGL3y+h2lPtqFOkLmRNuLOeiyb2otlU3vRs201lm+P1PTPxOPuYk9AMWMlwNsZN2d7Dp6J1/S3R9Kzbfk9vCnpOTw1Yyev3hdKm4bmAcMjOldj6SttWPpKG3qG+rJ8X6ymH5mCu5O+xIMzwMMBNyc9ByNTNP19sYQ1M7V1mtYNYjRKvtpwifs6aPW6o6E3p6LTycwxkGeQ7DmXTL3Akhl7+dji2ruZ9AFGdAxm6QutWPpCK3o29WH5gTjtd7mYiruTXZUZNM2bhnDh0jUuXUkgJzeP1esjCOvWxKJ9k1MyycnRvMAJiensPxRJ/bqld9XcbKSv+Y24F0cQ9+IIMndvwSWsPwD2jUKRGWkYE82NEeHkXBhXo9PjdNsd5F2+QF7kWaIf7k3MEwOJeWIghmuxxL30kM2NmVsJKWW8lLKnlLKBqWsqwbR+b2nGjJTyB0vGoAEQsoKgJiHET0A94CCQH2kopZQvWFT5Ih4agK1/RTL1yx0YjZIhfRrz9Ii2zPrhb0Ib+hPWqQ7ZOXm8/uFGjp+5hqe7E5+8dSc1qmk3lBUbTjH3Fy09u+vttRg7uiMAv648yvylEdjpdVQLdOeDsWF4e2oPKlG9ZKR+QV22Hmbq1N8wGI0MGdKJZ57ux2ezVhAaWoueYS0Z+dhMTp26gr+/9lYSHOzDV3OeBeDBEdM5dy6ajIxsvLxcmfL+w3Tp0qyERu5XpbsmpZRM2XyF7ZEpONvpeO+umoSaHgJDfj7B7w9pb/4ztl1lzclEYtNyCXCz595mPjzXMRgpJR+HX2V7ZAp6IXjy9kD6NSppyNn1L0yN3vrXRabO0dK2h/RuxNMj2jDrhz2mtq9tavvNHD97DU93Rz55q1dBF9KKDaeY++tBU9vXZOyTHYiOS6P7gwuoW6MwZmPEwGYM61fkBulU+IDfuuscU2dtwWg0MqR/KE8/0oFZ3+wgtHEgYXfUJzs7j9ffX8vx07F4ejjxybv9qVHNi8tRyTzx6u/odIJAPzfef7M3IaZU/lfeXcXJM3EAPDuyI/17mce1yDOF/dxSSt77+TDbD8cWpG2H1vECYPCELSyd3B2AI+eTGPftAbJzDHRpHsDbDzVHCMELn+/hfHQaOgHVfF1499EWBHo78/Z3B/lzXxTVTPExer1g8UQtFVbY25vr/3iQbflp46PbFaReDxq/gWVTewFw+Fwi4+fuJSvHQJeWgbzzSCuEEPy55wrvzz9EQmo2Hi72NK7lybdvdGHOsuPMXXmSWkU8M9++cQc+GeaxEVJK3lt6lu0nE7X04OENCa2hxSwN/mQ/S1/RuqqOXCpM2+7S2Ju3B9VDCMH8bVdYuFNLTrizuS+v9K2NMAWOrtgXy9zNlxBoHpqxA+qgu7vslFtrXHvlYQ1949L5FtVFSsl7K86z/VQiTvZ6pg6tT6gpnX7wrIMsfaEVAB+vvcDqg9eITc0hwN2BobcFMKZXzTKPq7trQOnffftJps5YhcEgGTKwLc+M6sFnc/4ktGl1enZrQsTRy4x57WdSUjJxdLTDz9ed1b+9xP5DkUycsgyhE0ij5JEHOzNsUNnZtGLsxxZ9/+IsfHwy3Ru2wc/Ni5iUBCaumsd3O1dW+jiXL5cMjM/H8+nXcWrT0ZS2PZncM1pgtP9nC4h7cQQ6Lx98J3yKsLMHnY7siL0kf/MpGM2PGfjNcuJeeaTUtO2QlXusGlV9vFVjq7lomhw8YZuI8QqwxKA5DjSVFRUsg+IGjbUpz6CxBmUZNNaiqEFjE5xKjqdhTYoaNLagqEFjbWRUOW50K1CeQfNfwFKDpqooy6CxFtdr0NwoyjNorIEyaKyPJQPrHQGCgP9mwr1CoVAoFDc5Rcb8+89S3uSUK9Hyw92BY0KIv4GCyDUp5T1VXz2FQqFQKBSKiinPQzMdbeiwacCgIuvz1ykUCoVCobgJUB6a8ien3AoghLDP/5yPEKLiPFKFQqFQKBQKK1Fel9MzaMMP1xVCFB0X3B3YUdUVUygUCoVCYRnKQ1N+l9NCYC3wAdr03vmk5ueNKxQKhUKhUNwMlNfllAwkAw9YrzoKhUKhUCgqiwVTLP3rsWikYIVCoVAoFIqbGUvGoVEoFAqFQnETo2JolIdGoVAoFArFvwBl0CgUCoVCobjlUV1OCoVCoVDc4qguJ+WhUSgUCoVC8S9AeWgUCoVCobjFUR4aKxg0WXP/rGqJcsmNXW5T/Yh3u9hUv8PavTbV1wW42VQfP2+byouGzW2m/VeNkzbTBnBu9oxN9XU29j+77xpjU31Dn3dtqn/Z28mm+tWr622qr4aFsT7KQ6NQKBQKxS2O8tCoGBqFQqFQKBT/ApSHRqFQKBSKWxzloVEeGoVCoVAoFP8ClIdGoVAoFIpbHOWhUR4ahUKhUCgU/wIq9NAIIepIKc9XtE6hUCgUCoVtUB4ayzw0v5eybvGNrohCoVAoFArF9VKmh0YI0RhoBngKIe4tsskDsO2ISQqFQqFQKApQHpryu5waAQMAL+DuIutTgSersE4KhUKhUCgUlaJMg0ZKuRxYLoToKKXcZcU6KRQKhUKhqARSqskWLImhiRdCbBRCHAEQQrQQQrxdxfVSKBQKhUKhsBhLDJp5wDggF0BKGQHcX5WVUigUCoVCoagMlgys5yKl/FsIUXRdXhXVR6FQKBQKRSVRQcGWGTTXhBD1MM2GLoQYCkTdqArY93sKXcN2kJtNzpJPkVFnixVwxOG+cQifIJBGDCf+Ju/PHwDQ39YXu/YDwGhE5mSSu3w2Mu5SpfQd73se+9D2yJwsMn+YhvHS6RL6zk+9i86/GhiN5EXsJHvpPACEdwDOj72JcHYDnY7spfPIO/KXxdqH/4ril88PIA2SLv3r0m9Ek1LL7d16iTkTd/LOV3dSu7EP547HM3/6XgAkkoEjQ2nTpXqlvreUkg82XiL8bArO9jqm9KtN0yCXEuU+C7/CiiPxJGcZ2PtK6xLb159M5OVl51j0SGNCg10r1Jy67Czhx+NxctAz9f5GNKvuXqLc0UupjPv1JNm5Bro28WX8oHoIITh+JY13F58iJ8+IXieYMKQBLWp68PeZJJ77/gjVfbTku17N/Xjurtql6y84TPihGE3/yTY0q+1VUv98EuO+2U92joGuLQMZP6I5Qgg+/vUImw9GY6/XUSPAlalPtMbD1YHcPCPvfHeAY5HJGAxGBnauyei7G5bbFuG7TjNlxjqMRiPDBrZh9KNdzLbv2X+BqZ+u4+SZGD55fyh9ejYz256WlkW/+7+gV7fGTBjbv1yt0oj46yoLZu/HaJR061+PASOallpuz9ZLfD5hO+9+fRd1GvtyZE8U/5t7CEOuEb29jvufaUXTNkGV1geoNv4tPLp2xZiZxaXx48g8fqzMsrU//xKHGtU5NfAes/X+Ix+j2utvcKRTBwxJSZXSDx73Fu5dumLMyuLyW+PIKke/1uwvcahendODNf3AMS/gHtZTuyckJHD5rXHkxcVarL1nZyRfTQ/HYJT0HdSU+0a2M9u+avFhVv52GJ1e4Oxsz4tvhVGrrg/RV1N4ctjPVK/lDUDj0CBeHN+jUt8bwPfFN3Ht2AVjVhaxU98m59TxEmWCZ8xB7+uP0OvJPLSfa59MAaMRh/oN8X9tAsLZhbzoK8RMehOZkV4pfc/Rr+LUtjMyO4vEzyaRe/ZkyTq+Owu9jy/o7cg5eoCkrz4ye2q7DRqB56iXiBrRC2NKcqXboCy+ffgtBjTvTGxqIs3fG3HDjquoeiwxaJ4D5gKNhRBXgPPAQzdCXNegHcK3Gtkzn0RUb4TD3c+RPfeVEuXydizBeD4C9HY4jJyCrkFbjKf3YYjYgmHPWu1Yjdtj3/dJcuZPsFjfLrQ9+oAQ0t55CH2dJjiPeJn0D58tUS5n/SIMpw6C3g6Xl2dg1+x28o7+jWP/h8ndu4Xc8BXogmvhMuZD0t56wCJto8HIgs/28er07nj7O/Pe03/SqnM1qtX2NCuXmZHLht9PU7eJT8G6kDqevPP1nejtdCTFZ/LuqD9o2bEaejvLB37edi6FyIRs1o5uRsTVdCavj+TXR0oaVN3refJgmwD6zj1SYlt6toGf98bSogJDJp/wEwlEXstg3bjbOXQxlcm/n2bRi21KlJv0+2kmD29Iy5ruPPXNYbadSKBrE1+mrzrHc3fVomsTX7Yej2f6qnPMf7YVAG3rePLVE83L14+IITI6jXUf9eLQ2UQm/3iIRRO7ldT/8SCTH2tFy3rePDVjF9siYunaMpBOzQJ4eVhT7PQ6pi86ytxVp3ntvmb8secKOXlGVkwJIzM7jwHjN9K/Qwgh/qW3i8FgZPJHa/j+84cJDPBg6KPzCOvSiPp1AwrKBAd58sGEQXz3885SjzHz683c1qpWud+3LIwGI/Nn7uP1GT3w8Xfm3afW07pzCCGlnHvrF5+kXlPfgnXuno68/EFXvP1cuHwuiY/HbuGz3wdVug7uXbviWKsWJ/r0xqVFS0ImTuTM/feVWtaz150YMzJKrLcPCsK9U2dyrl6pvH6XrjjWrMWpfr1xbtGSkHcmcvbB0vU9StGP+/5bYj6fBYDviIcJeOZZrk5+1yJtg8HIF9O28MEXg/ALdOP5RxbRoWtdatUtvMZ79GnEgKHa+bxr6zm+/nQbU2cPBCA4xJM5Cy27z5SGS4cuONSoxcX7++PYrAX+r73NldElH9zR77xWYKgEvv8Jbj3uIm3jOvzfmET8FzPIOrgX9/6D8HrwMRK/+dxifce2nbCrVpOYp+7FvlEoXs+8Sdxrj5UolzBtHDJT0/cZNw3nzj3J3PYnAHq/QBxbtycv9oa9Wxfww67VfL5lMfNHWv4suRlQHhoLYmiklOeklL0Af6CxlPIOKeWFGyGub9IBw8FNms7lk+DsCm7e5oVyszVjBsCQh4w6i/Dw05azMwuKCXsnqGSUt13LzuTsXq8d+vxxcHZFePiYF8rN1owZk77h4mmEt7+2LCXCWfNqCGdXjMnXLNY+dyKBgBB3/Ku5YWev5/awmhzYUfLGvOzbw/R9oDH2DvqCdY5OdgXGS26OAfPeQMvYdDqJe0J9EULQMsSN1GwDcWm5Jcq1DHHD382+1GPM2naVUR2CcLSzrAKbjsQzsG0QQgha1fIgJTOP2JRsszKxKdmkZeXRqpYHQggGtg1i45F4AASQlmUAIC3TQICHYyW+MWzaH83AzjU1/fo+pGTkEpuUZa6flKXp1/fR9DvXZON+7abZuXkAdnqt3VvW8yYmMdNUL0Fmdh55BiNZuUbs9TpcnUtvM4CIo1eoVd2HGiE+ONjb0f+uUDaGm7+hVq/mTeMGQeh0Jdv2yPGrxCek0blDvUp9/3zOHU8gMMSNANO51z6sJvu3Xy5Rbsm3EfR/sInZuVeroQ/efto5H1LHk9xsA7k5hkrXwTOsJ4nLlwOQEXEIvbsHdn7+JcrpXFzwf3QkMV/PKbGt2hvjuDrjY5PvuHK49+hJ4gpNP7M8fWcX/B4ZSWwxfWN6epEyzpW695w8GkO1Gl4EV/fE3l5P97sasmvrObMyrm4OBZ+zMvOu6xovC5cuPUhdtwKA7KMR6Nzc0fv6lShX4HXR2yHs7QuyaOxr1CLroOYhztizC7duvSql79yhGxmbVgOQe/IIwtUdnbdviXL5xgx6PdjZm/3Onk+8TPL3syt9z7eEbWcOkpCecsOPq6h6LJn64JViywDJwD4p5cF/Ii48fJHJcQXLMvmati4tsfQdnFzRNWpP3q4VBav0t/fHrvNgzS353fjK6Xv5IRMK3cQy6RrC2w+ZklD6Ds6u2LfoSPombfDk7JU/4PLSxzj0uBfh4ET6zNcs1k6Ky8TH37lg2dvfhfPH4s3KRJ5KICEuk5Ydq/HHryfMtp07Fs/3H/1NfHQGT7zVvlLeGYDYtFyCPApvmoHuDsSk5pRpvBTnWHQG0ak5dKvnyfd/RVu0T0xyNkFehUZIkKcjsck5ZoZJbHIOgUXKBHo5EJOsGT3jBtXjybmH+XjlOYxSsvD5wi6wg5EpDJq+lwBPB8beXY8GQSW9IzGJmQT5FrZ5kI8TsYmZBHgVjhMZm5hJoHdhmUAfpwLDpShLtkXS93atm++u26qx8UAUXV9cR1a2gTcfbI5XkQdSiXrEpRAU6FGoEeBBxNGSBkVpGI1Gpn32Bx9Pupede85VvEMpJF7LwCegsHvRx9+Fs8fNz70LpxJIiM2gVccQ1hY79/LZu/UStRp6mxk8lmIfEEhudOHbdW5MNPaBgeRdizMrF/T8C8T+8D3GTHPD0yMsjNzYGLJOluyqsEg/0DL9wOdf4NqP32PMyip+CAJfeAmvewZiTE3l3OOPWqwdH5uOf6BbwbJfgBsnjpS8hlb8L4IlCw6Qm2fkozmDC9ZHX03h2Qd/wcXNgUef6UDz1iEWawPY+QWQF1uolxcbg51fAIb4ki9kwTO+wrFpczJ2byd9i+YdyT1/FpcuYWRs24Rbj97YBVauy1Hv64/hWkzBsiE+Fr1vAMbE+BJlfSfNwqFhM7L27SRz50YAnNp3xRAfR96F0yXK/5dRHhrLspzaAU8DIaa/p4A+wDwhxOtVWDdzdDochr1O3u4VyMTCi9Hw92qyP32CvPXfY9e9dJfxjdJ3eeIdcjYvQV7TboT2t/ckd+c60t4cTsbnb+L82Dhu1KuU0ShZ9MVB7numVanb6zb15b0f+vL213eyZsFxcrMr/5Z83XWTko82XeL1sMrF7fxTft0ZxZsD67F5QgfeHFiPt/+nPcyaVndj49sdWPZaO0bcEcKY749WaT2+WnESvU7H3Z2073/4XCJ6nWDrzD78OeMuvl93hkuxlYspsJSFi/fQtVMDggI9Ky58nRiNkl++OMD9z5aMmcrn8vlkFn19iJGv3lZl9XBq3BiHGjVJ2bjBbL1wciJg9FNEz55VZdoATo1K188nZtZMTvbqQdLqVfg+eEN64c24Z3gLflj+KKOe78TCb/cA4OPnys+rRvLlwgd46uUufPj2etLTcm64dj5Rrz5N5MAeCHt7nNu0ByD2gwl4Dr6P6t8uQufigswt6dm9UcRPfIGoR/oi7B1wbNEO4eiI+7DHSFnwVZVpKm5dLImhqQ60kVKmAQghJgKrga7APuCj4jsIIUYDowFm9wtlVJuaBdv0t/fHrl0fAIxXTiE8C928wtMPmVLSSgewv+d5ZPxVDLuWl7rdcDgc+7ufI5dPy/0y9t0H4XCHFkRpuHAC4RMApjhk4eWHTCy928jpodcwxF4hZ2Ph1Fb2nfuRMUuz6QznjiHsHRBunsjUpHLrAODl70xCXOGbf2JcBl5FPDZZGblcOZ/MRy9pXXLJCVnMemsbL0zpQu3Ghd1i1Wp54Ohsx5XzyWbrS2Ph/lgWH9K+X2iQK9EphTfCmNQcAt3L9ioUJT3HyOlrmYxceAqAa+m5jFlyls/vrVciMHjB9iss/kszAENruBOdVNjFFJ2cTYCnuWaApwMxRcrEJOUQ6Kl5bJbtjWb8IK2bpU9Lf975n6bv5lR4Gndr4svk30+TmJaLt5s9CzacY/HWC5p+HW+i4wvbPDohi4Ai3hiAAG9nM49MTEKWmcdm6bZIthyM5vs3Oud7K1m1+zJ3NA/A3k6Hr4cjbRr4cOR8EjUCSo+hCfT3IDqm0KUdE5tCoL9HqWWLc+DwZfYdjOSX3/eQnpFDbp4BF2cHXhtzp0X7A3j7uZAQWxgTkhCXgbef+bl3+XwSHxace5nMHL+Nl6Z2oU5jXxJiM5j19jZGj+9AYEjJoO6y8H3gQXyHDQMg4/Bh7IOCC7bZBwaRGxNjVt61ZStcQkNp8udG0Oux8/Wh3g/zuTLlfRxCqtNo6XLTvoE0/H0Jp+8bTt61srt9fe5/EJ+hmn7mkYr1XVq1wrlZKI3+2IjQ69H7+lDn+/mcf+wRs3JJq1ZSe87XxH4x27J2CHAlLiatYPlabBp+AW5llu9+V0Nmf7AFAAcHPQ4O2m/VoEkA1UI8uXIxkYZNA8vV9Lj3fjzuHgJA9vEj2AUUelXsAgLJu1Z2QLPMySF9+2Zcu/Qgc+8uci+eJ+qVpwCt+8mlY9fyvzDg2m8YLr0HAZB7+hh6v8L66n0DMMSXE1Cdm0Pm7q04te+GITEefWA1AmYt1Pb1C8B/5s/EvTISY1Lpz47/CspDY5lBEwAUDXTIBQKllJlCiOzSdpBSzkULJCbznf5mnZyGv1dj+FvrP9U1vA279gMwHN6KqN4IstKhlO4mu54PI5xcyVlu/kYmfKohE64WHEvGX63wy+RuWUbulmXacUM74NBjEHl7NqGv0wQy00vtbnIc+DjC2ZWsnz42/54JMdg1bkPurj/QBdUEeweLjBmAOo18iLmcSlxUGt5+zvy96SKj3+5YsN3FzYHPVhS6mT96cRPDn2lF7cY+xEWl4ePvgt5Ox7XodKIupuBbShdLcR5sE8CDbbTA061nk1m4L5Z+TbyJuJqOm6Pe4u4md0c9O15oVbA8cuFJXutRvdQspxF3hDDiDs0lvuVYPAt3XKFfa38OXUzF3cmuRBxMgIcjbk52HIxMoWVNd5bviy7YP8DDkT1nk7m9vhe7TydRy2QAxqXk4OdujxCCiIspSAlertqpPaJXXUb0qqvpH4xm4YZz9OsQwqGzibg725l1NwEEeDlp+mcSaFnPm+U7LjLiTm3/bRExfLvmDPPH3YGzY+GlE+zrzF/HrjGwc00ysvM4dDaRR+4qO76ledNqXLgUz6UriQQGuLN6/RFmvDfEorYvWm7JqgMcOX61UsYMQJ3G5ufeX5su8vQ7nQq2u7g58MWKQp0PXtzI/c+0ok5jX9JTc/jkza0Mf6olDZuXjDkpj/hfFhL/i/Ygcu/aDb8RI0hasxqXFi0xpqaW6O6JX/Qr8Yt+BcC+Wgh15szh7EjNmDjWpXNBuSZ/buTUsCEVZjkl/LqQhF8L9X0fGEHy2tU4t2iJIa2kfsKiX0kool/7izkFxoxDzVrkXIwEwCOsJ9nnz1vcDo2aBnLlUhLRV5LxDXBjy/pTvPl+b7MyVy4mEVLTC4C/t18o+JyUmIm7hyN6vY6oy8lcuZREUEjF3rqUJb+SskT7Li4du+A55EHSNqzFsVkLjGlpJbqbhLMzOhdXbb1ej2vHrmQe2g+A3ssHQ1ICCIH3o6NJWf6/CvXT1/xG+prfAHBs1xm3AcPJDF+PfaNQZEZaie4m4eSMcHbR1uv0ON12BzlHD5AXeZbohwvbKvCb5cS98sgNzXJS3LpYYtAsAP4SQuS7Ru4GFgohXIGy8xwtwHhqD7JhOxxf/qYgbTsfx2dnk/3l8+Dhi333+zHGXcLxGc2gyftrJYZ967HrMABdvVZgMCAz08hZ8kml9POO7MaueXvc3v8ZmZNN5o/TCra5vj2P9PefRHj54djvYQxRkbi+NReAnM1Lyd2xhqzFc3B66DUceg4DJJk/TCtDqSR6Ox0jXmzDp2O3YjRK7uhbl5A6niz77jC1G/nQqnPZ/eKnD19j7cLj6PU6hA4eeqkt7l6VC5DtWteD8LPJ9J17BCc7He/3q12w7d7vj7HkMS2Nd/rmy6w5lkBWrpGwLyIY0tKP5+6oVimtfLo18SH8eAK9P/gbJ3stbTufwTP2svRVLXV1wpAGjPv1BNm5Rro09qGryfM0eVhDpi4/g8EgcbTXMXmolhq9PiKOX3ZexU4ncLTXMeOhJohSuv66tQwkPCKG3mP/xMnRjqlPFHapDH5nE0vfC9P0H23JuHla2naXFoF0baG9Tb7/UwQ5eUZGfbwDgJb1fHh3ZCse7FmXt77Zz4BxWh//4C41aVSz7IeMnZ2eCWP78cQLP2EwSobc3ZoG9QL47OtNhDapRs+ujYk4doUxr/9KSkoWm7edYvbcLaxe9Nx1tXtx9HY6Hn6pHR+/tgWjUdK1X12q1/FkybcR1G7sQ5vOZXclblh6ipgrqSz/8QjLf9Qy38ZO74GHd+Xmq00N34pH1640XrceY1YWl94qjH9ruGQpp+4dXM7e/5zU8K24d+lKw7XrkZlZXH6nUL/+4qWcGVq+ftDLr+JYuzZSSnKvXuXK5IkWa+vtdDw3thvjn1+B0WDkrnuaUrueLz9+tZuGTQLo2K0uK/4Xwf6/L2Fnp8PN3ZHX3tUCbw/vv8L8r//Czk6HTgheGNcDD8/KtX3Grm24dOxKzUVrMGZlETe1cOD36t//xuXHhqFzciHow9ma11knyNy/p8BwcbuzLx73amOrpm/dSOrqZZXSz967A6d2nQmcu9SUtj25YJv/ZwuIe3EEwskZ33c+QdjZa0NiROwlfe2SSulcLwsfn0z3hm3wc/Pi0tQVTFw1j+92rrSK9j9BeWhAlDf/g9CeCtWBQCD/lWiHlHKvpQLFPTTWJje2ZLqnNYl4t0vFhaqQDmvP2FRfV44r3Sr4eVdcpgrRNWllM+3dmdcXMHujcA771ab6usrFyd9w3HeNsam+oe/XNtV3qqSRe6OpXr3yweo3Ejln9w3MTauYVR6NrPasHZBy0qrfzVLK9dBIKaUQYo2UsjlgsRGjUCgUCoXCeigPjWVZTvuFEFWXyqBQKBQKhULxD7EkhqY9MEIIEQmko41vJqWULaq0ZgqFQqFQKCxCeWgsM2h6V1xEoVAoFAqFwnZUaNBIKSMBhBABgG2jvBQKhUKhUJTAaNP0m5uDCmNohBD3CCFOo01KuRW4AKyt4nopFAqFQqFQWIwlQcHvAR2AU1LKOkBPYHeV1kqhUCgUCoWiElgSQ5MrpYwXQuiEEDop5WYhxMyqrphCoVAoFArLUEHBlhk0SUIINyAcWCCEiAXSKthHoVAoFAqFwmpYYtAcAjKAl4ERgCdg4+FfFQqFQqFQ5KM8NJYZND2klEbACPwIIISIqNJaKRQKhUKhUFSCMg0aIcQzwLNAvWIGjDuwo6orplAoFAqFwjKUh6Z8D81CtPTsD4A3i6xPlVImVGmtFAqFQqFQKCpBmQaNlDIZSAYesF51FAqFQqFQVBblobFsHBqFQqFQKBSKmxoh5c09XrIQYrSUcq7SV/r/Nf3/8ndX+kr/v66vqDy3godmtNJX+v9R/f/yd1f6Sv+/rq+oJLeCQaNQKBQKhUJRLsqgUSgUCoVCcctzKxg0tu7DVPpK/7+orfSVvtJX3FLc9EHBCoVCoVAoFBVxK3hoFAqFQqFQKMpFGTQKhUKhUChueZRBo1AoFAqF4pbnpjZohBAutq6DQqH47yCE8CllXR1b1EVhXUr7ndVvf2txUwYFCyE6Ad8AblLKmkKIlsBTUspnraQ/Skr5bZFlPfC2lHKSlfQdgMaABE5KKXOsoVtKPbyBGlLKiAoL/0sQQnQGDkop04UQDwFtgM+klJFW0m9TyupkIFJKmWelOnQCalNkrjcp5XxraNsaIcQOoK+UMsW03BT4n5Qy1Er6DYE5QKCUMlQI0QK4R0r5vhW0/YE3gKaAU/56KWVYFeveW952KeWSqtQvUo/9Uso2xdbtk1K2tYa+4p9T3mzbtuRToDewAkBKeUgI0dWK+j2FEEOAUYAP8AOw1RrCQoj+wFfAWUAAdYQQT0kp11pJfwtwD9q5sQ+IFULskFK+UsW6h9EMuBKbACmlbFGV+kWYA7Q0GdGvohnW84FuVtL/Es2IikD77qHAUcBTCPGMlHJ9VYoLIX4C6gEHAYNptURrgyqnjPMgGdgLvC+ljK/iKkwFVpquw0Zo33tEFWsWZR4wFvgaQEoZIYRYCFS5QQMsABYB/YGngUeBOCvo3l3ONglUqUEjhGgMNEO7xooaVx4UMewUNz83q0GDlPKSEKLoKkNZZatA+0EhxH3AYSAdeFBKucNK8jOAHlLKMwBCiHrAasAqBg3gKaVMEUI8AcyXUk4UQljDQzPAChqWkCellEKIgcDnUspvhRCjrKh/FRglpTwKBR6CycDraDf2KjVogHZAU2k71+1atGt9oWn5fsAFiEZ7sSjv4fePkVKuFkLYo7WzOzBYSnmqKjWL4SKl/LvYvc8qnjnA13S+vyil3ApsFULsqWpRKeVjVa1RAY3Q7j9emJ9fqcCTtqiQ4vq4WQ2aSya3tzTdXF4EjltLXAjRwKT5O9AEeFgIcUBKmWEF+dR8Y8bEObQLy1rYCSGCgeHAW9YSLdqlI4QIBG4zLf4tpYy1Vj2AVCHEOOBhoIsQQgfYW1G/Yb4xAyClPCaEaCylPFfsIVdVHAGCgChriJVCr2Ju/8P5XQGmLsAqQQgxG3PPkCeal3SMEAIp5QtVpV2Ma6aXGGmq11Cs91vkmv5HmTxUV9E81FbDpNsM8y6vyVWpKaVcDiwXQnSUUu6qSi1F1XKzGjRPA58BIcAVtLel56yovxIYI6XcILSnyCvAHrQLrarZK4RYA/wP7aY2DNiT7wq1Qn/yZOAPYIeUco8Qoi5wuoo1CxBCDAc+BragdbnMFkKMlVIutlIV7gMeBB6XUkYLIWqa6mMtjgoh5gC/FqnPMSGEI4UPnBuOEGIl2vnmbtL7G8jO3y6lvKeqtIuhF0LcLqX821Sv2wC9aVtVeir2FlveV4Va5fEc2gi1jYUQV4DzWK/L630hhCdaV+tstC6Xl6ykjRDiKzRvXA+0rt6hwN/W0gfihRAbsUH8kuLGcFMGBdsaIYRHflBgkXUNreF6FkJ8X8pqSWEsyeNVXQdbIoQ4BNyZ75UxBSpukFK2tGIdgoDb0dp9j5Qy2orazsCzwB2mVTvQ4mqy0Loj0qpIt9wYIVMXRJVjMmC+A9zQzvkU4Am0OKL+Usr/WaMetkYI4QropJRW884KIX4EXpRSJpmWfYDp1rrnCCEipJQtivx3A9ZKKbtYSX8rpvglKWVr07oj1goIV/xzbkoPjRBiVimrk4G9JvdgVeMshPgUCJFS9jHFMXQErNGXrsP8puINzLBWP7PJI/MZ0AHtgb4LeFlKec4a+mg38aJdTPFYcXgBU+zQBGAThR6iyVLK76xUBR0wU0o5w1QfPeAopTQCVWLMQKHBYkpTjZJSZpmWnYHAqtItpR57gOYmTwFSyuQim6vcmDF1N39AyUyfulWtbdL3BSaiGbRSCLEdmGyFYGiAFvn3HQApZYIQorUVdPPJNP3PEEJUQ7v2g62ob8v4JcUN4GYdh8YJaIXW1XEaaAFUB0YJIWZaQf8HtG6X/IvpFNZzvRa/qSQC1rypLER7cAQD1YDfgF+sqL9OCPGHEGKkEGIkWkD0GivqjwVaSylHSikfBdqipbJai42Ac5FlZ2CDFfV/A4xFlg2mdVZBCOEohHgQrevlRSHEBCHEBGvpA9+jZbrloXV9zAd+tqL+r2iZRUPQulzi0DKPrIHO9AIFFHhorPnSu0oI4YXWxbsfuIB17z22jF9S3ABuSg8NmgHTWUppADDFFGxDe2s5bAV9Pynl/0zBoUgp84QQ1sqy0gkhvE2GjC1uKi5Syp+KLP8shBhrLXEp5VhTynxn06q5Usql1tJHeyss6uZPNa2zFk5Fu5WklGnCugNM2hUd90hKmSO0cZGsxXI0b+w+isTwWBFnKeVGIYQwBaq/K4TYh+a1swbBUsr3iiy/b8q4tAYzgF1CiHwDdhgwxUraFPnevwshVqFdC8nl7XODKS1+qcoC0RU3npvVoPFG60PPP5ldAR8ppUEIYY2bXLrJ9ZtvqXcoUpeqxqY3FWCtEOJNtDdFiRaUusZkWCGlTKjqCkgpf0fLMLMaQoj8cXbOAH8JIZajff+BaGPCWIt0IUQbKeV+U73aUuiKtwZxQoh7pJQrTPoDgWtW1K8upexjRb3iZJsy204LIcagJSW4WVF/vRDifgq714aieYurHCnlfCHEXiB/IL17pZTHrKGdjyg2qKMpw8wqYyCZutV72SJ+SXFjuCmDgk3jfrxNYaZLV7QBr34B3pVSVqnHQGijtc5GG9TsCOAPDJVWGjHXFLOTf1PZZM2bihDifDmbZVXHEpiyuaYBAWi/fX4wtEcV6/6EZsy8BMwsvl1ab5To29CMyato3z0IuE9KaZWsG5PLfQFad6MALgGPFBtKoCr15wKzpZTW8MSWpn8b2hARXsB7aJk+H0spd1tJPxXtBS6/20+HNhYWWOE6sCWijEEdrZUyX+SlpijJwD4p5UFr1EHxz7gpDRoAU1DYw2g3FzfgspQy3Eraw9Deimqg9WW3B97Jf2tWVB1CiDPA3VJKq407ZNI9CtwJrAO6F99uDc9UkbrYow32BdrUF1WWrl1OHdxA6/Kysu4xoD6auz8b648UnV8PFyuNO6UwIYQ4jg0HdRTaiMzt0IbtAG2wvQg0j9FvUsqPbFEvheXclF1OpkyTF9ECgQ+iZdzsotBrUdW8I6X8zRQg1wOYjhYo2N5K+jZDCOFEYdqwRItd+io/68UKxFjbmDHxNVpAbh3MxyQRaO1grSwXF7Rxj2pJKZ8UQjQQQjSSUq6yhr6pDgWDm+VnfFT14GZF6GslnVIRQnQEvkV7ibL6PHKmOtyD5pUG2GLN397G2HpQx+pAm3wjXggxES0poStaTJcyaG5ybkqDBs2YuQ3YLaXsIbS5NqZaUT/f3dkfmCe14dD/K4MrzUcLhJ1tWn4Q+AktlqfKEIVzqOwVQiwClmE+sFuVDigopZwFzBJCzJFSPlOVWhXwPdrNs6Np+QpalpFVHmq2HtzMFIiLECIA28yjMxMbziMnhPgQ7d63wLTqRSFEZynlOGvVwdqIm2dQxwDMA9Fz0QbZy7RS7KbiH3KzGjRZUsosIQRCCEcp5QkhRKOKd7thXBFCfI3WBTFNaKO03qwp7jeaUCll0yLLm03dAFVN/hwqEsgA7iqyrconqCsQsq0xA1BPSnmfEOIBU30yhLDOnAcmOhUZ3GySEGIG1ptHLN87MQMthicWqIXW7WyNUboB284jB/QDWpnGHcof7O4A8K81aNA84AItdm5QkfX566zFAgoTAkC7Jy00BQlbNThacX3crAbNZdN4BMuAP4UQiUBkuXvcWIYDfdBGyUwS2txGVktdtjH7hRAd8oMghRDtKTks/A0nf+BAUXK0Um+0B9x/hRyhDWaXn2FXD+umL9t6cLP30LqYN0gpWwshemDd1FmbziNnwgvIj9nytLK21SkyqKO9LDYitelaqHJMLw0/oBnv+UNGPC2lzL/3WXPGdcV1clMaNFLKwaaP7wohNqNd1OusqJ9BEY+AlDKKf/kAS0KIw2gPUXtgpxDiomm5FnDCilUpMbCgsO5opbbmXbRzvYYQYgHazdWasxEXH9xMonU9WYtcKWW8EEInhNBJKTcL6wymmU/ReeSuoiUHWHMeuQ+AA6b7Xn6G55tW1Lc6Qohn0OL26gohimaSuqNN/VHlSCmlEGKNlLI5VniBU1QNN22Wk8K6CCFqlbddFpkNu4rrcQjoXmxgwa2mG81/AtMYSB3QHmi7pZTWHAemaD0csfLgZkKIDWjdDh8AfmjdTrdJKTtZqw62xuQRLjrbvNXmErMFQpvmwhvtNy9qvKVaObvwR+Bz0/QbilsQZdAozBBC/CSlfLiidVWo/wgwnsLh9ocBU4qNXvyvRQixUUrZs6J1VaB7b3nbqzoou0g9XNEm4hRobn5PYIG0zlxGNpvLzDT2VZmoISOqHiHECbQhAyLRxv6xyZABiuvnpuxyUtgUs+BLIYQd2nxGVuFmGK3UFpjS5V0AP1PcUH5Uqgda90dVc3c526wWlI2Wrp7/e/8IIITojjbIpjVYCHwB5Hd73482oGdVD9lQWpxY0bdNaw1Z8V+mt60roPhnKA+NAgChzVs1Hm0yxPwBxQSQgzaf0r85y8LmCCFeRBuluBpaqna+QZOCNnTA5zaqmlURQhxBGybgI7S07Y+AdlLKjuXueOP0I4q/kQshDkkpW1pJfziwTkqZIoR4B2gDvKc8NNaj+JABUsqLNqyOohIog0ZhhhDiA2W82A4hxPNSytkVl6zSOhQMrJe/zloD65m6nKaheQXd0VJpp+WnMVtBfxqQiPlcZt5oQdJVPmJ0vkElhLgDLeNrOjBBSvmvH9TT1pQ1ZICU0mpDBij+Gf+VsVUUlrPK9FBBCPGQEOKTigKGFTeUaCGEO4AQ4m0hxJKK4ituJKaB9e4DnkfzEg1Du7Fbi1y01HFnNIPqvLWMGRPDgaeAzWjdXM+gdTvtwzrZLyUG9QSsOdv5f5n8IQNOSSnrAD0Bq8zhpbgxKINGUZw5aGOQtAReBc6ijR6ssA7vSClTTW/ovdCG4Z9jRf1OUspHgETThJwdgYZW1N+DZtC0A7oAD4jCmeerHCllnXL+rDH9Rf6gnvmz3P+XBvW0Nbmm4POCIQPQzkPFLYIKClYUJ880JsNAtBTGb4U2+7nCOhR9Q59rg2k3bD2w3pNoE3OOl1JOFkI8DzxS1aI3S5YX/+1BPW1NktAmZQ0HFgghYgGrTs6q+Gcog0ZRnFRTgPDDQBchhA5tsD2FdbD1tBu2HljvMcCIltUzGW1esYFAVRt1+VleAUAnYJNpuQewE+tNvfGfG9TzJuIQWkLEyxQOGeBm0xopKoUKClaYIYQIQpuQco+UcpsQoibaQHeq28kKCG227T7AYSnladMbenMp5Xob1MUWA+vtl1K2EUIckFK2Nq07KKVsZSX99cCjJkMif5C7H6SUKqX3X07+uVdsXYmsN8XNi/LQKMyQUkYLIX4HGphWXQOW2rBK/ylMk1HGAncAp4E803+rYZrLqDam+4MQAisatLlCCD2Fc1n5Yz4eS1VTI9+YMRED1LSivsLKFJl6oZ6tpl5Q3BiUQaMwQwjxJDAa8AHqoQ3q9hVaxL+iihFCTEQLRGwEfI/W3fczhRPmVbX+T2i/+0EK43kk1gsMn4VmQAcIIaYAQ4G3raQNsFEI8QfaYHqgBedusKK+wvosRJuU0qZTLyj+OarLSWGGEOIgcDvwVxGX/+H/0lxKtsTU/q2B/UXa32pubyHEcaCptOGNQQjRGM2AFsBGKaVVZ7s2BQh3MS2GSymVh1KhuAVQHhpFcbKllDlCaAPVmqY+UFav9cgxZZnld7m4Wln/CBCEDQNRpZQnsO4M78X1l2C9qR4UCsUNQhk0iuJsFUKMB5yFEHei9S2vtHGd/hMIzYpcZcpy8jJ1/z0OzLOC9ko0w9UdOCaE+BvIzt8upbynqutgS4QQqWjfX2BuwOdPUOhhk4opFAqLUV1OCjNMD9UngLvQbuZ/AN/Ysgviv4QQ4jDwCkXaX0r5pxV0u5n0pgGvF92ENvXAf2bofSFEK8y7nA7ZsDoKhcJClIdGUYApu+SolLIxVvAKKEplP5AkpbTqYGpSyq0AQgj7/M/5CCGcrVkXWyKEeAFtcL8laMbcT0KIebaeX0uhUFSM8tAozBBCLAeeVzPM2gYhxAmgPhAJpOevr+qg4CKpq3XRprvIxx3YIaV8qCr1bxZMabsdpZTppmVXYJcai0ShuPlRHhpFcbyBo6YYiqIP1H91DMVNhK0GcFOpqxqCwnR1TJ+FjeqiUCgqgTJoFMVxAgYUWc6Pq1BYASllpI10k4Fk4AFb6N9EfA/8JYTIT9UehDZBqEKhuMlRXU4KM9Tw34r/OkKINmgjNQNsk1IesGV9FAqFZSiDRgGoGAqFQqFQ3Noog0YBgBDCEy1+5r8eQ6FQKBSKWxBl0CgUCoVCobjl0dm6AgqFQqFQKBT/FGXQKBQKhUKhuOVRBo1CoVAoFIpbHmXQKBQKhUKhuOX5P5V9uIN4Ew63AAAAAElFTkSuQmCC\n",
      "text/plain": [
       "<Figure size 720x720 with 2 Axes>"
      ]
     },
     "metadata": {
      "needs_background": "light"
     },
     "output_type": "display_data"
    }
   ],
   "source": [
    "correlations = df.corr()\n",
    "plt.figure(figsize=(10, 10))\n",
    "\n",
    "heatmap_heart = sns.heatmap(df[correlations.index].corr(), annot=True, cmap='RdYlGn')\n",
    "\n",
    "plt.show()"
   ]
  },
  {
   "cell_type": "markdown",
   "id": "cad33c38",
   "metadata": {
    "papermill": {
     "duration": 0.037926,
     "end_time": "2022-02-15T03:34:23.014412",
     "exception": false,
     "start_time": "2022-02-15T03:34:22.976486",
     "status": "completed"
    },
    "tags": []
   },
   "source": [
    "# Modeling"
   ]
  },
  {
   "cell_type": "code",
   "execution_count": 17,
   "id": "c38c1bc2",
   "metadata": {
    "execution": {
     "iopub.execute_input": "2022-02-15T03:34:23.095276Z",
     "iopub.status.busy": "2022-02-15T03:34:23.092566Z",
     "iopub.status.idle": "2022-02-15T03:34:23.098489Z",
     "shell.execute_reply": "2022-02-15T03:34:23.098917Z",
     "shell.execute_reply.started": "2022-02-15T03:33:16.383494Z"
    },
    "papermill": {
     "duration": 0.046236,
     "end_time": "2022-02-15T03:34:23.099099",
     "exception": false,
     "start_time": "2022-02-15T03:34:23.052863",
     "status": "completed"
    },
    "tags": []
   },
   "outputs": [],
   "source": [
    "X = df.drop(['target'], axis = 1).values \n",
    "y = df['target'].values\n",
    "\n",
    "X_train, X_test, y_train, y_test = train_test_split(X, y, test_size = 0.20, random_state = 0)"
   ]
  },
  {
   "cell_type": "code",
   "execution_count": 18,
   "id": "244373e9",
   "metadata": {
    "execution": {
     "iopub.execute_input": "2022-02-15T03:34:23.176335Z",
     "iopub.status.busy": "2022-02-15T03:34:23.175845Z",
     "iopub.status.idle": "2022-02-15T03:34:23.183536Z",
     "shell.execute_reply": "2022-02-15T03:34:23.184025Z",
     "shell.execute_reply.started": "2022-02-15T03:33:16.392217Z"
    },
    "papermill": {
     "duration": 0.047319,
     "end_time": "2022-02-15T03:34:23.184186",
     "exception": false,
     "start_time": "2022-02-15T03:34:23.136867",
     "status": "completed"
    },
    "tags": []
   },
   "outputs": [],
   "source": [
    "dt = DecisionTreeClassifier()\n",
    "\n",
    "dt.fit(X_train, y_train)\n",
    "\n",
    "y_pred = dt.predict(X_test)"
   ]
  },
  {
   "cell_type": "code",
   "execution_count": 19,
   "id": "9053bbc6",
   "metadata": {
    "execution": {
     "iopub.execute_input": "2022-02-15T03:34:23.266147Z",
     "iopub.status.busy": "2022-02-15T03:34:23.265465Z",
     "iopub.status.idle": "2022-02-15T03:34:23.268052Z",
     "shell.execute_reply": "2022-02-15T03:34:23.268529Z",
     "shell.execute_reply.started": "2022-02-15T03:33:16.410023Z"
    },
    "papermill": {
     "duration": 0.046247,
     "end_time": "2022-02-15T03:34:23.268659",
     "exception": false,
     "start_time": "2022-02-15T03:34:23.222412",
     "status": "completed"
    },
    "tags": []
   },
   "outputs": [
    {
     "data": {
      "text/plain": [
       "array([[21,  6],\n",
       "       [ 9, 25]])"
      ]
     },
     "execution_count": 19,
     "metadata": {},
     "output_type": "execute_result"
    }
   ],
   "source": [
    "cnf_matrix = metrics.confusion_matrix(y_test, y_pred)\n",
    "\n",
    "cnf_matrix"
   ]
  },
  {
   "cell_type": "code",
   "execution_count": 20,
   "id": "2b515786",
   "metadata": {
    "execution": {
     "iopub.execute_input": "2022-02-15T03:34:23.349668Z",
     "iopub.status.busy": "2022-02-15T03:34:23.349069Z",
     "iopub.status.idle": "2022-02-15T03:34:23.354669Z",
     "shell.execute_reply": "2022-02-15T03:34:23.355105Z",
     "shell.execute_reply.started": "2022-02-15T03:33:16.424857Z"
    },
    "papermill": {
     "duration": 0.048623,
     "end_time": "2022-02-15T03:34:23.355266",
     "exception": false,
     "start_time": "2022-02-15T03:34:23.306643",
     "status": "completed"
    },
    "tags": []
   },
   "outputs": [
    {
     "name": "stdout",
     "output_type": "stream",
     "text": [
      "Accuracy:  0.7540983606557377\n",
      "Precision:  0.8064516129032258\n",
      "Recall/Sensitivity:  0.7352941176470589\n"
     ]
    }
   ],
   "source": [
    "print(\"Accuracy: \", metrics.accuracy_score(y_test, y_pred))\n",
    "print(\"Precision: \", metrics.precision_score(y_test, y_pred))\n",
    "print(\"Recall/Sensitivity: \", metrics.recall_score(y_test, y_pred))"
   ]
  },
  {
   "cell_type": "markdown",
   "id": "5120f075",
   "metadata": {
    "papermill": {
     "duration": 0.038732,
     "end_time": "2022-02-15T03:34:23.432736",
     "exception": false,
     "start_time": "2022-02-15T03:34:23.394004",
     "status": "completed"
    },
    "tags": []
   },
   "source": [
    "# Predicting"
   ]
  },
  {
   "cell_type": "code",
   "execution_count": 21,
   "id": "79684c96",
   "metadata": {
    "execution": {
     "iopub.execute_input": "2022-02-15T03:34:23.513180Z",
     "iopub.status.busy": "2022-02-15T03:34:23.512478Z",
     "iopub.status.idle": "2022-02-15T03:34:23.520384Z",
     "shell.execute_reply": "2022-02-15T03:34:23.520877Z",
     "shell.execute_reply.started": "2022-02-15T03:33:16.445336Z"
    },
    "papermill": {
     "duration": 0.049245,
     "end_time": "2022-02-15T03:34:23.521041",
     "exception": false,
     "start_time": "2022-02-15T03:34:23.471796",
     "status": "completed"
    },
    "tags": []
   },
   "outputs": [],
   "source": [
    "smote = SMOTE(random_state = 45)\n",
    "\n",
    "s_X_train, s_y_train =smote.fit_resample(X_train,y_train)\n",
    "s_X_test, s_y_test = smote.fit_resample(X_test,y_test)"
   ]
  },
  {
   "cell_type": "code",
   "execution_count": 22,
   "id": "310d5bb4",
   "metadata": {
    "execution": {
     "iopub.execute_input": "2022-02-15T03:34:23.603047Z",
     "iopub.status.busy": "2022-02-15T03:34:23.602362Z",
     "iopub.status.idle": "2022-02-15T03:34:23.605249Z",
     "shell.execute_reply": "2022-02-15T03:34:23.605727Z",
     "shell.execute_reply.started": "2022-02-15T03:33:16.460659Z"
    },
    "papermill": {
     "duration": 0.046097,
     "end_time": "2022-02-15T03:34:23.605860",
     "exception": false,
     "start_time": "2022-02-15T03:34:23.559763",
     "status": "completed"
    },
    "tags": []
   },
   "outputs": [],
   "source": [
    "s_dt = DecisionTreeClassifier()\n",
    "\n",
    "s_dt.fit(s_X_train, s_y_train)\n",
    "\n",
    "s_y_pred = dt.predict(s_X_test)"
   ]
  },
  {
   "cell_type": "code",
   "execution_count": 23,
   "id": "36fc4c78",
   "metadata": {
    "execution": {
     "iopub.execute_input": "2022-02-15T03:34:23.686907Z",
     "iopub.status.busy": "2022-02-15T03:34:23.685555Z",
     "iopub.status.idle": "2022-02-15T03:34:23.691369Z",
     "shell.execute_reply": "2022-02-15T03:34:23.690852Z",
     "shell.execute_reply.started": "2022-02-15T03:33:16.471071Z"
    },
    "papermill": {
     "duration": 0.046947,
     "end_time": "2022-02-15T03:34:23.691481",
     "exception": false,
     "start_time": "2022-02-15T03:34:23.644534",
     "status": "completed"
    },
    "tags": []
   },
   "outputs": [
    {
     "data": {
      "text/plain": [
       "array([[26,  8],\n",
       "       [ 9, 25]])"
      ]
     },
     "execution_count": 23,
     "metadata": {},
     "output_type": "execute_result"
    }
   ],
   "source": [
    "s_cnf_matrix = metrics.confusion_matrix(s_y_test, s_y_pred)\n",
    "\n",
    "s_cnf_matrix"
   ]
  },
  {
   "cell_type": "markdown",
   "id": "b921a5d2",
   "metadata": {
    "papermill": {
     "duration": 0.03921,
     "end_time": "2022-02-15T03:34:23.769991",
     "exception": false,
     "start_time": "2022-02-15T03:34:23.730781",
     "status": "completed"
    },
    "tags": []
   },
   "source": [
    "Data Akan berubah setiap run\n",
    "\n",
    "- 22 pasien diprediksi bahwa mereka akan memiliki penyakit jantung, prediksinya benar (True-Positive)\n",
    "- 24 pasien diprediksi bahwa mereka tidak akan memiliki penyakit jantung, prediksinya benar (True-Negative)\n",
    "- 5 pasien diprediksi bahwa mereka akan memiliki penyakit jantung, namun prediksinya salah (False-Positive)\n",
    "- 10 pasien diprediksi bahwa mereka tidak akan memiliki penyakit jantung, namun hasil prediksinya salah (False-Negative)"
   ]
  },
  {
   "cell_type": "code",
   "execution_count": 24,
   "id": "cad93784",
   "metadata": {
    "execution": {
     "iopub.execute_input": "2022-02-15T03:34:23.850069Z",
     "iopub.status.busy": "2022-02-15T03:34:23.849356Z",
     "iopub.status.idle": "2022-02-15T03:34:23.856417Z",
     "shell.execute_reply": "2022-02-15T03:34:23.856863Z",
     "shell.execute_reply.started": "2022-02-15T03:33:16.487830Z"
    },
    "papermill": {
     "duration": 0.048494,
     "end_time": "2022-02-15T03:34:23.857017",
     "exception": false,
     "start_time": "2022-02-15T03:34:23.808523",
     "status": "completed"
    },
    "tags": []
   },
   "outputs": [
    {
     "name": "stdout",
     "output_type": "stream",
     "text": [
      "Accuracy:  0.75\n",
      "Precision:  0.7575757575757576\n",
      "Recall/Sensitivity:  0.7352941176470589\n"
     ]
    }
   ],
   "source": [
    "print(\"Accuracy: \", metrics.accuracy_score(s_y_test, s_y_pred))\n",
    "print(\"Precision: \", metrics.precision_score(s_y_test, s_y_pred))\n",
    "print(\"Recall/Sensitivity: \", metrics.recall_score(s_y_test, s_y_pred))"
   ]
  }
 ],
 "metadata": {
  "kernelspec": {
   "display_name": "Python 3",
   "language": "python",
   "name": "python3"
  },
  "language_info": {
   "codemirror_mode": {
    "name": "ipython",
    "version": 3
   },
   "file_extension": ".py",
   "mimetype": "text/x-python",
   "name": "python",
   "nbconvert_exporter": "python",
   "pygments_lexer": "ipython3",
   "version": "3.7.12"
  },
  "papermill": {
   "default_parameters": {},
   "duration": 15.536853,
   "end_time": "2022-02-15T03:34:24.704385",
   "environment_variables": {},
   "exception": null,
   "input_path": "__notebook__.ipynb",
   "output_path": "__notebook__.ipynb",
   "parameters": {},
   "start_time": "2022-02-15T03:34:09.167532",
   "version": "2.3.3"
  }
 },
 "nbformat": 4,
 "nbformat_minor": 5
}
